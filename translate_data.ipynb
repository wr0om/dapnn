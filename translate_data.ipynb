{
 "cells": [
  {
   "cell_type": "code",
   "execution_count": 1,
   "metadata": {},
   "outputs": [],
   "source": [
    "from dapnn.imports import *\n",
    "from dapnn.data_processing import *\n",
    "import seaborn as sns\n",
    "import matplotlib.pyplot as plt\n",
    "import numpy as np\n",
    "import random\n",
    "import torch\n",
    "\n",
    "import warnings\n",
    "warnings.filterwarnings(action='once')"
   ]
  },
  {
   "cell_type": "code",
   "execution_count": 2,
   "metadata": {},
   "outputs": [],
   "source": [
    "# Set the random seed for reproducible results\n",
    "def seed_everything(seed=42):\n",
    "    random.seed(seed)\n",
    "    os.environ['PYTHONHASHSEED'] = str(seed)\n",
    "    np.random.seed(seed)\n",
    "    torch.manual_seed(seed)\n",
    "\n",
    "seed_everything()"
   ]
  },
  {
   "cell_type": "code",
   "execution_count": 3,
   "metadata": {},
   "outputs": [],
   "source": [
    "def mapping(log):\n",
    "    \"\"\"map log activities to numbers, TODO: maybe remove start and end?\"\"\"\n",
    "\n",
    "    # get unique activities\n",
    "    activities = log['activity'].unique()\n",
    "    # sort them\n",
    "    activities.sort()\n",
    "    # create a dictionary of activities and numbers\n",
    "    mapping = dict(zip(activities, range(len(activities))))\n",
    "\n",
    "    # map activities to numbers\n",
    "    log['activity'] = log['activity'].map(mapping)\n",
    "\n",
    "    return log, mapping\n",
    "    \n",
    "def groupTraces(log):\n",
    "    \"\"\"group traces by trace id and keep the order of the events\n",
    "    returns a df of lists of events\"\"\"\n",
    "    grouped = log.set_index('trace_id').groupby('trace_id', as_index=False)['activity'].apply(list)\n",
    "    grouped['activity'] = grouped['activity'].apply(lambda x: [i for i in x])\n",
    "    return grouped\n",
    "\n",
    "\n",
    "def df_to_file(df, file_name):\n",
    "    with open(file_name, 'w') as f:\n",
    "        for _, row in df.iterrows():\n",
    "            line = ' '.join(map(str, row['activity']))\n",
    "            f.write(line + '\\n')"
   ]
  },
  {
   "cell_type": "code",
   "execution_count": 4,
   "metadata": {},
   "outputs": [],
   "source": [
    "save_path = \"romBigData/\""
   ]
  },
  {
   "cell_type": "markdown",
   "metadata": {},
   "source": [
    "# Train Set"
   ]
  },
  {
   "cell_type": "code",
   "execution_count": 5,
   "metadata": {},
   "outputs": [
    {
     "name": "stdout",
     "output_type": "stream",
     "text": [
      "['data/csv/PDC2020_training/pdc_2020_0000000.csv.gz', 'data/csv/PDC2020_training/pdc_2020_0000001.csv.gz', 'data/csv/PDC2020_training/pdc_2020_0000010.csv.gz', 'data/csv/PDC2020_training/pdc_2020_0000011.csv.gz', 'data/csv/PDC2020_training/pdc_2020_0000100.csv.gz', 'data/csv/PDC2020_training/pdc_2020_0000101.csv.gz', 'data/csv/PDC2020_training/pdc_2020_0000110.csv.gz', 'data/csv/PDC2020_training/pdc_2020_0000111.csv.gz', 'data/csv/PDC2020_training/pdc_2020_0001000.csv.gz', 'data/csv/PDC2020_training/pdc_2020_0001001.csv.gz', 'data/csv/PDC2020_training/pdc_2020_0001010.csv.gz', 'data/csv/PDC2020_training/pdc_2020_0001011.csv.gz', 'data/csv/PDC2020_training/pdc_2020_0001100.csv.gz', 'data/csv/PDC2020_training/pdc_2020_0001101.csv.gz', 'data/csv/PDC2020_training/pdc_2020_0001110.csv.gz', 'data/csv/PDC2020_training/pdc_2020_0001111.csv.gz', 'data/csv/PDC2020_training/pdc_2020_0010000.csv.gz', 'data/csv/PDC2020_training/pdc_2020_0010001.csv.gz', 'data/csv/PDC2020_training/pdc_2020_0010010.csv.gz', 'data/csv/PDC2020_training/pdc_2020_0010011.csv.gz', 'data/csv/PDC2020_training/pdc_2020_0010100.csv.gz', 'data/csv/PDC2020_training/pdc_2020_0010101.csv.gz', 'data/csv/PDC2020_training/pdc_2020_0010110.csv.gz', 'data/csv/PDC2020_training/pdc_2020_0010111.csv.gz', 'data/csv/PDC2020_training/pdc_2020_0011000.csv.gz', 'data/csv/PDC2020_training/pdc_2020_0011001.csv.gz', 'data/csv/PDC2020_training/pdc_2020_0011010.csv.gz', 'data/csv/PDC2020_training/pdc_2020_0011011.csv.gz', 'data/csv/PDC2020_training/pdc_2020_0011100.csv.gz', 'data/csv/PDC2020_training/pdc_2020_0011101.csv.gz', 'data/csv/PDC2020_training/pdc_2020_0011110.csv.gz', 'data/csv/PDC2020_training/pdc_2020_0011111.csv.gz', 'data/csv/PDC2020_training/pdc_2020_0100000.csv.gz', 'data/csv/PDC2020_training/pdc_2020_0100001.csv.gz', 'data/csv/PDC2020_training/pdc_2020_0100010.csv.gz', 'data/csv/PDC2020_training/pdc_2020_0100011.csv.gz', 'data/csv/PDC2020_training/pdc_2020_0100100.csv.gz', 'data/csv/PDC2020_training/pdc_2020_0100101.csv.gz', 'data/csv/PDC2020_training/pdc_2020_0100110.csv.gz', 'data/csv/PDC2020_training/pdc_2020_0100111.csv.gz', 'data/csv/PDC2020_training/pdc_2020_0101000.csv.gz', 'data/csv/PDC2020_training/pdc_2020_0101001.csv.gz', 'data/csv/PDC2020_training/pdc_2020_0101010.csv.gz', 'data/csv/PDC2020_training/pdc_2020_0101011.csv.gz', 'data/csv/PDC2020_training/pdc_2020_0101100.csv.gz', 'data/csv/PDC2020_training/pdc_2020_0101101.csv.gz', 'data/csv/PDC2020_training/pdc_2020_0101110.csv.gz', 'data/csv/PDC2020_training/pdc_2020_0101111.csv.gz', 'data/csv/PDC2020_training/pdc_2020_0110000.csv.gz', 'data/csv/PDC2020_training/pdc_2020_0110001.csv.gz', 'data/csv/PDC2020_training/pdc_2020_0110010.csv.gz', 'data/csv/PDC2020_training/pdc_2020_0110011.csv.gz', 'data/csv/PDC2020_training/pdc_2020_0110100.csv.gz', 'data/csv/PDC2020_training/pdc_2020_0110101.csv.gz', 'data/csv/PDC2020_training/pdc_2020_0110110.csv.gz', 'data/csv/PDC2020_training/pdc_2020_0110111.csv.gz', 'data/csv/PDC2020_training/pdc_2020_0111000.csv.gz', 'data/csv/PDC2020_training/pdc_2020_0111001.csv.gz', 'data/csv/PDC2020_training/pdc_2020_0111010.csv.gz', 'data/csv/PDC2020_training/pdc_2020_0111011.csv.gz', 'data/csv/PDC2020_training/pdc_2020_0111100.csv.gz', 'data/csv/PDC2020_training/pdc_2020_0111101.csv.gz', 'data/csv/PDC2020_training/pdc_2020_0111110.csv.gz', 'data/csv/PDC2020_training/pdc_2020_0111111.csv.gz', 'data/csv/PDC2020_training/pdc_2020_0200000.csv.gz', 'data/csv/PDC2020_training/pdc_2020_0200001.csv.gz', 'data/csv/PDC2020_training/pdc_2020_0200010.csv.gz', 'data/csv/PDC2020_training/pdc_2020_0200011.csv.gz', 'data/csv/PDC2020_training/pdc_2020_0200100.csv.gz', 'data/csv/PDC2020_training/pdc_2020_0200101.csv.gz', 'data/csv/PDC2020_training/pdc_2020_0200110.csv.gz', 'data/csv/PDC2020_training/pdc_2020_0200111.csv.gz', 'data/csv/PDC2020_training/pdc_2020_0201000.csv.gz', 'data/csv/PDC2020_training/pdc_2020_0201001.csv.gz', 'data/csv/PDC2020_training/pdc_2020_0201010.csv.gz', 'data/csv/PDC2020_training/pdc_2020_0201011.csv.gz', 'data/csv/PDC2020_training/pdc_2020_0201100.csv.gz', 'data/csv/PDC2020_training/pdc_2020_0201101.csv.gz', 'data/csv/PDC2020_training/pdc_2020_0201110.csv.gz', 'data/csv/PDC2020_training/pdc_2020_0201111.csv.gz', 'data/csv/PDC2020_training/pdc_2020_0210000.csv.gz', 'data/csv/PDC2020_training/pdc_2020_0210001.csv.gz', 'data/csv/PDC2020_training/pdc_2020_0210010.csv.gz', 'data/csv/PDC2020_training/pdc_2020_0210011.csv.gz', 'data/csv/PDC2020_training/pdc_2020_0210100.csv.gz', 'data/csv/PDC2020_training/pdc_2020_0210101.csv.gz', 'data/csv/PDC2020_training/pdc_2020_0210110.csv.gz', 'data/csv/PDC2020_training/pdc_2020_0210111.csv.gz', 'data/csv/PDC2020_training/pdc_2020_0211000.csv.gz', 'data/csv/PDC2020_training/pdc_2020_0211001.csv.gz', 'data/csv/PDC2020_training/pdc_2020_0211010.csv.gz', 'data/csv/PDC2020_training/pdc_2020_0211011.csv.gz', 'data/csv/PDC2020_training/pdc_2020_0211100.csv.gz', 'data/csv/PDC2020_training/pdc_2020_0211101.csv.gz', 'data/csv/PDC2020_training/pdc_2020_0211110.csv.gz', 'data/csv/PDC2020_training/pdc_2020_0211111.csv.gz', 'data/csv/PDC2020_training/pdc_2020_1000000.csv.gz', 'data/csv/PDC2020_training/pdc_2020_1000001.csv.gz', 'data/csv/PDC2020_training/pdc_2020_1000010.csv.gz', 'data/csv/PDC2020_training/pdc_2020_1000011.csv.gz', 'data/csv/PDC2020_training/pdc_2020_1000100.csv.gz', 'data/csv/PDC2020_training/pdc_2020_1000101.csv.gz', 'data/csv/PDC2020_training/pdc_2020_1000110.csv.gz', 'data/csv/PDC2020_training/pdc_2020_1000111.csv.gz', 'data/csv/PDC2020_training/pdc_2020_1001000.csv.gz', 'data/csv/PDC2020_training/pdc_2020_1001001.csv.gz', 'data/csv/PDC2020_training/pdc_2020_1001010.csv.gz', 'data/csv/PDC2020_training/pdc_2020_1001011.csv.gz', 'data/csv/PDC2020_training/pdc_2020_1001100.csv.gz', 'data/csv/PDC2020_training/pdc_2020_1001101.csv.gz', 'data/csv/PDC2020_training/pdc_2020_1001110.csv.gz', 'data/csv/PDC2020_training/pdc_2020_1001111.csv.gz', 'data/csv/PDC2020_training/pdc_2020_1010000.csv.gz', 'data/csv/PDC2020_training/pdc_2020_1010001.csv.gz', 'data/csv/PDC2020_training/pdc_2020_1010010.csv.gz', 'data/csv/PDC2020_training/pdc_2020_1010011.csv.gz', 'data/csv/PDC2020_training/pdc_2020_1010100.csv.gz', 'data/csv/PDC2020_training/pdc_2020_1010101.csv.gz', 'data/csv/PDC2020_training/pdc_2020_1010110.csv.gz', 'data/csv/PDC2020_training/pdc_2020_1010111.csv.gz', 'data/csv/PDC2020_training/pdc_2020_1011000.csv.gz', 'data/csv/PDC2020_training/pdc_2020_1011001.csv.gz', 'data/csv/PDC2020_training/pdc_2020_1011010.csv.gz', 'data/csv/PDC2020_training/pdc_2020_1011011.csv.gz', 'data/csv/PDC2020_training/pdc_2020_1011100.csv.gz', 'data/csv/PDC2020_training/pdc_2020_1011101.csv.gz', 'data/csv/PDC2020_training/pdc_2020_1011110.csv.gz', 'data/csv/PDC2020_training/pdc_2020_1011111.csv.gz', 'data/csv/PDC2020_training/pdc_2020_1100000.csv.gz', 'data/csv/PDC2020_training/pdc_2020_1100001.csv.gz', 'data/csv/PDC2020_training/pdc_2020_1100010.csv.gz', 'data/csv/PDC2020_training/pdc_2020_1100011.csv.gz', 'data/csv/PDC2020_training/pdc_2020_1100100.csv.gz', 'data/csv/PDC2020_training/pdc_2020_1100101.csv.gz', 'data/csv/PDC2020_training/pdc_2020_1100110.csv.gz', 'data/csv/PDC2020_training/pdc_2020_1100111.csv.gz', 'data/csv/PDC2020_training/pdc_2020_1101000.csv.gz', 'data/csv/PDC2020_training/pdc_2020_1101001.csv.gz', 'data/csv/PDC2020_training/pdc_2020_1101010.csv.gz', 'data/csv/PDC2020_training/pdc_2020_1101011.csv.gz', 'data/csv/PDC2020_training/pdc_2020_1101100.csv.gz', 'data/csv/PDC2020_training/pdc_2020_1101101.csv.gz', 'data/csv/PDC2020_training/pdc_2020_1101110.csv.gz', 'data/csv/PDC2020_training/pdc_2020_1101111.csv.gz', 'data/csv/PDC2020_training/pdc_2020_1110000.csv.gz', 'data/csv/PDC2020_training/pdc_2020_1110001.csv.gz', 'data/csv/PDC2020_training/pdc_2020_1110010.csv.gz', 'data/csv/PDC2020_training/pdc_2020_1110011.csv.gz', 'data/csv/PDC2020_training/pdc_2020_1110100.csv.gz', 'data/csv/PDC2020_training/pdc_2020_1110101.csv.gz', 'data/csv/PDC2020_training/pdc_2020_1110110.csv.gz', 'data/csv/PDC2020_training/pdc_2020_1110111.csv.gz', 'data/csv/PDC2020_training/pdc_2020_1111000.csv.gz', 'data/csv/PDC2020_training/pdc_2020_1111001.csv.gz', 'data/csv/PDC2020_training/pdc_2020_1111010.csv.gz', 'data/csv/PDC2020_training/pdc_2020_1111011.csv.gz', 'data/csv/PDC2020_training/pdc_2020_1111100.csv.gz', 'data/csv/PDC2020_training/pdc_2020_1111101.csv.gz', 'data/csv/PDC2020_training/pdc_2020_1111110.csv.gz', 'data/csv/PDC2020_training/pdc_2020_1111111.csv.gz', 'data/csv/PDC2020_training/pdc_2020_1200000.csv.gz', 'data/csv/PDC2020_training/pdc_2020_1200001.csv.gz', 'data/csv/PDC2020_training/pdc_2020_1200010.csv.gz', 'data/csv/PDC2020_training/pdc_2020_1200011.csv.gz', 'data/csv/PDC2020_training/pdc_2020_1200100.csv.gz', 'data/csv/PDC2020_training/pdc_2020_1200101.csv.gz', 'data/csv/PDC2020_training/pdc_2020_1200110.csv.gz', 'data/csv/PDC2020_training/pdc_2020_1200111.csv.gz', 'data/csv/PDC2020_training/pdc_2020_1201000.csv.gz', 'data/csv/PDC2020_training/pdc_2020_1201001.csv.gz', 'data/csv/PDC2020_training/pdc_2020_1201010.csv.gz', 'data/csv/PDC2020_training/pdc_2020_1201011.csv.gz', 'data/csv/PDC2020_training/pdc_2020_1201100.csv.gz', 'data/csv/PDC2020_training/pdc_2020_1201101.csv.gz', 'data/csv/PDC2020_training/pdc_2020_1201110.csv.gz', 'data/csv/PDC2020_training/pdc_2020_1201111.csv.gz', 'data/csv/PDC2020_training/pdc_2020_1210000.csv.gz', 'data/csv/PDC2020_training/pdc_2020_1210001.csv.gz', 'data/csv/PDC2020_training/pdc_2020_1210010.csv.gz', 'data/csv/PDC2020_training/pdc_2020_1210011.csv.gz', 'data/csv/PDC2020_training/pdc_2020_1210100.csv.gz', 'data/csv/PDC2020_training/pdc_2020_1210101.csv.gz', 'data/csv/PDC2020_training/pdc_2020_1210110.csv.gz', 'data/csv/PDC2020_training/pdc_2020_1210111.csv.gz', 'data/csv/PDC2020_training/pdc_2020_1211000.csv.gz', 'data/csv/PDC2020_training/pdc_2020_1211001.csv.gz', 'data/csv/PDC2020_training/pdc_2020_1211010.csv.gz', 'data/csv/PDC2020_training/pdc_2020_1211011.csv.gz', 'data/csv/PDC2020_training/pdc_2020_1211100.csv.gz', 'data/csv/PDC2020_training/pdc_2020_1211101.csv.gz', 'data/csv/PDC2020_training/pdc_2020_1211110.csv.gz', 'data/csv/PDC2020_training/pdc_2020_1211111.csv.gz']\n"
     ]
    },
    {
     "data": {
      "text/html": [
       "<div>\n",
       "<style scoped>\n",
       "    .dataframe tbody tr th:only-of-type {\n",
       "        vertical-align: middle;\n",
       "    }\n",
       "\n",
       "    .dataframe tbody tr th {\n",
       "        vertical-align: top;\n",
       "    }\n",
       "\n",
       "    .dataframe thead th {\n",
       "        text-align: right;\n",
       "    }\n",
       "</style>\n",
       "<table border=\"1\" class=\"dataframe\">\n",
       "  <thead>\n",
       "    <tr style=\"text-align: right;\">\n",
       "      <th></th>\n",
       "      <th>activity</th>\n",
       "      <th>trace_id</th>\n",
       "      <th>event_id</th>\n",
       "    </tr>\n",
       "    <tr>\n",
       "      <th>trace_id</th>\n",
       "      <th></th>\n",
       "      <th></th>\n",
       "      <th></th>\n",
       "    </tr>\n",
       "  </thead>\n",
       "  <tbody>\n",
       "    <tr>\n",
       "      <th>trace 1</th>\n",
       "      <td>###start###</td>\n",
       "      <td>trace 1</td>\n",
       "      <td>0</td>\n",
       "    </tr>\n",
       "    <tr>\n",
       "      <th>trace 1</th>\n",
       "      <td>t11</td>\n",
       "      <td>trace 1</td>\n",
       "      <td>1</td>\n",
       "    </tr>\n",
       "    <tr>\n",
       "      <th>trace 1</th>\n",
       "      <td>t26</td>\n",
       "      <td>trace 1</td>\n",
       "      <td>2</td>\n",
       "    </tr>\n",
       "    <tr>\n",
       "      <th>trace 1</th>\n",
       "      <td>t21</td>\n",
       "      <td>trace 1</td>\n",
       "      <td>3</td>\n",
       "    </tr>\n",
       "    <tr>\n",
       "      <th>trace 1</th>\n",
       "      <td>t32</td>\n",
       "      <td>trace 1</td>\n",
       "      <td>4</td>\n",
       "    </tr>\n",
       "  </tbody>\n",
       "</table>\n",
       "</div>"
      ],
      "text/plain": [
       "             activity trace_id event_id\n",
       "trace_id                               \n",
       "trace 1   ###start###  trace 1        0\n",
       "trace 1           t11  trace 1        1\n",
       "trace 1           t26  trace 1        2\n",
       "trace 1           t21  trace 1        3\n",
       "trace 1           t32  trace 1        4"
      ]
     },
     "execution_count": 5,
     "metadata": {},
     "output_type": "execute_result"
    }
   ],
   "source": [
    "log_path='data/csv/PDC2020_training/'\n",
    "log = import_log(log_path)\n",
    "log.head(5)"
   ]
  },
  {
   "cell_type": "code",
   "execution_count": 6,
   "metadata": {},
   "outputs": [
    {
     "name": "stdout",
     "output_type": "stream",
     "text": [
      "Number of traces:  192000\n",
      "Traces for normal model:  153600\n",
      "Traces for process model:  38400\n"
     ]
    }
   ],
   "source": [
    "num_traces = len(log.trace_id.unique())\n",
    "print(\"Number of traces: \", num_traces)\n",
    "\n",
    "ratio = 0.8\n",
    "traces_for_normal_model = int(num_traces * ratio)\n",
    "traces_for_process_model = num_traces - traces_for_normal_model\n",
    "\n",
    "print(\"Traces for normal model: \", traces_for_normal_model)\n",
    "print(\"Traces for process model: \", traces_for_process_model)"
   ]
  },
  {
   "cell_type": "code",
   "execution_count": 7,
   "metadata": {},
   "outputs": [
    {
     "name": "stderr",
     "output_type": "stream",
     "text": [
      "/tmp/ipykernel_18073/1590485898.py:19: FutureWarning: A grouping was used that is not in the columns of the DataFrame and so was excluded from the result. This grouping will be included in a future version of pandas. Add the grouping as a column of the DataFrame to silence this warning.\n",
      "  grouped = log.set_index('trace_id').groupby('trace_id', as_index=False)['activity'].apply(list)\n"
     ]
    }
   ],
   "source": [
    "# TODO: maybe take random traces for normal model and the rest for process model\n",
    "log, train_mapper = mapping(log) # TODO: maybe the train mapper should be saved for later use and should be done only for the normal model\n",
    "grouped = groupTraces(log)\n",
    "\n",
    "grouped_model = grouped[:traces_for_normal_model]\n",
    "grouped_process = grouped[traces_for_normal_model:]\n",
    "\n",
    "df_to_file(grouped_model, save_path + 'train')\n",
    "df_to_file(grouped_process, save_path + 'process_train')"
   ]
  },
  {
   "cell_type": "markdown",
   "metadata": {},
   "source": [
    "## Train Set Statistics"
   ]
  },
  {
   "cell_type": "code",
   "execution_count": 8,
   "metadata": {},
   "outputs": [
    {
     "name": "stdout",
     "output_type": "stream",
     "text": [
      "==========normal model==========\n",
      "num of traces:  153600\n",
      "avg sequence length:  26.458541666666665\n",
      "max sequence length:  346\n",
      "min sequence length:  5\n",
      "median sequence length:  18.0\n",
      "num of activities:  38\n",
      "==========process model==========\n",
      "num of traces:  38400\n",
      "avg sequence length:  38.846927083333334\n",
      "max sequence length:  312\n",
      "min sequence length:  5\n",
      "median sequence length:  29.0\n",
      "num of activities:  38\n"
     ]
    }
   ],
   "source": [
    "print('='*10 + 'normal model' + '='*10)\n",
    "model_lengths = grouped_model['activity'].apply(lambda x: len(x))\n",
    "print('num of traces: ', len(grouped_model))\n",
    "print('avg sequence length: ', model_lengths.mean())\n",
    "print('max sequence length: ', model_lengths.max())\n",
    "print('min sequence length: ', model_lengths.min())\n",
    "print('median sequence length: ', model_lengths.median())\n",
    "print('num of activities: ', len(train_mapper))\n",
    "\n",
    "print('='*10 + 'process model' + '='*10)\n",
    "process_lengths = grouped_process['activity'].apply(lambda x: len(x))\n",
    "print('num of traces: ', len(grouped_process))\n",
    "print('avg sequence length: ', process_lengths.mean())\n",
    "print('max sequence length: ', process_lengths.max())\n",
    "print('min sequence length: ', process_lengths.min())\n",
    "print('median sequence length: ', process_lengths.median())\n",
    "print('num of activities: ', len(train_mapper))"
   ]
  },
  {
   "cell_type": "markdown",
   "metadata": {},
   "source": [
    "# Test Set"
   ]
  },
  {
   "cell_type": "code",
   "execution_count": 9,
   "metadata": {},
   "outputs": [
    {
     "name": "stdout",
     "output_type": "stream",
     "text": [
      "['data/csv/PDC2020_ground_truth/pdc_2020_0000000.csv.gz', 'data/csv/PDC2020_ground_truth/pdc_2020_0000001.csv.gz', 'data/csv/PDC2020_ground_truth/pdc_2020_0000010.csv.gz', 'data/csv/PDC2020_ground_truth/pdc_2020_0000011.csv.gz', 'data/csv/PDC2020_ground_truth/pdc_2020_0000100.csv.gz', 'data/csv/PDC2020_ground_truth/pdc_2020_0000101.csv.gz', 'data/csv/PDC2020_ground_truth/pdc_2020_0000110.csv.gz', 'data/csv/PDC2020_ground_truth/pdc_2020_0000111.csv.gz', 'data/csv/PDC2020_ground_truth/pdc_2020_0001000.csv.gz', 'data/csv/PDC2020_ground_truth/pdc_2020_0001001.csv.gz', 'data/csv/PDC2020_ground_truth/pdc_2020_0001010.csv.gz', 'data/csv/PDC2020_ground_truth/pdc_2020_0001011.csv.gz', 'data/csv/PDC2020_ground_truth/pdc_2020_0001100.csv.gz', 'data/csv/PDC2020_ground_truth/pdc_2020_0001101.csv.gz', 'data/csv/PDC2020_ground_truth/pdc_2020_0001110.csv.gz', 'data/csv/PDC2020_ground_truth/pdc_2020_0001111.csv.gz', 'data/csv/PDC2020_ground_truth/pdc_2020_0010000.csv.gz', 'data/csv/PDC2020_ground_truth/pdc_2020_0010001.csv.gz', 'data/csv/PDC2020_ground_truth/pdc_2020_0010010.csv.gz', 'data/csv/PDC2020_ground_truth/pdc_2020_0010011.csv.gz', 'data/csv/PDC2020_ground_truth/pdc_2020_0010100.csv.gz', 'data/csv/PDC2020_ground_truth/pdc_2020_0010101.csv.gz', 'data/csv/PDC2020_ground_truth/pdc_2020_0010110.csv.gz', 'data/csv/PDC2020_ground_truth/pdc_2020_0010111.csv.gz', 'data/csv/PDC2020_ground_truth/pdc_2020_0011000.csv.gz', 'data/csv/PDC2020_ground_truth/pdc_2020_0011001.csv.gz', 'data/csv/PDC2020_ground_truth/pdc_2020_0011010.csv.gz', 'data/csv/PDC2020_ground_truth/pdc_2020_0011011.csv.gz', 'data/csv/PDC2020_ground_truth/pdc_2020_0011100.csv.gz', 'data/csv/PDC2020_ground_truth/pdc_2020_0011101.csv.gz', 'data/csv/PDC2020_ground_truth/pdc_2020_0011110.csv.gz', 'data/csv/PDC2020_ground_truth/pdc_2020_0011111.csv.gz', 'data/csv/PDC2020_ground_truth/pdc_2020_0100000.csv.gz', 'data/csv/PDC2020_ground_truth/pdc_2020_0100001.csv.gz', 'data/csv/PDC2020_ground_truth/pdc_2020_0100010.csv.gz', 'data/csv/PDC2020_ground_truth/pdc_2020_0100011.csv.gz', 'data/csv/PDC2020_ground_truth/pdc_2020_0100100.csv.gz', 'data/csv/PDC2020_ground_truth/pdc_2020_0100101.csv.gz', 'data/csv/PDC2020_ground_truth/pdc_2020_0100110.csv.gz', 'data/csv/PDC2020_ground_truth/pdc_2020_0100111.csv.gz', 'data/csv/PDC2020_ground_truth/pdc_2020_0101000.csv.gz', 'data/csv/PDC2020_ground_truth/pdc_2020_0101001.csv.gz', 'data/csv/PDC2020_ground_truth/pdc_2020_0101010.csv.gz', 'data/csv/PDC2020_ground_truth/pdc_2020_0101011.csv.gz', 'data/csv/PDC2020_ground_truth/pdc_2020_0101100.csv.gz', 'data/csv/PDC2020_ground_truth/pdc_2020_0101101.csv.gz', 'data/csv/PDC2020_ground_truth/pdc_2020_0101110.csv.gz', 'data/csv/PDC2020_ground_truth/pdc_2020_0101111.csv.gz', 'data/csv/PDC2020_ground_truth/pdc_2020_0110000.csv.gz', 'data/csv/PDC2020_ground_truth/pdc_2020_0110001.csv.gz', 'data/csv/PDC2020_ground_truth/pdc_2020_0110010.csv.gz', 'data/csv/PDC2020_ground_truth/pdc_2020_0110011.csv.gz', 'data/csv/PDC2020_ground_truth/pdc_2020_0110100.csv.gz', 'data/csv/PDC2020_ground_truth/pdc_2020_0110101.csv.gz', 'data/csv/PDC2020_ground_truth/pdc_2020_0110110.csv.gz', 'data/csv/PDC2020_ground_truth/pdc_2020_0110111.csv.gz', 'data/csv/PDC2020_ground_truth/pdc_2020_0111000.csv.gz', 'data/csv/PDC2020_ground_truth/pdc_2020_0111001.csv.gz', 'data/csv/PDC2020_ground_truth/pdc_2020_0111010.csv.gz', 'data/csv/PDC2020_ground_truth/pdc_2020_0111011.csv.gz', 'data/csv/PDC2020_ground_truth/pdc_2020_0111100.csv.gz', 'data/csv/PDC2020_ground_truth/pdc_2020_0111101.csv.gz', 'data/csv/PDC2020_ground_truth/pdc_2020_0111110.csv.gz', 'data/csv/PDC2020_ground_truth/pdc_2020_0111111.csv.gz', 'data/csv/PDC2020_ground_truth/pdc_2020_0200000.csv.gz', 'data/csv/PDC2020_ground_truth/pdc_2020_0200001.csv.gz', 'data/csv/PDC2020_ground_truth/pdc_2020_0200010.csv.gz', 'data/csv/PDC2020_ground_truth/pdc_2020_0200011.csv.gz', 'data/csv/PDC2020_ground_truth/pdc_2020_0200100.csv.gz', 'data/csv/PDC2020_ground_truth/pdc_2020_0200101.csv.gz', 'data/csv/PDC2020_ground_truth/pdc_2020_0200110.csv.gz', 'data/csv/PDC2020_ground_truth/pdc_2020_0200111.csv.gz', 'data/csv/PDC2020_ground_truth/pdc_2020_0201000.csv.gz', 'data/csv/PDC2020_ground_truth/pdc_2020_0201001.csv.gz', 'data/csv/PDC2020_ground_truth/pdc_2020_0201010.csv.gz', 'data/csv/PDC2020_ground_truth/pdc_2020_0201011.csv.gz', 'data/csv/PDC2020_ground_truth/pdc_2020_0201100.csv.gz', 'data/csv/PDC2020_ground_truth/pdc_2020_0201101.csv.gz', 'data/csv/PDC2020_ground_truth/pdc_2020_0201110.csv.gz', 'data/csv/PDC2020_ground_truth/pdc_2020_0201111.csv.gz', 'data/csv/PDC2020_ground_truth/pdc_2020_0210000.csv.gz', 'data/csv/PDC2020_ground_truth/pdc_2020_0210001.csv.gz', 'data/csv/PDC2020_ground_truth/pdc_2020_0210010.csv.gz', 'data/csv/PDC2020_ground_truth/pdc_2020_0210011.csv.gz', 'data/csv/PDC2020_ground_truth/pdc_2020_0210100.csv.gz', 'data/csv/PDC2020_ground_truth/pdc_2020_0210101.csv.gz', 'data/csv/PDC2020_ground_truth/pdc_2020_0210110.csv.gz', 'data/csv/PDC2020_ground_truth/pdc_2020_0210111.csv.gz', 'data/csv/PDC2020_ground_truth/pdc_2020_0211000.csv.gz', 'data/csv/PDC2020_ground_truth/pdc_2020_0211001.csv.gz', 'data/csv/PDC2020_ground_truth/pdc_2020_0211010.csv.gz', 'data/csv/PDC2020_ground_truth/pdc_2020_0211011.csv.gz', 'data/csv/PDC2020_ground_truth/pdc_2020_0211100.csv.gz', 'data/csv/PDC2020_ground_truth/pdc_2020_0211101.csv.gz', 'data/csv/PDC2020_ground_truth/pdc_2020_0211110.csv.gz', 'data/csv/PDC2020_ground_truth/pdc_2020_0211111.csv.gz', 'data/csv/PDC2020_ground_truth/pdc_2020_1000000.csv.gz', 'data/csv/PDC2020_ground_truth/pdc_2020_1000001.csv.gz', 'data/csv/PDC2020_ground_truth/pdc_2020_1000010.csv.gz', 'data/csv/PDC2020_ground_truth/pdc_2020_1000011.csv.gz', 'data/csv/PDC2020_ground_truth/pdc_2020_1000100.csv.gz', 'data/csv/PDC2020_ground_truth/pdc_2020_1000101.csv.gz', 'data/csv/PDC2020_ground_truth/pdc_2020_1000110.csv.gz', 'data/csv/PDC2020_ground_truth/pdc_2020_1000111.csv.gz', 'data/csv/PDC2020_ground_truth/pdc_2020_1001000.csv.gz', 'data/csv/PDC2020_ground_truth/pdc_2020_1001001.csv.gz', 'data/csv/PDC2020_ground_truth/pdc_2020_1001010.csv.gz', 'data/csv/PDC2020_ground_truth/pdc_2020_1001011.csv.gz', 'data/csv/PDC2020_ground_truth/pdc_2020_1001100.csv.gz', 'data/csv/PDC2020_ground_truth/pdc_2020_1001101.csv.gz', 'data/csv/PDC2020_ground_truth/pdc_2020_1001110.csv.gz', 'data/csv/PDC2020_ground_truth/pdc_2020_1001111.csv.gz', 'data/csv/PDC2020_ground_truth/pdc_2020_1010000.csv.gz', 'data/csv/PDC2020_ground_truth/pdc_2020_1010001.csv.gz', 'data/csv/PDC2020_ground_truth/pdc_2020_1010010.csv.gz', 'data/csv/PDC2020_ground_truth/pdc_2020_1010011.csv.gz', 'data/csv/PDC2020_ground_truth/pdc_2020_1010100.csv.gz', 'data/csv/PDC2020_ground_truth/pdc_2020_1010101.csv.gz', 'data/csv/PDC2020_ground_truth/pdc_2020_1010110.csv.gz', 'data/csv/PDC2020_ground_truth/pdc_2020_1010111.csv.gz', 'data/csv/PDC2020_ground_truth/pdc_2020_1011000.csv.gz', 'data/csv/PDC2020_ground_truth/pdc_2020_1011001.csv.gz', 'data/csv/PDC2020_ground_truth/pdc_2020_1011010.csv.gz', 'data/csv/PDC2020_ground_truth/pdc_2020_1011011.csv.gz', 'data/csv/PDC2020_ground_truth/pdc_2020_1011100.csv.gz', 'data/csv/PDC2020_ground_truth/pdc_2020_1011101.csv.gz', 'data/csv/PDC2020_ground_truth/pdc_2020_1011110.csv.gz', 'data/csv/PDC2020_ground_truth/pdc_2020_1011111.csv.gz', 'data/csv/PDC2020_ground_truth/pdc_2020_1100000.csv.gz', 'data/csv/PDC2020_ground_truth/pdc_2020_1100001.csv.gz', 'data/csv/PDC2020_ground_truth/pdc_2020_1100010.csv.gz', 'data/csv/PDC2020_ground_truth/pdc_2020_1100011.csv.gz', 'data/csv/PDC2020_ground_truth/pdc_2020_1100100.csv.gz', 'data/csv/PDC2020_ground_truth/pdc_2020_1100101.csv.gz', 'data/csv/PDC2020_ground_truth/pdc_2020_1100110.csv.gz', 'data/csv/PDC2020_ground_truth/pdc_2020_1100111.csv.gz', 'data/csv/PDC2020_ground_truth/pdc_2020_1101000.csv.gz', 'data/csv/PDC2020_ground_truth/pdc_2020_1101001.csv.gz', 'data/csv/PDC2020_ground_truth/pdc_2020_1101010.csv.gz', 'data/csv/PDC2020_ground_truth/pdc_2020_1101011.csv.gz', 'data/csv/PDC2020_ground_truth/pdc_2020_1101100.csv.gz', 'data/csv/PDC2020_ground_truth/pdc_2020_1101101.csv.gz', 'data/csv/PDC2020_ground_truth/pdc_2020_1101110.csv.gz', 'data/csv/PDC2020_ground_truth/pdc_2020_1101111.csv.gz', 'data/csv/PDC2020_ground_truth/pdc_2020_1110000.csv.gz', 'data/csv/PDC2020_ground_truth/pdc_2020_1110001.csv.gz', 'data/csv/PDC2020_ground_truth/pdc_2020_1110010.csv.gz', 'data/csv/PDC2020_ground_truth/pdc_2020_1110011.csv.gz', 'data/csv/PDC2020_ground_truth/pdc_2020_1110100.csv.gz', 'data/csv/PDC2020_ground_truth/pdc_2020_1110101.csv.gz', 'data/csv/PDC2020_ground_truth/pdc_2020_1110110.csv.gz', 'data/csv/PDC2020_ground_truth/pdc_2020_1110111.csv.gz', 'data/csv/PDC2020_ground_truth/pdc_2020_1111000.csv.gz', 'data/csv/PDC2020_ground_truth/pdc_2020_1111001.csv.gz', 'data/csv/PDC2020_ground_truth/pdc_2020_1111010.csv.gz', 'data/csv/PDC2020_ground_truth/pdc_2020_1111011.csv.gz', 'data/csv/PDC2020_ground_truth/pdc_2020_1111100.csv.gz', 'data/csv/PDC2020_ground_truth/pdc_2020_1111101.csv.gz', 'data/csv/PDC2020_ground_truth/pdc_2020_1111110.csv.gz', 'data/csv/PDC2020_ground_truth/pdc_2020_1111111.csv.gz', 'data/csv/PDC2020_ground_truth/pdc_2020_1200000.csv.gz', 'data/csv/PDC2020_ground_truth/pdc_2020_1200001.csv.gz', 'data/csv/PDC2020_ground_truth/pdc_2020_1200010.csv.gz', 'data/csv/PDC2020_ground_truth/pdc_2020_1200011.csv.gz', 'data/csv/PDC2020_ground_truth/pdc_2020_1200100.csv.gz', 'data/csv/PDC2020_ground_truth/pdc_2020_1200101.csv.gz', 'data/csv/PDC2020_ground_truth/pdc_2020_1200110.csv.gz', 'data/csv/PDC2020_ground_truth/pdc_2020_1200111.csv.gz', 'data/csv/PDC2020_ground_truth/pdc_2020_1201000.csv.gz', 'data/csv/PDC2020_ground_truth/pdc_2020_1201001.csv.gz', 'data/csv/PDC2020_ground_truth/pdc_2020_1201010.csv.gz', 'data/csv/PDC2020_ground_truth/pdc_2020_1201011.csv.gz', 'data/csv/PDC2020_ground_truth/pdc_2020_1201100.csv.gz', 'data/csv/PDC2020_ground_truth/pdc_2020_1201101.csv.gz', 'data/csv/PDC2020_ground_truth/pdc_2020_1201110.csv.gz', 'data/csv/PDC2020_ground_truth/pdc_2020_1201111.csv.gz', 'data/csv/PDC2020_ground_truth/pdc_2020_1210000.csv.gz', 'data/csv/PDC2020_ground_truth/pdc_2020_1210001.csv.gz', 'data/csv/PDC2020_ground_truth/pdc_2020_1210010.csv.gz', 'data/csv/PDC2020_ground_truth/pdc_2020_1210011.csv.gz', 'data/csv/PDC2020_ground_truth/pdc_2020_1210100.csv.gz', 'data/csv/PDC2020_ground_truth/pdc_2020_1210101.csv.gz', 'data/csv/PDC2020_ground_truth/pdc_2020_1210110.csv.gz', 'data/csv/PDC2020_ground_truth/pdc_2020_1210111.csv.gz', 'data/csv/PDC2020_ground_truth/pdc_2020_1211000.csv.gz', 'data/csv/PDC2020_ground_truth/pdc_2020_1211001.csv.gz', 'data/csv/PDC2020_ground_truth/pdc_2020_1211010.csv.gz', 'data/csv/PDC2020_ground_truth/pdc_2020_1211011.csv.gz', 'data/csv/PDC2020_ground_truth/pdc_2020_1211100.csv.gz', 'data/csv/PDC2020_ground_truth/pdc_2020_1211101.csv.gz', 'data/csv/PDC2020_ground_truth/pdc_2020_1211110.csv.gz', 'data/csv/PDC2020_ground_truth/pdc_2020_1211111.csv.gz']\n"
     ]
    },
    {
     "data": {
      "text/html": [
       "<div>\n",
       "<style scoped>\n",
       "    .dataframe tbody tr th:only-of-type {\n",
       "        vertical-align: middle;\n",
       "    }\n",
       "\n",
       "    .dataframe tbody tr th {\n",
       "        vertical-align: top;\n",
       "    }\n",
       "\n",
       "    .dataframe thead th {\n",
       "        text-align: right;\n",
       "    }\n",
       "</style>\n",
       "<table border=\"1\" class=\"dataframe\">\n",
       "  <thead>\n",
       "    <tr style=\"text-align: right;\">\n",
       "      <th></th>\n",
       "      <th>activity</th>\n",
       "      <th>trace_id</th>\n",
       "      <th>case:pdc:costs</th>\n",
       "      <th>normal</th>\n",
       "      <th>event_id</th>\n",
       "    </tr>\n",
       "    <tr>\n",
       "      <th>trace_id</th>\n",
       "      <th></th>\n",
       "      <th></th>\n",
       "      <th></th>\n",
       "      <th></th>\n",
       "      <th></th>\n",
       "    </tr>\n",
       "  </thead>\n",
       "  <tbody>\n",
       "    <tr>\n",
       "      <th>trace 1</th>\n",
       "      <td>###start###</td>\n",
       "      <td>trace 1</td>\n",
       "      <td>2.0</td>\n",
       "      <td>False</td>\n",
       "      <td>0</td>\n",
       "    </tr>\n",
       "    <tr>\n",
       "      <th>trace 1</th>\n",
       "      <td>t11</td>\n",
       "      <td>trace 1</td>\n",
       "      <td>2.0</td>\n",
       "      <td>False</td>\n",
       "      <td>1</td>\n",
       "    </tr>\n",
       "    <tr>\n",
       "      <th>trace 1</th>\n",
       "      <td>t21</td>\n",
       "      <td>trace 1</td>\n",
       "      <td>2.0</td>\n",
       "      <td>False</td>\n",
       "      <td>2</td>\n",
       "    </tr>\n",
       "    <tr>\n",
       "      <th>trace 1</th>\n",
       "      <td>t26</td>\n",
       "      <td>trace 1</td>\n",
       "      <td>2.0</td>\n",
       "      <td>False</td>\n",
       "      <td>3</td>\n",
       "    </tr>\n",
       "    <tr>\n",
       "      <th>trace 1</th>\n",
       "      <td>t35</td>\n",
       "      <td>trace 1</td>\n",
       "      <td>2.0</td>\n",
       "      <td>False</td>\n",
       "      <td>4</td>\n",
       "    </tr>\n",
       "  </tbody>\n",
       "</table>\n",
       "</div>"
      ],
      "text/plain": [
       "             activity trace_id case:pdc:costs normal event_id\n",
       "trace_id                                                     \n",
       "trace 1   ###start###  trace 1            2.0  False        0\n",
       "trace 1           t11  trace 1            2.0  False        1\n",
       "trace 1           t21  trace 1            2.0  False        2\n",
       "trace 1           t26  trace 1            2.0  False        3\n",
       "trace 1           t35  trace 1            2.0  False        4"
      ]
     },
     "execution_count": 9,
     "metadata": {},
     "output_type": "execute_result"
    }
   ],
   "source": [
    "test_path = 'data/csv/PDC2020_ground_truth/'\n",
    "test_log = import_log(test_path)\n",
    "test_log.head(5)"
   ]
  },
  {
   "cell_type": "code",
   "execution_count": 10,
   "metadata": {},
   "outputs": [
    {
     "data": {
      "text/plain": [
       "array(['trace 1', 'trace 2', 'trace 3', ..., 'trace 191998',\n",
       "       'trace 191999', 'trace 192000'], dtype=object)"
      ]
     },
     "execution_count": 10,
     "metadata": {},
     "output_type": "execute_result"
    }
   ],
   "source": [
    "test_log.trace_id.unique()"
   ]
  },
  {
   "cell_type": "code",
   "execution_count": 11,
   "metadata": {},
   "outputs": [
    {
     "name": "stderr",
     "output_type": "stream",
     "text": [
      "/tmp/ipykernel_18073/1590485898.py:19: FutureWarning: A grouping was used that is not in the columns of the DataFrame and so was excluded from the result. This grouping will be included in a future version of pandas. Add the grouping as a column of the DataFrame to silence this warning.\n",
      "  grouped = log.set_index('trace_id').groupby('trace_id', as_index=False)['activity'].apply(list)\n",
      "/tmp/ipykernel_18073/1590485898.py:19: FutureWarning: A grouping was used that is not in the columns of the DataFrame and so was excluded from the result. This grouping will be included in a future version of pandas. Add the grouping as a column of the DataFrame to silence this warning.\n",
      "  grouped = log.set_index('trace_id').groupby('trace_id', as_index=False)['activity'].apply(list)\n"
     ]
    }
   ],
   "source": [
    "abnormal = test_log[test_log['normal'] == False].copy()\n",
    "normal = test_log[test_log['normal'] == True].copy()\n",
    "\n",
    "abnormal['activity'] = abnormal['activity'].map(train_mapper)\n",
    "normal['activity'] = normal['activity'].map(train_mapper)\n",
    "\n",
    "\n",
    "abnormal_grouped = groupTraces(abnormal)\n",
    "normal_grouped = groupTraces(normal)\n",
    "\n",
    "df_to_file(abnormal_grouped, save_path + 'test_abnormal')\n",
    "df_to_file(normal_grouped, save_path + 'test_normal')"
   ]
  },
  {
   "cell_type": "markdown",
   "metadata": {},
   "source": [
    "## Test Set Statistics"
   ]
  },
  {
   "cell_type": "code",
   "execution_count": 12,
   "metadata": {},
   "outputs": [
    {
     "name": "stdout",
     "output_type": "stream",
     "text": [
      "num of traces:  192000\n",
      "avg sequence length:  28.876885416666667\n",
      "========== abnormal ==========\n",
      "num of abnormal traces:  91566\n",
      "avg sequence length:  29.113011379769784\n",
      "max sequence length:  292\n",
      "min sequence length:  5\n",
      "median sequence length:  19.0\n",
      "========== normal ==========\n",
      "num of normal traces:  100434\n",
      "avg sequence length:  28.661608618595295\n",
      "max sequence length:  302\n",
      "min sequence length:  6\n",
      "median sequence length:  18.0\n"
     ]
    }
   ],
   "source": [
    "abnormal_lengths = abnormal_grouped['activity'].apply(lambda x: len(x))\n",
    "normal_lengths = normal_grouped['activity'].apply(lambda x: len(x))\n",
    "\n",
    "print('num of traces: ', len(abnormal_grouped) + len(normal_grouped))\n",
    "print('avg sequence length: ', (abnormal_lengths.sum() + normal_lengths.sum()) / (len(abnormal_grouped) + len(normal_grouped)))\n",
    "\n",
    "print('='*10 + ' abnormal ' + '='*10)\n",
    "print('num of abnormal traces: ', len(abnormal_grouped))\n",
    "print('avg sequence length: ', abnormal_lengths.mean())\n",
    "print('max sequence length: ', abnormal_lengths.max())\n",
    "print('min sequence length: ', abnormal_lengths.min())\n",
    "print('median sequence length: ', abnormal_lengths.median())\n",
    "\n",
    "print('='*10 + ' normal ' + '='*10)\n",
    "print('num of normal traces: ', len(normal_grouped))\n",
    "print('avg sequence length: ', normal_lengths.mean())\n",
    "print('max sequence length: ', normal_lengths.max())\n",
    "print('min sequence length: ', normal_lengths.min())\n",
    "print('median sequence length: ', normal_lengths.median())\n"
   ]
  }
 ],
 "metadata": {
  "kernelspec": {
   "display_name": "dapnn",
   "language": "python",
   "name": "python3"
  },
  "language_info": {
   "codemirror_mode": {
    "name": "ipython",
    "version": 3
   },
   "file_extension": ".py",
   "mimetype": "text/x-python",
   "name": "python",
   "nbconvert_exporter": "python",
   "pygments_lexer": "ipython3",
   "version": "3.9.18"
  }
 },
 "nbformat": 4,
 "nbformat_minor": 2
}
