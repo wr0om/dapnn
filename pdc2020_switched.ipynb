{
 "cells": [
  {
   "cell_type": "code",
   "execution_count": 1,
   "metadata": {},
   "outputs": [
    {
     "name": "stderr",
     "output_type": "stream",
     "text": [
      "c:\\Users\\Rom\\anaconda3\\envs\\dapnn\\lib\\site-packages\\tqdm\\auto.py:21: TqdmWarning: IProgress not found. Please update jupyter and ipywidgets. See https://ipywidgets.readthedocs.io/en/stable/user_install.html\n",
      "  from .autonotebook import tqdm as notebook_tqdm\n"
     ]
    }
   ],
   "source": [
    "from dapnn.imports import *\n",
    "from dapnn.data_processing import *\n",
    "import seaborn as sns\n",
    "import matplotlib.pyplot as plt\n",
    "\n",
    "import warnings\n",
    "warnings.filterwarnings(action='once')"
   ]
  },
  {
   "cell_type": "code",
   "execution_count": 2,
   "metadata": {},
   "outputs": [
    {
     "data": {
      "text/html": [
       "<div>\n",
       "<style scoped>\n",
       "    .dataframe tbody tr th:only-of-type {\n",
       "        vertical-align: middle;\n",
       "    }\n",
       "\n",
       "    .dataframe tbody tr th {\n",
       "        vertical-align: top;\n",
       "    }\n",
       "\n",
       "    .dataframe thead th {\n",
       "        text-align: right;\n",
       "    }\n",
       "</style>\n",
       "<table border=\"1\" class=\"dataframe\">\n",
       "  <thead>\n",
       "    <tr style=\"text-align: right;\">\n",
       "      <th></th>\n",
       "      <th>activity</th>\n",
       "      <th>trace_id</th>\n",
       "      <th>event_id</th>\n",
       "    </tr>\n",
       "    <tr>\n",
       "      <th>trace_id</th>\n",
       "      <th></th>\n",
       "      <th></th>\n",
       "      <th></th>\n",
       "    </tr>\n",
       "  </thead>\n",
       "  <tbody>\n",
       "    <tr>\n",
       "      <th>trace 1</th>\n",
       "      <td>###start###</td>\n",
       "      <td>trace 1</td>\n",
       "      <td>0</td>\n",
       "    </tr>\n",
       "    <tr>\n",
       "      <th>trace 1</th>\n",
       "      <td>t31</td>\n",
       "      <td>trace 1</td>\n",
       "      <td>1</td>\n",
       "    </tr>\n",
       "    <tr>\n",
       "      <th>trace 1</th>\n",
       "      <td>t41</td>\n",
       "      <td>trace 1</td>\n",
       "      <td>2</td>\n",
       "    </tr>\n",
       "    <tr>\n",
       "      <th>trace 1</th>\n",
       "      <td>t26</td>\n",
       "      <td>trace 1</td>\n",
       "      <td>3</td>\n",
       "    </tr>\n",
       "    <tr>\n",
       "      <th>trace 1</th>\n",
       "      <td>t36</td>\n",
       "      <td>trace 1</td>\n",
       "      <td>4</td>\n",
       "    </tr>\n",
       "  </tbody>\n",
       "</table>\n",
       "</div>"
      ],
      "text/plain": [
       "             activity trace_id event_id\n",
       "trace_id                               \n",
       "trace 1   ###start###  trace 1        0\n",
       "trace 1           t31  trace 1        1\n",
       "trace 1           t41  trace 1        2\n",
       "trace 1           t26  trace 1        3\n",
       "trace 1           t36  trace 1        4"
      ]
     },
     "execution_count": 2,
     "metadata": {},
     "output_type": "execute_result"
    }
   ],
   "source": [
    "log_name='pdc_2020_0101100'\n",
    "log = import_log(f'data/csv/PDC2020_training/{log_name}.csv.gz')\n",
    "log.head(5)"
   ]
  },
  {
   "cell_type": "markdown",
   "metadata": {},
   "source": [
    "Making the train log into the format for LogBERT"
   ]
  },
  {
   "cell_type": "code",
   "execution_count": 75,
   "metadata": {},
   "outputs": [
    {
     "data": {
      "text/html": [
       "<div>\n",
       "<style scoped>\n",
       "    .dataframe tbody tr th:only-of-type {\n",
       "        vertical-align: middle;\n",
       "    }\n",
       "\n",
       "    .dataframe tbody tr th {\n",
       "        vertical-align: top;\n",
       "    }\n",
       "\n",
       "    .dataframe thead th {\n",
       "        text-align: right;\n",
       "    }\n",
       "</style>\n",
       "<table border=\"1\" class=\"dataframe\">\n",
       "  <thead>\n",
       "    <tr style=\"text-align: right;\">\n",
       "      <th></th>\n",
       "      <th>activity</th>\n",
       "      <th>trace_id</th>\n",
       "      <th>event_id</th>\n",
       "    </tr>\n",
       "    <tr>\n",
       "      <th>trace_id</th>\n",
       "      <th></th>\n",
       "      <th></th>\n",
       "      <th></th>\n",
       "    </tr>\n",
       "  </thead>\n",
       "  <tbody>\n",
       "    <tr>\n",
       "      <th>trace 1</th>\n",
       "      <td>1</td>\n",
       "      <td>trace 1</td>\n",
       "      <td>0</td>\n",
       "    </tr>\n",
       "    <tr>\n",
       "      <th>trace 1</th>\n",
       "      <td>6</td>\n",
       "      <td>trace 1</td>\n",
       "      <td>1</td>\n",
       "    </tr>\n",
       "    <tr>\n",
       "      <th>trace 1</th>\n",
       "      <td>12</td>\n",
       "      <td>trace 1</td>\n",
       "      <td>2</td>\n",
       "    </tr>\n",
       "    <tr>\n",
       "      <th>trace 1</th>\n",
       "      <td>5</td>\n",
       "      <td>trace 1</td>\n",
       "      <td>3</td>\n",
       "    </tr>\n",
       "    <tr>\n",
       "      <th>trace 1</th>\n",
       "      <td>11</td>\n",
       "      <td>trace 1</td>\n",
       "      <td>4</td>\n",
       "    </tr>\n",
       "  </tbody>\n",
       "</table>\n",
       "</div>"
      ],
      "text/plain": [
       "          activity trace_id event_id\n",
       "trace_id                            \n",
       "trace 1          1  trace 1        0\n",
       "trace 1          6  trace 1        1\n",
       "trace 1         12  trace 1        2\n",
       "trace 1          5  trace 1        3\n",
       "trace 1         11  trace 1        4"
      ]
     },
     "execution_count": 75,
     "metadata": {},
     "output_type": "execute_result"
    }
   ],
   "source": [
    "# TODO: MAKE THIS THE FORMAT I WANT!\n",
    "\n",
    "def mapping(log):\n",
    "    \"\"\"map log activities to numbers, TODO: maybe remove start and end?\"\"\"\n",
    "\n",
    "    # get unique activities\n",
    "    activities = log['activity'].unique()\n",
    "    # sort them\n",
    "    activities.sort()\n",
    "    # create a dictionary of activities and numbers\n",
    "    mapping = dict(zip(activities, range(len(activities))))\n",
    "\n",
    "    # map activities to numbers\n",
    "    log['activity'] = log['activity'].map(mapping)\n",
    "\n",
    "    return log, mapping\n",
    "    \n",
    "def groupTraces(log):\n",
    "    \"\"\"group traces by trace id and keep the order of the events\n",
    "    returns a df of lists of events\"\"\"\n",
    "    \n",
    "    grouped = log.set_index('trace_id').groupby('trace_id', as_index=False)['activity'].apply(list)\n",
    "    grouped['activity'] = grouped['activity'].apply(lambda x: [i for i in x])\n",
    "    return grouped\n",
    "\n",
    "log, train_mapper = mapping(log)\n",
    "log.head(5)"
   ]
  },
  {
   "cell_type": "code",
   "execution_count": 41,
   "metadata": {},
   "outputs": [
    {
     "data": {
      "text/html": [
       "<div>\n",
       "<style scoped>\n",
       "    .dataframe tbody tr th:only-of-type {\n",
       "        vertical-align: middle;\n",
       "    }\n",
       "\n",
       "    .dataframe tbody tr th {\n",
       "        vertical-align: top;\n",
       "    }\n",
       "\n",
       "    .dataframe thead th {\n",
       "        text-align: right;\n",
       "    }\n",
       "</style>\n",
       "<table border=\"1\" class=\"dataframe\">\n",
       "  <thead>\n",
       "    <tr style=\"text-align: right;\">\n",
       "      <th></th>\n",
       "      <th>activity</th>\n",
       "    </tr>\n",
       "  </thead>\n",
       "  <tbody>\n",
       "    <tr>\n",
       "      <th>0</th>\n",
       "      <td>[1, 6, 12, 5, 11, 13, 15, 8, 3, 20, 25, 2, 24, 7, 19, 12, 8, 3, 2, 7, 9, 12, 14, 17, 22, 4, 5, 13, 15, 20, 0]</td>\n",
       "    </tr>\n",
       "    <tr>\n",
       "      <th>1</th>\n",
       "      <td>[1, 7, 5, 10, 12, 14, 17, 22, 23, 13, 18, 15, 21, 25, 24, 14, 19, 9, 17, 22, 4, 5, 10, 13, 9, 4, 5, 10, 13, 9, 4, 5, 10, 13, 15, 20, 0]</td>\n",
       "    </tr>\n",
       "    <tr>\n",
       "      <th>2</th>\n",
       "      <td>[1, 2, 5, 11, 6, 13, 15, 12, 21, 8, 25, 3, 6, 12, 14, 17, 22, 23, 18, 14, 16, 22, 23, 18, 14, 22, 0]</td>\n",
       "    </tr>\n",
       "    <tr>\n",
       "      <th>3</th>\n",
       "      <td>[1, 5, 2, 10, 7, 13, 12, 9, 4, 5, 13, 9, 8, 3, 4, 5, 10, 6, 12, 13, 14, 9, 16, 4, 5, 11, 22, 13, 15, 23, 18, 20, 25, 14, 22, 23, 18, 14, 17, 22, 0]</td>\n",
       "    </tr>\n",
       "    <tr>\n",
       "      <th>4</th>\n",
       "      <td>[1, 2, 5, 13, 15, 6, 21, 25, 12, 8, 3, 2, 6, 12, 14, 17, 22, 0]</td>\n",
       "    </tr>\n",
       "    <tr>\n",
       "      <th>...</th>\n",
       "      <td>...</td>\n",
       "    </tr>\n",
       "    <tr>\n",
       "      <th>995</th>\n",
       "      <td>[1, 2, 5, 13, 7, 12, 15, 14, 16, 21, 24, 22, 19, 15, 20, 25, 24, 19, 9, 4, 5, 10, 13, 15, 20, 25, 24, 19, 9, 4, 5, 10, 13, 15, 21, 25, 0]</td>\n",
       "    </tr>\n",
       "    <tr>\n",
       "      <th>996</th>\n",
       "      <td>[1, 2, 6, 5, 10, 13, 9, 4, 5, 10, 12, 13, 14, 17, 22, 15, 21, 25, 0]</td>\n",
       "    </tr>\n",
       "    <tr>\n",
       "      <th>997</th>\n",
       "      <td>[1, 2, 6, 12, 5, 13, 15, 21, 14, 24, 17, 19, 22, 23, 15, 18, 20, 24, 14, 17, 19, 22, 9, 4, 5, 13, 9, 4, 5, 10, 13, 15, 21, 25, 24, 19, 15, 21, 25, 0]</td>\n",
       "    </tr>\n",
       "    <tr>\n",
       "      <th>998</th>\n",
       "      <td>[1, 5, 7, 12, 11, 14, 17, 22, 23, 13, 9, 18, 4, 14, 17, 5, 11, 13, 15, 21, 25, 22, 0]</td>\n",
       "    </tr>\n",
       "    <tr>\n",
       "      <th>999</th>\n",
       "      <td>[1, 2, 7, 12, 14, 5, 22, 10, 23, 18, 13, 9, 4, 14, 17, 22, 23, 18, 5, 14, 13, 17, 22, 23, 15, 18, 20, 25, 24, 19, 15, 14, 20, 17, 22, 23, 18, 14, 17, 22, 23, 18, 14, 17, 22, 23, 18, 14, 22, 23, 18, 14, 17, 22, 0]</td>\n",
       "    </tr>\n",
       "  </tbody>\n",
       "</table>\n",
       "<p>1000 rows × 1 columns</p>\n",
       "</div>"
      ],
      "text/plain": [
       "                                                                                                                                                                                                                 activity\n",
       "0                                                                                                           [1, 6, 12, 5, 11, 13, 15, 8, 3, 20, 25, 2, 24, 7, 19, 12, 8, 3, 2, 7, 9, 12, 14, 17, 22, 4, 5, 13, 15, 20, 0]\n",
       "1                                                                                 [1, 7, 5, 10, 12, 14, 17, 22, 23, 13, 18, 15, 21, 25, 24, 14, 19, 9, 17, 22, 4, 5, 10, 13, 9, 4, 5, 10, 13, 9, 4, 5, 10, 13, 15, 20, 0]\n",
       "2                                                                                                                    [1, 2, 5, 11, 6, 13, 15, 12, 21, 8, 25, 3, 6, 12, 14, 17, 22, 23, 18, 14, 16, 22, 23, 18, 14, 22, 0]\n",
       "3                                                                     [1, 5, 2, 10, 7, 13, 12, 9, 4, 5, 13, 9, 8, 3, 4, 5, 10, 6, 12, 13, 14, 9, 16, 4, 5, 11, 22, 13, 15, 23, 18, 20, 25, 14, 22, 23, 18, 14, 17, 22, 0]\n",
       "4                                                                                                                                                         [1, 2, 5, 13, 15, 6, 21, 25, 12, 8, 3, 2, 6, 12, 14, 17, 22, 0]\n",
       "..                                                                                                                                                                                                                    ...\n",
       "995                                                                             [1, 2, 5, 13, 7, 12, 15, 14, 16, 21, 24, 22, 19, 15, 20, 25, 24, 19, 9, 4, 5, 10, 13, 15, 20, 25, 24, 19, 9, 4, 5, 10, 13, 15, 21, 25, 0]\n",
       "996                                                                                                                                                  [1, 2, 6, 5, 10, 13, 9, 4, 5, 10, 12, 13, 14, 17, 22, 15, 21, 25, 0]\n",
       "997                                                                 [1, 2, 6, 12, 5, 13, 15, 21, 14, 24, 17, 19, 22, 23, 15, 18, 20, 24, 14, 17, 19, 22, 9, 4, 5, 13, 9, 4, 5, 10, 13, 15, 21, 25, 24, 19, 15, 21, 25, 0]\n",
       "998                                                                                                                                 [1, 5, 7, 12, 11, 14, 17, 22, 23, 13, 9, 18, 4, 14, 17, 5, 11, 13, 15, 21, 25, 22, 0]\n",
       "999  [1, 2, 7, 12, 14, 5, 22, 10, 23, 18, 13, 9, 4, 14, 17, 22, 23, 18, 5, 14, 13, 17, 22, 23, 15, 18, 20, 25, 24, 19, 15, 14, 20, 17, 22, 23, 18, 14, 17, 22, 23, 18, 14, 17, 22, 23, 18, 14, 22, 23, 18, 14, 17, 22, 0]\n",
       "\n",
       "[1000 rows x 1 columns]"
      ]
     },
     "execution_count": 41,
     "metadata": {},
     "output_type": "execute_result"
    }
   ],
   "source": [
    "grouped = groupTraces(log)\n",
    "grouped"
   ]
  },
  {
   "cell_type": "code",
   "execution_count": 62,
   "metadata": {},
   "outputs": [],
   "source": [
    "def df_to_file(df, file_name):\n",
    "    with open(file_name, 'w') as f:\n",
    "        for _, row in df.iterrows():\n",
    "            line = ' '.join(map(str, row['activity']))\n",
    "            f.write(line + '\\n')\n",
    "        \n",
    "df_to_file(grouped, f'romdata/train')"
   ]
  },
  {
   "cell_type": "code",
   "execution_count": null,
   "metadata": {},
   "outputs": [],
   "source": [
    "log, train_mapper = mapping(log)\n",
    "grouped = groupTraces(log)\n",
    "df_to_file(grouped, f'romdata/train')"
   ]
  },
  {
   "cell_type": "markdown",
   "metadata": {},
   "source": [
    "finished making dataset for logbert"
   ]
  },
  {
   "cell_type": "code",
   "execution_count": 3,
   "metadata": {},
   "outputs": [],
   "source": [
    "def training_dl(log,cat_names='activity',seed=45,ws=5,bs=32):\n",
    "    categorify=Categorify()\n",
    "    o=PPObj(log,procs=categorify,cat_names=cat_names,y_names=cat_names,splits=split_traces(log,test_seed=seed,validation_seed=seed))\n",
    "    dls=o.get_dls(windows=partial(windows_fast,ws=ws),bs=bs)\n",
    "    return o,dls,categorify"
   ]
  },
  {
   "cell_type": "code",
   "execution_count": 5,
   "metadata": {},
   "outputs": [],
   "source": [
    "class ControlFlowModel(torch.nn.Module) :\n",
    "    def __init__(self, o) :\n",
    "        super().__init__()\n",
    "        hidden=25\n",
    "        vocab_act=len(o.procs.categorify['activity'])\n",
    "        emb_dim_act = int(np.sqrt(vocab_act))+1\n",
    "\n",
    "        self.emb_act = nn.Embedding(vocab_act,emb_dim_act)\n",
    "        \n",
    "        self.lstm_act = nn.LSTM(emb_dim_act, hidden, batch_first=True, num_layers=2)\n",
    "\n",
    "        self.linear_act = nn.Linear(hidden, vocab_act)\n",
    "\n",
    "    def forward(self, xcat):\n",
    "        xcat=xcat[:,0]\n",
    "        x_act=xcat\n",
    "        x_act = self.emb_act(x_act)\n",
    "        x_act,_ = self.lstm_act(x_act)\n",
    "        x_act = x_act[:,-1]\n",
    "        x_act = self.linear_act(x_act)\n",
    "        return x_act"
   ]
  },
  {
   "cell_type": "code",
   "execution_count": 6,
   "metadata": {},
   "outputs": [],
   "source": [
    "class HideOutput:\n",
    "    'A utility function that hides all outputs in a context'\n",
    "    def __enter__(self):\n",
    "        self._original_stdout = sys.stdout\n",
    "        sys.stdout = open(os.devnull, 'w')\n",
    "\n",
    "    def __exit__(self, exc_type, exc_val, exc_tb):\n",
    "        sys.stdout.close()\n",
    "        sys.stdout = self._original_stdout\n",
    "\n",
    "\n",
    "def training_loop(learn,epoch,print_output,lr_find,fixed_learning_rate=0.01):\n",
    "    '''\n",
    "    Basic training loop that uses learning rate finder and one cycle training. \n",
    "    See fastai docs for more information\n",
    "    '''\n",
    "    if lr_find:\n",
    "        lr=np.median([learn.lr_find(show_plot=print_output)[0] for i in range(5)])\n",
    "        learn.fit_one_cycle(epoch,float(lr))\n",
    "    else: learn.fit(epoch,fixed_learning_rate)\n",
    "\n",
    "\n",
    "def train_validate(dls,m,metrics=accuracy,loss=F.cross_entropy,epoch=20,print_output=True,model_dir=\".\",lr_find=True,\n",
    "                   patience=5,min_delta=0.005,show_plot=True,store_path='tmp',model_name='.model'):\n",
    "    '''\n",
    "    Trains a model on the training set with early stopping based on the validation loss.\n",
    "    Afterwards, applies it to the test set.\n",
    "    '''\n",
    "    cbs = [\n",
    "      EarlyStoppingCallback(monitor='valid_loss',min_delta=min_delta, patience=patience),\n",
    "      SaveModelCallback(fname=model_name),\n",
    "      ]\n",
    "    learn=Learner(dls, m, path=store_path, model_dir=model_dir, loss_func=loss ,metrics=metrics,cbs=cbs)\n",
    "\n",
    "    if print_output:\n",
    "        training_loop(learn,epoch,show_plot,lr_find=lr_find)\n",
    "        return learn.validate(dl=dls[2])\n",
    "    else:\n",
    "        with HideOutput(),learn.no_bar(),learn.no_logging():\n",
    "            training_loop(learn,epoch,show_plot,lr_find=lr_find)\n",
    "            return learn.validate(dl=dls[2])"
   ]
  },
  {
   "cell_type": "code",
   "execution_count": 7,
   "metadata": {},
   "outputs": [],
   "source": [
    "squeeze_cross_entropy = lambda x,y:F.cross_entropy(x,y[0])\n",
    "squeeze_accuracy =lambda x,y:accuracy(x,y[0])"
   ]
  },
  {
   "cell_type": "code",
   "execution_count": 8,
   "metadata": {},
   "outputs": [
    {
     "data": {
      "text/html": [
       "\n",
       "<style>\n",
       "    /* Turns off some styling */\n",
       "    progress {\n",
       "        /* gets rid of default border in Firefox and Opera. */\n",
       "        border: none;\n",
       "        /* Needs to be in here for Safari polyfill so background images work as expected. */\n",
       "        background-size: auto;\n",
       "    }\n",
       "    progress:not([value]), progress:not([value])::-webkit-progress-bar {\n",
       "        background: repeating-linear-gradient(45deg, #7e7e7e, #7e7e7e 10px, #5c5c5c 10px, #5c5c5c 20px);\n",
       "    }\n",
       "    .progress-bar-interrupted, .progress-bar-interrupted::-webkit-progress-bar {\n",
       "        background: #F44336;\n",
       "    }\n",
       "</style>\n"
      ],
      "text/plain": [
       "<IPython.core.display.HTML object>"
      ]
     },
     "metadata": {},
     "output_type": "display_data"
    },
    {
     "data": {
      "text/html": [],
      "text/plain": [
       "<IPython.core.display.HTML object>"
      ]
     },
     "metadata": {},
     "output_type": "display_data"
    },
    {
     "data": {
      "text/html": [
       "\n",
       "<style>\n",
       "    /* Turns off some styling */\n",
       "    progress {\n",
       "        /* gets rid of default border in Firefox and Opera. */\n",
       "        border: none;\n",
       "        /* Needs to be in here for Safari polyfill so background images work as expected. */\n",
       "        background-size: auto;\n",
       "    }\n",
       "    progress:not([value]), progress:not([value])::-webkit-progress-bar {\n",
       "        background: repeating-linear-gradient(45deg, #7e7e7e, #7e7e7e 10px, #5c5c5c 10px, #5c5c5c 20px);\n",
       "    }\n",
       "    .progress-bar-interrupted, .progress-bar-interrupted::-webkit-progress-bar {\n",
       "        background: #F44336;\n",
       "    }\n",
       "</style>\n"
      ],
      "text/plain": [
       "<IPython.core.display.HTML object>"
      ]
     },
     "metadata": {},
     "output_type": "display_data"
    },
    {
     "data": {
      "text/html": [],
      "text/plain": [
       "<IPython.core.display.HTML object>"
      ]
     },
     "metadata": {},
     "output_type": "display_data"
    },
    {
     "data": {
      "text/html": [
       "\n",
       "<style>\n",
       "    /* Turns off some styling */\n",
       "    progress {\n",
       "        /* gets rid of default border in Firefox and Opera. */\n",
       "        border: none;\n",
       "        /* Needs to be in here for Safari polyfill so background images work as expected. */\n",
       "        background-size: auto;\n",
       "    }\n",
       "    progress:not([value]), progress:not([value])::-webkit-progress-bar {\n",
       "        background: repeating-linear-gradient(45deg, #7e7e7e, #7e7e7e 10px, #5c5c5c 10px, #5c5c5c 20px);\n",
       "    }\n",
       "    .progress-bar-interrupted, .progress-bar-interrupted::-webkit-progress-bar {\n",
       "        background: #F44336;\n",
       "    }\n",
       "</style>\n"
      ],
      "text/plain": [
       "<IPython.core.display.HTML object>"
      ]
     },
     "metadata": {},
     "output_type": "display_data"
    },
    {
     "data": {
      "text/html": [],
      "text/plain": [
       "<IPython.core.display.HTML object>"
      ]
     },
     "metadata": {},
     "output_type": "display_data"
    },
    {
     "data": {
      "text/html": [
       "\n",
       "<style>\n",
       "    /* Turns off some styling */\n",
       "    progress {\n",
       "        /* gets rid of default border in Firefox and Opera. */\n",
       "        border: none;\n",
       "        /* Needs to be in here for Safari polyfill so background images work as expected. */\n",
       "        background-size: auto;\n",
       "    }\n",
       "    progress:not([value]), progress:not([value])::-webkit-progress-bar {\n",
       "        background: repeating-linear-gradient(45deg, #7e7e7e, #7e7e7e 10px, #5c5c5c 10px, #5c5c5c 20px);\n",
       "    }\n",
       "    .progress-bar-interrupted, .progress-bar-interrupted::-webkit-progress-bar {\n",
       "        background: #F44336;\n",
       "    }\n",
       "</style>\n"
      ],
      "text/plain": [
       "<IPython.core.display.HTML object>"
      ]
     },
     "metadata": {},
     "output_type": "display_data"
    },
    {
     "data": {
      "text/html": [],
      "text/plain": [
       "<IPython.core.display.HTML object>"
      ]
     },
     "metadata": {},
     "output_type": "display_data"
    },
    {
     "data": {
      "text/html": [
       "\n",
       "<style>\n",
       "    /* Turns off some styling */\n",
       "    progress {\n",
       "        /* gets rid of default border in Firefox and Opera. */\n",
       "        border: none;\n",
       "        /* Needs to be in here for Safari polyfill so background images work as expected. */\n",
       "        background-size: auto;\n",
       "    }\n",
       "    progress:not([value]), progress:not([value])::-webkit-progress-bar {\n",
       "        background: repeating-linear-gradient(45deg, #7e7e7e, #7e7e7e 10px, #5c5c5c 10px, #5c5c5c 20px);\n",
       "    }\n",
       "    .progress-bar-interrupted, .progress-bar-interrupted::-webkit-progress-bar {\n",
       "        background: #F44336;\n",
       "    }\n",
       "</style>\n"
      ],
      "text/plain": [
       "<IPython.core.display.HTML object>"
      ]
     },
     "metadata": {},
     "output_type": "display_data"
    },
    {
     "data": {
      "text/html": [],
      "text/plain": [
       "<IPython.core.display.HTML object>"
      ]
     },
     "metadata": {},
     "output_type": "display_data"
    },
    {
     "data": {
      "text/html": [
       "\n",
       "<style>\n",
       "    /* Turns off some styling */\n",
       "    progress {\n",
       "        /* gets rid of default border in Firefox and Opera. */\n",
       "        border: none;\n",
       "        /* Needs to be in here for Safari polyfill so background images work as expected. */\n",
       "        background-size: auto;\n",
       "    }\n",
       "    progress:not([value]), progress:not([value])::-webkit-progress-bar {\n",
       "        background: repeating-linear-gradient(45deg, #7e7e7e, #7e7e7e 10px, #5c5c5c 10px, #5c5c5c 20px);\n",
       "    }\n",
       "    .progress-bar-interrupted, .progress-bar-interrupted::-webkit-progress-bar {\n",
       "        background: #F44336;\n",
       "    }\n",
       "</style>\n"
      ],
      "text/plain": [
       "<IPython.core.display.HTML object>"
      ]
     },
     "metadata": {},
     "output_type": "display_data"
    },
    {
     "data": {
      "text/html": [
       "<table border=\"1\" class=\"dataframe\">\n",
       "  <thead>\n",
       "    <tr style=\"text-align: left;\">\n",
       "      <th>epoch</th>\n",
       "      <th>train_loss</th>\n",
       "      <th>valid_loss</th>\n",
       "      <th><lambda></th>\n",
       "      <th>time</th>\n",
       "    </tr>\n",
       "  </thead>\n",
       "  <tbody>\n",
       "    <tr>\n",
       "      <td>0</td>\n",
       "      <td>2.203814</td>\n",
       "      <td>2.047698</td>\n",
       "      <td>0.401659</td>\n",
       "      <td>00:06</td>\n",
       "    </tr>\n",
       "    <tr>\n",
       "      <td>1</td>\n",
       "      <td>1.386788</td>\n",
       "      <td>1.303538</td>\n",
       "      <td>0.498780</td>\n",
       "      <td>00:06</td>\n",
       "    </tr>\n",
       "    <tr>\n",
       "      <td>2</td>\n",
       "      <td>1.194217</td>\n",
       "      <td>1.148364</td>\n",
       "      <td>0.504636</td>\n",
       "      <td>00:06</td>\n",
       "    </tr>\n",
       "    <tr>\n",
       "      <td>3</td>\n",
       "      <td>1.113963</td>\n",
       "      <td>1.119543</td>\n",
       "      <td>0.500732</td>\n",
       "      <td>00:06</td>\n",
       "    </tr>\n",
       "    <tr>\n",
       "      <td>4</td>\n",
       "      <td>1.121778</td>\n",
       "      <td>1.106313</td>\n",
       "      <td>0.498292</td>\n",
       "      <td>00:06</td>\n",
       "    </tr>\n",
       "    <tr>\n",
       "      <td>5</td>\n",
       "      <td>1.107302</td>\n",
       "      <td>1.087117</td>\n",
       "      <td>0.501220</td>\n",
       "      <td>00:06</td>\n",
       "    </tr>\n",
       "    <tr>\n",
       "      <td>6</td>\n",
       "      <td>1.066122</td>\n",
       "      <td>1.049065</td>\n",
       "      <td>0.519766</td>\n",
       "      <td>00:06</td>\n",
       "    </tr>\n",
       "    <tr>\n",
       "      <td>7</td>\n",
       "      <td>1.072756</td>\n",
       "      <td>1.068956</td>\n",
       "      <td>0.499756</td>\n",
       "      <td>00:06</td>\n",
       "    </tr>\n",
       "    <tr>\n",
       "      <td>8</td>\n",
       "      <td>1.092687</td>\n",
       "      <td>1.042770</td>\n",
       "      <td>0.517814</td>\n",
       "      <td>00:05</td>\n",
       "    </tr>\n",
       "    <tr>\n",
       "      <td>9</td>\n",
       "      <td>1.034197</td>\n",
       "      <td>1.035466</td>\n",
       "      <td>0.516837</td>\n",
       "      <td>00:05</td>\n",
       "    </tr>\n",
       "    <tr>\n",
       "      <td>10</td>\n",
       "      <td>1.032501</td>\n",
       "      <td>1.027505</td>\n",
       "      <td>0.520254</td>\n",
       "      <td>00:06</td>\n",
       "    </tr>\n",
       "    <tr>\n",
       "      <td>11</td>\n",
       "      <td>1.022844</td>\n",
       "      <td>1.017985</td>\n",
       "      <td>0.525134</td>\n",
       "      <td>00:05</td>\n",
       "    </tr>\n",
       "    <tr>\n",
       "      <td>12</td>\n",
       "      <td>1.030185</td>\n",
       "      <td>1.023950</td>\n",
       "      <td>0.524158</td>\n",
       "      <td>00:06</td>\n",
       "    </tr>\n",
       "    <tr>\n",
       "      <td>13</td>\n",
       "      <td>1.033601</td>\n",
       "      <td>1.042561</td>\n",
       "      <td>0.515373</td>\n",
       "      <td>00:05</td>\n",
       "    </tr>\n",
       "    <tr>\n",
       "      <td>14</td>\n",
       "      <td>1.022937</td>\n",
       "      <td>1.016458</td>\n",
       "      <td>0.517326</td>\n",
       "      <td>00:05</td>\n",
       "    </tr>\n",
       "    <tr>\n",
       "      <td>15</td>\n",
       "      <td>0.986512</td>\n",
       "      <td>1.004840</td>\n",
       "      <td>0.529527</td>\n",
       "      <td>00:06</td>\n",
       "    </tr>\n",
       "    <tr>\n",
       "      <td>16</td>\n",
       "      <td>0.971285</td>\n",
       "      <td>1.011483</td>\n",
       "      <td>0.523670</td>\n",
       "      <td>00:06</td>\n",
       "    </tr>\n",
       "    <tr>\n",
       "      <td>17</td>\n",
       "      <td>0.995245</td>\n",
       "      <td>1.005038</td>\n",
       "      <td>0.523182</td>\n",
       "      <td>00:06</td>\n",
       "    </tr>\n",
       "    <tr>\n",
       "      <td>18</td>\n",
       "      <td>0.981253</td>\n",
       "      <td>1.006529</td>\n",
       "      <td>0.526598</td>\n",
       "      <td>00:05</td>\n",
       "    </tr>\n",
       "    <tr>\n",
       "      <td>19</td>\n",
       "      <td>0.967998</td>\n",
       "      <td>1.004891</td>\n",
       "      <td>0.526110</td>\n",
       "      <td>00:05</td>\n",
       "    </tr>\n",
       "    <tr>\n",
       "      <td>20</td>\n",
       "      <td>0.952771</td>\n",
       "      <td>1.004895</td>\n",
       "      <td>0.525622</td>\n",
       "      <td>00:05</td>\n",
       "    </tr>\n",
       "  </tbody>\n",
       "</table>"
      ],
      "text/plain": [
       "<IPython.core.display.HTML object>"
      ]
     },
     "metadata": {},
     "output_type": "display_data"
    },
    {
     "name": "stdout",
     "output_type": "stream",
     "text": [
      "Better model found at epoch 0 with valid_loss value: 2.047698497772217.\n",
      "Better model found at epoch 1 with valid_loss value: 1.3035378456115723.\n",
      "Better model found at epoch 2 with valid_loss value: 1.148363709449768.\n",
      "Better model found at epoch 3 with valid_loss value: 1.1195433139801025.\n",
      "Better model found at epoch 4 with valid_loss value: 1.10631263256073.\n",
      "Better model found at epoch 5 with valid_loss value: 1.0871171951293945.\n",
      "Better model found at epoch 6 with valid_loss value: 1.0490649938583374.\n",
      "Better model found at epoch 8 with valid_loss value: 1.0427699089050293.\n",
      "Better model found at epoch 9 with valid_loss value: 1.0354663133621216.\n",
      "Better model found at epoch 10 with valid_loss value: 1.0275053977966309.\n",
      "Better model found at epoch 11 with valid_loss value: 1.017985463142395.\n",
      "Better model found at epoch 14 with valid_loss value: 1.0164580345153809.\n",
      "Better model found at epoch 15 with valid_loss value: 1.0048404932022095.\n",
      "No improvement since epoch 15: early stopping\n"
     ]
    },
    {
     "data": {
      "text/html": [
       "\n",
       "<style>\n",
       "    /* Turns off some styling */\n",
       "    progress {\n",
       "        /* gets rid of default border in Firefox and Opera. */\n",
       "        border: none;\n",
       "        /* Needs to be in here for Safari polyfill so background images work as expected. */\n",
       "        background-size: auto;\n",
       "    }\n",
       "    progress:not([value]), progress:not([value])::-webkit-progress-bar {\n",
       "        background: repeating-linear-gradient(45deg, #7e7e7e, #7e7e7e 10px, #5c5c5c 10px, #5c5c5c 20px);\n",
       "    }\n",
       "    .progress-bar-interrupted, .progress-bar-interrupted::-webkit-progress-bar {\n",
       "        background: #F44336;\n",
       "    }\n",
       "</style>\n"
      ],
      "text/plain": [
       "<IPython.core.display.HTML object>"
      ]
     },
     "metadata": {},
     "output_type": "display_data"
    },
    {
     "data": {
      "text/html": [],
      "text/plain": [
       "<IPython.core.display.HTML object>"
      ]
     },
     "metadata": {},
     "output_type": "display_data"
    },
    {
     "name": "stdout",
     "output_type": "stream",
     "text": [
      "Better model found at epoch 0 with valid_loss value: 0.5221222043037415.\n"
     ]
    },
    {
     "data": {
      "image/png": "[encoded data removed]",
      "text/plain": [
       "<Figure size 640x480 with 1 Axes>"
      ]
     },
     "metadata": {},
     "output_type": "display_data"
    },
    {
     "data": {
      "image/png": "[encoded data removed]",
      "text/plain": [
       "<Figure size 640x480 with 1 Axes>"
      ]
     },
     "metadata": {},
     "output_type": "display_data"
    },
    {
     "data": {
      "image/png": "[encoded data removed]",
      "text/plain": [
       "<Figure size 640x480 with 1 Axes>"
      ]
     },
     "metadata": {},
     "output_type": "display_data"
    },
    {
     "data": {
      "image/png": "[encoded data removed]",
      "text/plain": [
       "<Figure size 640x480 with 1 Axes>"
      ]
     },
     "metadata": {},
     "output_type": "display_data"
    },
    {
     "data": {
      "image/png": "[encoded data removed]",
      "text/plain": [
       "<Figure size 640x480 with 1 Axes>"
      ]
     },
     "metadata": {},
     "output_type": "display_data"
    }
   ],
   "source": [
    "o,dls,categorify = training_dl(log)\n",
    "m = ControlFlowModel(o)\n",
    "train_val = train_validate(dls,m,epoch=25,metrics=squeeze_accuracy,loss=squeeze_cross_entropy)"
   ]
  },
  {
   "cell_type": "code",
   "execution_count": 9,
   "metadata": {},
   "outputs": [
    {
     "data": {
      "text/html": [
       "<div>\n",
       "<style scoped>\n",
       "    .dataframe tbody tr th:only-of-type {\n",
       "        vertical-align: middle;\n",
       "    }\n",
       "\n",
       "    .dataframe tbody tr th {\n",
       "        vertical-align: top;\n",
       "    }\n",
       "\n",
       "    .dataframe thead th {\n",
       "        text-align: right;\n",
       "    }\n",
       "</style>\n",
       "<table border=\"1\" class=\"dataframe\">\n",
       "  <thead>\n",
       "    <tr style=\"text-align: right;\">\n",
       "      <th></th>\n",
       "      <th>activity</th>\n",
       "      <th>trace_id</th>\n",
       "      <th>case:pdc:costs</th>\n",
       "      <th>normal</th>\n",
       "      <th>event_id</th>\n",
       "    </tr>\n",
       "    <tr>\n",
       "      <th>trace_id</th>\n",
       "      <th></th>\n",
       "      <th></th>\n",
       "      <th></th>\n",
       "      <th></th>\n",
       "      <th></th>\n",
       "    </tr>\n",
       "  </thead>\n",
       "  <tbody>\n",
       "    <tr>\n",
       "      <th>trace 4</th>\n",
       "      <td>###start###</td>\n",
       "      <td>trace 4</td>\n",
       "      <td>5.0</td>\n",
       "      <td>False</td>\n",
       "      <td>0</td>\n",
       "    </tr>\n",
       "    <tr>\n",
       "      <th>trace 4</th>\n",
       "      <td>t26</td>\n",
       "      <td>trace 4</td>\n",
       "      <td>5.0</td>\n",
       "      <td>False</td>\n",
       "      <td>1</td>\n",
       "    </tr>\n",
       "    <tr>\n",
       "      <th>trace 4</th>\n",
       "      <td>t32</td>\n",
       "      <td>trace 4</td>\n",
       "      <td>5.0</td>\n",
       "      <td>False</td>\n",
       "      <td>2</td>\n",
       "    </tr>\n",
       "    <tr>\n",
       "      <th>trace 4</th>\n",
       "      <td>t41</td>\n",
       "      <td>trace 4</td>\n",
       "      <td>5.0</td>\n",
       "      <td>False</td>\n",
       "      <td>3</td>\n",
       "    </tr>\n",
       "    <tr>\n",
       "      <th>trace 4</th>\n",
       "      <td>t44</td>\n",
       "      <td>trace 4</td>\n",
       "      <td>5.0</td>\n",
       "      <td>False</td>\n",
       "      <td>4</td>\n",
       "    </tr>\n",
       "  </tbody>\n",
       "</table>\n",
       "</div>"
      ],
      "text/plain": [
       "             activity trace_id case:pdc:costs normal event_id\n",
       "trace_id                                                     \n",
       "trace 4   ###start###  trace 4            5.0  False        0\n",
       "trace 4           t26  trace 4            5.0  False        1\n",
       "trace 4           t32  trace 4            5.0  False        2\n",
       "trace 4           t41  trace 4            5.0  False        3\n",
       "trace 4           t44  trace 4            5.0  False        4"
      ]
     },
     "execution_count": 9,
     "metadata": {},
     "output_type": "execute_result"
    }
   ],
   "source": [
    "test_log = import_log(f'data/csv/PDC2020_ground_truth/{log_name}.csv.gz')\n",
    "test_log[test_log['normal'] == False].head(5)"
   ]
  },
  {
   "cell_type": "markdown",
   "metadata": {},
   "source": [
    "Making the test log into the format for LogBERT"
   ]
  },
  {
   "cell_type": "code",
   "execution_count": 76,
   "metadata": {},
   "outputs": [
    {
     "name": "stdout",
     "output_type": "stream",
     "text": [
      "           activity   trace_id case:pdc:costs normal event_id\n",
      "trace_id                                                     \n",
      "trace 1           1    trace 1            0.0   True        0\n",
      "trace 1           2    trace 1            0.0   True        1\n",
      "trace 1           7    trace 1            0.0   True        2\n",
      "trace 1           5    trace 1            0.0   True        3\n",
      "trace 1          12    trace 1            0.0   True        4\n",
      "...             ...        ...            ...    ...      ...\n",
      "trace 999        12  trace 999            0.0   True       11\n",
      "trace 999        25  trace 999            0.0   True       12\n",
      "trace 999        14  trace 999            0.0   True       13\n",
      "trace 999        22  trace 999            0.0   True       14\n",
      "trace 999         0  trace 999            0.0   True       15\n",
      "\n",
      "[15997 rows x 5 columns]\n"
     ]
    }
   ],
   "source": [
    "abnormal = test_log[test_log['normal'] == False].copy()\n",
    "normal = test_log[test_log['normal'] == True].copy()\n",
    "\n",
    "abnormal['activity'] = abnormal['activity'].map(train_mapper)\n",
    "normal['activity'] = normal['activity'].map(train_mapper)\n",
    "\n",
    "print(normal)\n",
    "\n",
    "abnormal_grouped = groupTraces(abnormal)\n",
    "normal_grouped = groupTraces(normal)\n",
    "\n",
    "df_to_file(abnormal_grouped, f'romdata/test_abnormal')\n",
    "df_to_file(normal_grouped, f'romdata/test_normal')\n"
   ]
  },
  {
   "cell_type": "markdown",
   "metadata": {},
   "source": [
    "Finished making the dataset for logbert"
   ]
  },
  {
   "cell_type": "code",
   "execution_count": 10,
   "metadata": {},
   "outputs": [],
   "source": [
    "def process_test(test_log,categorify,cat_names='activity'):\n",
    "    o=PPObj(test_log,procs=categorify,cat_names=cat_names,y_names=cat_names,do_setup=False)\n",
    "    o.process() # map to the same categories as in the training set\n",
    "    return o\n",
    "\n",
    "\n",
    "def predict_next_step(o,m,ws=5):\n",
    "    wds,idx=partial(windows_fast,ws=ws)(o.xs, o.event_ids)\n",
    "    res=(m(LongTensor(wds).cuda()))\n",
    "    return res,idx\n",
    "\n",
    "\n",
    "def calc_anomaly_score(res,o,idx):\n",
    "    sm = nn.Softmax(dim=1)\n",
    "    y = o.items['activity'].iloc[idx].values\n",
    "    p = sm(res)\n",
    "    pred = p.max(1)[0]\n",
    "    truth = p[list(range(0, len(y))),y]\n",
    "    a_score = ((pred - truth) / pred).cpu().detach().numpy()\n",
    "    return a_score\n",
    "\n",
    "\n",
    "def get_anomalies(a_score,o,idx,threshhold=0.98):\n",
    "    df=pd.DataFrame(columns=['a_score'])\n",
    "    df['a_score'] = a_score\n",
    "    df['trace_id'] = o.items.iloc[idx]['trace_id'].values\n",
    "    df['normal'] = o.items.iloc[idx]['normal'].values\n",
    "    # print(df.head(50)) # THIS DF CONTAINS ALL THE ANOMALY SCORES\n",
    "\n",
    "    y_true = (df.loc[df.trace_id.drop_duplicates().index].normal==False).tolist()\n",
    "    cases = df.loc[df.trace_id.drop_duplicates().index].trace_id.tolist()\n",
    "    anomalies = set(list(df.loc[df['a_score'] > threshhold]['trace_id']))\n",
    "    y_pred=[case in anomalies for case in cases]\n",
    "    return y_pred, y_true"
   ]
  },
  {
   "cell_type": "code",
   "execution_count": 11,
   "metadata": {},
   "outputs": [],
   "source": [
    "o = process_test(test_log,categorify)\n",
    "nsp, idx = predict_next_step(o, m)\n",
    "\n",
    "# TODO: CHANGE THIS TO WORK WITH K PARAMETER\n",
    "anomaly_score = calc_anomaly_score(nsp, o, idx)\n",
    "y_pred, y_true = get_anomalies(anomaly_score,o,idx)"
   ]
  },
  {
   "cell_type": "code",
   "execution_count": 12,
   "metadata": {},
   "outputs": [
    {
     "name": "stdout",
     "output_type": "stream",
     "text": [
      "F1 score: 0.8462273161413563\n",
      "Accuracy score: 0.839\n",
      "Precision score: 0.7408026755852842\n",
      "Recall score: 0.9866369710467706\n"
     ]
    }
   ],
   "source": [
    "print(f'F1 score: {f1_score(y_true, y_pred)}')\n",
    "print(f'Accuracy score: {accuracy_score(y_true, y_pred)}')\n",
    "print(f'Precision score: {precision_score(y_true, y_pred)}')\n",
    "print(f'Recall score: {recall_score(y_true, y_pred)}')"
   ]
  }
 ],
 "metadata": {
  "kernelspec": {
   "display_name": "dapnn",
   "language": "python",
   "name": "python3"
  },
  "language_info": {
   "codemirror_mode": {
    "name": "ipython",
    "version": 3
   },
   "file_extension": ".py",
   "mimetype": "text/x-python",
   "name": "python",
   "nbconvert_exporter": "python",
   "pygments_lexer": "ipython3",
   "version": "3.9.18"
  }
 },
 "nbformat": 4,
 "nbformat_minor": 2
}
