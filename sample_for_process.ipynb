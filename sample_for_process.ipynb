{
 "cells": [
  {
   "cell_type": "code",
   "execution_count": 10,
   "metadata": {},
   "outputs": [],
   "source": [
    "from dapnn.imports import *\n",
    "from dapnn.data_processing import *\n",
    "import seaborn as sns\n",
    "import matplotlib.pyplot as plt\n",
    "import numpy as np\n",
    "import random\n",
    "import torch\n",
    "import pandas as pd\n",
    "import pm4py\n",
    "import tqdm\n",
    "\n",
    "import warnings\n",
    "warnings.filterwarnings(action='once')"
   ]
  },
  {
   "cell_type": "code",
   "execution_count": 5,
   "metadata": {},
   "outputs": [],
   "source": [
    "# Set the random seed for reproducible results\n",
    "def seed_everything(seed=42):\n",
    "    random.seed(seed)\n",
    "    os.environ['PYTHONHASHSEED'] = str(seed)\n",
    "    np.random.seed(seed)\n",
    "    torch.manual_seed(seed)\n",
    "\n",
    "seed_everything()"
   ]
  },
  {
   "cell_type": "code",
   "execution_count": 7,
   "metadata": {},
   "outputs": [],
   "source": [
    "def get_process_model(log, model_str):\n",
    "    if model_str == 'IM':\n",
    "        net, im, fm = pm4py.discover_petri_net_inductive(log)\n",
    "    elif model_str == 'alpha':\n",
    "        net, im, fm = pm4py.discover_petri_net_alpha(log)\n",
    "    elif model_str == 'heuristic':\n",
    "        net, im, fm = pm4py.discover_petri_net_heuristics(log)\n",
    "    return net, im, fm"
   ]
  },
  {
   "cell_type": "code",
   "execution_count": 6,
   "metadata": {},
   "outputs": [
    {
     "name": "stdout",
     "output_type": "stream",
     "text": [
      "['data/csv/PDC2020_training/pdc_2020_0000000.csv.gz', 'data/csv/PDC2020_training/pdc_2020_0000001.csv.gz', 'data/csv/PDC2020_training/pdc_2020_0000010.csv.gz', 'data/csv/PDC2020_training/pdc_2020_0000011.csv.gz', 'data/csv/PDC2020_training/pdc_2020_0000100.csv.gz', 'data/csv/PDC2020_training/pdc_2020_0000101.csv.gz', 'data/csv/PDC2020_training/pdc_2020_0000110.csv.gz', 'data/csv/PDC2020_training/pdc_2020_0000111.csv.gz', 'data/csv/PDC2020_training/pdc_2020_0001000.csv.gz', 'data/csv/PDC2020_training/pdc_2020_0001001.csv.gz', 'data/csv/PDC2020_training/pdc_2020_0001010.csv.gz', 'data/csv/PDC2020_training/pdc_2020_0001011.csv.gz', 'data/csv/PDC2020_training/pdc_2020_0001100.csv.gz', 'data/csv/PDC2020_training/pdc_2020_0001101.csv.gz', 'data/csv/PDC2020_training/pdc_2020_0001110.csv.gz', 'data/csv/PDC2020_training/pdc_2020_0001111.csv.gz', 'data/csv/PDC2020_training/pdc_2020_0010000.csv.gz', 'data/csv/PDC2020_training/pdc_2020_0010001.csv.gz', 'data/csv/PDC2020_training/pdc_2020_0010010.csv.gz', 'data/csv/PDC2020_training/pdc_2020_0010011.csv.gz', 'data/csv/PDC2020_training/pdc_2020_0010100.csv.gz', 'data/csv/PDC2020_training/pdc_2020_0010101.csv.gz', 'data/csv/PDC2020_training/pdc_2020_0010110.csv.gz', 'data/csv/PDC2020_training/pdc_2020_0010111.csv.gz', 'data/csv/PDC2020_training/pdc_2020_0011000.csv.gz', 'data/csv/PDC2020_training/pdc_2020_0011001.csv.gz', 'data/csv/PDC2020_training/pdc_2020_0011010.csv.gz', 'data/csv/PDC2020_training/pdc_2020_0011011.csv.gz', 'data/csv/PDC2020_training/pdc_2020_0011100.csv.gz', 'data/csv/PDC2020_training/pdc_2020_0011101.csv.gz', 'data/csv/PDC2020_training/pdc_2020_0011110.csv.gz', 'data/csv/PDC2020_training/pdc_2020_0011111.csv.gz', 'data/csv/PDC2020_training/pdc_2020_0100000.csv.gz', 'data/csv/PDC2020_training/pdc_2020_0100001.csv.gz', 'data/csv/PDC2020_training/pdc_2020_0100010.csv.gz', 'data/csv/PDC2020_training/pdc_2020_0100011.csv.gz', 'data/csv/PDC2020_training/pdc_2020_0100100.csv.gz', 'data/csv/PDC2020_training/pdc_2020_0100101.csv.gz', 'data/csv/PDC2020_training/pdc_2020_0100110.csv.gz', 'data/csv/PDC2020_training/pdc_2020_0100111.csv.gz', 'data/csv/PDC2020_training/pdc_2020_0101000.csv.gz', 'data/csv/PDC2020_training/pdc_2020_0101001.csv.gz', 'data/csv/PDC2020_training/pdc_2020_0101010.csv.gz', 'data/csv/PDC2020_training/pdc_2020_0101011.csv.gz', 'data/csv/PDC2020_training/pdc_2020_0101100.csv.gz', 'data/csv/PDC2020_training/pdc_2020_0101101.csv.gz', 'data/csv/PDC2020_training/pdc_2020_0101110.csv.gz', 'data/csv/PDC2020_training/pdc_2020_0101111.csv.gz', 'data/csv/PDC2020_training/pdc_2020_0110000.csv.gz', 'data/csv/PDC2020_training/pdc_2020_0110001.csv.gz', 'data/csv/PDC2020_training/pdc_2020_0110010.csv.gz', 'data/csv/PDC2020_training/pdc_2020_0110011.csv.gz', 'data/csv/PDC2020_training/pdc_2020_0110100.csv.gz', 'data/csv/PDC2020_training/pdc_2020_0110101.csv.gz', 'data/csv/PDC2020_training/pdc_2020_0110110.csv.gz', 'data/csv/PDC2020_training/pdc_2020_0110111.csv.gz', 'data/csv/PDC2020_training/pdc_2020_0111000.csv.gz', 'data/csv/PDC2020_training/pdc_2020_0111001.csv.gz', 'data/csv/PDC2020_training/pdc_2020_0111010.csv.gz', 'data/csv/PDC2020_training/pdc_2020_0111011.csv.gz', 'data/csv/PDC2020_training/pdc_2020_0111100.csv.gz', 'data/csv/PDC2020_training/pdc_2020_0111101.csv.gz', 'data/csv/PDC2020_training/pdc_2020_0111110.csv.gz', 'data/csv/PDC2020_training/pdc_2020_0111111.csv.gz', 'data/csv/PDC2020_training/pdc_2020_0200000.csv.gz', 'data/csv/PDC2020_training/pdc_2020_0200001.csv.gz', 'data/csv/PDC2020_training/pdc_2020_0200010.csv.gz', 'data/csv/PDC2020_training/pdc_2020_0200011.csv.gz', 'data/csv/PDC2020_training/pdc_2020_0200100.csv.gz', 'data/csv/PDC2020_training/pdc_2020_0200101.csv.gz', 'data/csv/PDC2020_training/pdc_2020_0200110.csv.gz', 'data/csv/PDC2020_training/pdc_2020_0200111.csv.gz', 'data/csv/PDC2020_training/pdc_2020_0201000.csv.gz', 'data/csv/PDC2020_training/pdc_2020_0201001.csv.gz', 'data/csv/PDC2020_training/pdc_2020_0201010.csv.gz', 'data/csv/PDC2020_training/pdc_2020_0201011.csv.gz', 'data/csv/PDC2020_training/pdc_2020_0201100.csv.gz', 'data/csv/PDC2020_training/pdc_2020_0201101.csv.gz', 'data/csv/PDC2020_training/pdc_2020_0201110.csv.gz', 'data/csv/PDC2020_training/pdc_2020_0201111.csv.gz', 'data/csv/PDC2020_training/pdc_2020_0210000.csv.gz', 'data/csv/PDC2020_training/pdc_2020_0210001.csv.gz', 'data/csv/PDC2020_training/pdc_2020_0210010.csv.gz', 'data/csv/PDC2020_training/pdc_2020_0210011.csv.gz', 'data/csv/PDC2020_training/pdc_2020_0210100.csv.gz', 'data/csv/PDC2020_training/pdc_2020_0210101.csv.gz', 'data/csv/PDC2020_training/pdc_2020_0210110.csv.gz', 'data/csv/PDC2020_training/pdc_2020_0210111.csv.gz', 'data/csv/PDC2020_training/pdc_2020_0211000.csv.gz', 'data/csv/PDC2020_training/pdc_2020_0211001.csv.gz', 'data/csv/PDC2020_training/pdc_2020_0211010.csv.gz', 'data/csv/PDC2020_training/pdc_2020_0211011.csv.gz', 'data/csv/PDC2020_training/pdc_2020_0211100.csv.gz', 'data/csv/PDC2020_training/pdc_2020_0211101.csv.gz', 'data/csv/PDC2020_training/pdc_2020_0211110.csv.gz', 'data/csv/PDC2020_training/pdc_2020_0211111.csv.gz', 'data/csv/PDC2020_training/pdc_2020_1000000.csv.gz', 'data/csv/PDC2020_training/pdc_2020_1000001.csv.gz', 'data/csv/PDC2020_training/pdc_2020_1000010.csv.gz', 'data/csv/PDC2020_training/pdc_2020_1000011.csv.gz', 'data/csv/PDC2020_training/pdc_2020_1000100.csv.gz', 'data/csv/PDC2020_training/pdc_2020_1000101.csv.gz', 'data/csv/PDC2020_training/pdc_2020_1000110.csv.gz', 'data/csv/PDC2020_training/pdc_2020_1000111.csv.gz', 'data/csv/PDC2020_training/pdc_2020_1001000.csv.gz', 'data/csv/PDC2020_training/pdc_2020_1001001.csv.gz', 'data/csv/PDC2020_training/pdc_2020_1001010.csv.gz', 'data/csv/PDC2020_training/pdc_2020_1001011.csv.gz', 'data/csv/PDC2020_training/pdc_2020_1001100.csv.gz', 'data/csv/PDC2020_training/pdc_2020_1001101.csv.gz', 'data/csv/PDC2020_training/pdc_2020_1001110.csv.gz', 'data/csv/PDC2020_training/pdc_2020_1001111.csv.gz', 'data/csv/PDC2020_training/pdc_2020_1010000.csv.gz', 'data/csv/PDC2020_training/pdc_2020_1010001.csv.gz', 'data/csv/PDC2020_training/pdc_2020_1010010.csv.gz', 'data/csv/PDC2020_training/pdc_2020_1010011.csv.gz', 'data/csv/PDC2020_training/pdc_2020_1010100.csv.gz', 'data/csv/PDC2020_training/pdc_2020_1010101.csv.gz', 'data/csv/PDC2020_training/pdc_2020_1010110.csv.gz', 'data/csv/PDC2020_training/pdc_2020_1010111.csv.gz', 'data/csv/PDC2020_training/pdc_2020_1011000.csv.gz', 'data/csv/PDC2020_training/pdc_2020_1011001.csv.gz', 'data/csv/PDC2020_training/pdc_2020_1011010.csv.gz', 'data/csv/PDC2020_training/pdc_2020_1011011.csv.gz', 'data/csv/PDC2020_training/pdc_2020_1011100.csv.gz', 'data/csv/PDC2020_training/pdc_2020_1011101.csv.gz', 'data/csv/PDC2020_training/pdc_2020_1011110.csv.gz', 'data/csv/PDC2020_training/pdc_2020_1011111.csv.gz', 'data/csv/PDC2020_training/pdc_2020_1100000.csv.gz', 'data/csv/PDC2020_training/pdc_2020_1100001.csv.gz', 'data/csv/PDC2020_training/pdc_2020_1100010.csv.gz', 'data/csv/PDC2020_training/pdc_2020_1100011.csv.gz', 'data/csv/PDC2020_training/pdc_2020_1100100.csv.gz', 'data/csv/PDC2020_training/pdc_2020_1100101.csv.gz', 'data/csv/PDC2020_training/pdc_2020_1100110.csv.gz', 'data/csv/PDC2020_training/pdc_2020_1100111.csv.gz', 'data/csv/PDC2020_training/pdc_2020_1101000.csv.gz', 'data/csv/PDC2020_training/pdc_2020_1101001.csv.gz', 'data/csv/PDC2020_training/pdc_2020_1101010.csv.gz', 'data/csv/PDC2020_training/pdc_2020_1101011.csv.gz', 'data/csv/PDC2020_training/pdc_2020_1101100.csv.gz', 'data/csv/PDC2020_training/pdc_2020_1101101.csv.gz', 'data/csv/PDC2020_training/pdc_2020_1101110.csv.gz', 'data/csv/PDC2020_training/pdc_2020_1101111.csv.gz', 'data/csv/PDC2020_training/pdc_2020_1110000.csv.gz', 'data/csv/PDC2020_training/pdc_2020_1110001.csv.gz', 'data/csv/PDC2020_training/pdc_2020_1110010.csv.gz', 'data/csv/PDC2020_training/pdc_2020_1110011.csv.gz', 'data/csv/PDC2020_training/pdc_2020_1110100.csv.gz', 'data/csv/PDC2020_training/pdc_2020_1110101.csv.gz', 'data/csv/PDC2020_training/pdc_2020_1110110.csv.gz', 'data/csv/PDC2020_training/pdc_2020_1110111.csv.gz', 'data/csv/PDC2020_training/pdc_2020_1111000.csv.gz', 'data/csv/PDC2020_training/pdc_2020_1111001.csv.gz', 'data/csv/PDC2020_training/pdc_2020_1111010.csv.gz', 'data/csv/PDC2020_training/pdc_2020_1111011.csv.gz', 'data/csv/PDC2020_training/pdc_2020_1111100.csv.gz', 'data/csv/PDC2020_training/pdc_2020_1111101.csv.gz', 'data/csv/PDC2020_training/pdc_2020_1111110.csv.gz', 'data/csv/PDC2020_training/pdc_2020_1111111.csv.gz', 'data/csv/PDC2020_training/pdc_2020_1200000.csv.gz', 'data/csv/PDC2020_training/pdc_2020_1200001.csv.gz', 'data/csv/PDC2020_training/pdc_2020_1200010.csv.gz', 'data/csv/PDC2020_training/pdc_2020_1200011.csv.gz', 'data/csv/PDC2020_training/pdc_2020_1200100.csv.gz', 'data/csv/PDC2020_training/pdc_2020_1200101.csv.gz', 'data/csv/PDC2020_training/pdc_2020_1200110.csv.gz', 'data/csv/PDC2020_training/pdc_2020_1200111.csv.gz', 'data/csv/PDC2020_training/pdc_2020_1201000.csv.gz', 'data/csv/PDC2020_training/pdc_2020_1201001.csv.gz', 'data/csv/PDC2020_training/pdc_2020_1201010.csv.gz', 'data/csv/PDC2020_training/pdc_2020_1201011.csv.gz', 'data/csv/PDC2020_training/pdc_2020_1201100.csv.gz', 'data/csv/PDC2020_training/pdc_2020_1201101.csv.gz', 'data/csv/PDC2020_training/pdc_2020_1201110.csv.gz', 'data/csv/PDC2020_training/pdc_2020_1201111.csv.gz', 'data/csv/PDC2020_training/pdc_2020_1210000.csv.gz', 'data/csv/PDC2020_training/pdc_2020_1210001.csv.gz', 'data/csv/PDC2020_training/pdc_2020_1210010.csv.gz', 'data/csv/PDC2020_training/pdc_2020_1210011.csv.gz', 'data/csv/PDC2020_training/pdc_2020_1210100.csv.gz', 'data/csv/PDC2020_training/pdc_2020_1210101.csv.gz', 'data/csv/PDC2020_training/pdc_2020_1210110.csv.gz', 'data/csv/PDC2020_training/pdc_2020_1210111.csv.gz', 'data/csv/PDC2020_training/pdc_2020_1211000.csv.gz', 'data/csv/PDC2020_training/pdc_2020_1211001.csv.gz', 'data/csv/PDC2020_training/pdc_2020_1211010.csv.gz', 'data/csv/PDC2020_training/pdc_2020_1211011.csv.gz', 'data/csv/PDC2020_training/pdc_2020_1211100.csv.gz', 'data/csv/PDC2020_training/pdc_2020_1211101.csv.gz', 'data/csv/PDC2020_training/pdc_2020_1211110.csv.gz', 'data/csv/PDC2020_training/pdc_2020_1211111.csv.gz']\n"
     ]
    }
   ],
   "source": [
    "log_path='data/csv/PDC2020_training/'\n",
    "log = import_log(log_path)\n",
    "\n",
    "num_traces = len(log['trace_id'].unique())\n",
    "ratio = 0.2\n",
    "traces_for_process_model = int(num_traces * ratio)"
   ]
  },
  {
   "cell_type": "code",
   "execution_count": 8,
   "metadata": {},
   "outputs": [
    {
     "name": "stdout",
     "output_type": "stream",
     "text": [
      "['data/csv/PDC2020_ground_truth/pdc_2020_0000000.csv.gz', 'data/csv/PDC2020_ground_truth/pdc_2020_0000001.csv.gz', 'data/csv/PDC2020_ground_truth/pdc_2020_0000010.csv.gz', 'data/csv/PDC2020_ground_truth/pdc_2020_0000011.csv.gz', 'data/csv/PDC2020_ground_truth/pdc_2020_0000100.csv.gz', 'data/csv/PDC2020_ground_truth/pdc_2020_0000101.csv.gz', 'data/csv/PDC2020_ground_truth/pdc_2020_0000110.csv.gz', 'data/csv/PDC2020_ground_truth/pdc_2020_0000111.csv.gz', 'data/csv/PDC2020_ground_truth/pdc_2020_0001000.csv.gz', 'data/csv/PDC2020_ground_truth/pdc_2020_0001001.csv.gz', 'data/csv/PDC2020_ground_truth/pdc_2020_0001010.csv.gz', 'data/csv/PDC2020_ground_truth/pdc_2020_0001011.csv.gz', 'data/csv/PDC2020_ground_truth/pdc_2020_0001100.csv.gz', 'data/csv/PDC2020_ground_truth/pdc_2020_0001101.csv.gz', 'data/csv/PDC2020_ground_truth/pdc_2020_0001110.csv.gz', 'data/csv/PDC2020_ground_truth/pdc_2020_0001111.csv.gz', 'data/csv/PDC2020_ground_truth/pdc_2020_0010000.csv.gz', 'data/csv/PDC2020_ground_truth/pdc_2020_0010001.csv.gz', 'data/csv/PDC2020_ground_truth/pdc_2020_0010010.csv.gz', 'data/csv/PDC2020_ground_truth/pdc_2020_0010011.csv.gz', 'data/csv/PDC2020_ground_truth/pdc_2020_0010100.csv.gz', 'data/csv/PDC2020_ground_truth/pdc_2020_0010101.csv.gz', 'data/csv/PDC2020_ground_truth/pdc_2020_0010110.csv.gz', 'data/csv/PDC2020_ground_truth/pdc_2020_0010111.csv.gz', 'data/csv/PDC2020_ground_truth/pdc_2020_0011000.csv.gz', 'data/csv/PDC2020_ground_truth/pdc_2020_0011001.csv.gz', 'data/csv/PDC2020_ground_truth/pdc_2020_0011010.csv.gz', 'data/csv/PDC2020_ground_truth/pdc_2020_0011011.csv.gz', 'data/csv/PDC2020_ground_truth/pdc_2020_0011100.csv.gz', 'data/csv/PDC2020_ground_truth/pdc_2020_0011101.csv.gz', 'data/csv/PDC2020_ground_truth/pdc_2020_0011110.csv.gz', 'data/csv/PDC2020_ground_truth/pdc_2020_0011111.csv.gz', 'data/csv/PDC2020_ground_truth/pdc_2020_0100000.csv.gz', 'data/csv/PDC2020_ground_truth/pdc_2020_0100001.csv.gz', 'data/csv/PDC2020_ground_truth/pdc_2020_0100010.csv.gz', 'data/csv/PDC2020_ground_truth/pdc_2020_0100011.csv.gz', 'data/csv/PDC2020_ground_truth/pdc_2020_0100100.csv.gz', 'data/csv/PDC2020_ground_truth/pdc_2020_0100101.csv.gz', 'data/csv/PDC2020_ground_truth/pdc_2020_0100110.csv.gz', 'data/csv/PDC2020_ground_truth/pdc_2020_0100111.csv.gz', 'data/csv/PDC2020_ground_truth/pdc_2020_0101000.csv.gz', 'data/csv/PDC2020_ground_truth/pdc_2020_0101001.csv.gz', 'data/csv/PDC2020_ground_truth/pdc_2020_0101010.csv.gz', 'data/csv/PDC2020_ground_truth/pdc_2020_0101011.csv.gz', 'data/csv/PDC2020_ground_truth/pdc_2020_0101100.csv.gz', 'data/csv/PDC2020_ground_truth/pdc_2020_0101101.csv.gz', 'data/csv/PDC2020_ground_truth/pdc_2020_0101110.csv.gz', 'data/csv/PDC2020_ground_truth/pdc_2020_0101111.csv.gz', 'data/csv/PDC2020_ground_truth/pdc_2020_0110000.csv.gz', 'data/csv/PDC2020_ground_truth/pdc_2020_0110001.csv.gz', 'data/csv/PDC2020_ground_truth/pdc_2020_0110010.csv.gz', 'data/csv/PDC2020_ground_truth/pdc_2020_0110011.csv.gz', 'data/csv/PDC2020_ground_truth/pdc_2020_0110100.csv.gz', 'data/csv/PDC2020_ground_truth/pdc_2020_0110101.csv.gz', 'data/csv/PDC2020_ground_truth/pdc_2020_0110110.csv.gz', 'data/csv/PDC2020_ground_truth/pdc_2020_0110111.csv.gz', 'data/csv/PDC2020_ground_truth/pdc_2020_0111000.csv.gz', 'data/csv/PDC2020_ground_truth/pdc_2020_0111001.csv.gz', 'data/csv/PDC2020_ground_truth/pdc_2020_0111010.csv.gz', 'data/csv/PDC2020_ground_truth/pdc_2020_0111011.csv.gz', 'data/csv/PDC2020_ground_truth/pdc_2020_0111100.csv.gz', 'data/csv/PDC2020_ground_truth/pdc_2020_0111101.csv.gz', 'data/csv/PDC2020_ground_truth/pdc_2020_0111110.csv.gz', 'data/csv/PDC2020_ground_truth/pdc_2020_0111111.csv.gz', 'data/csv/PDC2020_ground_truth/pdc_2020_0200000.csv.gz', 'data/csv/PDC2020_ground_truth/pdc_2020_0200001.csv.gz', 'data/csv/PDC2020_ground_truth/pdc_2020_0200010.csv.gz', 'data/csv/PDC2020_ground_truth/pdc_2020_0200011.csv.gz', 'data/csv/PDC2020_ground_truth/pdc_2020_0200100.csv.gz', 'data/csv/PDC2020_ground_truth/pdc_2020_0200101.csv.gz', 'data/csv/PDC2020_ground_truth/pdc_2020_0200110.csv.gz', 'data/csv/PDC2020_ground_truth/pdc_2020_0200111.csv.gz', 'data/csv/PDC2020_ground_truth/pdc_2020_0201000.csv.gz', 'data/csv/PDC2020_ground_truth/pdc_2020_0201001.csv.gz', 'data/csv/PDC2020_ground_truth/pdc_2020_0201010.csv.gz', 'data/csv/PDC2020_ground_truth/pdc_2020_0201011.csv.gz', 'data/csv/PDC2020_ground_truth/pdc_2020_0201100.csv.gz', 'data/csv/PDC2020_ground_truth/pdc_2020_0201101.csv.gz', 'data/csv/PDC2020_ground_truth/pdc_2020_0201110.csv.gz', 'data/csv/PDC2020_ground_truth/pdc_2020_0201111.csv.gz', 'data/csv/PDC2020_ground_truth/pdc_2020_0210000.csv.gz', 'data/csv/PDC2020_ground_truth/pdc_2020_0210001.csv.gz', 'data/csv/PDC2020_ground_truth/pdc_2020_0210010.csv.gz', 'data/csv/PDC2020_ground_truth/pdc_2020_0210011.csv.gz', 'data/csv/PDC2020_ground_truth/pdc_2020_0210100.csv.gz', 'data/csv/PDC2020_ground_truth/pdc_2020_0210101.csv.gz', 'data/csv/PDC2020_ground_truth/pdc_2020_0210110.csv.gz', 'data/csv/PDC2020_ground_truth/pdc_2020_0210111.csv.gz', 'data/csv/PDC2020_ground_truth/pdc_2020_0211000.csv.gz', 'data/csv/PDC2020_ground_truth/pdc_2020_0211001.csv.gz', 'data/csv/PDC2020_ground_truth/pdc_2020_0211010.csv.gz', 'data/csv/PDC2020_ground_truth/pdc_2020_0211011.csv.gz', 'data/csv/PDC2020_ground_truth/pdc_2020_0211100.csv.gz', 'data/csv/PDC2020_ground_truth/pdc_2020_0211101.csv.gz', 'data/csv/PDC2020_ground_truth/pdc_2020_0211110.csv.gz', 'data/csv/PDC2020_ground_truth/pdc_2020_0211111.csv.gz', 'data/csv/PDC2020_ground_truth/pdc_2020_1000000.csv.gz', 'data/csv/PDC2020_ground_truth/pdc_2020_1000001.csv.gz', 'data/csv/PDC2020_ground_truth/pdc_2020_1000010.csv.gz', 'data/csv/PDC2020_ground_truth/pdc_2020_1000011.csv.gz', 'data/csv/PDC2020_ground_truth/pdc_2020_1000100.csv.gz', 'data/csv/PDC2020_ground_truth/pdc_2020_1000101.csv.gz', 'data/csv/PDC2020_ground_truth/pdc_2020_1000110.csv.gz', 'data/csv/PDC2020_ground_truth/pdc_2020_1000111.csv.gz', 'data/csv/PDC2020_ground_truth/pdc_2020_1001000.csv.gz', 'data/csv/PDC2020_ground_truth/pdc_2020_1001001.csv.gz', 'data/csv/PDC2020_ground_truth/pdc_2020_1001010.csv.gz', 'data/csv/PDC2020_ground_truth/pdc_2020_1001011.csv.gz', 'data/csv/PDC2020_ground_truth/pdc_2020_1001100.csv.gz', 'data/csv/PDC2020_ground_truth/pdc_2020_1001101.csv.gz', 'data/csv/PDC2020_ground_truth/pdc_2020_1001110.csv.gz', 'data/csv/PDC2020_ground_truth/pdc_2020_1001111.csv.gz', 'data/csv/PDC2020_ground_truth/pdc_2020_1010000.csv.gz', 'data/csv/PDC2020_ground_truth/pdc_2020_1010001.csv.gz', 'data/csv/PDC2020_ground_truth/pdc_2020_1010010.csv.gz', 'data/csv/PDC2020_ground_truth/pdc_2020_1010011.csv.gz', 'data/csv/PDC2020_ground_truth/pdc_2020_1010100.csv.gz', 'data/csv/PDC2020_ground_truth/pdc_2020_1010101.csv.gz', 'data/csv/PDC2020_ground_truth/pdc_2020_1010110.csv.gz', 'data/csv/PDC2020_ground_truth/pdc_2020_1010111.csv.gz', 'data/csv/PDC2020_ground_truth/pdc_2020_1011000.csv.gz', 'data/csv/PDC2020_ground_truth/pdc_2020_1011001.csv.gz', 'data/csv/PDC2020_ground_truth/pdc_2020_1011010.csv.gz', 'data/csv/PDC2020_ground_truth/pdc_2020_1011011.csv.gz', 'data/csv/PDC2020_ground_truth/pdc_2020_1011100.csv.gz', 'data/csv/PDC2020_ground_truth/pdc_2020_1011101.csv.gz', 'data/csv/PDC2020_ground_truth/pdc_2020_1011110.csv.gz', 'data/csv/PDC2020_ground_truth/pdc_2020_1011111.csv.gz', 'data/csv/PDC2020_ground_truth/pdc_2020_1100000.csv.gz', 'data/csv/PDC2020_ground_truth/pdc_2020_1100001.csv.gz', 'data/csv/PDC2020_ground_truth/pdc_2020_1100010.csv.gz', 'data/csv/PDC2020_ground_truth/pdc_2020_1100011.csv.gz', 'data/csv/PDC2020_ground_truth/pdc_2020_1100100.csv.gz', 'data/csv/PDC2020_ground_truth/pdc_2020_1100101.csv.gz', 'data/csv/PDC2020_ground_truth/pdc_2020_1100110.csv.gz', 'data/csv/PDC2020_ground_truth/pdc_2020_1100111.csv.gz', 'data/csv/PDC2020_ground_truth/pdc_2020_1101000.csv.gz', 'data/csv/PDC2020_ground_truth/pdc_2020_1101001.csv.gz', 'data/csv/PDC2020_ground_truth/pdc_2020_1101010.csv.gz', 'data/csv/PDC2020_ground_truth/pdc_2020_1101011.csv.gz', 'data/csv/PDC2020_ground_truth/pdc_2020_1101100.csv.gz', 'data/csv/PDC2020_ground_truth/pdc_2020_1101101.csv.gz', 'data/csv/PDC2020_ground_truth/pdc_2020_1101110.csv.gz', 'data/csv/PDC2020_ground_truth/pdc_2020_1101111.csv.gz', 'data/csv/PDC2020_ground_truth/pdc_2020_1110000.csv.gz', 'data/csv/PDC2020_ground_truth/pdc_2020_1110001.csv.gz', 'data/csv/PDC2020_ground_truth/pdc_2020_1110010.csv.gz', 'data/csv/PDC2020_ground_truth/pdc_2020_1110011.csv.gz', 'data/csv/PDC2020_ground_truth/pdc_2020_1110100.csv.gz', 'data/csv/PDC2020_ground_truth/pdc_2020_1110101.csv.gz', 'data/csv/PDC2020_ground_truth/pdc_2020_1110110.csv.gz', 'data/csv/PDC2020_ground_truth/pdc_2020_1110111.csv.gz', 'data/csv/PDC2020_ground_truth/pdc_2020_1111000.csv.gz', 'data/csv/PDC2020_ground_truth/pdc_2020_1111001.csv.gz', 'data/csv/PDC2020_ground_truth/pdc_2020_1111010.csv.gz', 'data/csv/PDC2020_ground_truth/pdc_2020_1111011.csv.gz', 'data/csv/PDC2020_ground_truth/pdc_2020_1111100.csv.gz', 'data/csv/PDC2020_ground_truth/pdc_2020_1111101.csv.gz', 'data/csv/PDC2020_ground_truth/pdc_2020_1111110.csv.gz', 'data/csv/PDC2020_ground_truth/pdc_2020_1111111.csv.gz', 'data/csv/PDC2020_ground_truth/pdc_2020_1200000.csv.gz', 'data/csv/PDC2020_ground_truth/pdc_2020_1200001.csv.gz', 'data/csv/PDC2020_ground_truth/pdc_2020_1200010.csv.gz', 'data/csv/PDC2020_ground_truth/pdc_2020_1200011.csv.gz', 'data/csv/PDC2020_ground_truth/pdc_2020_1200100.csv.gz', 'data/csv/PDC2020_ground_truth/pdc_2020_1200101.csv.gz', 'data/csv/PDC2020_ground_truth/pdc_2020_1200110.csv.gz', 'data/csv/PDC2020_ground_truth/pdc_2020_1200111.csv.gz', 'data/csv/PDC2020_ground_truth/pdc_2020_1201000.csv.gz', 'data/csv/PDC2020_ground_truth/pdc_2020_1201001.csv.gz', 'data/csv/PDC2020_ground_truth/pdc_2020_1201010.csv.gz', 'data/csv/PDC2020_ground_truth/pdc_2020_1201011.csv.gz', 'data/csv/PDC2020_ground_truth/pdc_2020_1201100.csv.gz', 'data/csv/PDC2020_ground_truth/pdc_2020_1201101.csv.gz', 'data/csv/PDC2020_ground_truth/pdc_2020_1201110.csv.gz', 'data/csv/PDC2020_ground_truth/pdc_2020_1201111.csv.gz', 'data/csv/PDC2020_ground_truth/pdc_2020_1210000.csv.gz', 'data/csv/PDC2020_ground_truth/pdc_2020_1210001.csv.gz', 'data/csv/PDC2020_ground_truth/pdc_2020_1210010.csv.gz', 'data/csv/PDC2020_ground_truth/pdc_2020_1210011.csv.gz', 'data/csv/PDC2020_ground_truth/pdc_2020_1210100.csv.gz', 'data/csv/PDC2020_ground_truth/pdc_2020_1210101.csv.gz', 'data/csv/PDC2020_ground_truth/pdc_2020_1210110.csv.gz', 'data/csv/PDC2020_ground_truth/pdc_2020_1210111.csv.gz', 'data/csv/PDC2020_ground_truth/pdc_2020_1211000.csv.gz', 'data/csv/PDC2020_ground_truth/pdc_2020_1211001.csv.gz', 'data/csv/PDC2020_ground_truth/pdc_2020_1211010.csv.gz', 'data/csv/PDC2020_ground_truth/pdc_2020_1211011.csv.gz', 'data/csv/PDC2020_ground_truth/pdc_2020_1211100.csv.gz', 'data/csv/PDC2020_ground_truth/pdc_2020_1211101.csv.gz', 'data/csv/PDC2020_ground_truth/pdc_2020_1211110.csv.gz', 'data/csv/PDC2020_ground_truth/pdc_2020_1211111.csv.gz']\n"
     ]
    },
    {
     "name": "stderr",
     "output_type": "stream",
     "text": [
      "/lv_local/home/romh/PROGS/anaconda3/envs/dapnn/lib/python3.9/site-packages/pm4py/objects/log/util/dataframe_utils.py:180: UserWarning: Could not infer format, so each element will be parsed individually, falling back to `dateutil`. To ensure parsing is consistent and as-expected, please specify a format.\n",
      "  df[col] = pd.to_datetime(df[col], utc=True)\n",
      "/lv_local/home/romh/PROGS/anaconda3/envs/dapnn/lib/python3.9/site-packages/pm4py/objects/log/util/dataframe_utils.py:180: UserWarning: Could not infer format, so each element will be parsed individually, falling back to `dateutil`. To ensure parsing is consistent and as-expected, please specify a format.\n",
      "  df[col] = pd.to_datetime(df[col], utc=True)\n",
      "/lv_local/home/romh/PROGS/anaconda3/envs/dapnn/lib/python3.9/site-packages/pm4py/objects/log/util/dataframe_utils.py:180: UserWarning: Could not infer format, so each element will be parsed individually, falling back to `dateutil`. To ensure parsing is consistent and as-expected, please specify a format.\n",
      "  df[col] = pd.to_datetime(df[col], utc=True)\n",
      "/lv_local/home/romh/PROGS/anaconda3/envs/dapnn/lib/python3.9/site-packages/pm4py/objects/log/util/dataframe_utils.py:180: UserWarning: Could not infer format, so each element will be parsed individually, falling back to `dateutil`. To ensure parsing is consistent and as-expected, please specify a format.\n",
      "  df[col] = pd.to_datetime(df[col], utc=True)\n",
      "/lv_local/home/romh/PROGS/anaconda3/envs/dapnn/lib/python3.9/site-packages/pm4py/utils.py:537: UserWarning: the EventLog class has been deprecated and will be removed in a future release.\n",
      "  warnings.warn(\"the EventLog class has been deprecated and will be removed in a future release.\")\n"
     ]
    }
   ],
   "source": [
    "test_path = 'data/csv/PDC2020_ground_truth/'\n",
    "test_log = import_log(test_path)\n",
    "\n",
    "df = test_log.copy()\n",
    "df = df[['trace_id', 'normal']]\n",
    "df = df.drop_duplicates()\n",
    "\n",
    "test_log = pm4py.format_dataframe(test_log, case_id='trace_id', activity_key='activity', timestamp_key='event_id')\n",
    "test_log = pm4py.convert_to_event_log(test_log)"
   ]
  },
  {
   "cell_type": "code",
   "execution_count": 16,
   "metadata": {},
   "outputs": [],
   "source": [
    "from tqdm.notebook import tqdm_notebook"
   ]
  },
  {
   "cell_type": "code",
   "execution_count": 38,
   "metadata": {},
   "outputs": [],
   "source": [
    "def calc_precision(df, col='combined'):\n",
    "    tp = df[(df[col] == True) & (df['y_true'] == True)].shape[0]\n",
    "    fp = df[(df[col] == True) & (df['y_true'] == False)].shape[0]\n",
    "    return tp / (tp + fp) if tp + fp > 0 else 0\n",
    "\n",
    "def calc_recall(df, col='combined'):\n",
    "    tp = df[(df[col] == True) & (df['y_true'] == True)].shape[0]\n",
    "    fn = df[(df[col] == False) & (df['y_true'] == True)].shape[0]\n",
    "    return tp / (tp + fn) if tp + fn > 0 else 0\n",
    "\n",
    "def calc_f1(r, p):\n",
    "    return 2 * ((p * r) / (p + r)) if p + r > 0 else 0"
   ]
  },
  {
   "cell_type": "code",
   "execution_count": 27,
   "metadata": {},
   "outputs": [],
   "source": [
    "def calc_preformance(nn_model, process_model, rule=1):\n",
    "    merged_df = nn_model.copy()\n",
    "    merged_df.columns = ['nn_y_pred', 'y_true']\n",
    "    merged_df['process_y_pred'] = process_model['y_pred']\n",
    "    print('=' * 20)\n",
    "    if rule == 0:\n",
    "        print('Only using process model')\n",
    "        rule = 'Only Process'\n",
    "        merged_df['combined'] = merged_df['process_y_pred']\n",
    "    elif rule == 1:\n",
    "        print('Using OR rule')\n",
    "        rule = 'OR'\n",
    "        merged_df['combined'] = merged_df['nn_y_pred'] | merged_df['process_y_pred']\n",
    "    elif rule == 2:\n",
    "        print('Using AND rule')\n",
    "        rule = 'AND'\n",
    "        merged_df['combined'] = merged_df['nn_y_pred'] & merged_df['process_y_pred']\n",
    "    elif rule == 3:\n",
    "        print('Using XOR rule')\n",
    "        rule = 'XOR'\n",
    "        merged_df['combined'] = merged_df['nn_y_pred'] ^ merged_df['process_y_pred']\n",
    "    else:\n",
    "        raise ValueError('rule must be 1, 2, or 3')\n",
    "\n",
    "    p = calc_precision(merged_df)\n",
    "    r = calc_recall(merged_df)\n",
    "    f1 = calc_f1(r, p)\n",
    "\n",
    "    dict_measures = {'rule': rule, 'recall': r,'precision': p, 'f1': f1}\n",
    "    \n",
    "    return dict_measures"
   ]
  },
  {
   "cell_type": "code",
   "execution_count": 31,
   "metadata": {},
   "outputs": [],
   "source": [
    "def replay_log_measures(log, net, im, fm ,df, dapnn):\n",
    "    replayed_log = pm4py.conformance_diagnostics_token_based_replay(log, net, im, fm)\n",
    "    predicted = dict()\n",
    "    for i, trace in enumerate(replayed_log):\n",
    "        predicted[f'trace {i+1}'] = not trace['trace_is_fit'] # the trace is anomalous if it is not fit\n",
    "    predicted = pd.DataFrame.from_dict(predicted, orient='index', columns=['predicted'])\n",
    "    predicted.index.name = 'trace_id'\n",
    "    predicted = predicted.join(df, on='trace_id')[['predicted', 'normal']]\n",
    "    predicted['normal'].replace({True: False, False: True}, inplace=True)\n",
    "    predicted.columns = ['y_pred', 'y_true']\n",
    "    \n",
    "    list_dicts = []\n",
    "    for rule in range(4):\n",
    "        dict_measures = calc_preformance(dapnn, predicted, rule=rule)\n",
    "        list_dicts.append(dict_measures)\n",
    "       \n",
    "    return list_dicts"
   ]
  },
  {
   "cell_type": "code",
   "execution_count": 32,
   "metadata": {},
   "outputs": [],
   "source": [
    "def sample_processes(model_str, log, traces_for_process_model, test_log, dapnn, iterations=10):\n",
    "    big_list = []\n",
    "\n",
    "    for i in tqdm_notebook(range(iterations), desc=f'Running {iterations} iterations'):\n",
    "        sampled_traces = random.sample(list(log['trace_id'].unique()), traces_for_process_model)\n",
    "        \n",
    "        sampled_log = log[log['trace_id'].isin(sampled_traces)].copy()\n",
    "        sampled_log = pm4py.format_dataframe(sampled_log, case_id='trace_id', activity_key='activity', timestamp_key='event_id')\n",
    "        sampled_log = pm4py.convert_to_event_log(sampled_log)\n",
    "\n",
    "        net, im, fm = get_process_model(sampled_log, model_str)\n",
    "        list_dicts = replay_log_measures(test_log, net, im, fm, df, dapnn)\n",
    "        big_list.extend(list_dicts)\n",
    "        \n",
    "        del net, im, fm, sampled_traces, sampled_log\n",
    "    \n",
    "    return big_list"
   ]
  },
  {
   "cell_type": "code",
   "execution_count": 43,
   "metadata": {},
   "outputs": [],
   "source": [
    "dapnn = pd.read_csv('all_model/dapnn_y_pred_y_true.csv')"
   ]
  },
  {
   "cell_type": "code",
   "execution_count": 39,
   "metadata": {},
   "outputs": [
    {
     "name": "stderr",
     "output_type": "stream",
     "text": [
      "/lv_local/home/romh/PROGS/anaconda3/envs/dapnn/lib/python3.9/site-packages/ipywidgets/widgets/widget.py:528: DeprecationWarning: The `ipykernel.comm.Comm` class has been deprecated. Please use the `comm` module instead.For creating comms, use the function `from comm import create_comm`.\n",
      "  self.comm = Comm(**args)\n"
     ]
    },
    {
     "data": {
      "application/vnd.jupyter.widget-view+json": {
       "model_id": "7c49b2808dbe40bd809163d5faf98ea7",
       "version_major": 2,
       "version_minor": 0
      },
      "text/plain": [
       "Running 10 iterations:   0%|          | 0/10 [00:00<?, ?it/s]"
      ]
     },
     "metadata": {},
     "output_type": "display_data"
    },
    {
     "name": "stderr",
     "output_type": "stream",
     "text": [
      "/lv_local/home/romh/PROGS/anaconda3/envs/dapnn/lib/python3.9/site-packages/pm4py/objects/log/util/dataframe_utils.py:180: UserWarning: Could not infer format, so each element will be parsed individually, falling back to `dateutil`. To ensure parsing is consistent and as-expected, please specify a format.\n",
      "  df[col] = pd.to_datetime(df[col], utc=True)\n",
      "/lv_local/home/romh/PROGS/anaconda3/envs/dapnn/lib/python3.9/site-packages/pm4py/objects/log/util/dataframe_utils.py:180: UserWarning: Could not infer format, so each element will be parsed individually, falling back to `dateutil`. To ensure parsing is consistent and as-expected, please specify a format.\n",
      "  df[col] = pd.to_datetime(df[col], utc=True)\n",
      "/lv_local/home/romh/PROGS/anaconda3/envs/dapnn/lib/python3.9/site-packages/pm4py/objects/log/util/dataframe_utils.py:180: UserWarning: Could not infer format, so each element will be parsed individually, falling back to `dateutil`. To ensure parsing is consistent and as-expected, please specify a format.\n",
      "  df[col] = pd.to_datetime(df[col], utc=True)\n",
      "/lv_local/home/romh/PROGS/anaconda3/envs/dapnn/lib/python3.9/site-packages/pm4py/objects/log/util/dataframe_utils.py:180: UserWarning: Could not infer format, so each element will be parsed individually, falling back to `dateutil`. To ensure parsing is consistent and as-expected, please specify a format.\n",
      "  df[col] = pd.to_datetime(df[col], utc=True)\n",
      "/lv_local/home/romh/PROGS/anaconda3/envs/dapnn/lib/python3.9/site-packages/pm4py/utils.py:537: UserWarning: the EventLog class has been deprecated and will be removed in a future release.\n",
      "  warnings.warn(\"the EventLog class has been deprecated and will be removed in a future release.\")\n",
      "/lv_local/home/romh/PROGS/anaconda3/envs/dapnn/lib/python3.9/site-packages/ipywidgets/widgets/widget.py:528: DeprecationWarning: The `ipykernel.comm.Comm` class has been deprecated. Please use the `comm` module instead.For creating comms, use the function `from comm import create_comm`.\n",
      "  self.comm = Comm(**args)\n"
     ]
    },
    {
     "data": {
      "application/vnd.jupyter.widget-view+json": {
       "model_id": "982c410f76864b54bd7774e99e5dd3c1",
       "version_major": 2,
       "version_minor": 0
      },
      "text/plain": [
       "replaying log with TBR, completed variants ::   0%|          | 0/78736 [00:00<?, ?it/s]"
      ]
     },
     "metadata": {},
     "output_type": "display_data"
    },
    {
     "name": "stdout",
     "output_type": "stream",
     "text": [
      "====================\n",
      "Only using process model\n",
      "====================\n",
      "Using OR rule\n",
      "====================\n",
      "Using AND rule\n",
      "====================\n",
      "Using XOR rule\n"
     ]
    },
    {
     "name": "stderr",
     "output_type": "stream",
     "text": [
      "/lv_local/home/romh/PROGS/anaconda3/envs/dapnn/lib/python3.9/site-packages/pm4py/objects/log/util/dataframe_utils.py:180: UserWarning: Could not infer format, so each element will be parsed individually, falling back to `dateutil`. To ensure parsing is consistent and as-expected, please specify a format.\n",
      "  df[col] = pd.to_datetime(df[col], utc=True)\n",
      "/lv_local/home/romh/PROGS/anaconda3/envs/dapnn/lib/python3.9/site-packages/pm4py/objects/log/util/dataframe_utils.py:180: UserWarning: Could not infer format, so each element will be parsed individually, falling back to `dateutil`. To ensure parsing is consistent and as-expected, please specify a format.\n",
      "  df[col] = pd.to_datetime(df[col], utc=True)\n",
      "/lv_local/home/romh/PROGS/anaconda3/envs/dapnn/lib/python3.9/site-packages/pm4py/objects/log/util/dataframe_utils.py:180: UserWarning: Could not infer format, so each element will be parsed individually, falling back to `dateutil`. To ensure parsing is consistent and as-expected, please specify a format.\n",
      "  df[col] = pd.to_datetime(df[col], utc=True)\n",
      "/lv_local/home/romh/PROGS/anaconda3/envs/dapnn/lib/python3.9/site-packages/pm4py/objects/log/util/dataframe_utils.py:180: UserWarning: Could not infer format, so each element will be parsed individually, falling back to `dateutil`. To ensure parsing is consistent and as-expected, please specify a format.\n",
      "  df[col] = pd.to_datetime(df[col], utc=True)\n",
      "/lv_local/home/romh/PROGS/anaconda3/envs/dapnn/lib/python3.9/site-packages/pm4py/utils.py:537: UserWarning: the EventLog class has been deprecated and will be removed in a future release.\n",
      "  warnings.warn(\"the EventLog class has been deprecated and will be removed in a future release.\")\n",
      "/lv_local/home/romh/PROGS/anaconda3/envs/dapnn/lib/python3.9/site-packages/ipywidgets/widgets/widget.py:528: DeprecationWarning: The `ipykernel.comm.Comm` class has been deprecated. Please use the `comm` module instead.For creating comms, use the function `from comm import create_comm`.\n",
      "  self.comm = Comm(**args)\n"
     ]
    },
    {
     "data": {
      "application/vnd.jupyter.widget-view+json": {
       "model_id": "33beeb389d7a4a6382d70c896bbac4ca",
       "version_major": 2,
       "version_minor": 0
      },
      "text/plain": [
       "replaying log with TBR, completed variants ::   0%|          | 0/78736 [00:00<?, ?it/s]"
      ]
     },
     "metadata": {},
     "output_type": "display_data"
    },
    {
     "name": "stdout",
     "output_type": "stream",
     "text": [
      "====================\n",
      "Only using process model\n",
      "====================\n",
      "Using OR rule\n",
      "====================\n",
      "Using AND rule\n",
      "====================\n",
      "Using XOR rule\n"
     ]
    },
    {
     "name": "stderr",
     "output_type": "stream",
     "text": [
      "/lv_local/home/romh/PROGS/anaconda3/envs/dapnn/lib/python3.9/site-packages/pm4py/objects/log/util/dataframe_utils.py:180: UserWarning: Could not infer format, so each element will be parsed individually, falling back to `dateutil`. To ensure parsing is consistent and as-expected, please specify a format.\n",
      "  df[col] = pd.to_datetime(df[col], utc=True)\n",
      "/lv_local/home/romh/PROGS/anaconda3/envs/dapnn/lib/python3.9/site-packages/pm4py/objects/log/util/dataframe_utils.py:180: UserWarning: Could not infer format, so each element will be parsed individually, falling back to `dateutil`. To ensure parsing is consistent and as-expected, please specify a format.\n",
      "  df[col] = pd.to_datetime(df[col], utc=True)\n",
      "/lv_local/home/romh/PROGS/anaconda3/envs/dapnn/lib/python3.9/site-packages/pm4py/objects/log/util/dataframe_utils.py:180: UserWarning: Could not infer format, so each element will be parsed individually, falling back to `dateutil`. To ensure parsing is consistent and as-expected, please specify a format.\n",
      "  df[col] = pd.to_datetime(df[col], utc=True)\n",
      "/lv_local/home/romh/PROGS/anaconda3/envs/dapnn/lib/python3.9/site-packages/pm4py/objects/log/util/dataframe_utils.py:180: UserWarning: Could not infer format, so each element will be parsed individually, falling back to `dateutil`. To ensure parsing is consistent and as-expected, please specify a format.\n",
      "  df[col] = pd.to_datetime(df[col], utc=True)\n",
      "/lv_local/home/romh/PROGS/anaconda3/envs/dapnn/lib/python3.9/site-packages/pm4py/utils.py:537: UserWarning: the EventLog class has been deprecated and will be removed in a future release.\n",
      "  warnings.warn(\"the EventLog class has been deprecated and will be removed in a future release.\")\n",
      "/lv_local/home/romh/PROGS/anaconda3/envs/dapnn/lib/python3.9/site-packages/ipywidgets/widgets/widget.py:528: DeprecationWarning: The `ipykernel.comm.Comm` class has been deprecated. Please use the `comm` module instead.For creating comms, use the function `from comm import create_comm`.\n",
      "  self.comm = Comm(**args)\n"
     ]
    },
    {
     "data": {
      "application/vnd.jupyter.widget-view+json": {
       "model_id": "3f7d0657dc764859b48ce22f087c9d7b",
       "version_major": 2,
       "version_minor": 0
      },
      "text/plain": [
       "replaying log with TBR, completed variants ::   0%|          | 0/78736 [00:00<?, ?it/s]"
      ]
     },
     "metadata": {},
     "output_type": "display_data"
    },
    {
     "name": "stdout",
     "output_type": "stream",
     "text": [
      "====================\n",
      "Only using process model\n",
      "====================\n",
      "Using OR rule\n",
      "====================\n",
      "Using AND rule\n",
      "====================\n",
      "Using XOR rule\n"
     ]
    },
    {
     "name": "stderr",
     "output_type": "stream",
     "text": [
      "/lv_local/home/romh/PROGS/anaconda3/envs/dapnn/lib/python3.9/site-packages/pm4py/objects/log/util/dataframe_utils.py:180: UserWarning: Could not infer format, so each element will be parsed individually, falling back to `dateutil`. To ensure parsing is consistent and as-expected, please specify a format.\n",
      "  df[col] = pd.to_datetime(df[col], utc=True)\n",
      "/lv_local/home/romh/PROGS/anaconda3/envs/dapnn/lib/python3.9/site-packages/pm4py/objects/log/util/dataframe_utils.py:180: UserWarning: Could not infer format, so each element will be parsed individually, falling back to `dateutil`. To ensure parsing is consistent and as-expected, please specify a format.\n",
      "  df[col] = pd.to_datetime(df[col], utc=True)\n",
      "/lv_local/home/romh/PROGS/anaconda3/envs/dapnn/lib/python3.9/site-packages/pm4py/objects/log/util/dataframe_utils.py:180: UserWarning: Could not infer format, so each element will be parsed individually, falling back to `dateutil`. To ensure parsing is consistent and as-expected, please specify a format.\n",
      "  df[col] = pd.to_datetime(df[col], utc=True)\n",
      "/lv_local/home/romh/PROGS/anaconda3/envs/dapnn/lib/python3.9/site-packages/pm4py/objects/log/util/dataframe_utils.py:180: UserWarning: Could not infer format, so each element will be parsed individually, falling back to `dateutil`. To ensure parsing is consistent and as-expected, please specify a format.\n",
      "  df[col] = pd.to_datetime(df[col], utc=True)\n",
      "/lv_local/home/romh/PROGS/anaconda3/envs/dapnn/lib/python3.9/site-packages/pm4py/utils.py:537: UserWarning: the EventLog class has been deprecated and will be removed in a future release.\n",
      "  warnings.warn(\"the EventLog class has been deprecated and will be removed in a future release.\")\n",
      "/lv_local/home/romh/PROGS/anaconda3/envs/dapnn/lib/python3.9/site-packages/ipywidgets/widgets/widget.py:528: DeprecationWarning: The `ipykernel.comm.Comm` class has been deprecated. Please use the `comm` module instead.For creating comms, use the function `from comm import create_comm`.\n",
      "  self.comm = Comm(**args)\n"
     ]
    },
    {
     "data": {
      "application/vnd.jupyter.widget-view+json": {
       "model_id": "1668a29b0a2a46f295ab7be73c8e72c0",
       "version_major": 2,
       "version_minor": 0
      },
      "text/plain": [
       "replaying log with TBR, completed variants ::   0%|          | 0/78736 [00:00<?, ?it/s]"
      ]
     },
     "metadata": {},
     "output_type": "display_data"
    },
    {
     "name": "stdout",
     "output_type": "stream",
     "text": [
      "====================\n",
      "Only using process model\n",
      "====================\n",
      "Using OR rule\n",
      "====================\n",
      "Using AND rule\n",
      "====================\n",
      "Using XOR rule\n"
     ]
    },
    {
     "name": "stderr",
     "output_type": "stream",
     "text": [
      "/lv_local/home/romh/PROGS/anaconda3/envs/dapnn/lib/python3.9/site-packages/pm4py/objects/log/util/dataframe_utils.py:180: UserWarning: Could not infer format, so each element will be parsed individually, falling back to `dateutil`. To ensure parsing is consistent and as-expected, please specify a format.\n",
      "  df[col] = pd.to_datetime(df[col], utc=True)\n",
      "/lv_local/home/romh/PROGS/anaconda3/envs/dapnn/lib/python3.9/site-packages/pm4py/objects/log/util/dataframe_utils.py:180: UserWarning: Could not infer format, so each element will be parsed individually, falling back to `dateutil`. To ensure parsing is consistent and as-expected, please specify a format.\n",
      "  df[col] = pd.to_datetime(df[col], utc=True)\n",
      "/lv_local/home/romh/PROGS/anaconda3/envs/dapnn/lib/python3.9/site-packages/pm4py/objects/log/util/dataframe_utils.py:180: UserWarning: Could not infer format, so each element will be parsed individually, falling back to `dateutil`. To ensure parsing is consistent and as-expected, please specify a format.\n",
      "  df[col] = pd.to_datetime(df[col], utc=True)\n",
      "/lv_local/home/romh/PROGS/anaconda3/envs/dapnn/lib/python3.9/site-packages/pm4py/objects/log/util/dataframe_utils.py:180: UserWarning: Could not infer format, so each element will be parsed individually, falling back to `dateutil`. To ensure parsing is consistent and as-expected, please specify a format.\n",
      "  df[col] = pd.to_datetime(df[col], utc=True)\n",
      "/lv_local/home/romh/PROGS/anaconda3/envs/dapnn/lib/python3.9/site-packages/pm4py/utils.py:537: UserWarning: the EventLog class has been deprecated and will be removed in a future release.\n",
      "  warnings.warn(\"the EventLog class has been deprecated and will be removed in a future release.\")\n",
      "/lv_local/home/romh/PROGS/anaconda3/envs/dapnn/lib/python3.9/site-packages/ipywidgets/widgets/widget.py:528: DeprecationWarning: The `ipykernel.comm.Comm` class has been deprecated. Please use the `comm` module instead.For creating comms, use the function `from comm import create_comm`.\n",
      "  self.comm = Comm(**args)\n"
     ]
    },
    {
     "data": {
      "application/vnd.jupyter.widget-view+json": {
       "model_id": "43e29a28fd52497fb009ec6c2ed72aa3",
       "version_major": 2,
       "version_minor": 0
      },
      "text/plain": [
       "replaying log with TBR, completed variants ::   0%|          | 0/78736 [00:00<?, ?it/s]"
      ]
     },
     "metadata": {},
     "output_type": "display_data"
    },
    {
     "name": "stdout",
     "output_type": "stream",
     "text": [
      "====================\n",
      "Only using process model\n",
      "====================\n",
      "Using OR rule\n",
      "====================\n",
      "Using AND rule\n",
      "====================\n",
      "Using XOR rule\n"
     ]
    },
    {
     "name": "stderr",
     "output_type": "stream",
     "text": [
      "/lv_local/home/romh/PROGS/anaconda3/envs/dapnn/lib/python3.9/site-packages/pm4py/objects/log/util/dataframe_utils.py:180: UserWarning: Could not infer format, so each element will be parsed individually, falling back to `dateutil`. To ensure parsing is consistent and as-expected, please specify a format.\n",
      "  df[col] = pd.to_datetime(df[col], utc=True)\n",
      "/lv_local/home/romh/PROGS/anaconda3/envs/dapnn/lib/python3.9/site-packages/pm4py/objects/log/util/dataframe_utils.py:180: UserWarning: Could not infer format, so each element will be parsed individually, falling back to `dateutil`. To ensure parsing is consistent and as-expected, please specify a format.\n",
      "  df[col] = pd.to_datetime(df[col], utc=True)\n",
      "/lv_local/home/romh/PROGS/anaconda3/envs/dapnn/lib/python3.9/site-packages/pm4py/objects/log/util/dataframe_utils.py:180: UserWarning: Could not infer format, so each element will be parsed individually, falling back to `dateutil`. To ensure parsing is consistent and as-expected, please specify a format.\n",
      "  df[col] = pd.to_datetime(df[col], utc=True)\n",
      "/lv_local/home/romh/PROGS/anaconda3/envs/dapnn/lib/python3.9/site-packages/pm4py/objects/log/util/dataframe_utils.py:180: UserWarning: Could not infer format, so each element will be parsed individually, falling back to `dateutil`. To ensure parsing is consistent and as-expected, please specify a format.\n",
      "  df[col] = pd.to_datetime(df[col], utc=True)\n",
      "/lv_local/home/romh/PROGS/anaconda3/envs/dapnn/lib/python3.9/site-packages/pm4py/utils.py:537: UserWarning: the EventLog class has been deprecated and will be removed in a future release.\n",
      "  warnings.warn(\"the EventLog class has been deprecated and will be removed in a future release.\")\n",
      "/lv_local/home/romh/PROGS/anaconda3/envs/dapnn/lib/python3.9/site-packages/ipywidgets/widgets/widget.py:528: DeprecationWarning: The `ipykernel.comm.Comm` class has been deprecated. Please use the `comm` module instead.For creating comms, use the function `from comm import create_comm`.\n",
      "  self.comm = Comm(**args)\n"
     ]
    },
    {
     "data": {
      "application/vnd.jupyter.widget-view+json": {
       "model_id": "9e937cef412d4efdaa76c7b89897fc27",
       "version_major": 2,
       "version_minor": 0
      },
      "text/plain": [
       "replaying log with TBR, completed variants ::   0%|          | 0/78736 [00:00<?, ?it/s]"
      ]
     },
     "metadata": {},
     "output_type": "display_data"
    },
    {
     "name": "stdout",
     "output_type": "stream",
     "text": [
      "====================\n",
      "Only using process model\n",
      "====================\n",
      "Using OR rule\n",
      "====================\n",
      "Using AND rule\n",
      "====================\n",
      "Using XOR rule\n"
     ]
    },
    {
     "name": "stderr",
     "output_type": "stream",
     "text": [
      "/lv_local/home/romh/PROGS/anaconda3/envs/dapnn/lib/python3.9/site-packages/pm4py/objects/log/util/dataframe_utils.py:180: UserWarning: Could not infer format, so each element will be parsed individually, falling back to `dateutil`. To ensure parsing is consistent and as-expected, please specify a format.\n",
      "  df[col] = pd.to_datetime(df[col], utc=True)\n",
      "/lv_local/home/romh/PROGS/anaconda3/envs/dapnn/lib/python3.9/site-packages/pm4py/objects/log/util/dataframe_utils.py:180: UserWarning: Could not infer format, so each element will be parsed individually, falling back to `dateutil`. To ensure parsing is consistent and as-expected, please specify a format.\n",
      "  df[col] = pd.to_datetime(df[col], utc=True)\n",
      "/lv_local/home/romh/PROGS/anaconda3/envs/dapnn/lib/python3.9/site-packages/pm4py/objects/log/util/dataframe_utils.py:180: UserWarning: Could not infer format, so each element will be parsed individually, falling back to `dateutil`. To ensure parsing is consistent and as-expected, please specify a format.\n",
      "  df[col] = pd.to_datetime(df[col], utc=True)\n",
      "/lv_local/home/romh/PROGS/anaconda3/envs/dapnn/lib/python3.9/site-packages/pm4py/objects/log/util/dataframe_utils.py:180: UserWarning: Could not infer format, so each element will be parsed individually, falling back to `dateutil`. To ensure parsing is consistent and as-expected, please specify a format.\n",
      "  df[col] = pd.to_datetime(df[col], utc=True)\n",
      "/lv_local/home/romh/PROGS/anaconda3/envs/dapnn/lib/python3.9/site-packages/pm4py/utils.py:537: UserWarning: the EventLog class has been deprecated and will be removed in a future release.\n",
      "  warnings.warn(\"the EventLog class has been deprecated and will be removed in a future release.\")\n",
      "/lv_local/home/romh/PROGS/anaconda3/envs/dapnn/lib/python3.9/site-packages/ipywidgets/widgets/widget.py:528: DeprecationWarning: The `ipykernel.comm.Comm` class has been deprecated. Please use the `comm` module instead.For creating comms, use the function `from comm import create_comm`.\n",
      "  self.comm = Comm(**args)\n"
     ]
    },
    {
     "data": {
      "application/vnd.jupyter.widget-view+json": {
       "model_id": "0c60a058404f452e8f1976aabdb1a331",
       "version_major": 2,
       "version_minor": 0
      },
      "text/plain": [
       "replaying log with TBR, completed variants ::   0%|          | 0/78736 [00:00<?, ?it/s]"
      ]
     },
     "metadata": {},
     "output_type": "display_data"
    },
    {
     "name": "stdout",
     "output_type": "stream",
     "text": [
      "====================\n",
      "Only using process model\n",
      "====================\n",
      "Using OR rule\n",
      "====================\n",
      "Using AND rule\n",
      "====================\n",
      "Using XOR rule\n"
     ]
    },
    {
     "name": "stderr",
     "output_type": "stream",
     "text": [
      "/lv_local/home/romh/PROGS/anaconda3/envs/dapnn/lib/python3.9/site-packages/pm4py/objects/log/util/dataframe_utils.py:180: UserWarning: Could not infer format, so each element will be parsed individually, falling back to `dateutil`. To ensure parsing is consistent and as-expected, please specify a format.\n",
      "  df[col] = pd.to_datetime(df[col], utc=True)\n",
      "/lv_local/home/romh/PROGS/anaconda3/envs/dapnn/lib/python3.9/site-packages/pm4py/objects/log/util/dataframe_utils.py:180: UserWarning: Could not infer format, so each element will be parsed individually, falling back to `dateutil`. To ensure parsing is consistent and as-expected, please specify a format.\n",
      "  df[col] = pd.to_datetime(df[col], utc=True)\n",
      "/lv_local/home/romh/PROGS/anaconda3/envs/dapnn/lib/python3.9/site-packages/pm4py/objects/log/util/dataframe_utils.py:180: UserWarning: Could not infer format, so each element will be parsed individually, falling back to `dateutil`. To ensure parsing is consistent and as-expected, please specify a format.\n",
      "  df[col] = pd.to_datetime(df[col], utc=True)\n",
      "/lv_local/home/romh/PROGS/anaconda3/envs/dapnn/lib/python3.9/site-packages/pm4py/objects/log/util/dataframe_utils.py:180: UserWarning: Could not infer format, so each element will be parsed individually, falling back to `dateutil`. To ensure parsing is consistent and as-expected, please specify a format.\n",
      "  df[col] = pd.to_datetime(df[col], utc=True)\n",
      "/lv_local/home/romh/PROGS/anaconda3/envs/dapnn/lib/python3.9/site-packages/pm4py/utils.py:537: UserWarning: the EventLog class has been deprecated and will be removed in a future release.\n",
      "  warnings.warn(\"the EventLog class has been deprecated and will be removed in a future release.\")\n",
      "/lv_local/home/romh/PROGS/anaconda3/envs/dapnn/lib/python3.9/site-packages/ipywidgets/widgets/widget.py:528: DeprecationWarning: The `ipykernel.comm.Comm` class has been deprecated. Please use the `comm` module instead.For creating comms, use the function `from comm import create_comm`.\n",
      "  self.comm = Comm(**args)\n"
     ]
    },
    {
     "data": {
      "application/vnd.jupyter.widget-view+json": {
       "model_id": "7b0f5a27a9184c7581d7db8ba12c27bc",
       "version_major": 2,
       "version_minor": 0
      },
      "text/plain": [
       "replaying log with TBR, completed variants ::   0%|          | 0/78736 [00:00<?, ?it/s]"
      ]
     },
     "metadata": {},
     "output_type": "display_data"
    },
    {
     "name": "stdout",
     "output_type": "stream",
     "text": [
      "====================\n",
      "Only using process model\n",
      "====================\n",
      "Using OR rule\n",
      "====================\n",
      "Using AND rule\n",
      "====================\n",
      "Using XOR rule\n"
     ]
    },
    {
     "name": "stderr",
     "output_type": "stream",
     "text": [
      "/lv_local/home/romh/PROGS/anaconda3/envs/dapnn/lib/python3.9/site-packages/pm4py/objects/log/util/dataframe_utils.py:180: UserWarning: Could not infer format, so each element will be parsed individually, falling back to `dateutil`. To ensure parsing is consistent and as-expected, please specify a format.\n",
      "  df[col] = pd.to_datetime(df[col], utc=True)\n",
      "/lv_local/home/romh/PROGS/anaconda3/envs/dapnn/lib/python3.9/site-packages/pm4py/objects/log/util/dataframe_utils.py:180: UserWarning: Could not infer format, so each element will be parsed individually, falling back to `dateutil`. To ensure parsing is consistent and as-expected, please specify a format.\n",
      "  df[col] = pd.to_datetime(df[col], utc=True)\n",
      "/lv_local/home/romh/PROGS/anaconda3/envs/dapnn/lib/python3.9/site-packages/pm4py/objects/log/util/dataframe_utils.py:180: UserWarning: Could not infer format, so each element will be parsed individually, falling back to `dateutil`. To ensure parsing is consistent and as-expected, please specify a format.\n",
      "  df[col] = pd.to_datetime(df[col], utc=True)\n",
      "/lv_local/home/romh/PROGS/anaconda3/envs/dapnn/lib/python3.9/site-packages/pm4py/objects/log/util/dataframe_utils.py:180: UserWarning: Could not infer format, so each element will be parsed individually, falling back to `dateutil`. To ensure parsing is consistent and as-expected, please specify a format.\n",
      "  df[col] = pd.to_datetime(df[col], utc=True)\n",
      "/lv_local/home/romh/PROGS/anaconda3/envs/dapnn/lib/python3.9/site-packages/pm4py/utils.py:537: UserWarning: the EventLog class has been deprecated and will be removed in a future release.\n",
      "  warnings.warn(\"the EventLog class has been deprecated and will be removed in a future release.\")\n",
      "/lv_local/home/romh/PROGS/anaconda3/envs/dapnn/lib/python3.9/site-packages/ipywidgets/widgets/widget.py:528: DeprecationWarning: The `ipykernel.comm.Comm` class has been deprecated. Please use the `comm` module instead.For creating comms, use the function `from comm import create_comm`.\n",
      "  self.comm = Comm(**args)\n"
     ]
    },
    {
     "data": {
      "application/vnd.jupyter.widget-view+json": {
       "model_id": "04c125177a57477881459105e5d3c288",
       "version_major": 2,
       "version_minor": 0
      },
      "text/plain": [
       "replaying log with TBR, completed variants ::   0%|          | 0/78736 [00:00<?, ?it/s]"
      ]
     },
     "metadata": {},
     "output_type": "display_data"
    },
    {
     "name": "stdout",
     "output_type": "stream",
     "text": [
      "====================\n",
      "Only using process model\n",
      "====================\n",
      "Using OR rule\n",
      "====================\n",
      "Using AND rule\n",
      "====================\n",
      "Using XOR rule\n"
     ]
    },
    {
     "name": "stderr",
     "output_type": "stream",
     "text": [
      "/lv_local/home/romh/PROGS/anaconda3/envs/dapnn/lib/python3.9/site-packages/pm4py/objects/log/util/dataframe_utils.py:180: UserWarning: Could not infer format, so each element will be parsed individually, falling back to `dateutil`. To ensure parsing is consistent and as-expected, please specify a format.\n",
      "  df[col] = pd.to_datetime(df[col], utc=True)\n",
      "/lv_local/home/romh/PROGS/anaconda3/envs/dapnn/lib/python3.9/site-packages/pm4py/objects/log/util/dataframe_utils.py:180: UserWarning: Could not infer format, so each element will be parsed individually, falling back to `dateutil`. To ensure parsing is consistent and as-expected, please specify a format.\n",
      "  df[col] = pd.to_datetime(df[col], utc=True)\n",
      "/lv_local/home/romh/PROGS/anaconda3/envs/dapnn/lib/python3.9/site-packages/pm4py/objects/log/util/dataframe_utils.py:180: UserWarning: Could not infer format, so each element will be parsed individually, falling back to `dateutil`. To ensure parsing is consistent and as-expected, please specify a format.\n",
      "  df[col] = pd.to_datetime(df[col], utc=True)\n",
      "/lv_local/home/romh/PROGS/anaconda3/envs/dapnn/lib/python3.9/site-packages/pm4py/objects/log/util/dataframe_utils.py:180: UserWarning: Could not infer format, so each element will be parsed individually, falling back to `dateutil`. To ensure parsing is consistent and as-expected, please specify a format.\n",
      "  df[col] = pd.to_datetime(df[col], utc=True)\n",
      "/lv_local/home/romh/PROGS/anaconda3/envs/dapnn/lib/python3.9/site-packages/pm4py/utils.py:537: UserWarning: the EventLog class has been deprecated and will be removed in a future release.\n",
      "  warnings.warn(\"the EventLog class has been deprecated and will be removed in a future release.\")\n",
      "/lv_local/home/romh/PROGS/anaconda3/envs/dapnn/lib/python3.9/site-packages/ipywidgets/widgets/widget.py:528: DeprecationWarning: The `ipykernel.comm.Comm` class has been deprecated. Please use the `comm` module instead.For creating comms, use the function `from comm import create_comm`.\n",
      "  self.comm = Comm(**args)\n"
     ]
    },
    {
     "data": {
      "application/vnd.jupyter.widget-view+json": {
       "model_id": "3a7ce5cb6b0e46be8b507dc31eb7b9a6",
       "version_major": 2,
       "version_minor": 0
      },
      "text/plain": [
       "replaying log with TBR, completed variants ::   0%|          | 0/78736 [00:00<?, ?it/s]"
      ]
     },
     "metadata": {},
     "output_type": "display_data"
    },
    {
     "name": "stdout",
     "output_type": "stream",
     "text": [
      "====================\n",
      "Only using process model\n",
      "====================\n",
      "Using OR rule\n",
      "====================\n",
      "Using AND rule\n",
      "====================\n",
      "Using XOR rule\n"
     ]
    }
   ],
   "source": [
    "big_list = sample_processes('IM', log, traces_for_process_model, test_log, dapnn, iterations=10)"
   ]
  },
  {
   "cell_type": "code",
   "execution_count": 40,
   "metadata": {},
   "outputs": [],
   "source": [
    "big_df = pd.DataFrame(big_list)\n",
    "only_process_df = big_df[big_df['rule'] == 'Only Process']\n",
    "or_df = big_df[big_df['rule'] == 'OR']\n",
    "and_df = big_df[big_df['rule'] == 'AND']\n",
    "xor_df = big_df[big_df['rule'] == 'XOR']"
   ]
  },
  {
   "cell_type": "code",
   "execution_count": 41,
   "metadata": {},
   "outputs": [],
   "source": [
    "def plot_measures(df, model_str='IM'):\n",
    "    recall = df['recall']\n",
    "    precision = df['precision']\n",
    "    f1 = df['f1']\n",
    "    rule = df['rule'].iloc[0]\n",
    "\n",
    "    plt.figure(figsize=(10, 5))\n",
    "    plt.title(f'{model_str}({rule})')\n",
    "    plt.xlabel('Iteration')\n",
    "    plt.ylabel('Score')\n",
    "    plt.plot(recall, label='recall')\n",
    "    plt.plot(precision, label='precision')\n",
    "    plt.plot(f1, label='f1')\n",
    "    plt.legend()\n",
    "    plt.show()"
   ]
  },
  {
   "cell_type": "code",
   "execution_count": 42,
   "metadata": {},
   "outputs": [
    {
     "data": {
      "image/png": "[encoded data removed]",
      "text/plain": [
       "<Figure size 1000x500 with 1 Axes>"
      ]
     },
     "metadata": {},
     "output_type": "display_data"
    }
   ],
   "source": [
    "plot_measures(only_process_df)"
   ]
  }
 ],
 "metadata": {
  "kernelspec": {
   "display_name": "dapnn",
   "language": "python",
   "name": "python3"
  },
  "language_info": {
   "codemirror_mode": {
    "name": "ipython",
    "version": 3
   },
   "file_extension": ".py",
   "mimetype": "text/x-python",
   "name": "python",
   "nbconvert_exporter": "python",
   "pygments_lexer": "ipython3",
   "version": "3.9.18"
  }
 },
 "nbformat": 4,
 "nbformat_minor": 2
}
