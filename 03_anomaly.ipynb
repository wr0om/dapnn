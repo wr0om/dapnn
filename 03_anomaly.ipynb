{
 "cells": [
  {
   "cell_type": "markdown",
   "id": "dbac30d7",
   "metadata": {},
   "source": [
    "# Anomaly Detection Model\n",
    ">  Includes the anomaly detection algorithm, i.e. the prediction model, the loss functions and the anomaly score calculation and classification, as well as the metric computation."
   ]
  },
  {
   "cell_type": "markdown",
   "id": "9e2b119a",
   "metadata": {},
   "source": [
    "<h1>Table of Contents<span class=\"tocSkip\"></span></h1>\n",
    "<div class=\"toc\"><ul class=\"toc-item\"><li><span><a href=\"#Only-Control-flow\" data-toc-modified-id=\"Only-Control-flow-1\"><span class=\"toc-item-num\">1&nbsp;&nbsp;</span>Only Control-flow</a></span><ul class=\"toc-item\"><li><span><a href=\"#Load-Log\" data-toc-modified-id=\"Load-Log-1.1\"><span class=\"toc-item-num\">1.1&nbsp;&nbsp;</span>Load Log</a></span></li><li><span><a href=\"#Create-PPObj-with-vocab-and-dataloaders\" data-toc-modified-id=\"Create-PPObj-with-vocab-and-dataloaders-1.2\"><span class=\"toc-item-num\">1.2&nbsp;&nbsp;</span>Create PPObj with vocab and dataloaders</a></span></li><li><span><a href=\"#Define-Deep-Learning-Model\" data-toc-modified-id=\"Define-Deep-Learning-Model-1.3\"><span class=\"toc-item-num\">1.3&nbsp;&nbsp;</span>Define Deep Learning Model</a></span></li><li><span><a href=\"#Define-Training-Loop-and-Helper-Functions\" data-toc-modified-id=\"Define-Training-Loop-and-Helper-Functions-1.4\"><span class=\"toc-item-num\">1.4&nbsp;&nbsp;</span>Define Training Loop and Helper Functions</a></span></li><li><span><a href=\"#Train-prediction-model\" data-toc-modified-id=\"Train-prediction-model-1.5\"><span class=\"toc-item-num\">1.5&nbsp;&nbsp;</span>Train prediction model</a></span></li><li><span><a href=\"#Load-Test-Data\" data-toc-modified-id=\"Load-Test-Data-1.6\"><span class=\"toc-item-num\">1.6&nbsp;&nbsp;</span>Load Test Data</a></span></li><li><span><a href=\"#Create-PPOBJ-of-test-data-with-same-vocab\" data-toc-modified-id=\"Create-PPOBJ-of-test-data-with-same-vocab-1.7\"><span class=\"toc-item-num\">1.7&nbsp;&nbsp;</span>Create PPOBJ of test data with same vocab</a></span></li><li><span><a href=\"#Apply-Prediction-Model\" data-toc-modified-id=\"Apply-Prediction-Model-1.8\"><span class=\"toc-item-num\">1.8&nbsp;&nbsp;</span>Apply Prediction Model</a></span></li><li><span><a href=\"#Calculate-Anomaly-Score\" data-toc-modified-id=\"Calculate-Anomaly-Score-1.9\"><span class=\"toc-item-num\">1.9&nbsp;&nbsp;</span>Calculate Anomaly Score</a></span></li><li><span><a href=\"#Classify-Anomalies-based-of-Threshhold,-get-predictions-and-ground-truth,-compute-a-few-metrics\" data-toc-modified-id=\"Classify-Anomalies-based-of-Threshhold,-get-predictions-and-ground-truth,-compute-a-few-metrics-1.10\"><span class=\"toc-item-num\">1.10&nbsp;&nbsp;</span>Classify Anomalies based of Threshhold, get predictions and ground truth, compute a few metrics</a></span></li><li><span><a href=\"#Get-NSP-Accuracy-on-Inrference\" data-toc-modified-id=\"Get-NSP-Accuracy-on-Inrference-1.11\"><span class=\"toc-item-num\">1.11&nbsp;&nbsp;</span>Get NSP Accuracy on Inrference</a></span></li></ul></li><li><span><a href=\"#Multivariate-Anomaly-Detection\" data-toc-modified-id=\"Multivariate-Anomaly-Detection-2\"><span class=\"toc-item-num\">2&nbsp;&nbsp;</span>Multivariate Anomaly Detection</a></span><ul class=\"toc-item\"><li><span><a href=\"#Load-Event-Log:\" data-toc-modified-id=\"Load-Event-Log:-2.1\"><span class=\"toc-item-num\">2.1&nbsp;&nbsp;</span>Load Event Log:</a></span></li><li><span><a href=\"#Create-Training-Data-Loaders-and-Vocab:\" data-toc-modified-id=\"Create-Training-Data-Loaders-and-Vocab:-2.2\"><span class=\"toc-item-num\">2.2&nbsp;&nbsp;</span>Create Training Data Loaders and Vocab:</a></span></li><li><span><a href=\"#Create-Multivariate-Prediction-Model\" data-toc-modified-id=\"Create-Multivariate-Prediction-Model-2.3\"><span class=\"toc-item-num\">2.3&nbsp;&nbsp;</span>Create Multivariate Prediction Model</a></span></li><li><span><a href=\"#Define-Multi-Loss-and--Metrics\" data-toc-modified-id=\"Define-Multi-Loss-and--Metrics-2.4\"><span class=\"toc-item-num\">2.4&nbsp;&nbsp;</span>Define Multi-Loss and -Metrics</a></span></li><li><span><a href=\"#Training-of-the-prediction-network\" data-toc-modified-id=\"Training-of-the-prediction-network-2.5\"><span class=\"toc-item-num\">2.5&nbsp;&nbsp;</span>Training of the prediction network</a></span></li><li><span><a href=\"#Load-Test-Log-for-Inference\" data-toc-modified-id=\"Load-Test-Log-for-Inference-2.6\"><span class=\"toc-item-num\">2.6&nbsp;&nbsp;</span>Load Test Log for Inference</a></span></li><li><span><a href=\"#Compute-Anomaly-Score\" data-toc-modified-id=\"Compute-Anomaly-Score-2.7\"><span class=\"toc-item-num\">2.7&nbsp;&nbsp;</span>Compute Anomaly Score</a></span></li><li><span><a href=\"#Anomaly-Classification\" data-toc-modified-id=\"Anomaly-Classification-2.8\"><span class=\"toc-item-num\">2.8&nbsp;&nbsp;</span>Anomaly Classification</a></span></li></ul></li><li><span><a href=\"#Plot-Anomaly-Scores-for-a-Trace\" data-toc-modified-id=\"Plot-Anomaly-Scores-for-a-Trace-3\"><span class=\"toc-item-num\">3&nbsp;&nbsp;</span>Plot Anomaly Scores for a Trace</a></span></li></ul></div>"
   ]
  },
  {
   "cell_type": "code",
   "execution_count": 1,
   "id": "79215c33",
   "metadata": {},
   "outputs": [],
   "source": [
    "#default_exp anomaly"
   ]
  },
  {
   "cell_type": "code",
   "execution_count": 2,
   "id": "dc358b60",
   "metadata": {},
   "outputs": [],
   "source": [
    "%load_ext autoreload\n",
    "%autoreload 2\n",
    "%matplotlib inline"
   ]
  },
  {
   "cell_type": "code",
   "execution_count": 3,
   "id": "b0603fe6",
   "metadata": {},
   "outputs": [
    {
     "name": "stderr",
     "output_type": "stream",
     "text": [
      "c:\\Users\\Rom\\anaconda3\\envs\\dapnn\\lib\\site-packages\\tqdm\\auto.py:21: TqdmWarning: IProgress not found. Please update jupyter and ipywidgets. See https://ipywidgets.readthedocs.io/en/stable/user_install.html\n",
      "  from .autonotebook import tqdm as notebook_tqdm\n"
     ]
    }
   ],
   "source": [
    "#export\n",
    "\n",
    "from dapnn.imports import *\n",
    "from dapnn.data_processing import *"
   ]
  },
  {
   "cell_type": "code",
   "execution_count": 4,
   "id": "3769b901",
   "metadata": {},
   "outputs": [],
   "source": [
    "#export\n",
    "import warnings\n",
    "warnings.filterwarnings(action='once')"
   ]
  },
  {
   "cell_type": "code",
   "execution_count": 5,
   "id": "d7c08ed1",
   "metadata": {},
   "outputs": [],
   "source": [
    "#notebook2script(fname='03_anomaly.ipynb')"
   ]
  },
  {
   "cell_type": "markdown",
   "id": "a1b60692",
   "metadata": {},
   "source": [
    "## Only Control-flow "
   ]
  },
  {
   "cell_type": "markdown",
   "id": "2a9964cd",
   "metadata": {},
   "source": [
    "### Load Log"
   ]
  },
  {
   "cell_type": "code",
   "execution_count": 6,
   "id": "6de18bea",
   "metadata": {},
   "outputs": [],
   "source": [
    "log_name='pdc_2020_0101100'"
   ]
  },
  {
   "cell_type": "code",
   "execution_count": 7,
   "id": "c4594ac8",
   "metadata": {},
   "outputs": [
    {
     "data": {
      "text/html": [
       "<div>\n",
       "<style scoped>\n",
       "    .dataframe tbody tr th:only-of-type {\n",
       "        vertical-align: middle;\n",
       "    }\n",
       "\n",
       "    .dataframe tbody tr th {\n",
       "        vertical-align: top;\n",
       "    }\n",
       "\n",
       "    .dataframe thead th {\n",
       "        text-align: right;\n",
       "    }\n",
       "</style>\n",
       "<table border=\"1\" class=\"dataframe\">\n",
       "  <thead>\n",
       "    <tr style=\"text-align: right;\">\n",
       "      <th></th>\n",
       "      <th>activity</th>\n",
       "      <th>trace_id</th>\n",
       "      <th>event_id</th>\n",
       "    </tr>\n",
       "    <tr>\n",
       "      <th>trace_id</th>\n",
       "      <th></th>\n",
       "      <th></th>\n",
       "      <th></th>\n",
       "    </tr>\n",
       "  </thead>\n",
       "  <tbody>\n",
       "    <tr>\n",
       "      <th>trace 1</th>\n",
       "      <td>###start###</td>\n",
       "      <td>trace 1</td>\n",
       "      <td>0</td>\n",
       "    </tr>\n",
       "    <tr>\n",
       "      <th>trace 1</th>\n",
       "      <td>t31</td>\n",
       "      <td>trace 1</td>\n",
       "      <td>1</td>\n",
       "    </tr>\n",
       "    <tr>\n",
       "      <th>trace 1</th>\n",
       "      <td>t41</td>\n",
       "      <td>trace 1</td>\n",
       "      <td>2</td>\n",
       "    </tr>\n",
       "    <tr>\n",
       "      <th>trace 1</th>\n",
       "      <td>t26</td>\n",
       "      <td>trace 1</td>\n",
       "      <td>3</td>\n",
       "    </tr>\n",
       "    <tr>\n",
       "      <th>trace 1</th>\n",
       "      <td>t36</td>\n",
       "      <td>trace 1</td>\n",
       "      <td>4</td>\n",
       "    </tr>\n",
       "    <tr>\n",
       "      <th>trace 1</th>\n",
       "      <td>t44</td>\n",
       "      <td>trace 1</td>\n",
       "      <td>5</td>\n",
       "    </tr>\n",
       "    <tr>\n",
       "      <th>trace 1</th>\n",
       "      <td>t54</td>\n",
       "      <td>trace 1</td>\n",
       "      <td>6</td>\n",
       "    </tr>\n",
       "    <tr>\n",
       "      <th>trace 1</th>\n",
       "      <td>t33</td>\n",
       "      <td>trace 1</td>\n",
       "      <td>7</td>\n",
       "    </tr>\n",
       "    <tr>\n",
       "      <th>trace 1</th>\n",
       "      <td>t23</td>\n",
       "      <td>trace 1</td>\n",
       "      <td>8</td>\n",
       "    </tr>\n",
       "    <tr>\n",
       "      <th>trace 1</th>\n",
       "      <td>t65</td>\n",
       "      <td>trace 1</td>\n",
       "      <td>9</td>\n",
       "    </tr>\n",
       "    <tr>\n",
       "      <th>trace 1</th>\n",
       "      <td>t76</td>\n",
       "      <td>trace 1</td>\n",
       "      <td>10</td>\n",
       "    </tr>\n",
       "    <tr>\n",
       "      <th>trace 1</th>\n",
       "      <td>t21</td>\n",
       "      <td>trace 1</td>\n",
       "      <td>11</td>\n",
       "    </tr>\n",
       "    <tr>\n",
       "      <th>trace 1</th>\n",
       "      <td>t74</td>\n",
       "      <td>trace 1</td>\n",
       "      <td>12</td>\n",
       "    </tr>\n",
       "    <tr>\n",
       "      <th>trace 1</th>\n",
       "      <td>t32</td>\n",
       "      <td>trace 1</td>\n",
       "      <td>13</td>\n",
       "    </tr>\n",
       "    <tr>\n",
       "      <th>trace 1</th>\n",
       "      <td>t64</td>\n",
       "      <td>trace 1</td>\n",
       "      <td>14</td>\n",
       "    </tr>\n",
       "    <tr>\n",
       "      <th>trace 1</th>\n",
       "      <td>t41</td>\n",
       "      <td>trace 1</td>\n",
       "      <td>15</td>\n",
       "    </tr>\n",
       "    <tr>\n",
       "      <th>trace 1</th>\n",
       "      <td>t33</td>\n",
       "      <td>trace 1</td>\n",
       "      <td>16</td>\n",
       "    </tr>\n",
       "    <tr>\n",
       "      <th>trace 1</th>\n",
       "      <td>t23</td>\n",
       "      <td>trace 1</td>\n",
       "      <td>17</td>\n",
       "    </tr>\n",
       "    <tr>\n",
       "      <th>trace 1</th>\n",
       "      <td>t21</td>\n",
       "      <td>trace 1</td>\n",
       "      <td>18</td>\n",
       "    </tr>\n",
       "    <tr>\n",
       "      <th>trace 1</th>\n",
       "      <td>t32</td>\n",
       "      <td>trace 1</td>\n",
       "      <td>19</td>\n",
       "    </tr>\n",
       "  </tbody>\n",
       "</table>\n",
       "</div>"
      ],
      "text/plain": [
       "             activity trace_id event_id\n",
       "trace_id                               \n",
       "trace 1   ###start###  trace 1        0\n",
       "trace 1           t31  trace 1        1\n",
       "trace 1           t41  trace 1        2\n",
       "trace 1           t26  trace 1        3\n",
       "trace 1           t36  trace 1        4\n",
       "trace 1           t44  trace 1        5\n",
       "trace 1           t54  trace 1        6\n",
       "trace 1           t33  trace 1        7\n",
       "trace 1           t23  trace 1        8\n",
       "trace 1           t65  trace 1        9\n",
       "trace 1           t76  trace 1       10\n",
       "trace 1           t21  trace 1       11\n",
       "trace 1           t74  trace 1       12\n",
       "trace 1           t32  trace 1       13\n",
       "trace 1           t64  trace 1       14\n",
       "trace 1           t41  trace 1       15\n",
       "trace 1           t33  trace 1       16\n",
       "trace 1           t23  trace 1       17\n",
       "trace 1           t21  trace 1       18\n",
       "trace 1           t32  trace 1       19"
      ]
     },
     "execution_count": 7,
     "metadata": {},
     "output_type": "execute_result"
    }
   ],
   "source": [
    "log = import_log(f'data/csv/PDC2020_training/{log_name}.csv.gz')\n",
    "log.head(20)"
   ]
  },
  {
   "cell_type": "markdown",
   "id": "37485d1b",
   "metadata": {},
   "source": [
    "### Create PPObj with vocab and dataloaders"
   ]
  },
  {
   "cell_type": "code",
   "execution_count": 8,
   "id": "0bafdeec",
   "metadata": {},
   "outputs": [],
   "source": [
    "#export\n",
    "def training_dl(log,cat_names='activity',seed=45,ws=5,bs=32):\n",
    "    categorify=Categorify()\n",
    "\n",
    "    o=PPObj(log,procs=categorify,cat_names=cat_names,y_names=cat_names,splits=split_traces(log,test_seed=seed,validation_seed=seed))\n",
    "    dls=o.get_dls(windows=partial(windows_fast,ws=ws),bs=bs)\n",
    "    return o,dls,categorify\n",
    "\n"
   ]
  },
  {
   "cell_type": "code",
   "execution_count": 9,
   "id": "1a160b35",
   "metadata": {},
   "outputs": [
    {
     "name": "stdout",
     "output_type": "stream",
     "text": [
      "<fastai.data.core.DataLoaders object at 0x000001757D156FA0>\n"
     ]
    }
   ],
   "source": [
    "o,dls,categorify = training_dl(log)\n",
    "\n",
    "print(dls)"
   ]
  },
  {
   "cell_type": "markdown",
   "id": "0f1d0014",
   "metadata": {},
   "source": [
    "## **Playing With the Data**"
   ]
  },
  {
   "cell_type": "code",
   "execution_count": 10,
   "id": "ad80b648",
   "metadata": {},
   "outputs": [
    {
     "name": "stdout",
     "output_type": "stream",
     "text": [
      "           activity   trace_id event_id\n",
      "trace_id                               \n",
      "trace 665         2  trace 665        0\n",
      "trace 665         6  trace 665        1\n",
      "trace 665        11  trace 665        2\n",
      "trace 665         3  trace 665        3\n",
      "trace 665        14  trace 665        4\n",
      "...             ...        ...      ...\n",
      "trace 145        11  trace 145       48\n",
      "trace 145        14  trace 145       49\n",
      "trace 145        16  trace 145       50\n",
      "trace 145        21  trace 145       51\n",
      "trace 145         1  trace 145       52\n",
      "\n",
      "[27725 rows x 3 columns]\n"
     ]
    }
   ],
   "source": [
    "subsets = o.subsets()\n",
    "item = subsets[0].items #df of categorical data - can only be used for categorical data and only the ones here!!\n",
    "\n",
    "print(o)"
   ]
  },
  {
   "cell_type": "markdown",
   "id": "750664ba",
   "metadata": {},
   "source": [
    "### Define Deep Learning Model"
   ]
  },
  {
   "cell_type": "code",
   "execution_count": 11,
   "id": "ff3450a3",
   "metadata": {},
   "outputs": [
    {
     "name": "stdout",
     "output_type": "stream",
     "text": [
      "x.shape=torch.Size([32, 1, 5])\n",
      "y[0].shape=torch.Size([32])\n",
      "x=tensor([[[23, 24, 14, 10,  5]],\n",
      "\n",
      "        [[ 9,  4,  3,  8, 13]],\n",
      "\n",
      "        [[24, 19,  9,  4,  8]],\n",
      "\n",
      "        [[10,  5,  6, 14, 16]],\n",
      "\n",
      "        [[22, 25, 20, 23, 16]],\n",
      "\n",
      "        [[14, 18, 23, 24, 10]],\n",
      "\n",
      "        [[25, 15, 23, 20, 16]],\n",
      "\n",
      "        [[22, 25, 20, 16, 21]],\n",
      "\n",
      "        [[ 0,  0,  0,  0,  2]],\n",
      "\n",
      "        [[ 0,  0,  0,  2,  3]],\n",
      "\n",
      "        [[ 4, 22,  7, 13, 25]],\n",
      "\n",
      "        [[16,  3, 22,  7, 13]],\n",
      "\n",
      "        [[26, 25, 20, 16, 22]],\n",
      "\n",
      "        [[ 0,  0,  2,  6,  7]],\n",
      "\n",
      "        [[19, 22, 15, 17, 23]],\n",
      "\n",
      "        [[ 2,  8, 13, 15, 23]],\n",
      "\n",
      "        [[25, 20, 23, 10,  5]],\n",
      "\n",
      "        [[ 6, 11, 14, 13, 15]],\n",
      "\n",
      "        [[14, 18, 23, 16, 22]],\n",
      "\n",
      "        [[15, 16, 18, 21, 23]],\n",
      "\n",
      "        [[12, 14, 19, 16,  9]],\n",
      "\n",
      "        [[ 0,  2,  3,  7,  6]],\n",
      "\n",
      "        [[13, 16, 15, 18, 21]],\n",
      "\n",
      "        [[23, 24, 19, 26, 15]],\n",
      "\n",
      "        [[19, 26, 15, 18, 23]],\n",
      "\n",
      "        [[ 3,  7, 12, 13, 14]],\n",
      "\n",
      "        [[14, 16, 13, 21, 26]],\n",
      "\n",
      "        [[16, 22, 26, 15, 17]],\n",
      "\n",
      "        [[13, 15, 10, 18, 23]],\n",
      "\n",
      "        [[19, 21, 26, 15, 17]],\n",
      "\n",
      "        [[14, 16, 13,  9, 22]],\n",
      "\n",
      "        [[ 6,  7, 13, 15, 17]]], device='cuda:0')\n",
      "y=(tensor([19, 15, 13, 22, 21, 19, 22, 26,  6,  8, 20,  9, 26, 14, 24,  6,  6, 10,\n",
      "        25, 26,  4, 11, 23, 18,  1, 16,  9, 23, 24, 23, 26, 23],\n",
      "       device='cuda:0'),)\n"
     ]
    }
   ],
   "source": [
    "x,y= dls.one_batch() # y is the \n",
    "print(f'{x.shape=}\\n{y[0].shape=}')\n",
    "print(f'{x=}\\n{y=}')"
   ]
  },
  {
   "cell_type": "code",
   "execution_count": 12,
   "id": "0888e219",
   "metadata": {},
   "outputs": [],
   "source": [
    "class ControlFlowModel(torch.nn.Module) :\n",
    "    def __init__(self, o) :\n",
    "        super().__init__()\n",
    "        hidden=25\n",
    "        vocab_act=len(o.procs.categorify['activity'])\n",
    "        emb_dim_act = int(np.sqrt(vocab_act))+1\n",
    "\n",
    "        self.emb_act = nn.Embedding(vocab_act,emb_dim_act)\n",
    "        \n",
    "        self.lstm_act = nn.LSTM(emb_dim_act, hidden, batch_first=True, num_layers=2)\n",
    "\n",
    "        self.linear_act = nn.Linear(hidden, vocab_act)\n",
    "\n",
    "    def forward(self, xcat):\n",
    "        xcat=xcat[:,0]\n",
    "        x_act=xcat\n",
    "        x_act = self.emb_act(x_act)\n",
    "        x_act,_ = self.lstm_act(x_act)\n",
    "        x_act = x_act[:,-1]\n",
    "        x_act = self.linear_act(x_act)\n",
    "        return x_act"
   ]
  },
  {
   "cell_type": "code",
   "execution_count": 13,
   "id": "06460852",
   "metadata": {},
   "outputs": [],
   "source": [
    "m=ControlFlowModel(o)\n"
   ]
  },
  {
   "cell_type": "code",
   "execution_count": 14,
   "id": "d8c918da",
   "metadata": {},
   "outputs": [],
   "source": [
    "pred=m(x.cpu())"
   ]
  },
  {
   "cell_type": "code",
   "execution_count": null,
   "id": "6e4b5334",
   "metadata": {},
   "outputs": [],
   "source": [
    "print(pred)"
   ]
  },
  {
   "cell_type": "code",
   "execution_count": 16,
   "id": "57c0785b",
   "metadata": {},
   "outputs": [
    {
     "data": {
      "text/plain": [
       "tensor([19, 15, 13, 22, 21, 19, 22, 26,  6,  8, 20,  9, 26, 14, 24,  6,  6, 10,\n",
       "        25, 26,  4, 11, 23, 18,  1, 16,  9, 23, 24, 23, 26, 23])"
      ]
     },
     "execution_count": 16,
     "metadata": {},
     "output_type": "execute_result"
    }
   ],
   "source": [
    "y[0].cpu()"
   ]
  },
  {
   "cell_type": "code",
   "execution_count": 17,
   "id": "22ca93e3",
   "metadata": {},
   "outputs": [],
   "source": [
    "squeeze_cross_entropy = lambda x,y:F.cross_entropy(x,y[0])\n",
    "squeeze_accuracy =lambda x,y:accuracy(x,y[0])\n"
   ]
  },
  {
   "cell_type": "code",
   "execution_count": 18,
   "id": "f03a2b46",
   "metadata": {},
   "outputs": [
    {
     "data": {
      "text/plain": [
       "(tensor(3.3639, device='cuda:0', grad_fn=<NllLossBackward>),\n",
       " TensorBase(0., device='cuda:0'))"
      ]
     },
     "execution_count": 18,
     "metadata": {},
     "output_type": "execute_result"
    }
   ],
   "source": [
    "squeeze_cross_entropy(pred.cuda(),y),squeeze_accuracy(pred.cuda(),y)"
   ]
  },
  {
   "cell_type": "markdown",
   "id": "3e1731a2",
   "metadata": {},
   "source": [
    "### Define Training Loop and Helper Functions"
   ]
  },
  {
   "cell_type": "code",
   "execution_count": 19,
   "id": "4f24ac6b",
   "metadata": {},
   "outputs": [],
   "source": [
    "#export\n",
    "class HideOutput:\n",
    "    'A utility function that hides all outputs in a context'\n",
    "    def __enter__(self):\n",
    "        self._original_stdout = sys.stdout\n",
    "        sys.stdout = open(os.devnull, 'w')\n",
    "\n",
    "    def __exit__(self, exc_type, exc_val, exc_tb):\n",
    "        sys.stdout.close()\n",
    "        sys.stdout = self._original_stdout"
   ]
  },
  {
   "cell_type": "code",
   "execution_count": 20,
   "id": "04206c76",
   "metadata": {},
   "outputs": [],
   "source": [
    "#export\n",
    "def training_loop(learn,epoch,print_output,lr_find,fixed_learning_rate=0.01):\n",
    "    '''\n",
    "    Basic training loop that uses learning rate finder and one cycle training. \n",
    "    See fastai docs for more information\n",
    "    '''\n",
    "    if lr_find:\n",
    "        lr=np.median([learn.lr_find(show_plot=print_output)[0] for i in range(5)])\n",
    "        learn.fit_one_cycle(epoch,float(lr))\n",
    "    else: learn.fit(epoch,fixed_learning_rate)"
   ]
  },
  {
   "cell_type": "code",
   "execution_count": 21,
   "id": "1784333a",
   "metadata": {},
   "outputs": [],
   "source": [
    "#export\n",
    "def train_validate(dls,m,metrics=accuracy,loss=F.cross_entropy,epoch=20,print_output=True,model_dir=\".\",lr_find=True,\n",
    "                   patience=5,min_delta=0.005,show_plot=True,store_path='tmp',model_name='.model'):\n",
    "    '''\n",
    "    Trains a model on the training set with early stopping based on the validation loss.\n",
    "    Afterwards, applies it to the test set.\n",
    "    '''\n",
    "    cbs = [\n",
    "      EarlyStoppingCallback(monitor='valid_loss',min_delta=min_delta, patience=patience),\n",
    "      SaveModelCallback(fname=model_name),\n",
    "      ]\n",
    "    learn=Learner(dls, m, path=store_path, model_dir=model_dir, loss_func=loss ,metrics=metrics,cbs=cbs)\n",
    "\n",
    "    if print_output:\n",
    "        training_loop(learn,epoch,show_plot,lr_find=lr_find)\n",
    "        return learn.validate(dl=dls[2])\n",
    "    else:\n",
    "        with HideOutput(),learn.no_bar(),learn.no_logging():\n",
    "            training_loop(learn,epoch,show_plot,lr_find=lr_find)\n",
    "            return learn.validate(dl=dls[2])"
   ]
  },
  {
   "cell_type": "markdown",
   "id": "d5c46c30",
   "metadata": {},
   "source": [
    "### Train prediction model"
   ]
  },
  {
   "cell_type": "code",
   "execution_count": 22,
   "id": "d82488a2",
   "metadata": {},
   "outputs": [
    {
     "data": {
      "text/html": [
       "\n",
       "<style>\n",
       "    /* Turns off some styling */\n",
       "    progress {\n",
       "        /* gets rid of default border in Firefox and Opera. */\n",
       "        border: none;\n",
       "        /* Needs to be in here for Safari polyfill so background images work as expected. */\n",
       "        background-size: auto;\n",
       "    }\n",
       "    progress:not([value]), progress:not([value])::-webkit-progress-bar {\n",
       "        background: repeating-linear-gradient(45deg, #7e7e7e, #7e7e7e 10px, #5c5c5c 10px, #5c5c5c 20px);\n",
       "    }\n",
       "    .progress-bar-interrupted, .progress-bar-interrupted::-webkit-progress-bar {\n",
       "        background: #F44336;\n",
       "    }\n",
       "</style>\n"
      ],
      "text/plain": [
       "<IPython.core.display.HTML object>"
      ]
     },
     "metadata": {},
     "output_type": "display_data"
    },
    {
     "data": {
      "text/html": [],
      "text/plain": [
       "<IPython.core.display.HTML object>"
      ]
     },
     "metadata": {},
     "output_type": "display_data"
    },
    {
     "data": {
      "text/html": [
       "\n",
       "<style>\n",
       "    /* Turns off some styling */\n",
       "    progress {\n",
       "        /* gets rid of default border in Firefox and Opera. */\n",
       "        border: none;\n",
       "        /* Needs to be in here for Safari polyfill so background images work as expected. */\n",
       "        background-size: auto;\n",
       "    }\n",
       "    progress:not([value]), progress:not([value])::-webkit-progress-bar {\n",
       "        background: repeating-linear-gradient(45deg, #7e7e7e, #7e7e7e 10px, #5c5c5c 10px, #5c5c5c 20px);\n",
       "    }\n",
       "    .progress-bar-interrupted, .progress-bar-interrupted::-webkit-progress-bar {\n",
       "        background: #F44336;\n",
       "    }\n",
       "</style>\n"
      ],
      "text/plain": [
       "<IPython.core.display.HTML object>"
      ]
     },
     "metadata": {},
     "output_type": "display_data"
    },
    {
     "data": {
      "text/html": [],
      "text/plain": [
       "<IPython.core.display.HTML object>"
      ]
     },
     "metadata": {},
     "output_type": "display_data"
    },
    {
     "data": {
      "text/html": [
       "\n",
       "<style>\n",
       "    /* Turns off some styling */\n",
       "    progress {\n",
       "        /* gets rid of default border in Firefox and Opera. */\n",
       "        border: none;\n",
       "        /* Needs to be in here for Safari polyfill so background images work as expected. */\n",
       "        background-size: auto;\n",
       "    }\n",
       "    progress:not([value]), progress:not([value])::-webkit-progress-bar {\n",
       "        background: repeating-linear-gradient(45deg, #7e7e7e, #7e7e7e 10px, #5c5c5c 10px, #5c5c5c 20px);\n",
       "    }\n",
       "    .progress-bar-interrupted, .progress-bar-interrupted::-webkit-progress-bar {\n",
       "        background: #F44336;\n",
       "    }\n",
       "</style>\n"
      ],
      "text/plain": [
       "<IPython.core.display.HTML object>"
      ]
     },
     "metadata": {},
     "output_type": "display_data"
    },
    {
     "data": {
      "text/html": [],
      "text/plain": [
       "<IPython.core.display.HTML object>"
      ]
     },
     "metadata": {},
     "output_type": "display_data"
    },
    {
     "data": {
      "text/html": [
       "\n",
       "<style>\n",
       "    /* Turns off some styling */\n",
       "    progress {\n",
       "        /* gets rid of default border in Firefox and Opera. */\n",
       "        border: none;\n",
       "        /* Needs to be in here for Safari polyfill so background images work as expected. */\n",
       "        background-size: auto;\n",
       "    }\n",
       "    progress:not([value]), progress:not([value])::-webkit-progress-bar {\n",
       "        background: repeating-linear-gradient(45deg, #7e7e7e, #7e7e7e 10px, #5c5c5c 10px, #5c5c5c 20px);\n",
       "    }\n",
       "    .progress-bar-interrupted, .progress-bar-interrupted::-webkit-progress-bar {\n",
       "        background: #F44336;\n",
       "    }\n",
       "</style>\n"
      ],
      "text/plain": [
       "<IPython.core.display.HTML object>"
      ]
     },
     "metadata": {},
     "output_type": "display_data"
    },
    {
     "data": {
      "text/html": [],
      "text/plain": [
       "<IPython.core.display.HTML object>"
      ]
     },
     "metadata": {},
     "output_type": "display_data"
    },
    {
     "data": {
      "text/html": [
       "\n",
       "<style>\n",
       "    /* Turns off some styling */\n",
       "    progress {\n",
       "        /* gets rid of default border in Firefox and Opera. */\n",
       "        border: none;\n",
       "        /* Needs to be in here for Safari polyfill so background images work as expected. */\n",
       "        background-size: auto;\n",
       "    }\n",
       "    progress:not([value]), progress:not([value])::-webkit-progress-bar {\n",
       "        background: repeating-linear-gradient(45deg, #7e7e7e, #7e7e7e 10px, #5c5c5c 10px, #5c5c5c 20px);\n",
       "    }\n",
       "    .progress-bar-interrupted, .progress-bar-interrupted::-webkit-progress-bar {\n",
       "        background: #F44336;\n",
       "    }\n",
       "</style>\n"
      ],
      "text/plain": [
       "<IPython.core.display.HTML object>"
      ]
     },
     "metadata": {},
     "output_type": "display_data"
    },
    {
     "data": {
      "text/html": [],
      "text/plain": [
       "<IPython.core.display.HTML object>"
      ]
     },
     "metadata": {},
     "output_type": "display_data"
    },
    {
     "data": {
      "text/html": [
       "\n",
       "<style>\n",
       "    /* Turns off some styling */\n",
       "    progress {\n",
       "        /* gets rid of default border in Firefox and Opera. */\n",
       "        border: none;\n",
       "        /* Needs to be in here for Safari polyfill so background images work as expected. */\n",
       "        background-size: auto;\n",
       "    }\n",
       "    progress:not([value]), progress:not([value])::-webkit-progress-bar {\n",
       "        background: repeating-linear-gradient(45deg, #7e7e7e, #7e7e7e 10px, #5c5c5c 10px, #5c5c5c 20px);\n",
       "    }\n",
       "    .progress-bar-interrupted, .progress-bar-interrupted::-webkit-progress-bar {\n",
       "        background: #F44336;\n",
       "    }\n",
       "</style>\n"
      ],
      "text/plain": [
       "<IPython.core.display.HTML object>"
      ]
     },
     "metadata": {},
     "output_type": "display_data"
    },
    {
     "data": {
      "text/html": [
       "<table border=\"1\" class=\"dataframe\">\n",
       "  <thead>\n",
       "    <tr style=\"text-align: left;\">\n",
       "      <th>epoch</th>\n",
       "      <th>train_loss</th>\n",
       "      <th>valid_loss</th>\n",
       "      <th><lambda></th>\n",
       "      <th>time</th>\n",
       "    </tr>\n",
       "  </thead>\n",
       "  <tbody>\n",
       "    <tr>\n",
       "      <td>0</td>\n",
       "      <td>2.333847</td>\n",
       "      <td>2.194167</td>\n",
       "      <td>0.354319</td>\n",
       "      <td>00:05</td>\n",
       "    </tr>\n",
       "    <tr>\n",
       "      <td>1</td>\n",
       "      <td>1.463419</td>\n",
       "      <td>1.390698</td>\n",
       "      <td>0.478282</td>\n",
       "      <td>00:05</td>\n",
       "    </tr>\n",
       "    <tr>\n",
       "      <td>2</td>\n",
       "      <td>1.229896</td>\n",
       "      <td>1.194848</td>\n",
       "      <td>0.511469</td>\n",
       "      <td>00:05</td>\n",
       "    </tr>\n",
       "    <tr>\n",
       "      <td>3</td>\n",
       "      <td>1.150071</td>\n",
       "      <td>1.114700</td>\n",
       "      <td>0.501220</td>\n",
       "      <td>00:05</td>\n",
       "    </tr>\n",
       "    <tr>\n",
       "      <td>4</td>\n",
       "      <td>1.114803</td>\n",
       "      <td>1.097108</td>\n",
       "      <td>0.510005</td>\n",
       "      <td>00:05</td>\n",
       "    </tr>\n",
       "    <tr>\n",
       "      <td>5</td>\n",
       "      <td>1.085390</td>\n",
       "      <td>1.071195</td>\n",
       "      <td>0.529527</td>\n",
       "      <td>00:05</td>\n",
       "    </tr>\n",
       "    <tr>\n",
       "      <td>6</td>\n",
       "      <td>1.075916</td>\n",
       "      <td>1.065771</td>\n",
       "      <td>0.516837</td>\n",
       "      <td>00:05</td>\n",
       "    </tr>\n",
       "    <tr>\n",
       "      <td>7</td>\n",
       "      <td>1.058659</td>\n",
       "      <td>1.045874</td>\n",
       "      <td>0.518790</td>\n",
       "      <td>00:05</td>\n",
       "    </tr>\n",
       "    <tr>\n",
       "      <td>8</td>\n",
       "      <td>1.085979</td>\n",
       "      <td>1.040755</td>\n",
       "      <td>0.521230</td>\n",
       "      <td>00:05</td>\n",
       "    </tr>\n",
       "    <tr>\n",
       "      <td>9</td>\n",
       "      <td>1.038442</td>\n",
       "      <td>1.032715</td>\n",
       "      <td>0.524158</td>\n",
       "      <td>00:05</td>\n",
       "    </tr>\n",
       "    <tr>\n",
       "      <td>10</td>\n",
       "      <td>1.067827</td>\n",
       "      <td>1.019765</td>\n",
       "      <td>0.521230</td>\n",
       "      <td>00:05</td>\n",
       "    </tr>\n",
       "    <tr>\n",
       "      <td>11</td>\n",
       "      <td>1.045737</td>\n",
       "      <td>1.045208</td>\n",
       "      <td>0.510005</td>\n",
       "      <td>00:05</td>\n",
       "    </tr>\n",
       "    <tr>\n",
       "      <td>12</td>\n",
       "      <td>1.019882</td>\n",
       "      <td>1.035970</td>\n",
       "      <td>0.507077</td>\n",
       "      <td>00:05</td>\n",
       "    </tr>\n",
       "    <tr>\n",
       "      <td>13</td>\n",
       "      <td>1.011816</td>\n",
       "      <td>1.019807</td>\n",
       "      <td>0.527086</td>\n",
       "      <td>00:05</td>\n",
       "    </tr>\n",
       "    <tr>\n",
       "      <td>14</td>\n",
       "      <td>0.992255</td>\n",
       "      <td>1.023083</td>\n",
       "      <td>0.522206</td>\n",
       "      <td>00:05</td>\n",
       "    </tr>\n",
       "    <tr>\n",
       "      <td>15</td>\n",
       "      <td>0.998586</td>\n",
       "      <td>1.028312</td>\n",
       "      <td>0.516837</td>\n",
       "      <td>00:05</td>\n",
       "    </tr>\n",
       "  </tbody>\n",
       "</table>"
      ],
      "text/plain": [
       "<IPython.core.display.HTML object>"
      ]
     },
     "metadata": {},
     "output_type": "display_data"
    },
    {
     "name": "stdout",
     "output_type": "stream",
     "text": [
      "Better model found at epoch 0 with valid_loss value: 2.194166660308838.\n",
      "Better model found at epoch 1 with valid_loss value: 1.3906981945037842.\n",
      "Better model found at epoch 2 with valid_loss value: 1.194847583770752.\n",
      "Better model found at epoch 3 with valid_loss value: 1.114700198173523.\n",
      "Better model found at epoch 4 with valid_loss value: 1.0971081256866455.\n",
      "Better model found at epoch 5 with valid_loss value: 1.071195125579834.\n",
      "Better model found at epoch 6 with valid_loss value: 1.0657708644866943.\n",
      "Better model found at epoch 7 with valid_loss value: 1.0458741188049316.\n",
      "Better model found at epoch 8 with valid_loss value: 1.0407545566558838.\n",
      "Better model found at epoch 9 with valid_loss value: 1.032715082168579.\n",
      "Better model found at epoch 10 with valid_loss value: 1.0197651386260986.\n",
      "No improvement since epoch 10: early stopping\n"
     ]
    },
    {
     "data": {
      "text/html": [
       "\n",
       "<style>\n",
       "    /* Turns off some styling */\n",
       "    progress {\n",
       "        /* gets rid of default border in Firefox and Opera. */\n",
       "        border: none;\n",
       "        /* Needs to be in here for Safari polyfill so background images work as expected. */\n",
       "        background-size: auto;\n",
       "    }\n",
       "    progress:not([value]), progress:not([value])::-webkit-progress-bar {\n",
       "        background: repeating-linear-gradient(45deg, #7e7e7e, #7e7e7e 10px, #5c5c5c 10px, #5c5c5c 20px);\n",
       "    }\n",
       "    .progress-bar-interrupted, .progress-bar-interrupted::-webkit-progress-bar {\n",
       "        background: #F44336;\n",
       "    }\n",
       "</style>\n"
      ],
      "text/plain": [
       "<IPython.core.display.HTML object>"
      ]
     },
     "metadata": {},
     "output_type": "display_data"
    },
    {
     "data": {
      "text/html": [],
      "text/plain": [
       "<IPython.core.display.HTML object>"
      ]
     },
     "metadata": {},
     "output_type": "display_data"
    },
    {
     "name": "stdout",
     "output_type": "stream",
     "text": [
      "Better model found at epoch 0 with valid_loss value: 0.515418529510498.\n"
     ]
    },
    {
     "data": {
      "image/png": "[encoded data removed]",
      "text/plain": [
       "<Figure size 640x480 with 1 Axes>"
      ]
     },
     "metadata": {},
     "output_type": "display_data"
    },
    {
     "data": {
      "image/png": "[encoded data removed]",
      "text/plain": [
       "<Figure size 640x480 with 1 Axes>"
      ]
     },
     "metadata": {},
     "output_type": "display_data"
    },
    {
     "data": {
      "image/png": "[encoded data removed]",
      "text/plain": [
       "<Figure size 640x480 with 1 Axes>"
      ]
     },
     "metadata": {},
     "output_type": "display_data"
    },
    {
     "data": {
      "image/png": "[encoded data removed]",
      "text/plain": [
       "<Figure size 640x480 with 1 Axes>"
      ]
     },
     "metadata": {},
     "output_type": "display_data"
    },
    {
     "data": {
      "image/png": "[encoded data removed]",
      "text/plain": [
       "<Figure size 640x480 with 1 Axes>"
      ]
     },
     "metadata": {},
     "output_type": "display_data"
    }
   ],
   "source": [
    "train_val = train_validate(dls,m,epoch=25,metrics=squeeze_accuracy,loss=squeeze_cross_entropy)"
   ]
  },
  {
   "cell_type": "markdown",
   "id": "3758fa6e",
   "metadata": {},
   "source": [
    "### Load Test Data"
   ]
  },
  {
   "cell_type": "code",
   "execution_count": 23,
   "id": "91422082",
   "metadata": {},
   "outputs": [
    {
     "data": {
      "text/html": [
       "<div>\n",
       "<style scoped>\n",
       "    .dataframe tbody tr th:only-of-type {\n",
       "        vertical-align: middle;\n",
       "    }\n",
       "\n",
       "    .dataframe tbody tr th {\n",
       "        vertical-align: top;\n",
       "    }\n",
       "\n",
       "    .dataframe thead th {\n",
       "        text-align: right;\n",
       "    }\n",
       "</style>\n",
       "<table border=\"1\" class=\"dataframe\">\n",
       "  <thead>\n",
       "    <tr style=\"text-align: right;\">\n",
       "      <th></th>\n",
       "      <th>activity</th>\n",
       "      <th>trace_id</th>\n",
       "      <th>case:pdc:costs</th>\n",
       "      <th>normal</th>\n",
       "      <th>event_id</th>\n",
       "    </tr>\n",
       "    <tr>\n",
       "      <th>trace_id</th>\n",
       "      <th></th>\n",
       "      <th></th>\n",
       "      <th></th>\n",
       "      <th></th>\n",
       "      <th></th>\n",
       "    </tr>\n",
       "  </thead>\n",
       "  <tbody>\n",
       "    <tr>\n",
       "      <th>trace 4</th>\n",
       "      <td>###start###</td>\n",
       "      <td>trace 4</td>\n",
       "      <td>5.0</td>\n",
       "      <td>False</td>\n",
       "      <td>0</td>\n",
       "    </tr>\n",
       "    <tr>\n",
       "      <th>trace 4</th>\n",
       "      <td>t26</td>\n",
       "      <td>trace 4</td>\n",
       "      <td>5.0</td>\n",
       "      <td>False</td>\n",
       "      <td>1</td>\n",
       "    </tr>\n",
       "    <tr>\n",
       "      <th>trace 4</th>\n",
       "      <td>t32</td>\n",
       "      <td>trace 4</td>\n",
       "      <td>5.0</td>\n",
       "      <td>False</td>\n",
       "      <td>2</td>\n",
       "    </tr>\n",
       "    <tr>\n",
       "      <th>trace 4</th>\n",
       "      <td>t41</td>\n",
       "      <td>trace 4</td>\n",
       "      <td>5.0</td>\n",
       "      <td>False</td>\n",
       "      <td>3</td>\n",
       "    </tr>\n",
       "    <tr>\n",
       "      <th>trace 4</th>\n",
       "      <td>t44</td>\n",
       "      <td>trace 4</td>\n",
       "      <td>5.0</td>\n",
       "      <td>False</td>\n",
       "      <td>4</td>\n",
       "    </tr>\n",
       "    <tr>\n",
       "      <th>trace 4</th>\n",
       "      <td>t33</td>\n",
       "      <td>trace 4</td>\n",
       "      <td>5.0</td>\n",
       "      <td>False</td>\n",
       "      <td>5</td>\n",
       "    </tr>\n",
       "    <tr>\n",
       "      <th>trace 4</th>\n",
       "      <td>t23</td>\n",
       "      <td>trace 4</td>\n",
       "      <td>5.0</td>\n",
       "      <td>False</td>\n",
       "      <td>6</td>\n",
       "    </tr>\n",
       "    <tr>\n",
       "      <th>trace 4</th>\n",
       "      <td>t31</td>\n",
       "      <td>trace 4</td>\n",
       "      <td>5.0</td>\n",
       "      <td>False</td>\n",
       "      <td>7</td>\n",
       "    </tr>\n",
       "    <tr>\n",
       "      <th>trace 4</th>\n",
       "      <td>t41</td>\n",
       "      <td>trace 4</td>\n",
       "      <td>5.0</td>\n",
       "      <td>False</td>\n",
       "      <td>8</td>\n",
       "    </tr>\n",
       "    <tr>\n",
       "      <th>trace 4</th>\n",
       "      <td>t34</td>\n",
       "      <td>trace 4</td>\n",
       "      <td>5.0</td>\n",
       "      <td>False</td>\n",
       "      <td>9</td>\n",
       "    </tr>\n",
       "    <tr>\n",
       "      <th>trace 4</th>\n",
       "      <td>t33</td>\n",
       "      <td>trace 4</td>\n",
       "      <td>5.0</td>\n",
       "      <td>False</td>\n",
       "      <td>10</td>\n",
       "    </tr>\n",
       "    <tr>\n",
       "      <th>trace 4</th>\n",
       "      <td>t24</td>\n",
       "      <td>trace 4</td>\n",
       "      <td>5.0</td>\n",
       "      <td>False</td>\n",
       "      <td>11</td>\n",
       "    </tr>\n",
       "    <tr>\n",
       "      <th>trace 4</th>\n",
       "      <td>t26</td>\n",
       "      <td>trace 4</td>\n",
       "      <td>5.0</td>\n",
       "      <td>False</td>\n",
       "      <td>12</td>\n",
       "    </tr>\n",
       "    <tr>\n",
       "      <th>trace 4</th>\n",
       "      <td>t36</td>\n",
       "      <td>trace 4</td>\n",
       "      <td>5.0</td>\n",
       "      <td>False</td>\n",
       "      <td>13</td>\n",
       "    </tr>\n",
       "    <tr>\n",
       "      <th>trace 4</th>\n",
       "      <td>t23</td>\n",
       "      <td>trace 4</td>\n",
       "      <td>5.0</td>\n",
       "      <td>False</td>\n",
       "      <td>14</td>\n",
       "    </tr>\n",
       "    <tr>\n",
       "      <th>trace 4</th>\n",
       "      <td>t44</td>\n",
       "      <td>trace 4</td>\n",
       "      <td>5.0</td>\n",
       "      <td>False</td>\n",
       "      <td>15</td>\n",
       "    </tr>\n",
       "    <tr>\n",
       "      <th>trace 4</th>\n",
       "      <td>t21</td>\n",
       "      <td>trace 4</td>\n",
       "      <td>5.0</td>\n",
       "      <td>False</td>\n",
       "      <td>16</td>\n",
       "    </tr>\n",
       "    <tr>\n",
       "      <th>trace 4</th>\n",
       "      <td>t54</td>\n",
       "      <td>trace 4</td>\n",
       "      <td>5.0</td>\n",
       "      <td>False</td>\n",
       "      <td>17</td>\n",
       "    </tr>\n",
       "    <tr>\n",
       "      <th>trace 4</th>\n",
       "      <td>t31</td>\n",
       "      <td>trace 4</td>\n",
       "      <td>5.0</td>\n",
       "      <td>False</td>\n",
       "      <td>18</td>\n",
       "    </tr>\n",
       "    <tr>\n",
       "      <th>trace 4</th>\n",
       "      <td>t41</td>\n",
       "      <td>trace 4</td>\n",
       "      <td>5.0</td>\n",
       "      <td>False</td>\n",
       "      <td>19</td>\n",
       "    </tr>\n",
       "    <tr>\n",
       "      <th>trace 4</th>\n",
       "      <td>t66</td>\n",
       "      <td>trace 4</td>\n",
       "      <td>5.0</td>\n",
       "      <td>False</td>\n",
       "      <td>20</td>\n",
       "    </tr>\n",
       "    <tr>\n",
       "      <th>trace 4</th>\n",
       "      <td>t51</td>\n",
       "      <td>trace 4</td>\n",
       "      <td>5.0</td>\n",
       "      <td>False</td>\n",
       "      <td>21</td>\n",
       "    </tr>\n",
       "    <tr>\n",
       "      <th>trace 4</th>\n",
       "      <td>t76</td>\n",
       "      <td>trace 4</td>\n",
       "      <td>5.0</td>\n",
       "      <td>False</td>\n",
       "      <td>22</td>\n",
       "    </tr>\n",
       "    <tr>\n",
       "      <th>trace 4</th>\n",
       "      <td>t74</td>\n",
       "      <td>trace 4</td>\n",
       "      <td>5.0</td>\n",
       "      <td>False</td>\n",
       "      <td>23</td>\n",
       "    </tr>\n",
       "    <tr>\n",
       "      <th>trace 4</th>\n",
       "      <td>t64</td>\n",
       "      <td>trace 4</td>\n",
       "      <td>5.0</td>\n",
       "      <td>False</td>\n",
       "      <td>24</td>\n",
       "    </tr>\n",
       "    <tr>\n",
       "      <th>trace 4</th>\n",
       "      <td>t62</td>\n",
       "      <td>trace 4</td>\n",
       "      <td>5.0</td>\n",
       "      <td>False</td>\n",
       "      <td>25</td>\n",
       "    </tr>\n",
       "    <tr>\n",
       "      <th>trace 4</th>\n",
       "      <td>t71</td>\n",
       "      <td>trace 4</td>\n",
       "      <td>5.0</td>\n",
       "      <td>False</td>\n",
       "      <td>26</td>\n",
       "    </tr>\n",
       "    <tr>\n",
       "      <th>trace 4</th>\n",
       "      <td>t34</td>\n",
       "      <td>trace 4</td>\n",
       "      <td>5.0</td>\n",
       "      <td>False</td>\n",
       "      <td>27</td>\n",
       "    </tr>\n",
       "    <tr>\n",
       "      <th>trace 4</th>\n",
       "      <td>t24</td>\n",
       "      <td>trace 4</td>\n",
       "      <td>5.0</td>\n",
       "      <td>False</td>\n",
       "      <td>28</td>\n",
       "    </tr>\n",
       "    <tr>\n",
       "      <th>trace 4</th>\n",
       "      <td>t26</td>\n",
       "      <td>trace 4</td>\n",
       "      <td>5.0</td>\n",
       "      <td>False</td>\n",
       "      <td>29</td>\n",
       "    </tr>\n",
       "    <tr>\n",
       "      <th>trace 4</th>\n",
       "      <td>t44</td>\n",
       "      <td>trace 4</td>\n",
       "      <td>5.0</td>\n",
       "      <td>False</td>\n",
       "      <td>30</td>\n",
       "    </tr>\n",
       "    <tr>\n",
       "      <th>trace 4</th>\n",
       "      <td>t34</td>\n",
       "      <td>trace 4</td>\n",
       "      <td>5.0</td>\n",
       "      <td>False</td>\n",
       "      <td>31</td>\n",
       "    </tr>\n",
       "    <tr>\n",
       "      <th>trace 4</th>\n",
       "      <td>t24</td>\n",
       "      <td>trace 4</td>\n",
       "      <td>5.0</td>\n",
       "      <td>False</td>\n",
       "      <td>32</td>\n",
       "    </tr>\n",
       "    <tr>\n",
       "      <th>trace 4</th>\n",
       "      <td>t26</td>\n",
       "      <td>trace 4</td>\n",
       "      <td>5.0</td>\n",
       "      <td>False</td>\n",
       "      <td>33</td>\n",
       "    </tr>\n",
       "    <tr>\n",
       "      <th>trace 4</th>\n",
       "      <td>t36</td>\n",
       "      <td>trace 4</td>\n",
       "      <td>5.0</td>\n",
       "      <td>False</td>\n",
       "      <td>34</td>\n",
       "    </tr>\n",
       "    <tr>\n",
       "      <th>trace 4</th>\n",
       "      <td>t44</td>\n",
       "      <td>trace 4</td>\n",
       "      <td>5.0</td>\n",
       "      <td>False</td>\n",
       "      <td>35</td>\n",
       "    </tr>\n",
       "    <tr>\n",
       "      <th>trace 4</th>\n",
       "      <td>t54</td>\n",
       "      <td>trace 4</td>\n",
       "      <td>5.0</td>\n",
       "      <td>False</td>\n",
       "      <td>36</td>\n",
       "    </tr>\n",
       "    <tr>\n",
       "      <th>trace 4</th>\n",
       "      <td>t65</td>\n",
       "      <td>trace 4</td>\n",
       "      <td>5.0</td>\n",
       "      <td>False</td>\n",
       "      <td>37</td>\n",
       "    </tr>\n",
       "    <tr>\n",
       "      <th>trace 4</th>\n",
       "      <td>t76</td>\n",
       "      <td>trace 4</td>\n",
       "      <td>5.0</td>\n",
       "      <td>False</td>\n",
       "      <td>38</td>\n",
       "    </tr>\n",
       "    <tr>\n",
       "      <th>trace 4</th>\n",
       "      <td>t74</td>\n",
       "      <td>trace 4</td>\n",
       "      <td>5.0</td>\n",
       "      <td>False</td>\n",
       "      <td>39</td>\n",
       "    </tr>\n",
       "    <tr>\n",
       "      <th>trace 4</th>\n",
       "      <td>t64</td>\n",
       "      <td>trace 4</td>\n",
       "      <td>5.0</td>\n",
       "      <td>False</td>\n",
       "      <td>40</td>\n",
       "    </tr>\n",
       "    <tr>\n",
       "      <th>trace 4</th>\n",
       "      <td>t34</td>\n",
       "      <td>trace 4</td>\n",
       "      <td>5.0</td>\n",
       "      <td>False</td>\n",
       "      <td>41</td>\n",
       "    </tr>\n",
       "    <tr>\n",
       "      <th>trace 4</th>\n",
       "      <td>t24</td>\n",
       "      <td>trace 4</td>\n",
       "      <td>5.0</td>\n",
       "      <td>False</td>\n",
       "      <td>42</td>\n",
       "    </tr>\n",
       "    <tr>\n",
       "      <th>trace 4</th>\n",
       "      <td>t26</td>\n",
       "      <td>trace 4</td>\n",
       "      <td>5.0</td>\n",
       "      <td>False</td>\n",
       "      <td>43</td>\n",
       "    </tr>\n",
       "    <tr>\n",
       "      <th>trace 4</th>\n",
       "      <td>t44</td>\n",
       "      <td>trace 4</td>\n",
       "      <td>5.0</td>\n",
       "      <td>False</td>\n",
       "      <td>44</td>\n",
       "    </tr>\n",
       "    <tr>\n",
       "      <th>trace 4</th>\n",
       "      <td>t34</td>\n",
       "      <td>trace 4</td>\n",
       "      <td>5.0</td>\n",
       "      <td>False</td>\n",
       "      <td>45</td>\n",
       "    </tr>\n",
       "    <tr>\n",
       "      <th>trace 4</th>\n",
       "      <td>t21</td>\n",
       "      <td>trace 4</td>\n",
       "      <td>5.0</td>\n",
       "      <td>False</td>\n",
       "      <td>46</td>\n",
       "    </tr>\n",
       "    <tr>\n",
       "      <th>trace 4</th>\n",
       "      <td>t24</td>\n",
       "      <td>trace 4</td>\n",
       "      <td>5.0</td>\n",
       "      <td>False</td>\n",
       "      <td>47</td>\n",
       "    </tr>\n",
       "    <tr>\n",
       "      <th>trace 4</th>\n",
       "      <td>t26</td>\n",
       "      <td>trace 4</td>\n",
       "      <td>5.0</td>\n",
       "      <td>False</td>\n",
       "      <td>48</td>\n",
       "    </tr>\n",
       "    <tr>\n",
       "      <th>trace 4</th>\n",
       "      <td>t44</td>\n",
       "      <td>trace 4</td>\n",
       "      <td>5.0</td>\n",
       "      <td>False</td>\n",
       "      <td>49</td>\n",
       "    </tr>\n",
       "  </tbody>\n",
       "</table>\n",
       "</div>"
      ],
      "text/plain": [
       "             activity trace_id case:pdc:costs normal event_id\n",
       "trace_id                                                     \n",
       "trace 4   ###start###  trace 4            5.0  False        0\n",
       "trace 4           t26  trace 4            5.0  False        1\n",
       "trace 4           t32  trace 4            5.0  False        2\n",
       "trace 4           t41  trace 4            5.0  False        3\n",
       "trace 4           t44  trace 4            5.0  False        4\n",
       "trace 4           t33  trace 4            5.0  False        5\n",
       "trace 4           t23  trace 4            5.0  False        6\n",
       "trace 4           t31  trace 4            5.0  False        7\n",
       "trace 4           t41  trace 4            5.0  False        8\n",
       "trace 4           t34  trace 4            5.0  False        9\n",
       "trace 4           t33  trace 4            5.0  False       10\n",
       "trace 4           t24  trace 4            5.0  False       11\n",
       "trace 4           t26  trace 4            5.0  False       12\n",
       "trace 4           t36  trace 4            5.0  False       13\n",
       "trace 4           t23  trace 4            5.0  False       14\n",
       "trace 4           t44  trace 4            5.0  False       15\n",
       "trace 4           t21  trace 4            5.0  False       16\n",
       "trace 4           t54  trace 4            5.0  False       17\n",
       "trace 4           t31  trace 4            5.0  False       18\n",
       "trace 4           t41  trace 4            5.0  False       19\n",
       "trace 4           t66  trace 4            5.0  False       20\n",
       "trace 4           t51  trace 4            5.0  False       21\n",
       "trace 4           t76  trace 4            5.0  False       22\n",
       "trace 4           t74  trace 4            5.0  False       23\n",
       "trace 4           t64  trace 4            5.0  False       24\n",
       "trace 4           t62  trace 4            5.0  False       25\n",
       "trace 4           t71  trace 4            5.0  False       26\n",
       "trace 4           t34  trace 4            5.0  False       27\n",
       "trace 4           t24  trace 4            5.0  False       28\n",
       "trace 4           t26  trace 4            5.0  False       29\n",
       "trace 4           t44  trace 4            5.0  False       30\n",
       "trace 4           t34  trace 4            5.0  False       31\n",
       "trace 4           t24  trace 4            5.0  False       32\n",
       "trace 4           t26  trace 4            5.0  False       33\n",
       "trace 4           t36  trace 4            5.0  False       34\n",
       "trace 4           t44  trace 4            5.0  False       35\n",
       "trace 4           t54  trace 4            5.0  False       36\n",
       "trace 4           t65  trace 4            5.0  False       37\n",
       "trace 4           t76  trace 4            5.0  False       38\n",
       "trace 4           t74  trace 4            5.0  False       39\n",
       "trace 4           t64  trace 4            5.0  False       40\n",
       "trace 4           t34  trace 4            5.0  False       41\n",
       "trace 4           t24  trace 4            5.0  False       42\n",
       "trace 4           t26  trace 4            5.0  False       43\n",
       "trace 4           t44  trace 4            5.0  False       44\n",
       "trace 4           t34  trace 4            5.0  False       45\n",
       "trace 4           t21  trace 4            5.0  False       46\n",
       "trace 4           t24  trace 4            5.0  False       47\n",
       "trace 4           t26  trace 4            5.0  False       48\n",
       "trace 4           t44  trace 4            5.0  False       49"
      ]
     },
     "execution_count": 23,
     "metadata": {},
     "output_type": "execute_result"
    }
   ],
   "source": [
    "test_log = import_log(f'data/csv/PDC2020_ground_truth/{log_name}.csv.gz')\n",
    "test_log[test_log['normal'] == False].head(50)"
   ]
  },
  {
   "cell_type": "markdown",
   "id": "f1fa1395",
   "metadata": {},
   "source": [
    "### Create PPOBJ of test data with same vocab"
   ]
  },
  {
   "cell_type": "code",
   "execution_count": 24,
   "id": "6c2fd708",
   "metadata": {},
   "outputs": [],
   "source": [
    "#export\n",
    "def process_test(test_log,categorify,cat_names='activity'):\n",
    "    o=PPObj(test_log,procs=categorify,cat_names=cat_names,y_names=cat_names,do_setup=False)\n",
    "    o.process() # map to the same categories as in the training set\n",
    "    return o\n"
   ]
  },
  {
   "cell_type": "code",
   "execution_count": 25,
   "id": "d83c39a3",
   "metadata": {},
   "outputs": [],
   "source": [
    "o = process_test(test_log,categorify)"
   ]
  },
  {
   "cell_type": "markdown",
   "id": "d526f36f",
   "metadata": {},
   "source": [
    "### Apply Prediction Model"
   ]
  },
  {
   "cell_type": "code",
   "execution_count": 26,
   "id": "e770ce43",
   "metadata": {},
   "outputs": [],
   "source": [
    "#export\n",
    "def predict_next_step(o,m,ws=5):\n",
    "    wds,idx=partial(windows_fast,ws=ws)(o.xs, o.event_ids)\n",
    "    res=(m(LongTensor(wds).cuda()))\n",
    "    return res,idx"
   ]
  },
  {
   "cell_type": "code",
   "execution_count": 27,
   "id": "b231e959",
   "metadata": {},
   "outputs": [],
   "source": [
    "nsp,idx=predict_next_step(o,m)"
   ]
  },
  {
   "cell_type": "markdown",
   "id": "06bc0020",
   "metadata": {},
   "source": [
    "### Calculate Anomaly Score"
   ]
  },
  {
   "cell_type": "code",
   "execution_count": 28,
   "id": "1306dcae",
   "metadata": {},
   "outputs": [],
   "source": [
    "def calc_anomaly_score(res,o,idx):\n",
    "    sm = nn.Softmax(dim=1)\n",
    "    y = o.items['activity'].iloc[idx].values\n",
    "    p = sm(res)\n",
    "    pred = p.max(1)[0]\n",
    "    truth = p[list(range(0, len(y))),y]\n",
    "    a_score = ((pred - truth) / pred).cpu().detach().numpy()\n",
    "    return a_score"
   ]
  },
  {
   "cell_type": "code",
   "execution_count": 29,
   "id": "577852a7",
   "metadata": {},
   "outputs": [],
   "source": [
    "anomaly_score = calc_anomaly_score(nsp,o,idx)"
   ]
  },
  {
   "cell_type": "code",
   "execution_count": null,
   "id": "de048a1c",
   "metadata": {},
   "outputs": [],
   "source": [
    "nsp,idx=predict_next_step(o,m)"
   ]
  },
  {
   "cell_type": "markdown",
   "id": "d1ff2dc0",
   "metadata": {},
   "source": [
    "### Classify Anomalies based of Threshhold, get predictions and ground truth, compute a few metrics"
   ]
  },
  {
   "cell_type": "code",
   "execution_count": 33,
   "id": "f654a04a",
   "metadata": {},
   "outputs": [],
   "source": [
    "def get_anomalies(a_score,o,idx,threshhold=0.98):\n",
    "    df=pd.DataFrame(columns=['a_score'])\n",
    "    df['a_score'] = a_score\n",
    "    df['trace_id'] = o.items.iloc[idx]['trace_id'].values\n",
    "    df['normal'] = o.items.iloc[idx]['normal'].values\n",
    "    df\n",
    "\n",
    "    y_true = (df.loc[df.trace_id.drop_duplicates().index].normal==False).tolist()\n",
    "    cases = df.loc[df.trace_id.drop_duplicates().index].trace_id.tolist()\n",
    "    anomalies = set(list(df.loc[df['a_score'] > threshhold]['trace_id']))\n",
    "    y_pred=[case in anomalies for case in cases]\n",
    "    return y_pred,y_true"
   ]
  },
  {
   "cell_type": "code",
   "execution_count": 34,
   "id": "0b3d6e0e",
   "metadata": {},
   "outputs": [],
   "source": [
    "y_pred, y_true = get_anomalies(anomaly_score,o,idx)"
   ]
  },
  {
   "cell_type": "code",
   "execution_count": 35,
   "id": "aae8346a",
   "metadata": {},
   "outputs": [
    {
     "name": "stdout",
     "output_type": "stream",
     "text": [
      "1000 1000\n"
     ]
    }
   ],
   "source": [
    "print(len(y_pred),len(y_true))"
   ]
  },
  {
   "cell_type": "code",
   "execution_count": 36,
   "id": "e01e4c28",
   "metadata": {},
   "outputs": [
    {
     "data": {
      "text/plain": [
       "0.8475551294343242"
      ]
     },
     "execution_count": 36,
     "metadata": {},
     "output_type": "execute_result"
    }
   ],
   "source": [
    "f1_score(y_true, y_pred)"
   ]
  },
  {
   "cell_type": "code",
   "execution_count": 37,
   "id": "72cc81ba",
   "metadata": {},
   "outputs": [
    {
     "data": {
      "text/plain": [
       "0.841"
      ]
     },
     "execution_count": 37,
     "metadata": {},
     "output_type": "execute_result"
    }
   ],
   "source": [
    "accuracy_score(y_true, y_pred)"
   ]
  },
  {
   "cell_type": "code",
   "execution_count": 38,
   "id": "219695bb",
   "metadata": {},
   "outputs": [
    {
     "data": {
      "text/plain": [
       "0.7441077441077442"
      ]
     },
     "execution_count": 38,
     "metadata": {},
     "output_type": "execute_result"
    }
   ],
   "source": [
    "precision_score(y_true,y_pred)"
   ]
  },
  {
   "cell_type": "code",
   "execution_count": 39,
   "id": "b5e14d32",
   "metadata": {},
   "outputs": [
    {
     "data": {
      "text/plain": [
       "0.9844097995545658"
      ]
     },
     "execution_count": 39,
     "metadata": {},
     "output_type": "execute_result"
    }
   ],
   "source": [
    "recall_score(y_true,y_pred)"
   ]
  },
  {
   "cell_type": "markdown",
   "id": "80061f69",
   "metadata": {},
   "source": [
    "### A little order"
   ]
  },
  {
   "cell_type": "code",
   "execution_count": 40,
   "id": "c59b0f5c",
   "metadata": {},
   "outputs": [
    {
     "name": "stdout",
     "output_type": "stream",
     "text": [
      "            activity    trace_id case:pdc:costs normal event_id\n",
      "trace_id                                                       \n",
      "trace 1            2     trace 1            0.0   True        0\n",
      "trace 1            3     trace 1            0.0   True        1\n",
      "trace 1            8     trace 1            0.0   True        2\n",
      "trace 1            6     trace 1            0.0   True        3\n",
      "trace 1           13     trace 1            0.0   True        4\n",
      "...              ...         ...            ...    ...      ...\n",
      "trace 1000        14  trace 1000            2.0  False       37\n",
      "trace 1000        16  trace 1000            2.0  False       38\n",
      "trace 1000        22  trace 1000            2.0  False       39\n",
      "trace 1000        26  trace 1000            2.0  False       40\n",
      "trace 1000         1  trace 1000            2.0  False       41\n",
      "\n",
      "[30095 rows x 5 columns]\n"
     ]
    }
   ],
   "source": [
    "import random\n",
    "random.seed(0)\n",
    "\n",
    "o = process_test(test_log,categorify)\n",
    "\n",
    "column_name = 'activity'\n",
    "probability_of_change = 0.01\n",
    "mask = np.random.rand(len(o[column_name])) < probability_of_change\n",
    "random_values = np.random.randint(2, 3, size=np.sum(mask))\n",
    "o.loc[mask, column_name] = random_values\n",
    "\n",
    "print(o)"
   ]
  },
  {
   "cell_type": "code",
   "execution_count": 41,
   "id": "a3cce387",
   "metadata": {},
   "outputs": [
    {
     "name": "stdout",
     "output_type": "stream",
     "text": [
      "0.782993799822852\n"
     ]
    }
   ],
   "source": [
    "nsp,idx=predict_next_step(o,m)\n",
    "anomaly_score = calc_anomaly_score(nsp,o,idx)\n",
    "y_pred, y_true = get_anomalies(anomaly_score,o,idx)\n",
    "print(f1_score(y_true, y_pred))"
   ]
  },
  {
   "cell_type": "markdown",
   "id": "88538e14",
   "metadata": {},
   "source": [
    "### Get NSP Accuracy on Inrference\n"
   ]
  },
  {
   "cell_type": "code",
   "execution_count": 42,
   "id": "1a721df3",
   "metadata": {},
   "outputs": [],
   "source": [
    "#export\n",
    "#nsp is the next step prediction\n",
    "def nsp_accuracy(o,idx,nsp):\n",
    "    nsp_y=o.ys.iloc[idx]\n",
    "    nsp_acc= accuracy(nsp,tensor(nsp_y.values).cuda())\n",
    "    return nsp_acc"
   ]
  },
  {
   "cell_type": "code",
   "execution_count": 43,
   "id": "9ea07e3d",
   "metadata": {},
   "outputs": [
    {
     "data": {
      "text/plain": [
       "TensorBase(0.4915, device='cuda:0')"
      ]
     },
     "execution_count": 43,
     "metadata": {},
     "output_type": "execute_result"
    }
   ],
   "source": [
    "nsp_accuracy(o,idx,nsp)"
   ]
  },
  {
   "cell_type": "markdown",
   "id": "51d7fbd8",
   "metadata": {},
   "source": [
    "## Multivariate Anomaly Detection\n",
    "\n",
    "Rewrite the prediction model to support multivariate prediction. Define attr_dict that maps event log to considerable attributes. Dynamically adapt preprocessing, network architecture, loss function, and anomaly score computation"
   ]
  },
  {
   "cell_type": "code",
   "execution_count": 44,
   "id": "036fa2a6",
   "metadata": {},
   "outputs": [],
   "source": [
    "#export\n",
    "attr_dict={}\n",
    "for i in [i for i in glob.glob('data/csv/binet_logs/*')]:\n",
    "    if 'bpic12'in i:\n",
    "        attr_dict[i] =['activity']\n",
    "    elif 'bpic13' in i:\n",
    "        attr_dict[i]=['activity','org:group',\n",
    "'org:resource', 'org:role', 'organization country', 'product', 'resource country','impact']\n",
    "    elif 'bpic17' in i:  \n",
    "        attr_dict[i]=['activity','EventOrigin','org:resource']\n",
    "    elif 'bpic15' in i:\n",
    "        attr_dict[i]=['activity', 'action_code', 'activityNameEN', 'activityNameNL','monitoringResource', 'org:resource', 'question']\n",
    "    elif '-1.' in i:\n",
    "        attr_dict[i]=['activity','user']\n",
    "    elif '-2.' in i:\n",
    "        attr_dict[i]=['activity','user','day']\n",
    "    elif '-3.' in i:\n",
    "        attr_dict[i]=['activity','user','day','country']\n",
    "    elif '-4.' in i:\n",
    "        attr_dict[i]=['activity','user','day','country','company']"
   ]
  },
  {
   "cell_type": "code",
   "execution_count": 45,
   "id": "264564f3",
   "metadata": {},
   "outputs": [],
   "source": [
    "#export\n",
    "def get_attr(attr_dict,log_name):\n",
    "    if log_name in attr_dict: \n",
    "        return attr_dict[log_name]\n",
    "    else: return ['activity']"
   ]
  },
  {
   "cell_type": "markdown",
   "id": "8122c58d",
   "metadata": {},
   "source": [
    "### Load Event Log:"
   ]
  },
  {
   "cell_type": "code",
   "execution_count": 46,
   "id": "14ada9e1",
   "metadata": {},
   "outputs": [],
   "source": [
    "log_name= 'medium-0.3-4'"
   ]
  },
  {
   "cell_type": "code",
   "execution_count": 47,
   "id": "2a3870cc",
   "metadata": {},
   "outputs": [],
   "source": [
    "fn=f'data/csv/binet_logs/{log_name}.csv.gz'"
   ]
  },
  {
   "cell_type": "code",
   "execution_count": 48,
   "id": "a2d756e5",
   "metadata": {},
   "outputs": [
    {
     "data": {
      "text/plain": [
       "['activity']"
      ]
     },
     "execution_count": 48,
     "metadata": {},
     "output_type": "execute_result"
    }
   ],
   "source": [
    "cols= get_attr(attr_dict,fn)\n",
    "cols"
   ]
  },
  {
   "cell_type": "code",
   "execution_count": 49,
   "id": "33e2a025",
   "metadata": {},
   "outputs": [
    {
     "data": {
      "text/html": [
       "<div>\n",
       "<style scoped>\n",
       "    .dataframe tbody tr th:only-of-type {\n",
       "        vertical-align: middle;\n",
       "    }\n",
       "\n",
       "    .dataframe tbody tr th {\n",
       "        vertical-align: top;\n",
       "    }\n",
       "\n",
       "    .dataframe thead th {\n",
       "        text-align: right;\n",
       "    }\n",
       "</style>\n",
       "<table border=\"1\" class=\"dataframe\">\n",
       "  <thead>\n",
       "    <tr style=\"text-align: right;\">\n",
       "      <th></th>\n",
       "      <th>activity</th>\n",
       "      <th>timestamp</th>\n",
       "      <th>timestamp_end</th>\n",
       "      <th>anomaly</th>\n",
       "      <th>trace_id</th>\n",
       "      <th>company</th>\n",
       "      <th>country</th>\n",
       "      <th>day</th>\n",
       "      <th>user</th>\n",
       "      <th>event_id</th>\n",
       "    </tr>\n",
       "    <tr>\n",
       "      <th>trace_id</th>\n",
       "      <th></th>\n",
       "      <th></th>\n",
       "      <th></th>\n",
       "      <th></th>\n",
       "      <th></th>\n",
       "      <th></th>\n",
       "      <th></th>\n",
       "      <th></th>\n",
       "      <th></th>\n",
       "      <th></th>\n",
       "    </tr>\n",
       "  </thead>\n",
       "  <tbody>\n",
       "    <tr>\n",
       "      <th>1</th>\n",
       "      <td>###start###</td>\n",
       "      <td>NaN</td>\n",
       "      <td>NaN</td>\n",
       "      <td>Rework</td>\n",
       "      <td>1</td>\n",
       "      <td>Codehow</td>\n",
       "      <td>Comoros</td>\n",
       "      <td>Wednesday</td>\n",
       "      <td>Wilton</td>\n",
       "      <td>0</td>\n",
       "    </tr>\n",
       "    <tr>\n",
       "      <th>1</th>\n",
       "      <td>Activity A</td>\n",
       "      <td>NaN</td>\n",
       "      <td>NaN</td>\n",
       "      <td>Rework</td>\n",
       "      <td>1</td>\n",
       "      <td>Codehow</td>\n",
       "      <td>Comoros</td>\n",
       "      <td>Wednesday</td>\n",
       "      <td>Wilton</td>\n",
       "      <td>1</td>\n",
       "    </tr>\n",
       "    <tr>\n",
       "      <th>1</th>\n",
       "      <td>Activity Z</td>\n",
       "      <td>NaN</td>\n",
       "      <td>NaN</td>\n",
       "      <td>Rework</td>\n",
       "      <td>1</td>\n",
       "      <td>Plussunin</td>\n",
       "      <td>Chad</td>\n",
       "      <td>Tuesday</td>\n",
       "      <td>Iluminada</td>\n",
       "      <td>2</td>\n",
       "    </tr>\n",
       "    <tr>\n",
       "      <th>1</th>\n",
       "      <td>Activity AA</td>\n",
       "      <td>NaN</td>\n",
       "      <td>NaN</td>\n",
       "      <td>Rework</td>\n",
       "      <td>1</td>\n",
       "      <td>year-job</td>\n",
       "      <td>Libyan Arab Jamahiriya</td>\n",
       "      <td>Wednesday</td>\n",
       "      <td>Sandra</td>\n",
       "      <td>3</td>\n",
       "    </tr>\n",
       "    <tr>\n",
       "      <th>1</th>\n",
       "      <td>Activity AF</td>\n",
       "      <td>NaN</td>\n",
       "      <td>NaN</td>\n",
       "      <td>Rework</td>\n",
       "      <td>1</td>\n",
       "      <td>Donquadtech</td>\n",
       "      <td>Cocos (Keeling) Islands</td>\n",
       "      <td>Friday</td>\n",
       "      <td>Ling</td>\n",
       "      <td>4</td>\n",
       "    </tr>\n",
       "  </tbody>\n",
       "</table>\n",
       "</div>"
      ],
      "text/plain": [
       "             activity timestamp timestamp_end anomaly trace_id      company  \\\n",
       "trace_id                                                                      \n",
       "1         ###start###       NaN           NaN  Rework        1      Codehow   \n",
       "1          Activity A       NaN           NaN  Rework        1      Codehow   \n",
       "1          Activity Z       NaN           NaN  Rework        1    Plussunin   \n",
       "1         Activity AA       NaN           NaN  Rework        1     year-job   \n",
       "1         Activity AF       NaN           NaN  Rework        1  Donquadtech   \n",
       "\n",
       "                          country        day       user event_id  \n",
       "trace_id                                                          \n",
       "1                         Comoros  Wednesday     Wilton        0  \n",
       "1                         Comoros  Wednesday     Wilton        1  \n",
       "1                            Chad    Tuesday  Iluminada        2  \n",
       "1          Libyan Arab Jamahiriya  Wednesday     Sandra        3  \n",
       "1         Cocos (Keeling) Islands     Friday       Ling        4  "
      ]
     },
     "execution_count": 49,
     "metadata": {},
     "output_type": "execute_result"
    }
   ],
   "source": [
    "log = import_log(fn,cols)\n",
    "log.head()"
   ]
  },
  {
   "cell_type": "code",
   "execution_count": 50,
   "id": "923b1a42",
   "metadata": {},
   "outputs": [
    {
     "data": {
      "text/plain": [
       "'activity'"
      ]
     },
     "execution_count": 50,
     "metadata": {},
     "output_type": "execute_result"
    }
   ],
   "source": [
    "cols[0]"
   ]
  },
  {
   "cell_type": "markdown",
   "id": "06230177",
   "metadata": {},
   "source": [
    "### Create Training Data Loaders and Vocab:"
   ]
  },
  {
   "cell_type": "code",
   "execution_count": 51,
   "id": "a6cae91b",
   "metadata": {},
   "outputs": [],
   "source": [
    "o,dls,categorify = training_dl(log,cols)"
   ]
  },
  {
   "cell_type": "code",
   "execution_count": 52,
   "id": "944ebbed",
   "metadata": {},
   "outputs": [],
   "source": [
    "xcat,ycat = dls.one_batch()"
   ]
  },
  {
   "cell_type": "code",
   "execution_count": 53,
   "id": "d364add8",
   "metadata": {},
   "outputs": [
    {
     "data": {
      "text/plain": [
       "torch.Size([32, 1, 5])"
      ]
     },
     "execution_count": 53,
     "metadata": {},
     "output_type": "execute_result"
    }
   ],
   "source": [
    "xcat.shape"
   ]
  },
  {
   "cell_type": "code",
   "execution_count": 54,
   "id": "4a3cabaa",
   "metadata": {},
   "outputs": [
    {
     "data": {
      "text/plain": [
       "tensor([33, 33,  1, 27, 33,  1, 34,  3, 18,  7,  3, 26, 10,  1,  3,  3, 34, 10,\n",
       "         3,  3, 41,  1, 10,  1,  1,  1,  3, 10,  5, 10, 10,  1],\n",
       "       device='cuda:0')"
      ]
     },
     "execution_count": 54,
     "metadata": {},
     "output_type": "execute_result"
    }
   ],
   "source": [
    "ycat[0]"
   ]
  },
  {
   "cell_type": "code",
   "execution_count": 55,
   "id": "eb7e24a6",
   "metadata": {},
   "outputs": [],
   "source": [
    "#export\n",
    "from fastai.tabular.model import get_emb_sz # get embedding size"
   ]
  },
  {
   "cell_type": "markdown",
   "id": "db34a44d",
   "metadata": {},
   "source": [
    "### Create Multivariate Prediction Model\n",
    "Todo: support continuous attributes"
   ]
  },
  {
   "cell_type": "code",
   "execution_count": 56,
   "id": "d40aed52",
   "metadata": {},
   "outputs": [],
   "source": [
    "emb_szs = get_emb_sz(o) # get embedding size"
   ]
  },
  {
   "cell_type": "code",
   "execution_count": 57,
   "id": "a5d37725",
   "metadata": {},
   "outputs": [],
   "source": [
    "#export\n",
    "class MultivariateModel(torch.nn.Module) :\n",
    "    def __init__(self, emb_szs, lstm_neurons=25,lstm_layers=2) :\n",
    "        super().__init__()\n",
    "        \n",
    "        self.embeds = nn.ModuleList([Embedding(ni, nf) for ni,nf in emb_szs])\n",
    "        self.lstms = nn.ModuleList([nn.LSTM(nf, lstm_neurons, batch_first=True, num_layers=lstm_layers) \n",
    "                                    for ni,nf in emb_szs])\n",
    "        self.linears = nn.ModuleList([nn.Linear(lstm_neurons, ni) for ni,nf in emb_szs])\n",
    "\n",
    "        \n",
    "\n",
    "    def forward(self, xcat):\n",
    "        res=[]\n",
    "        for i in range(xcat.shape[1]):\n",
    "            x =xcat[:,i]\n",
    "            x =self.embeds[i](x)\n",
    "            x,_ =self.lstms[i](x)\n",
    "            x = x[:,-1]\n",
    "            x= self.linears[i](x)\n",
    "            res.append(x)\n",
    "        return tuple(res)\n",
    "    \n"
   ]
  },
  {
   "cell_type": "code",
   "execution_count": 58,
   "id": "6349a6a9",
   "metadata": {},
   "outputs": [],
   "source": [
    "m=MultivariateModel(emb_szs)\n",
    "pred = m(xcat.cpu())"
   ]
  },
  {
   "cell_type": "markdown",
   "id": "1c5bad96",
   "metadata": {},
   "source": [
    "### Define Multi-Loss and -Metrics"
   ]
  },
  {
   "cell_type": "code",
   "execution_count": 59,
   "id": "1ef03594",
   "metadata": {},
   "outputs": [],
   "source": [
    "#export\n",
    "def _accuracy_idx(a,b,i): return accuracy(listify(a)[i],listify(b)[i])\n",
    "\n",
    "def get_metrics(o):\n",
    "    \n",
    "    number_cats=len(o.ycat_names)\n",
    "    \n",
    "    accuracies=[]\n",
    "    for i in range(number_cats):\n",
    "        accuracy_func=partial(_accuracy_idx,i=i)\n",
    "        accuracy_func.__name__= f\"acc_{o.ycat_names[i]}\"\n",
    "        accuracy_func=AvgMetric(accuracy_func)\n",
    "        accuracies.append(accuracy_func)\n",
    "    mae_days=None\n",
    "    return L(accuracies)+mae_days\n",
    "\n",
    "def multi_loss_sum(o,p,y):\n",
    "    '''Multi Loss function that sums up multiple loss functions. The selection of the loss function is based on the PPObj o'''\n",
    "    p,y=listify(p),listify(y)\n",
    "    len_cat,len_cont=len(o.ycat_names),len(o.ycont_names)\n",
    "    cross_entropies=[F.cross_entropy(p[i],y[i]) for i in range(len_cat)]\n",
    "    return torch.sum(torch.stack(list(L(cross_entropies))))\n",
    "\n",
    "def my_loss(p,y): return F.cross_entropy(p[0],y[0])\n",
    "def my_metric(p,y): return accuracy(p[0],y[0])"
   ]
  },
  {
   "cell_type": "code",
   "execution_count": 60,
   "id": "cbde838d",
   "metadata": {},
   "outputs": [],
   "source": [
    "loss=partial(multi_loss_sum,o)"
   ]
  },
  {
   "cell_type": "code",
   "execution_count": 61,
   "id": "90fb0c30",
   "metadata": {},
   "outputs": [
    {
     "data": {
      "text/plain": [
       "tensor(4.1444, grad_fn=<SumBackward0>)"
      ]
     },
     "execution_count": 61,
     "metadata": {},
     "output_type": "execute_result"
    }
   ],
   "source": [
    "loss(pred,[i.cpu() for i in ycat])"
   ]
  },
  {
   "cell_type": "markdown",
   "id": "6ee0bd35",
   "metadata": {},
   "source": [
    "### Training of the prediction network\n",
    "Todo: Rename the Metric Columns"
   ]
  },
  {
   "cell_type": "code",
   "execution_count": 62,
   "id": "f8c8a098",
   "metadata": {},
   "outputs": [
    {
     "data": {
      "text/html": [
       "\n",
       "<style>\n",
       "    /* Turns off some styling */\n",
       "    progress {\n",
       "        /* gets rid of default border in Firefox and Opera. */\n",
       "        border: none;\n",
       "        /* Needs to be in here for Safari polyfill so background images work as expected. */\n",
       "        background-size: auto;\n",
       "    }\n",
       "    progress:not([value]), progress:not([value])::-webkit-progress-bar {\n",
       "        background: repeating-linear-gradient(45deg, #7e7e7e, #7e7e7e 10px, #5c5c5c 10px, #5c5c5c 20px);\n",
       "    }\n",
       "    .progress-bar-interrupted, .progress-bar-interrupted::-webkit-progress-bar {\n",
       "        background: #F44336;\n",
       "    }\n",
       "</style>\n"
      ],
      "text/plain": [
       "<IPython.core.display.HTML object>"
      ]
     },
     "metadata": {},
     "output_type": "display_data"
    },
    {
     "data": {
      "text/html": [],
      "text/plain": [
       "<IPython.core.display.HTML object>"
      ]
     },
     "metadata": {},
     "output_type": "display_data"
    },
    {
     "data": {
      "text/html": [
       "\n",
       "<style>\n",
       "    /* Turns off some styling */\n",
       "    progress {\n",
       "        /* gets rid of default border in Firefox and Opera. */\n",
       "        border: none;\n",
       "        /* Needs to be in here for Safari polyfill so background images work as expected. */\n",
       "        background-size: auto;\n",
       "    }\n",
       "    progress:not([value]), progress:not([value])::-webkit-progress-bar {\n",
       "        background: repeating-linear-gradient(45deg, #7e7e7e, #7e7e7e 10px, #5c5c5c 10px, #5c5c5c 20px);\n",
       "    }\n",
       "    .progress-bar-interrupted, .progress-bar-interrupted::-webkit-progress-bar {\n",
       "        background: #F44336;\n",
       "    }\n",
       "</style>\n"
      ],
      "text/plain": [
       "<IPython.core.display.HTML object>"
      ]
     },
     "metadata": {},
     "output_type": "display_data"
    },
    {
     "data": {
      "text/html": [],
      "text/plain": [
       "<IPython.core.display.HTML object>"
      ]
     },
     "metadata": {},
     "output_type": "display_data"
    },
    {
     "data": {
      "text/html": [
       "\n",
       "<style>\n",
       "    /* Turns off some styling */\n",
       "    progress {\n",
       "        /* gets rid of default border in Firefox and Opera. */\n",
       "        border: none;\n",
       "        /* Needs to be in here for Safari polyfill so background images work as expected. */\n",
       "        background-size: auto;\n",
       "    }\n",
       "    progress:not([value]), progress:not([value])::-webkit-progress-bar {\n",
       "        background: repeating-linear-gradient(45deg, #7e7e7e, #7e7e7e 10px, #5c5c5c 10px, #5c5c5c 20px);\n",
       "    }\n",
       "    .progress-bar-interrupted, .progress-bar-interrupted::-webkit-progress-bar {\n",
       "        background: #F44336;\n",
       "    }\n",
       "</style>\n"
      ],
      "text/plain": [
       "<IPython.core.display.HTML object>"
      ]
     },
     "metadata": {},
     "output_type": "display_data"
    },
    {
     "data": {
      "text/html": [],
      "text/plain": [
       "<IPython.core.display.HTML object>"
      ]
     },
     "metadata": {},
     "output_type": "display_data"
    },
    {
     "data": {
      "text/html": [
       "\n",
       "<style>\n",
       "    /* Turns off some styling */\n",
       "    progress {\n",
       "        /* gets rid of default border in Firefox and Opera. */\n",
       "        border: none;\n",
       "        /* Needs to be in here for Safari polyfill so background images work as expected. */\n",
       "        background-size: auto;\n",
       "    }\n",
       "    progress:not([value]), progress:not([value])::-webkit-progress-bar {\n",
       "        background: repeating-linear-gradient(45deg, #7e7e7e, #7e7e7e 10px, #5c5c5c 10px, #5c5c5c 20px);\n",
       "    }\n",
       "    .progress-bar-interrupted, .progress-bar-interrupted::-webkit-progress-bar {\n",
       "        background: #F44336;\n",
       "    }\n",
       "</style>\n"
      ],
      "text/plain": [
       "<IPython.core.display.HTML object>"
      ]
     },
     "metadata": {},
     "output_type": "display_data"
    },
    {
     "data": {
      "text/html": [],
      "text/plain": [
       "<IPython.core.display.HTML object>"
      ]
     },
     "metadata": {},
     "output_type": "display_data"
    },
    {
     "data": {
      "text/html": [
       "\n",
       "<style>\n",
       "    /* Turns off some styling */\n",
       "    progress {\n",
       "        /* gets rid of default border in Firefox and Opera. */\n",
       "        border: none;\n",
       "        /* Needs to be in here for Safari polyfill so background images work as expected. */\n",
       "        background-size: auto;\n",
       "    }\n",
       "    progress:not([value]), progress:not([value])::-webkit-progress-bar {\n",
       "        background: repeating-linear-gradient(45deg, #7e7e7e, #7e7e7e 10px, #5c5c5c 10px, #5c5c5c 20px);\n",
       "    }\n",
       "    .progress-bar-interrupted, .progress-bar-interrupted::-webkit-progress-bar {\n",
       "        background: #F44336;\n",
       "    }\n",
       "</style>\n"
      ],
      "text/plain": [
       "<IPython.core.display.HTML object>"
      ]
     },
     "metadata": {},
     "output_type": "display_data"
    },
    {
     "data": {
      "text/html": [],
      "text/plain": [
       "<IPython.core.display.HTML object>"
      ]
     },
     "metadata": {},
     "output_type": "display_data"
    },
    {
     "data": {
      "text/html": [
       "\n",
       "<style>\n",
       "    /* Turns off some styling */\n",
       "    progress {\n",
       "        /* gets rid of default border in Firefox and Opera. */\n",
       "        border: none;\n",
       "        /* Needs to be in here for Safari polyfill so background images work as expected. */\n",
       "        background-size: auto;\n",
       "    }\n",
       "    progress:not([value]), progress:not([value])::-webkit-progress-bar {\n",
       "        background: repeating-linear-gradient(45deg, #7e7e7e, #7e7e7e 10px, #5c5c5c 10px, #5c5c5c 20px);\n",
       "    }\n",
       "    .progress-bar-interrupted, .progress-bar-interrupted::-webkit-progress-bar {\n",
       "        background: #F44336;\n",
       "    }\n",
       "</style>\n"
      ],
      "text/plain": [
       "<IPython.core.display.HTML object>"
      ]
     },
     "metadata": {},
     "output_type": "display_data"
    },
    {
     "data": {
      "text/html": [
       "<table border=\"1\" class=\"dataframe\">\n",
       "  <thead>\n",
       "    <tr style=\"text-align: left;\">\n",
       "      <th>epoch</th>\n",
       "      <th>train_loss</th>\n",
       "      <th>valid_loss</th>\n",
       "      <th>_accuracy_idx</th>\n",
       "      <th>time</th>\n",
       "    </tr>\n",
       "  </thead>\n",
       "  <tbody>\n",
       "    <tr>\n",
       "      <td>0</td>\n",
       "      <td>2.911539</td>\n",
       "      <td>2.874875</td>\n",
       "      <td>0.144917</td>\n",
       "      <td>00:11</td>\n",
       "    </tr>\n",
       "    <tr>\n",
       "      <td>1</td>\n",
       "      <td>1.594209</td>\n",
       "      <td>1.518455</td>\n",
       "      <td>0.623648</td>\n",
       "      <td>00:10</td>\n",
       "    </tr>\n",
       "    <tr>\n",
       "      <td>2</td>\n",
       "      <td>0.965611</td>\n",
       "      <td>0.970241</td>\n",
       "      <td>0.754867</td>\n",
       "      <td>00:06</td>\n",
       "    </tr>\n",
       "    <tr>\n",
       "      <td>3</td>\n",
       "      <td>0.824850</td>\n",
       "      <td>0.854869</td>\n",
       "      <td>0.766402</td>\n",
       "      <td>00:06</td>\n",
       "    </tr>\n",
       "    <tr>\n",
       "      <td>4</td>\n",
       "      <td>0.784647</td>\n",
       "      <td>0.785228</td>\n",
       "      <td>0.780101</td>\n",
       "      <td>00:07</td>\n",
       "    </tr>\n",
       "    <tr>\n",
       "      <td>5</td>\n",
       "      <td>0.798257</td>\n",
       "      <td>0.753065</td>\n",
       "      <td>0.784427</td>\n",
       "      <td>00:07</td>\n",
       "    </tr>\n",
       "    <tr>\n",
       "      <td>6</td>\n",
       "      <td>0.728544</td>\n",
       "      <td>0.732661</td>\n",
       "      <td>0.777578</td>\n",
       "      <td>00:06</td>\n",
       "    </tr>\n",
       "    <tr>\n",
       "      <td>7</td>\n",
       "      <td>0.687412</td>\n",
       "      <td>0.708642</td>\n",
       "      <td>0.786950</td>\n",
       "      <td>00:07</td>\n",
       "    </tr>\n",
       "    <tr>\n",
       "      <td>8</td>\n",
       "      <td>0.684363</td>\n",
       "      <td>0.685240</td>\n",
       "      <td>0.795242</td>\n",
       "      <td>00:07</td>\n",
       "    </tr>\n",
       "    <tr>\n",
       "      <td>9</td>\n",
       "      <td>0.631672</td>\n",
       "      <td>0.683176</td>\n",
       "      <td>0.796323</td>\n",
       "      <td>00:07</td>\n",
       "    </tr>\n",
       "    <tr>\n",
       "      <td>10</td>\n",
       "      <td>0.647378</td>\n",
       "      <td>0.681834</td>\n",
       "      <td>0.797765</td>\n",
       "      <td>00:07</td>\n",
       "    </tr>\n",
       "    <tr>\n",
       "      <td>11</td>\n",
       "      <td>0.650131</td>\n",
       "      <td>0.679562</td>\n",
       "      <td>0.796323</td>\n",
       "      <td>00:07</td>\n",
       "    </tr>\n",
       "    <tr>\n",
       "      <td>12</td>\n",
       "      <td>0.653495</td>\n",
       "      <td>0.671512</td>\n",
       "      <td>0.798846</td>\n",
       "      <td>00:07</td>\n",
       "    </tr>\n",
       "    <tr>\n",
       "      <td>13</td>\n",
       "      <td>0.634806</td>\n",
       "      <td>0.667746</td>\n",
       "      <td>0.798846</td>\n",
       "      <td>00:07</td>\n",
       "    </tr>\n",
       "    <tr>\n",
       "      <td>14</td>\n",
       "      <td>0.648122</td>\n",
       "      <td>0.667706</td>\n",
       "      <td>0.803172</td>\n",
       "      <td>00:08</td>\n",
       "    </tr>\n",
       "    <tr>\n",
       "      <td>15</td>\n",
       "      <td>0.613853</td>\n",
       "      <td>0.669172</td>\n",
       "      <td>0.798846</td>\n",
       "      <td>00:07</td>\n",
       "    </tr>\n",
       "    <tr>\n",
       "      <td>16</td>\n",
       "      <td>0.623939</td>\n",
       "      <td>0.671874</td>\n",
       "      <td>0.799928</td>\n",
       "      <td>00:07</td>\n",
       "    </tr>\n",
       "    <tr>\n",
       "      <td>17</td>\n",
       "      <td>0.608301</td>\n",
       "      <td>0.665956</td>\n",
       "      <td>0.800288</td>\n",
       "      <td>00:07</td>\n",
       "    </tr>\n",
       "    <tr>\n",
       "      <td>18</td>\n",
       "      <td>0.620163</td>\n",
       "      <td>0.662158</td>\n",
       "      <td>0.802812</td>\n",
       "      <td>00:07</td>\n",
       "    </tr>\n",
       "    <tr>\n",
       "      <td>19</td>\n",
       "      <td>0.606047</td>\n",
       "      <td>0.664174</td>\n",
       "      <td>0.799928</td>\n",
       "      <td>00:07</td>\n",
       "    </tr>\n",
       "    <tr>\n",
       "      <td>20</td>\n",
       "      <td>0.605526</td>\n",
       "      <td>0.664141</td>\n",
       "      <td>0.798486</td>\n",
       "      <td>00:07</td>\n",
       "    </tr>\n",
       "    <tr>\n",
       "      <td>21</td>\n",
       "      <td>0.587705</td>\n",
       "      <td>0.664238</td>\n",
       "      <td>0.799928</td>\n",
       "      <td>00:07</td>\n",
       "    </tr>\n",
       "    <tr>\n",
       "      <td>22</td>\n",
       "      <td>0.591177</td>\n",
       "      <td>0.664194</td>\n",
       "      <td>0.799207</td>\n",
       "      <td>00:07</td>\n",
       "    </tr>\n",
       "  </tbody>\n",
       "</table>"
      ],
      "text/plain": [
       "<IPython.core.display.HTML object>"
      ]
     },
     "metadata": {},
     "output_type": "display_data"
    },
    {
     "name": "stdout",
     "output_type": "stream",
     "text": [
      "Better model found at epoch 0 with valid_loss value: 2.8748748302459717.\n",
      "Better model found at epoch 1 with valid_loss value: 1.5184553861618042.\n",
      "Better model found at epoch 2 with valid_loss value: 0.9702413082122803.\n",
      "Better model found at epoch 3 with valid_loss value: 0.8548694849014282.\n",
      "Better model found at epoch 4 with valid_loss value: 0.7852282524108887.\n",
      "Better model found at epoch 5 with valid_loss value: 0.7530652284622192.\n",
      "Better model found at epoch 6 with valid_loss value: 0.7326606512069702.\n",
      "Better model found at epoch 7 with valid_loss value: 0.7086420655250549.\n",
      "Better model found at epoch 8 with valid_loss value: 0.6852395534515381.\n",
      "Better model found at epoch 9 with valid_loss value: 0.6831756830215454.\n",
      "Better model found at epoch 10 with valid_loss value: 0.6818344593048096.\n",
      "Better model found at epoch 11 with valid_loss value: 0.679561972618103.\n",
      "Better model found at epoch 12 with valid_loss value: 0.6715123653411865.\n",
      "Better model found at epoch 13 with valid_loss value: 0.6677463054656982.\n",
      "Better model found at epoch 14 with valid_loss value: 0.6677055358886719.\n",
      "Better model found at epoch 17 with valid_loss value: 0.665955662727356.\n",
      "Better model found at epoch 18 with valid_loss value: 0.6621583700180054.\n",
      "No improvement since epoch 17: early stopping\n"
     ]
    },
    {
     "data": {
      "text/html": [
       "\n",
       "<style>\n",
       "    /* Turns off some styling */\n",
       "    progress {\n",
       "        /* gets rid of default border in Firefox and Opera. */\n",
       "        border: none;\n",
       "        /* Needs to be in here for Safari polyfill so background images work as expected. */\n",
       "        background-size: auto;\n",
       "    }\n",
       "    progress:not([value]), progress:not([value])::-webkit-progress-bar {\n",
       "        background: repeating-linear-gradient(45deg, #7e7e7e, #7e7e7e 10px, #5c5c5c 10px, #5c5c5c 20px);\n",
       "    }\n",
       "    .progress-bar-interrupted, .progress-bar-interrupted::-webkit-progress-bar {\n",
       "        background: #F44336;\n",
       "    }\n",
       "</style>\n"
      ],
      "text/plain": [
       "<IPython.core.display.HTML object>"
      ]
     },
     "metadata": {},
     "output_type": "display_data"
    },
    {
     "data": {
      "text/html": [],
      "text/plain": [
       "<IPython.core.display.HTML object>"
      ]
     },
     "metadata": {},
     "output_type": "display_data"
    },
    {
     "name": "stdout",
     "output_type": "stream",
     "text": [
      "Better model found at epoch 0 with valid_loss value: 0.8018367290496826.\n"
     ]
    }
   ],
   "source": [
    "epoch=25\n",
    "train_val=train_validate(dls,m,loss=loss,metrics=get_metrics(o),epoch=epoch,show_plot=False)\n"
   ]
  },
  {
   "cell_type": "markdown",
   "id": "8a86be72",
   "metadata": {},
   "source": [
    "### Load Test Log for Inference"
   ]
  },
  {
   "cell_type": "code",
   "execution_count": 63,
   "id": "dc88bbaa",
   "metadata": {},
   "outputs": [],
   "source": [
    "log = import_log(fn,cols)\n",
    "log.head()\n",
    "o = process_test(log,categorify,cols)"
   ]
  },
  {
   "cell_type": "code",
   "execution_count": 64,
   "id": "c77f1e98",
   "metadata": {},
   "outputs": [],
   "source": [
    "#export\n",
    "def predict_next_step(o,m,ws=5):\n",
    "    wds,idx=partial(windows_fast,ws=ws)(o.xs, o.event_ids)\n",
    "    res= []\n",
    "    with torch.no_grad():\n",
    "        for b in DataLoader(wds,bs=8*1024,shuffle=False):\n",
    "            h= m(b.long().cuda())\n",
    "            h= tuple([i.cpu() for i in h])\n",
    "            res.append(h)\n",
    "\n",
    "    res =tuple([torch.cat([k[i] for k in res] ) for i in range(len(o.cat_names))])\n",
    "    return res,idx"
   ]
  },
  {
   "cell_type": "code",
   "execution_count": 69,
   "id": "fbf88624",
   "metadata": {},
   "outputs": [],
   "source": [
    "\n",
    "res,idx=predict_next_step(o,m)\n"
   ]
  },
  {
   "cell_type": "markdown",
   "id": "35c980a4",
   "metadata": {},
   "source": [
    "### Compute Anomaly Score"
   ]
  },
  {
   "cell_type": "code",
   "execution_count": 70,
   "id": "83cf63b5",
   "metadata": {},
   "outputs": [],
   "source": [
    "#export\n",
    "def multivariate_anomaly_score(res,o,idx,cols):\n",
    "    score_df=pd.DataFrame()\n",
    "\n",
    "    for cidx,_ in enumerate(cols):\n",
    "        sm = nn.Softmax(dim=1)\n",
    "        p = sm(res[cidx].cpu())\n",
    "        pred = p.max(1)[0]\n",
    "        y = o.items[cols[cidx]].iloc[idx].values\n",
    "\n",
    "        truth=p[list(range(len(y))),y]\n",
    "        score = ((pred - truth) / pred).tolist()\n",
    "        score_df[cols[cidx]] = score\n",
    "    score_df['trace_id']=o.items['trace_id'].iloc[idx].values\n",
    "    return score_df"
   ]
  },
  {
   "cell_type": "code",
   "execution_count": 71,
   "id": "0ed1deed",
   "metadata": {},
   "outputs": [
    {
     "data": {
      "text/html": [
       "<div>\n",
       "<style scoped>\n",
       "    .dataframe tbody tr th:only-of-type {\n",
       "        vertical-align: middle;\n",
       "    }\n",
       "\n",
       "    .dataframe tbody tr th {\n",
       "        vertical-align: top;\n",
       "    }\n",
       "\n",
       "    .dataframe thead th {\n",
       "        text-align: right;\n",
       "    }\n",
       "</style>\n",
       "<table border=\"1\" class=\"dataframe\">\n",
       "  <thead>\n",
       "    <tr style=\"text-align: right;\">\n",
       "      <th></th>\n",
       "      <th>activity</th>\n",
       "      <th>trace_id</th>\n",
       "    </tr>\n",
       "  </thead>\n",
       "  <tbody>\n",
       "    <tr>\n",
       "      <th>0</th>\n",
       "      <td>0.000000</td>\n",
       "      <td>1</td>\n",
       "    </tr>\n",
       "    <tr>\n",
       "      <th>1</th>\n",
       "      <td>0.000000</td>\n",
       "      <td>1</td>\n",
       "    </tr>\n",
       "    <tr>\n",
       "      <th>2</th>\n",
       "      <td>0.000000</td>\n",
       "      <td>1</td>\n",
       "    </tr>\n",
       "    <tr>\n",
       "      <th>3</th>\n",
       "      <td>0.378738</td>\n",
       "      <td>1</td>\n",
       "    </tr>\n",
       "    <tr>\n",
       "      <th>4</th>\n",
       "      <td>0.000000</td>\n",
       "      <td>1</td>\n",
       "    </tr>\n",
       "    <tr>\n",
       "      <th>...</th>\n",
       "      <td>...</td>\n",
       "      <td>...</td>\n",
       "    </tr>\n",
       "    <tr>\n",
       "      <th>34876</th>\n",
       "      <td>0.000000</td>\n",
       "      <td>5000</td>\n",
       "    </tr>\n",
       "    <tr>\n",
       "      <th>34877</th>\n",
       "      <td>0.000000</td>\n",
       "      <td>5000</td>\n",
       "    </tr>\n",
       "    <tr>\n",
       "      <th>34878</th>\n",
       "      <td>0.000000</td>\n",
       "      <td>5000</td>\n",
       "    </tr>\n",
       "    <tr>\n",
       "      <th>34879</th>\n",
       "      <td>0.000000</td>\n",
       "      <td>5000</td>\n",
       "    </tr>\n",
       "    <tr>\n",
       "      <th>34880</th>\n",
       "      <td>0.000000</td>\n",
       "      <td>5000</td>\n",
       "    </tr>\n",
       "  </tbody>\n",
       "</table>\n",
       "<p>34881 rows × 2 columns</p>\n",
       "</div>"
      ],
      "text/plain": [
       "       activity trace_id\n",
       "0      0.000000        1\n",
       "1      0.000000        1\n",
       "2      0.000000        1\n",
       "3      0.378738        1\n",
       "4      0.000000        1\n",
       "...         ...      ...\n",
       "34876  0.000000     5000\n",
       "34877  0.000000     5000\n",
       "34878  0.000000     5000\n",
       "34879  0.000000     5000\n",
       "34880  0.000000     5000\n",
       "\n",
       "[34881 rows x 2 columns]"
      ]
     },
     "execution_count": 71,
     "metadata": {},
     "output_type": "execute_result"
    }
   ],
   "source": [
    "score_df=multivariate_anomaly_score(res,o,idx,cols)\n",
    "score_df"
   ]
  },
  {
   "cell_type": "markdown",
   "id": "f84c6602",
   "metadata": {},
   "source": [
    "### Anomaly Classification"
   ]
  },
  {
   "cell_type": "markdown",
   "id": "71c4566d",
   "metadata": {},
   "source": [
    "We can set a fixed threshold or define a custom threshold function. Currently only fixed threshold is used."
   ]
  },
  {
   "cell_type": "code",
   "execution_count": 72,
   "id": "74407f48",
   "metadata": {},
   "outputs": [],
   "source": [
    "#export\n",
    "def get_thresholds(col,act_threshold=0.964,attr_threshold=0.9971):\n",
    "    \"\"\"\n",
    "    Defines a custom threshold function\n",
    "    \"\"\"\n",
    "    if col =='activity':\n",
    "        return act_threshold\n",
    "    else: \n",
    "        return attr_threshold"
   ]
  },
  {
   "cell_type": "code",
   "execution_count": 73,
   "id": "378ac76c",
   "metadata": {},
   "outputs": [],
   "source": [
    "#export\n",
    "def multivariate_anomalies(score_df,cols,idx,o,anomaly_col='normal',fixed_threshold=None,get_thresholds=get_thresholds):\n",
    "    if fixed_threshold is None:\n",
    "        comp_thresholds=get_thresholds\n",
    "    else:\n",
    "        comp_thresholds = lambda _: fixed_threshold\n",
    "    a=[score_df.loc[score_df[c] >= comp_thresholds(c)]['trace_id'] for c in cols]\n",
    "    anomalies=list(set().union(*a))\n",
    "    h=o.items.iloc[idx][anomaly_col]\n",
    "    if anomaly_col=='anomaly':\n",
    "        score_df['is_anomaly']=(h!='normal').tolist()\n",
    "    else:\n",
    "        score_df['is_anomaly']=(h==False).tolist()\n",
    "    score_df['anomaly']=h.tolist()\n",
    "    y_true = (score_df.loc[score_df.trace_id.drop_duplicates().index].is_anomaly).tolist()\n",
    "    cases = score_df.loc[score_df.trace_id.drop_duplicates().index].trace_id.tolist()\n",
    "    y_pred=[case in anomalies for case in cases]\n",
    "    return y_true,y_pred"
   ]
  },
  {
   "cell_type": "markdown",
   "id": "15977693",
   "metadata": {},
   "source": [
    "### Is an anomaly if any column has an anomaly!"
   ]
  },
  {
   "cell_type": "code",
   "execution_count": 74,
   "id": "7851f0bc",
   "metadata": {},
   "outputs": [],
   "source": [
    "y_true,y_pred=multivariate_anomalies(score_df,cols,idx,o,fixed_threshold=None,anomaly_col='anomaly')"
   ]
  },
  {
   "cell_type": "code",
   "execution_count": 75,
   "id": "88de79fa",
   "metadata": {},
   "outputs": [
    {
     "name": "stdout",
     "output_type": "stream",
     "text": [
      "5000\n"
     ]
    }
   ],
   "source": [
    "print(len(y_true))"
   ]
  },
  {
   "cell_type": "code",
   "execution_count": 76,
   "id": "203416ee",
   "metadata": {},
   "outputs": [
    {
     "data": {
      "text/plain": [
       "0.9000348310693138"
      ]
     },
     "execution_count": 76,
     "metadata": {},
     "output_type": "execute_result"
    }
   ],
   "source": [
    "f1_score(y_true, y_pred)"
   ]
  },
  {
   "cell_type": "code",
   "execution_count": 77,
   "id": "37f7aebb",
   "metadata": {},
   "outputs": [
    {
     "data": {
      "text/plain": [
       "anomaly\n",
       "Attribute    258\n",
       "normal        29\n",
       "Name: count, dtype: int64"
      ]
     },
     "execution_count": 77,
     "metadata": {},
     "output_type": "execute_result"
    }
   ],
   "source": [
    "k=o.items.groupby(o.items.index)['anomaly'].last().iloc[np.where(~np.equal(y_pred, y_true))[0]\n",
    "]\n",
    "k.value_counts()"
   ]
  },
  {
   "cell_type": "code",
   "execution_count": 78,
   "id": "0e8fe71d",
   "metadata": {},
   "outputs": [
    {
     "data": {
      "text/plain": [
       "anomaly\n",
       "normal          3450\n",
       "Late             270\n",
       "SkipSequence     268\n",
       "Rework           265\n",
       "Attribute        262\n",
       "Insert           251\n",
       "Early            234\n",
       "Name: count, dtype: int64"
      ]
     },
     "execution_count": 78,
     "metadata": {},
     "output_type": "execute_result"
    }
   ],
   "source": [
    "o.items.groupby(o.items.index)['anomaly'].last().value_counts()"
   ]
  },
  {
   "cell_type": "markdown",
   "id": "f140eba5",
   "metadata": {},
   "source": [
    "## Plot Anomaly Scores for a Trace"
   ]
  },
  {
   "cell_type": "code",
   "execution_count": 79,
   "id": "e5d1089a",
   "metadata": {},
   "outputs": [
    {
     "data": {
      "text/html": [
       "<div>\n",
       "<style scoped>\n",
       "    .dataframe tbody tr th:only-of-type {\n",
       "        vertical-align: middle;\n",
       "    }\n",
       "\n",
       "    .dataframe tbody tr th {\n",
       "        vertical-align: top;\n",
       "    }\n",
       "\n",
       "    .dataframe thead th {\n",
       "        text-align: right;\n",
       "    }\n",
       "</style>\n",
       "<table border=\"1\" class=\"dataframe\">\n",
       "  <thead>\n",
       "    <tr style=\"text-align: right;\">\n",
       "      <th></th>\n",
       "      <th>activity</th>\n",
       "      <th>trace_id</th>\n",
       "      <th>is_anomaly</th>\n",
       "      <th>anomaly</th>\n",
       "    </tr>\n",
       "  </thead>\n",
       "  <tbody>\n",
       "    <tr>\n",
       "      <th>0</th>\n",
       "      <td>0.000000</td>\n",
       "      <td>1</td>\n",
       "      <td>True</td>\n",
       "      <td>Rework</td>\n",
       "    </tr>\n",
       "    <tr>\n",
       "      <th>1</th>\n",
       "      <td>0.000000</td>\n",
       "      <td>1</td>\n",
       "      <td>True</td>\n",
       "      <td>Rework</td>\n",
       "    </tr>\n",
       "    <tr>\n",
       "      <th>2</th>\n",
       "      <td>0.000000</td>\n",
       "      <td>1</td>\n",
       "      <td>True</td>\n",
       "      <td>Rework</td>\n",
       "    </tr>\n",
       "    <tr>\n",
       "      <th>3</th>\n",
       "      <td>0.378738</td>\n",
       "      <td>1</td>\n",
       "      <td>True</td>\n",
       "      <td>Rework</td>\n",
       "    </tr>\n",
       "    <tr>\n",
       "      <th>4</th>\n",
       "      <td>0.000000</td>\n",
       "      <td>1</td>\n",
       "      <td>True</td>\n",
       "      <td>Rework</td>\n",
       "    </tr>\n",
       "    <tr>\n",
       "      <th>...</th>\n",
       "      <td>...</td>\n",
       "      <td>...</td>\n",
       "      <td>...</td>\n",
       "      <td>...</td>\n",
       "    </tr>\n",
       "    <tr>\n",
       "      <th>34876</th>\n",
       "      <td>0.000000</td>\n",
       "      <td>5000</td>\n",
       "      <td>False</td>\n",
       "      <td>normal</td>\n",
       "    </tr>\n",
       "    <tr>\n",
       "      <th>34877</th>\n",
       "      <td>0.000000</td>\n",
       "      <td>5000</td>\n",
       "      <td>False</td>\n",
       "      <td>normal</td>\n",
       "    </tr>\n",
       "    <tr>\n",
       "      <th>34878</th>\n",
       "      <td>0.000000</td>\n",
       "      <td>5000</td>\n",
       "      <td>False</td>\n",
       "      <td>normal</td>\n",
       "    </tr>\n",
       "    <tr>\n",
       "      <th>34879</th>\n",
       "      <td>0.000000</td>\n",
       "      <td>5000</td>\n",
       "      <td>False</td>\n",
       "      <td>normal</td>\n",
       "    </tr>\n",
       "    <tr>\n",
       "      <th>34880</th>\n",
       "      <td>0.000000</td>\n",
       "      <td>5000</td>\n",
       "      <td>False</td>\n",
       "      <td>normal</td>\n",
       "    </tr>\n",
       "  </tbody>\n",
       "</table>\n",
       "<p>34881 rows × 4 columns</p>\n",
       "</div>"
      ],
      "text/plain": [
       "       activity trace_id  is_anomaly anomaly\n",
       "0      0.000000        1        True  Rework\n",
       "1      0.000000        1        True  Rework\n",
       "2      0.000000        1        True  Rework\n",
       "3      0.378738        1        True  Rework\n",
       "4      0.000000        1        True  Rework\n",
       "...         ...      ...         ...     ...\n",
       "34876  0.000000     5000       False  normal\n",
       "34877  0.000000     5000       False  normal\n",
       "34878  0.000000     5000       False  normal\n",
       "34879  0.000000     5000       False  normal\n",
       "34880  0.000000     5000       False  normal\n",
       "\n",
       "[34881 rows x 4 columns]"
      ]
     },
     "execution_count": 79,
     "metadata": {},
     "output_type": "execute_result"
    }
   ],
   "source": [
    "score_df\n"
   ]
  },
  {
   "cell_type": "code",
   "execution_count": 80,
   "id": "6bc3a2a9",
   "metadata": {},
   "outputs": [
    {
     "data": {
      "text/plain": [
       "trace_id\n",
       "22      2\n",
       "41      3\n",
       "5       4\n",
       "38      5\n",
       "135     6\n",
       "2       7\n",
       "4       8\n",
       "14      9\n",
       "1      10\n",
       "29     11\n",
       "103    12\n",
       "dtype: int64"
      ]
     },
     "execution_count": 80,
     "metadata": {},
     "output_type": "execute_result"
    }
   ],
   "source": [
    "score_df.groupby(['trace_id']).size().drop_duplicates().sort_values()"
   ]
  },
  {
   "cell_type": "code",
   "execution_count": 83,
   "id": "f407d0d8",
   "metadata": {},
   "outputs": [
    {
     "data": {
      "text/html": [
       "<div>\n",
       "<style scoped>\n",
       "    .dataframe tbody tr th:only-of-type {\n",
       "        vertical-align: middle;\n",
       "    }\n",
       "\n",
       "    .dataframe tbody tr th {\n",
       "        vertical-align: top;\n",
       "    }\n",
       "\n",
       "    .dataframe thead th {\n",
       "        text-align: right;\n",
       "    }\n",
       "</style>\n",
       "<table border=\"1\" class=\"dataframe\">\n",
       "  <thead>\n",
       "    <tr style=\"text-align: right;\">\n",
       "      <th></th>\n",
       "      <th>activity</th>\n",
       "      <th>trace_id</th>\n",
       "      <th>is_anomaly</th>\n",
       "      <th>anomaly</th>\n",
       "      <th>event_id</th>\n",
       "    </tr>\n",
       "  </thead>\n",
       "  <tbody>\n",
       "    <tr>\n",
       "      <th>0</th>\n",
       "      <td>0.000000</td>\n",
       "      <td>1</td>\n",
       "      <td>True</td>\n",
       "      <td>Rework</td>\n",
       "      <td>0</td>\n",
       "    </tr>\n",
       "    <tr>\n",
       "      <th>1</th>\n",
       "      <td>0.000000</td>\n",
       "      <td>1</td>\n",
       "      <td>True</td>\n",
       "      <td>Rework</td>\n",
       "      <td>1</td>\n",
       "    </tr>\n",
       "    <tr>\n",
       "      <th>2</th>\n",
       "      <td>0.000000</td>\n",
       "      <td>1</td>\n",
       "      <td>True</td>\n",
       "      <td>Rework</td>\n",
       "      <td>2</td>\n",
       "    </tr>\n",
       "    <tr>\n",
       "      <th>3</th>\n",
       "      <td>0.378738</td>\n",
       "      <td>1</td>\n",
       "      <td>True</td>\n",
       "      <td>Rework</td>\n",
       "      <td>3</td>\n",
       "    </tr>\n",
       "    <tr>\n",
       "      <th>4</th>\n",
       "      <td>0.000000</td>\n",
       "      <td>1</td>\n",
       "      <td>True</td>\n",
       "      <td>Rework</td>\n",
       "      <td>4</td>\n",
       "    </tr>\n",
       "    <tr>\n",
       "      <th>...</th>\n",
       "      <td>...</td>\n",
       "      <td>...</td>\n",
       "      <td>...</td>\n",
       "      <td>...</td>\n",
       "      <td>...</td>\n",
       "    </tr>\n",
       "    <tr>\n",
       "      <th>34876</th>\n",
       "      <td>0.000000</td>\n",
       "      <td>5000</td>\n",
       "      <td>False</td>\n",
       "      <td>normal</td>\n",
       "      <td>3</td>\n",
       "    </tr>\n",
       "    <tr>\n",
       "      <th>34877</th>\n",
       "      <td>0.000000</td>\n",
       "      <td>5000</td>\n",
       "      <td>False</td>\n",
       "      <td>normal</td>\n",
       "      <td>4</td>\n",
       "    </tr>\n",
       "    <tr>\n",
       "      <th>34878</th>\n",
       "      <td>0.000000</td>\n",
       "      <td>5000</td>\n",
       "      <td>False</td>\n",
       "      <td>normal</td>\n",
       "      <td>5</td>\n",
       "    </tr>\n",
       "    <tr>\n",
       "      <th>34879</th>\n",
       "      <td>0.000000</td>\n",
       "      <td>5000</td>\n",
       "      <td>False</td>\n",
       "      <td>normal</td>\n",
       "      <td>6</td>\n",
       "    </tr>\n",
       "    <tr>\n",
       "      <th>34880</th>\n",
       "      <td>0.000000</td>\n",
       "      <td>5000</td>\n",
       "      <td>False</td>\n",
       "      <td>normal</td>\n",
       "      <td>7</td>\n",
       "    </tr>\n",
       "  </tbody>\n",
       "</table>\n",
       "<p>34881 rows × 5 columns</p>\n",
       "</div>"
      ],
      "text/plain": [
       "       activity trace_id  is_anomaly anomaly  event_id\n",
       "0      0.000000        1        True  Rework         0\n",
       "1      0.000000        1        True  Rework         1\n",
       "2      0.000000        1        True  Rework         2\n",
       "3      0.378738        1        True  Rework         3\n",
       "4      0.000000        1        True  Rework         4\n",
       "...         ...      ...         ...     ...       ...\n",
       "34876  0.000000     5000       False  normal         3\n",
       "34877  0.000000     5000       False  normal         4\n",
       "34878  0.000000     5000       False  normal         5\n",
       "34879  0.000000     5000       False  normal         6\n",
       "34880  0.000000     5000       False  normal         7\n",
       "\n",
       "[34881 rows x 5 columns]"
      ]
     },
     "execution_count": 83,
     "metadata": {},
     "output_type": "execute_result"
    }
   ],
   "source": [
    "score_df"
   ]
  },
  {
   "cell_type": "code",
   "execution_count": 84,
   "id": "c4fab847",
   "metadata": {},
   "outputs": [
    {
     "data": {
      "text/html": [
       "<div>\n",
       "<style scoped>\n",
       "    .dataframe tbody tr th:only-of-type {\n",
       "        vertical-align: middle;\n",
       "    }\n",
       "\n",
       "    .dataframe tbody tr th {\n",
       "        vertical-align: top;\n",
       "    }\n",
       "\n",
       "    .dataframe thead th {\n",
       "        text-align: right;\n",
       "    }\n",
       "</style>\n",
       "<table border=\"1\" class=\"dataframe\">\n",
       "  <thead>\n",
       "    <tr style=\"text-align: right;\">\n",
       "      <th></th>\n",
       "      <th>trace_id</th>\n",
       "      <th>anomaly</th>\n",
       "      <th>event_id</th>\n",
       "      <th>Attribute</th>\n",
       "      <th>Anomaly Score</th>\n",
       "    </tr>\n",
       "  </thead>\n",
       "  <tbody>\n",
       "    <tr>\n",
       "      <th>0</th>\n",
       "      <td>1</td>\n",
       "      <td>Rework</td>\n",
       "      <td>0</td>\n",
       "      <td>activity</td>\n",
       "      <td>0.000000</td>\n",
       "    </tr>\n",
       "    <tr>\n",
       "      <th>1</th>\n",
       "      <td>1</td>\n",
       "      <td>Rework</td>\n",
       "      <td>1</td>\n",
       "      <td>activity</td>\n",
       "      <td>0.000000</td>\n",
       "    </tr>\n",
       "    <tr>\n",
       "      <th>2</th>\n",
       "      <td>1</td>\n",
       "      <td>Rework</td>\n",
       "      <td>2</td>\n",
       "      <td>activity</td>\n",
       "      <td>0.000000</td>\n",
       "    </tr>\n",
       "    <tr>\n",
       "      <th>3</th>\n",
       "      <td>1</td>\n",
       "      <td>Rework</td>\n",
       "      <td>3</td>\n",
       "      <td>activity</td>\n",
       "      <td>0.378738</td>\n",
       "    </tr>\n",
       "    <tr>\n",
       "      <th>4</th>\n",
       "      <td>1</td>\n",
       "      <td>Rework</td>\n",
       "      <td>4</td>\n",
       "      <td>activity</td>\n",
       "      <td>0.000000</td>\n",
       "    </tr>\n",
       "    <tr>\n",
       "      <th>...</th>\n",
       "      <td>...</td>\n",
       "      <td>...</td>\n",
       "      <td>...</td>\n",
       "      <td>...</td>\n",
       "      <td>...</td>\n",
       "    </tr>\n",
       "    <tr>\n",
       "      <th>34876</th>\n",
       "      <td>5000</td>\n",
       "      <td>normal</td>\n",
       "      <td>3</td>\n",
       "      <td>activity</td>\n",
       "      <td>0.000000</td>\n",
       "    </tr>\n",
       "    <tr>\n",
       "      <th>34877</th>\n",
       "      <td>5000</td>\n",
       "      <td>normal</td>\n",
       "      <td>4</td>\n",
       "      <td>activity</td>\n",
       "      <td>0.000000</td>\n",
       "    </tr>\n",
       "    <tr>\n",
       "      <th>34878</th>\n",
       "      <td>5000</td>\n",
       "      <td>normal</td>\n",
       "      <td>5</td>\n",
       "      <td>activity</td>\n",
       "      <td>0.000000</td>\n",
       "    </tr>\n",
       "    <tr>\n",
       "      <th>34879</th>\n",
       "      <td>5000</td>\n",
       "      <td>normal</td>\n",
       "      <td>6</td>\n",
       "      <td>activity</td>\n",
       "      <td>0.000000</td>\n",
       "    </tr>\n",
       "    <tr>\n",
       "      <th>34880</th>\n",
       "      <td>5000</td>\n",
       "      <td>normal</td>\n",
       "      <td>7</td>\n",
       "      <td>activity</td>\n",
       "      <td>0.000000</td>\n",
       "    </tr>\n",
       "  </tbody>\n",
       "</table>\n",
       "<p>34881 rows × 5 columns</p>\n",
       "</div>"
      ],
      "text/plain": [
       "      trace_id anomaly  event_id Attribute  Anomaly Score\n",
       "0            1  Rework         0  activity       0.000000\n",
       "1            1  Rework         1  activity       0.000000\n",
       "2            1  Rework         2  activity       0.000000\n",
       "3            1  Rework         3  activity       0.378738\n",
       "4            1  Rework         4  activity       0.000000\n",
       "...        ...     ...       ...       ...            ...\n",
       "34876     5000  normal         3  activity       0.000000\n",
       "34877     5000  normal         4  activity       0.000000\n",
       "34878     5000  normal         5  activity       0.000000\n",
       "34879     5000  normal         6  activity       0.000000\n",
       "34880     5000  normal         7  activity       0.000000\n",
       "\n",
       "[34881 rows x 5 columns]"
      ]
     },
     "execution_count": 84,
     "metadata": {},
     "output_type": "execute_result"
    }
   ],
   "source": [
    "score_df['event_id']=score_df.groupby('trace_id').cumcount()\n",
    "\n",
    "# plot_data=score_df.melt(value_vars=['activity','user','day','country','company'],value_name='Anomaly Score',var_name='Attribute',id_vars=['trace_id','anomaly','event_id'])\n",
    "\n",
    "plot_data=score_df.melt(value_vars=['activity'],value_name='Anomaly Score',var_name='Attribute',id_vars=['trace_id','anomaly','event_id'])\n",
    "plot_data['event_id']=plot_data.groupby('trace_id').cumcount()\n",
    "plot_data"
   ]
  },
  {
   "cell_type": "code",
   "execution_count": 87,
   "id": "001d1347",
   "metadata": {},
   "outputs": [],
   "source": [
    "import seaborn as sns"
   ]
  },
  {
   "cell_type": "code",
   "execution_count": 91,
   "id": "858bf031",
   "metadata": {},
   "outputs": [
    {
     "data": {
      "text/html": [
       "<div>\n",
       "<style scoped>\n",
       "    .dataframe tbody tr th:only-of-type {\n",
       "        vertical-align: middle;\n",
       "    }\n",
       "\n",
       "    .dataframe tbody tr th {\n",
       "        vertical-align: top;\n",
       "    }\n",
       "\n",
       "    .dataframe thead th {\n",
       "        text-align: right;\n",
       "    }\n",
       "</style>\n",
       "<table border=\"1\" class=\"dataframe\">\n",
       "  <thead>\n",
       "    <tr style=\"text-align: right;\">\n",
       "      <th></th>\n",
       "      <th>trace_id</th>\n",
       "      <th>anomaly</th>\n",
       "      <th>event_id</th>\n",
       "      <th>Attribute</th>\n",
       "      <th>Anomaly Score</th>\n",
       "    </tr>\n",
       "  </thead>\n",
       "  <tbody>\n",
       "    <tr>\n",
       "      <th>39</th>\n",
       "      <td>6</td>\n",
       "      <td>normal</td>\n",
       "      <td>0</td>\n",
       "      <td>activity</td>\n",
       "      <td>0.000000</td>\n",
       "    </tr>\n",
       "    <tr>\n",
       "      <th>40</th>\n",
       "      <td>6</td>\n",
       "      <td>normal</td>\n",
       "      <td>1</td>\n",
       "      <td>activity</td>\n",
       "      <td>0.000000</td>\n",
       "    </tr>\n",
       "    <tr>\n",
       "      <th>41</th>\n",
       "      <td>6</td>\n",
       "      <td>normal</td>\n",
       "      <td>2</td>\n",
       "      <td>activity</td>\n",
       "      <td>0.000000</td>\n",
       "    </tr>\n",
       "    <tr>\n",
       "      <th>42</th>\n",
       "      <td>6</td>\n",
       "      <td>normal</td>\n",
       "      <td>3</td>\n",
       "      <td>activity</td>\n",
       "      <td>0.378738</td>\n",
       "    </tr>\n",
       "    <tr>\n",
       "      <th>43</th>\n",
       "      <td>6</td>\n",
       "      <td>normal</td>\n",
       "      <td>4</td>\n",
       "      <td>activity</td>\n",
       "      <td>0.000000</td>\n",
       "    </tr>\n",
       "    <tr>\n",
       "      <th>44</th>\n",
       "      <td>6</td>\n",
       "      <td>normal</td>\n",
       "      <td>5</td>\n",
       "      <td>activity</td>\n",
       "      <td>0.000000</td>\n",
       "    </tr>\n",
       "    <tr>\n",
       "      <th>45</th>\n",
       "      <td>6</td>\n",
       "      <td>normal</td>\n",
       "      <td>6</td>\n",
       "      <td>activity</td>\n",
       "      <td>0.000000</td>\n",
       "    </tr>\n",
       "  </tbody>\n",
       "</table>\n",
       "</div>"
      ],
      "text/plain": [
       "   trace_id anomaly  event_id Attribute  Anomaly Score\n",
       "39        6  normal         0  activity       0.000000\n",
       "40        6  normal         1  activity       0.000000\n",
       "41        6  normal         2  activity       0.000000\n",
       "42        6  normal         3  activity       0.378738\n",
       "43        6  normal         4  activity       0.000000\n",
       "44        6  normal         5  activity       0.000000\n",
       "45        6  normal         6  activity       0.000000"
      ]
     },
     "execution_count": 91,
     "metadata": {},
     "output_type": "execute_result"
    }
   ],
   "source": [
    "data=plot_data[plot_data['trace_id']==6].copy()\n",
    "data"
   ]
  },
  {
   "cell_type": "code",
   "execution_count": 92,
   "id": "6e8158d3",
   "metadata": {},
   "outputs": [
    {
     "name": "stdout",
     "output_type": "stream",
     "text": [
      "7\n",
      "normal\n",
      "6\n"
     ]
    },
    {
     "name": "stderr",
     "output_type": "stream",
     "text": [
      "c:\\Users\\Rom\\anaconda3\\envs\\dapnn\\lib\\site-packages\\seaborn\\axisgrid.py:123: UserWarning: The figure layout has changed to tight\n",
      "  self._figure.tight_layout(*args, **kwargs)\n",
      "C:\\Users\\Rom\\AppData\\Local\\Temp\\ipykernel_14784\\2664283987.py:19: UserWarning: FixedFormatter should only be used together with FixedLocator\n",
      "  ax.set_xticklabels([f'e{y+1}' for x in range(5) for y in range(len(data)//5)], rotation=40,fontsize=9) # set new labels\n"
     ]
    },
    {
     "data": {
      "image/png": "[encoded data removed]",
      "text/plain": [
       "<Figure size 901.5x400 with 1 Axes>"
      ]
     },
     "metadata": {},
     "output_type": "display_data"
    }
   ],
   "source": [
    "data=plot_data[plot_data['trace_id']==6].copy()\n",
    "data\n",
    "data['xticks']= [f'e{y+1}' for x in range(5) for y in range(len(data)//5)] + ['e', 'e']\n",
    "print(len(data))\n",
    "print(data['anomaly'].iloc[0])\n",
    "print(data['trace_id'].iloc[0])\n",
    "times = data.event_id.unique()\n",
    "g = sns.FacetGrid(data, col=\"trace_id\", hue=\"Attribute\",\n",
    "                  palette=\"Set3\", height=4, aspect=2)\n",
    "g.map(sns.barplot, 'event_id', 'Anomaly Score', order=times)\n",
    "g.add_legend()\n",
    "ax1 = g.axes[0][0]\n",
    "g.set_titles(col_template=\"\", row_template=\"\")\n",
    "g.set_axis_labels('')\n",
    "\n",
    "ax1.axhline(0.98, ls='--')\n",
    "for ax in g.axes.flat:\n",
    "  \n",
    "    ax.set_xticklabels([f'e{y+1}' for x in range(5) for y in range(len(data)//5)], rotation=40,fontsize=9) # set new labels\n",
    "plt.show()"
   ]
  },
  {
   "cell_type": "code",
   "execution_count": 93,
   "id": "30752109",
   "metadata": {},
   "outputs": [],
   "source": [
    "import matplotlib.pyplot as plt\n",
    "plt.style.use('ggplot')\n"
   ]
  },
  {
   "cell_type": "code",
   "execution_count": 96,
   "id": "3fd88b5a",
   "metadata": {},
   "outputs": [],
   "source": [
    "def plot_anomaly_scores(trace_id):\n",
    "    data=plot_data[plot_data['trace_id']==trace_id]\n",
    "    print(len(data))\n",
    "    print(data['anomaly'].iloc[0])\n",
    "    print(data['trace_id'].iloc[0])\n",
    "    times = data.event_id.unique()\n",
    "    g = sns.FacetGrid(data, col=\"trace_id\", hue=\"Attribute\",\n",
    "                      palette=\"Set3\", height=4, aspect=2)\n",
    "    g.map(sns.barplot, 'event_id', 'Anomaly Score', order=times)\n",
    "    g.add_legend()\n",
    "    ax1 = g.axes[0][0]\n",
    "    g.set_titles(col_template=\"\", row_template=\"\")\n",
    "    g.set_axis_labels('')\n",
    "    ax1.axhline(0.98, ls='--')\n",
    "    for ax in g.axes.flat:\n",
    "\n",
    "        ax.set_xticklabels([f'e{x+1}' for x in range(5) for y in range(len(data)//5)], rotation=50,fontsize=11) # set new labels\n",
    "    plt.show()"
   ]
  },
  {
   "cell_type": "code",
   "execution_count": 97,
   "id": "68b81aec",
   "metadata": {},
   "outputs": [
    {
     "name": "stdout",
     "output_type": "stream",
     "text": [
      "10\n",
      "Rework\n",
      "1\n"
     ]
    },
    {
     "name": "stderr",
     "output_type": "stream",
     "text": [
      "c:\\Users\\Rom\\anaconda3\\envs\\dapnn\\lib\\site-packages\\seaborn\\axisgrid.py:123: UserWarning: The figure layout has changed to tight\n",
      "  self._figure.tight_layout(*args, **kwargs)\n",
      "C:\\Users\\Rom\\AppData\\Local\\Temp\\ipykernel_14784\\2701372168.py:17: UserWarning: FixedFormatter should only be used together with FixedLocator\n",
      "  ax.set_xticklabels([f'e{x+1}' for x in range(5) for y in range(len(data)//5)], rotation=50,fontsize=11) # set new labels\n"
     ]
    },
    {
     "data": {
      "image/png": "[encoded data removed]",
      "text/plain": [
       "<Figure size 901.5x400 with 1 Axes>"
      ]
     },
     "metadata": {},
     "output_type": "display_data"
    }
   ],
   "source": [
    "plot_anomaly_scores(1)"
   ]
  },
  {
   "cell_type": "code",
   "execution_count": 98,
   "id": "d27ec6ea",
   "metadata": {},
   "outputs": [
    {
     "name": "stdout",
     "output_type": "stream",
     "text": [
      "7\n",
      "normal\n",
      "6\n"
     ]
    },
    {
     "name": "stderr",
     "output_type": "stream",
     "text": [
      "c:\\Users\\Rom\\anaconda3\\envs\\dapnn\\lib\\site-packages\\seaborn\\axisgrid.py:123: UserWarning: The figure layout has changed to tight\n",
      "  self._figure.tight_layout(*args, **kwargs)\n",
      "C:\\Users\\Rom\\AppData\\Local\\Temp\\ipykernel_14784\\2701372168.py:17: UserWarning: FixedFormatter should only be used together with FixedLocator\n",
      "  ax.set_xticklabels([f'e{x+1}' for x in range(5) for y in range(len(data)//5)], rotation=50,fontsize=11) # set new labels\n"
     ]
    },
    {
     "data": {
      "image/png": "[encoded data removed]",
      "text/plain": [
       "<Figure size 901.5x400 with 1 Axes>"
      ]
     },
     "metadata": {},
     "output_type": "display_data"
    }
   ],
   "source": [
    "plot_anomaly_scores(6)"
   ]
  },
  {
   "cell_type": "code",
   "execution_count": null,
   "id": "c28d1ce0",
   "metadata": {},
   "outputs": [],
   "source": []
  }
 ],
 "metadata": {
  "kernelspec": {
   "display_name": "Research",
   "language": "python",
   "name": "python3"
  },
  "language_info": {
   "codemirror_mode": {
    "name": "ipython",
    "version": 3
   },
   "file_extension": ".py",
   "mimetype": "text/x-python",
   "name": "python",
   "nbconvert_exporter": "python",
   "pygments_lexer": "ipython3",
   "version": "3.9.18"
  }
 },
 "nbformat": 4,
 "nbformat_minor": 5
}
