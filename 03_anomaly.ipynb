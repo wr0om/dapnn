{
 "cells": [
  {
   "cell_type": "markdown",
   "id": "dbac30d7",
   "metadata": {},
   "source": [
    "# Anomaly Detection Model\n",
    ">  Includes the anomaly detection algorithm, i.e. the prediction model, the loss functions and the anomaly score calculation and classification, as well as the metric computation."
   ]
  },
  {
   "cell_type": "markdown",
   "id": "9e2b119a",
   "metadata": {},
   "source": [
    "<h1>Table of Contents<span class=\"tocSkip\"></span></h1>\n",
    "<div class=\"toc\"><ul class=\"toc-item\"><li><span><a href=\"#Only-Control-flow\" data-toc-modified-id=\"Only-Control-flow-1\"><span class=\"toc-item-num\">1&nbsp;&nbsp;</span>Only Control-flow</a></span><ul class=\"toc-item\"><li><span><a href=\"#Load-Log\" data-toc-modified-id=\"Load-Log-1.1\"><span class=\"toc-item-num\">1.1&nbsp;&nbsp;</span>Load Log</a></span></li><li><span><a href=\"#Create-PPObj-with-vocab-and-dataloaders\" data-toc-modified-id=\"Create-PPObj-with-vocab-and-dataloaders-1.2\"><span class=\"toc-item-num\">1.2&nbsp;&nbsp;</span>Create PPObj with vocab and dataloaders</a></span></li><li><span><a href=\"#Define-Deep-Learning-Model\" data-toc-modified-id=\"Define-Deep-Learning-Model-1.3\"><span class=\"toc-item-num\">1.3&nbsp;&nbsp;</span>Define Deep Learning Model</a></span></li><li><span><a href=\"#Define-Training-Loop-and-Helper-Functions\" data-toc-modified-id=\"Define-Training-Loop-and-Helper-Functions-1.4\"><span class=\"toc-item-num\">1.4&nbsp;&nbsp;</span>Define Training Loop and Helper Functions</a></span></li><li><span><a href=\"#Train-prediction-model\" data-toc-modified-id=\"Train-prediction-model-1.5\"><span class=\"toc-item-num\">1.5&nbsp;&nbsp;</span>Train prediction model</a></span></li><li><span><a href=\"#Load-Test-Data\" data-toc-modified-id=\"Load-Test-Data-1.6\"><span class=\"toc-item-num\">1.6&nbsp;&nbsp;</span>Load Test Data</a></span></li><li><span><a href=\"#Create-PPOBJ-of-test-data-with-same-vocab\" data-toc-modified-id=\"Create-PPOBJ-of-test-data-with-same-vocab-1.7\"><span class=\"toc-item-num\">1.7&nbsp;&nbsp;</span>Create PPOBJ of test data with same vocab</a></span></li><li><span><a href=\"#Apply-Prediction-Model\" data-toc-modified-id=\"Apply-Prediction-Model-1.8\"><span class=\"toc-item-num\">1.8&nbsp;&nbsp;</span>Apply Prediction Model</a></span></li><li><span><a href=\"#Calculate-Anomaly-Score\" data-toc-modified-id=\"Calculate-Anomaly-Score-1.9\"><span class=\"toc-item-num\">1.9&nbsp;&nbsp;</span>Calculate Anomaly Score</a></span></li><li><span><a href=\"#Classify-Anomalies-based-of-Threshhold,-get-predictions-and-ground-truth,-compute-a-few-metrics\" data-toc-modified-id=\"Classify-Anomalies-based-of-Threshhold,-get-predictions-and-ground-truth,-compute-a-few-metrics-1.10\"><span class=\"toc-item-num\">1.10&nbsp;&nbsp;</span>Classify Anomalies based of Threshhold, get predictions and ground truth, compute a few metrics</a></span></li><li><span><a href=\"#Get-NSP-Accuracy-on-Inrference\" data-toc-modified-id=\"Get-NSP-Accuracy-on-Inrference-1.11\"><span class=\"toc-item-num\">1.11&nbsp;&nbsp;</span>Get NSP Accuracy on Inrference</a></span></li></ul></li><li><span><a href=\"#Multivariate-Anomaly-Detection\" data-toc-modified-id=\"Multivariate-Anomaly-Detection-2\"><span class=\"toc-item-num\">2&nbsp;&nbsp;</span>Multivariate Anomaly Detection</a></span><ul class=\"toc-item\"><li><span><a href=\"#Load-Event-Log:\" data-toc-modified-id=\"Load-Event-Log:-2.1\"><span class=\"toc-item-num\">2.1&nbsp;&nbsp;</span>Load Event Log:</a></span></li><li><span><a href=\"#Create-Training-Data-Loaders-and-Vocab:\" data-toc-modified-id=\"Create-Training-Data-Loaders-and-Vocab:-2.2\"><span class=\"toc-item-num\">2.2&nbsp;&nbsp;</span>Create Training Data Loaders and Vocab:</a></span></li><li><span><a href=\"#Create-Multivariate-Prediction-Model\" data-toc-modified-id=\"Create-Multivariate-Prediction-Model-2.3\"><span class=\"toc-item-num\">2.3&nbsp;&nbsp;</span>Create Multivariate Prediction Model</a></span></li><li><span><a href=\"#Define-Multi-Loss-and--Metrics\" data-toc-modified-id=\"Define-Multi-Loss-and--Metrics-2.4\"><span class=\"toc-item-num\">2.4&nbsp;&nbsp;</span>Define Multi-Loss and -Metrics</a></span></li><li><span><a href=\"#Training-of-the-prediction-network\" data-toc-modified-id=\"Training-of-the-prediction-network-2.5\"><span class=\"toc-item-num\">2.5&nbsp;&nbsp;</span>Training of the prediction network</a></span></li><li><span><a href=\"#Load-Test-Log-for-Inference\" data-toc-modified-id=\"Load-Test-Log-for-Inference-2.6\"><span class=\"toc-item-num\">2.6&nbsp;&nbsp;</span>Load Test Log for Inference</a></span></li><li><span><a href=\"#Compute-Anomaly-Score\" data-toc-modified-id=\"Compute-Anomaly-Score-2.7\"><span class=\"toc-item-num\">2.7&nbsp;&nbsp;</span>Compute Anomaly Score</a></span></li><li><span><a href=\"#Anomaly-Classification\" data-toc-modified-id=\"Anomaly-Classification-2.8\"><span class=\"toc-item-num\">2.8&nbsp;&nbsp;</span>Anomaly Classification</a></span></li></ul></li><li><span><a href=\"#Plot-Anomaly-Scores-for-a-Trace\" data-toc-modified-id=\"Plot-Anomaly-Scores-for-a-Trace-3\"><span class=\"toc-item-num\">3&nbsp;&nbsp;</span>Plot Anomaly Scores for a Trace</a></span></li></ul></div>"
   ]
  },
  {
   "cell_type": "code",
   "execution_count": 114,
   "id": "79215c33",
   "metadata": {},
   "outputs": [],
   "source": [
    "#default_exp anomaly"
   ]
  },
  {
   "cell_type": "code",
   "execution_count": 115,
   "id": "dc358b60",
   "metadata": {},
   "outputs": [
    {
     "name": "stdout",
     "output_type": "stream",
     "text": [
      "The autoreload extension is already loaded. To reload it, use:\n",
      "  %reload_ext autoreload\n"
     ]
    }
   ],
   "source": [
    "%load_ext autoreload\n",
    "%autoreload 2\n",
    "%matplotlib inline"
   ]
  },
  {
   "cell_type": "code",
   "execution_count": 116,
   "id": "b0603fe6",
   "metadata": {},
   "outputs": [],
   "source": [
    "#export\n",
    "\n",
    "from dapnn.imports import *\n",
    "from dapnn.data_processing import *"
   ]
  },
  {
   "cell_type": "code",
   "execution_count": 117,
   "id": "3769b901",
   "metadata": {},
   "outputs": [],
   "source": [
    "#export\n",
    "import warnings\n",
    "warnings.filterwarnings(action='once')"
   ]
  },
  {
   "cell_type": "code",
   "execution_count": 118,
   "id": "d7c08ed1",
   "metadata": {},
   "outputs": [],
   "source": [
    "#notebook2script(fname='03_anomaly.ipynb')"
   ]
  },
  {
   "cell_type": "markdown",
   "id": "a1b60692",
   "metadata": {},
   "source": [
    "## Only Control-flow "
   ]
  },
  {
   "cell_type": "markdown",
   "id": "2a9964cd",
   "metadata": {},
   "source": [
    "### Load Log"
   ]
  },
  {
   "cell_type": "code",
   "execution_count": 119,
   "id": "6de18bea",
   "metadata": {},
   "outputs": [],
   "source": [
    "log_name='pdc_2020_0101100'"
   ]
  },
  {
   "cell_type": "code",
   "execution_count": 120,
   "id": "c4594ac8",
   "metadata": {},
   "outputs": [
    {
     "data": {
      "text/html": [
       "<div>\n",
       "<style scoped>\n",
       "    .dataframe tbody tr th:only-of-type {\n",
       "        vertical-align: middle;\n",
       "    }\n",
       "\n",
       "    .dataframe tbody tr th {\n",
       "        vertical-align: top;\n",
       "    }\n",
       "\n",
       "    .dataframe thead th {\n",
       "        text-align: right;\n",
       "    }\n",
       "</style>\n",
       "<table border=\"1\" class=\"dataframe\">\n",
       "  <thead>\n",
       "    <tr style=\"text-align: right;\">\n",
       "      <th></th>\n",
       "      <th>activity</th>\n",
       "      <th>trace_id</th>\n",
       "      <th>event_id</th>\n",
       "    </tr>\n",
       "    <tr>\n",
       "      <th>trace_id</th>\n",
       "      <th></th>\n",
       "      <th></th>\n",
       "      <th></th>\n",
       "    </tr>\n",
       "  </thead>\n",
       "  <tbody>\n",
       "    <tr>\n",
       "      <th>trace 1</th>\n",
       "      <td>###start###</td>\n",
       "      <td>trace 1</td>\n",
       "      <td>0</td>\n",
       "    </tr>\n",
       "    <tr>\n",
       "      <th>trace 1</th>\n",
       "      <td>t31</td>\n",
       "      <td>trace 1</td>\n",
       "      <td>1</td>\n",
       "    </tr>\n",
       "    <tr>\n",
       "      <th>trace 1</th>\n",
       "      <td>t41</td>\n",
       "      <td>trace 1</td>\n",
       "      <td>2</td>\n",
       "    </tr>\n",
       "    <tr>\n",
       "      <th>trace 1</th>\n",
       "      <td>t26</td>\n",
       "      <td>trace 1</td>\n",
       "      <td>3</td>\n",
       "    </tr>\n",
       "    <tr>\n",
       "      <th>trace 1</th>\n",
       "      <td>t36</td>\n",
       "      <td>trace 1</td>\n",
       "      <td>4</td>\n",
       "    </tr>\n",
       "    <tr>\n",
       "      <th>trace 1</th>\n",
       "      <td>t44</td>\n",
       "      <td>trace 1</td>\n",
       "      <td>5</td>\n",
       "    </tr>\n",
       "    <tr>\n",
       "      <th>trace 1</th>\n",
       "      <td>t54</td>\n",
       "      <td>trace 1</td>\n",
       "      <td>6</td>\n",
       "    </tr>\n",
       "    <tr>\n",
       "      <th>trace 1</th>\n",
       "      <td>t33</td>\n",
       "      <td>trace 1</td>\n",
       "      <td>7</td>\n",
       "    </tr>\n",
       "    <tr>\n",
       "      <th>trace 1</th>\n",
       "      <td>t23</td>\n",
       "      <td>trace 1</td>\n",
       "      <td>8</td>\n",
       "    </tr>\n",
       "    <tr>\n",
       "      <th>trace 1</th>\n",
       "      <td>t65</td>\n",
       "      <td>trace 1</td>\n",
       "      <td>9</td>\n",
       "    </tr>\n",
       "    <tr>\n",
       "      <th>trace 1</th>\n",
       "      <td>t76</td>\n",
       "      <td>trace 1</td>\n",
       "      <td>10</td>\n",
       "    </tr>\n",
       "    <tr>\n",
       "      <th>trace 1</th>\n",
       "      <td>t21</td>\n",
       "      <td>trace 1</td>\n",
       "      <td>11</td>\n",
       "    </tr>\n",
       "    <tr>\n",
       "      <th>trace 1</th>\n",
       "      <td>t74</td>\n",
       "      <td>trace 1</td>\n",
       "      <td>12</td>\n",
       "    </tr>\n",
       "    <tr>\n",
       "      <th>trace 1</th>\n",
       "      <td>t32</td>\n",
       "      <td>trace 1</td>\n",
       "      <td>13</td>\n",
       "    </tr>\n",
       "    <tr>\n",
       "      <th>trace 1</th>\n",
       "      <td>t64</td>\n",
       "      <td>trace 1</td>\n",
       "      <td>14</td>\n",
       "    </tr>\n",
       "    <tr>\n",
       "      <th>trace 1</th>\n",
       "      <td>t41</td>\n",
       "      <td>trace 1</td>\n",
       "      <td>15</td>\n",
       "    </tr>\n",
       "    <tr>\n",
       "      <th>trace 1</th>\n",
       "      <td>t33</td>\n",
       "      <td>trace 1</td>\n",
       "      <td>16</td>\n",
       "    </tr>\n",
       "    <tr>\n",
       "      <th>trace 1</th>\n",
       "      <td>t23</td>\n",
       "      <td>trace 1</td>\n",
       "      <td>17</td>\n",
       "    </tr>\n",
       "    <tr>\n",
       "      <th>trace 1</th>\n",
       "      <td>t21</td>\n",
       "      <td>trace 1</td>\n",
       "      <td>18</td>\n",
       "    </tr>\n",
       "    <tr>\n",
       "      <th>trace 1</th>\n",
       "      <td>t32</td>\n",
       "      <td>trace 1</td>\n",
       "      <td>19</td>\n",
       "    </tr>\n",
       "  </tbody>\n",
       "</table>\n",
       "</div>"
      ],
      "text/plain": [
       "             activity trace_id event_id\n",
       "trace_id                               \n",
       "trace 1   ###start###  trace 1        0\n",
       "trace 1           t31  trace 1        1\n",
       "trace 1           t41  trace 1        2\n",
       "trace 1           t26  trace 1        3\n",
       "trace 1           t36  trace 1        4\n",
       "trace 1           t44  trace 1        5\n",
       "trace 1           t54  trace 1        6\n",
       "trace 1           t33  trace 1        7\n",
       "trace 1           t23  trace 1        8\n",
       "trace 1           t65  trace 1        9\n",
       "trace 1           t76  trace 1       10\n",
       "trace 1           t21  trace 1       11\n",
       "trace 1           t74  trace 1       12\n",
       "trace 1           t32  trace 1       13\n",
       "trace 1           t64  trace 1       14\n",
       "trace 1           t41  trace 1       15\n",
       "trace 1           t33  trace 1       16\n",
       "trace 1           t23  trace 1       17\n",
       "trace 1           t21  trace 1       18\n",
       "trace 1           t32  trace 1       19"
      ]
     },
     "execution_count": 120,
     "metadata": {},
     "output_type": "execute_result"
    }
   ],
   "source": [
    "log = import_log(f'data/csv/PDC2020_training/{log_name}.csv.gz')\n",
    "log.head(20)"
   ]
  },
  {
   "cell_type": "markdown",
   "id": "37485d1b",
   "metadata": {},
   "source": [
    "### Create PPObj with vocab and dataloaders"
   ]
  },
  {
   "cell_type": "code",
   "execution_count": 121,
   "id": "0bafdeec",
   "metadata": {},
   "outputs": [],
   "source": [
    "#export\n",
    "def training_dl(log,cat_names='activity',seed=45,ws=5,bs=32):\n",
    "    categorify=Categorify()\n",
    "\n",
    "    o=PPObj(log,procs=categorify,cat_names=cat_names,y_names=cat_names,splits=split_traces(log,test_seed=seed,validation_seed=seed))\n",
    "    dls=o.get_dls(windows=partial(windows_fast,ws=ws),bs=bs)\n",
    "    return o,dls,categorify\n",
    "\n"
   ]
  },
  {
   "cell_type": "code",
   "execution_count": 122,
   "id": "1a160b35",
   "metadata": {},
   "outputs": [
    {
     "name": "stdout",
     "output_type": "stream",
     "text": [
      "<fastai.data.core.DataLoaders object at 0x000001EA3428AAF0>\n"
     ]
    }
   ],
   "source": [
    "o,dls,categorify = training_dl(log)\n",
    "\n",
    "print(dls)"
   ]
  },
  {
   "cell_type": "markdown",
   "id": "0f1d0014",
   "metadata": {},
   "source": [
    "# **Playing With the Data**"
   ]
  },
  {
   "cell_type": "code",
   "execution_count": 123,
   "id": "ad80b648",
   "metadata": {},
   "outputs": [
    {
     "name": "stdout",
     "output_type": "stream",
     "text": [
      "           activity   trace_id event_id\n",
      "trace_id                               \n",
      "trace 665         2  trace 665        0\n",
      "trace 665         6  trace 665        1\n",
      "trace 665        11  trace 665        2\n",
      "trace 665         3  trace 665        3\n",
      "trace 665        14  trace 665        4\n",
      "...             ...        ...      ...\n",
      "trace 145        11  trace 145       48\n",
      "trace 145        14  trace 145       49\n",
      "trace 145        16  trace 145       50\n",
      "trace 145        21  trace 145       51\n",
      "trace 145         1  trace 145       52\n",
      "\n",
      "[27725 rows x 3 columns]\n"
     ]
    }
   ],
   "source": [
    "subsets = o.subsets()\n",
    "item = subsets[0].items #df of categorical data - can only be used for categorical data and only the ones here!!\n",
    "\n",
    "print(o)"
   ]
  },
  {
   "cell_type": "markdown",
   "id": "750664ba",
   "metadata": {},
   "source": [
    "### Define Deep Learning Model"
   ]
  },
  {
   "cell_type": "code",
   "execution_count": 124,
   "id": "ff3450a3",
   "metadata": {},
   "outputs": [
    {
     "name": "stdout",
     "output_type": "stream",
     "text": [
      "x.shape=torch.Size([32, 1, 5])\n",
      "y[0].shape=torch.Size([32])\n",
      "x=tensor([[[25, 20, 18, 23, 10]],\n",
      "\n",
      "        [[ 0,  2,  7, 13, 15]],\n",
      "\n",
      "        [[15, 14, 18, 16, 22]],\n",
      "\n",
      "        [[24, 25, 19, 20, 16]],\n",
      "\n",
      "        [[16, 21, 26, 25, 20]],\n",
      "\n",
      "        [[ 0,  0,  2,  3,  6]],\n",
      "\n",
      "        [[ 3,  7, 13,  9,  4]],\n",
      "\n",
      "        [[ 0,  0,  0,  2,  6]],\n",
      "\n",
      "        [[ 6, 11, 14, 16, 21]],\n",
      "\n",
      "        [[ 0,  0,  2,  6, 14]],\n",
      "\n",
      "        [[13, 10,  9,  4,  5]],\n",
      "\n",
      "        [[ 0,  0,  2,  6, 12]],\n",
      "\n",
      "        [[ 5,  6, 12, 15, 14]],\n",
      "\n",
      "        [[23, 10,  5,  6, 14]],\n",
      "\n",
      "        [[ 8, 13, 15, 17, 23]],\n",
      "\n",
      "        [[15, 26, 25, 20, 23]],\n",
      "\n",
      "        [[21, 25,  9,  4, 20]],\n",
      "\n",
      "        [[ 0,  0,  0,  0,  2]],\n",
      "\n",
      "        [[14, 16,  3, 22,  7]],\n",
      "\n",
      "        [[ 2,  3,  8, 13,  6]],\n",
      "\n",
      "        [[21, 17, 23, 24, 26]],\n",
      "\n",
      "        [[11, 14, 16, 22, 26]],\n",
      "\n",
      "        [[13,  9,  4,  8, 13]],\n",
      "\n",
      "        [[ 9,  4, 25, 20,  7]],\n",
      "\n",
      "        [[14, 23, 24, 19, 10]],\n",
      "\n",
      "        [[23, 24, 19, 15, 18]],\n",
      "\n",
      "        [[23, 24, 19, 15, 18]],\n",
      "\n",
      "        [[ 8, 13, 15, 17, 23]],\n",
      "\n",
      "        [[ 7, 13,  6, 15, 14]],\n",
      "\n",
      "        [[ 0,  2,  3,  8,  6]],\n",
      "\n",
      "        [[10,  5,  6, 11, 14]],\n",
      "\n",
      "        [[ 8, 10,  5, 13,  6]]], device='cuda:0')\n",
      "y=(tensor([ 5,  6, 23, 21, 10,  7,  7,  7, 26,  3,  7, 14, 18, 16, 24, 16,  3,  3,\n",
      "        13, 12, 19,  1,  9, 13,  5, 23, 23,  1, 18, 13, 10, 12],\n",
      "       device='cuda:0'),)\n"
     ]
    }
   ],
   "source": [
    "x,y= dls.one_batch() # y is the \n",
    "print(f'{x.shape=}\\n{y[0].shape=}')\n",
    "print(f'{x=}\\n{y=}')"
   ]
  },
  {
   "cell_type": "code",
   "execution_count": 125,
   "id": "0888e219",
   "metadata": {},
   "outputs": [],
   "source": [
    "class ControlFlowModel(torch.nn.Module) :\n",
    "    def __init__(self, o) :\n",
    "        super().__init__()\n",
    "        hidden=25\n",
    "        vocab_act=len(o.procs.categorify['activity'])\n",
    "        emb_dim_act = int(np.sqrt(vocab_act))+1\n",
    "\n",
    "        self.emb_act = nn.Embedding(vocab_act,emb_dim_act)\n",
    "        \n",
    "        self.lstm_act = nn.LSTM(emb_dim_act, hidden, batch_first=True, num_layers=2)\n",
    "\n",
    "        self.linear_act = nn.Linear(hidden, vocab_act)\n",
    "\n",
    "    def forward(self, xcat):\n",
    "        xcat=xcat[:,0]\n",
    "        x_act=xcat\n",
    "        x_act = self.emb_act(x_act)\n",
    "        x_act,_ = self.lstm_act(x_act)\n",
    "        x_act = x_act[:,-1]\n",
    "        x_act = self.linear_act(x_act)\n",
    "        return x_act"
   ]
  },
  {
   "cell_type": "code",
   "execution_count": 126,
   "id": "06460852",
   "metadata": {},
   "outputs": [],
   "source": [
    "m=ControlFlowModel(o)\n"
   ]
  },
  {
   "cell_type": "code",
   "execution_count": 127,
   "id": "d8c918da",
   "metadata": {},
   "outputs": [],
   "source": [
    "pred=m(x.cpu())"
   ]
  },
  {
   "cell_type": "code",
   "execution_count": 128,
   "id": "6e4b5334",
   "metadata": {},
   "outputs": [
    {
     "name": "stdout",
     "output_type": "stream",
     "text": [
      "tensor([[-7.7289e-02,  4.1502e-03,  1.8284e-01, -5.4572e-02,  1.4530e-01,\n",
      "         -4.1214e-02,  6.0720e-02,  2.3622e-01,  6.9587e-02, -1.4191e-01,\n",
      "          8.4673e-02, -7.5379e-02,  1.3796e-01,  4.1135e-02, -1.1154e-02,\n",
      "          1.7936e-01, -1.8099e-01, -6.2807e-02, -2.5838e-01, -1.2423e-01,\n",
      "         -8.3654e-02,  2.0422e-01,  1.1883e-01, -7.6157e-02,  4.3436e-02,\n",
      "          1.4779e-01, -2.0308e-01],\n",
      "        [-8.4565e-02, -1.3245e-02,  1.8362e-01, -4.7921e-02,  1.5424e-01,\n",
      "         -5.2286e-02,  7.8264e-02,  2.3286e-01,  9.5533e-02, -1.2866e-01,\n",
      "          9.7001e-02, -8.0014e-02,  1.3272e-01,  5.7540e-02, -2.3903e-02,\n",
      "          1.8676e-01, -1.9411e-01, -7.1479e-02, -2.7617e-01, -1.1593e-01,\n",
      "         -9.4375e-02,  2.0435e-01,  1.2343e-01, -8.5889e-02,  4.0644e-02,\n",
      "          1.6064e-01, -2.0396e-01],\n",
      "        [-7.6561e-02, -7.6406e-05,  1.8300e-01, -4.3341e-02,  1.6111e-01,\n",
      "         -4.7029e-02,  7.1274e-02,  2.5069e-01,  8.1959e-02, -1.2308e-01,\n",
      "          9.1897e-02, -7.5076e-02,  1.2653e-01,  5.2366e-02, -2.1245e-02,\n",
      "          1.9060e-01, -1.7945e-01, -6.3486e-02, -2.6825e-01, -1.1623e-01,\n",
      "         -7.8685e-02,  2.0066e-01,  1.3901e-01, -8.3550e-02,  2.9442e-02,\n",
      "          1.6944e-01, -2.1225e-01],\n",
      "        [-8.4374e-02,  6.8203e-03,  1.9743e-01, -3.9013e-02,  1.5120e-01,\n",
      "         -4.4243e-02,  5.4836e-02,  2.3776e-01,  7.9451e-02, -1.2747e-01,\n",
      "          8.3330e-02, -7.1299e-02,  1.1772e-01,  4.4216e-02, -1.9482e-03,\n",
      "          1.9080e-01, -1.8606e-01, -5.6524e-02, -2.6082e-01, -1.1958e-01,\n",
      "         -9.8627e-02,  2.0427e-01,  1.3868e-01, -8.6498e-02,  3.0127e-02,\n",
      "          1.4380e-01, -2.1100e-01],\n",
      "        [-8.0430e-02,  8.0705e-03,  1.9438e-01, -3.5012e-02,  1.4771e-01,\n",
      "         -3.9807e-02,  5.2011e-02,  2.2860e-01,  6.6400e-02, -1.3641e-01,\n",
      "          8.4173e-02, -6.7650e-02,  1.2454e-01,  4.3950e-02,  5.2986e-03,\n",
      "          1.8572e-01, -1.8376e-01, -5.9497e-02, -2.5802e-01, -1.2546e-01,\n",
      "         -9.8077e-02,  2.0254e-01,  1.3361e-01, -8.5015e-02,  3.7107e-02,\n",
      "          1.4469e-01, -2.0689e-01],\n",
      "        [-8.2321e-02, -1.2294e-02,  1.7842e-01, -3.0206e-02,  1.4789e-01,\n",
      "         -5.6284e-02,  4.5199e-02,  2.4548e-01,  8.4446e-02, -1.1579e-01,\n",
      "          8.5055e-02, -6.8781e-02,  1.0572e-01,  4.9805e-02, -2.8538e-03,\n",
      "          1.8799e-01, -1.8503e-01, -4.2621e-02, -2.5374e-01, -1.1116e-01,\n",
      "         -1.0493e-01,  2.0239e-01,  1.5577e-01, -9.5232e-02,  2.5176e-02,\n",
      "          1.4328e-01, -2.0366e-01],\n",
      "        [-8.7453e-02,  8.8563e-03,  2.0058e-01, -3.5191e-02,  1.4160e-01,\n",
      "         -3.8881e-02,  4.5125e-02,  2.2362e-01,  7.0644e-02, -1.3932e-01,\n",
      "          8.3581e-02, -6.3110e-02,  1.1905e-01,  3.3880e-02,  1.4456e-02,\n",
      "          1.8964e-01, -1.8742e-01, -5.7220e-02, -2.5807e-01, -1.2290e-01,\n",
      "         -1.1086e-01,  2.0767e-01,  1.3334e-01, -8.4434e-02,  3.6036e-02,\n",
      "          1.3308e-01, -2.0508e-01],\n",
      "        [-8.8443e-02, -6.4125e-03,  1.8073e-01, -4.9613e-02,  1.6279e-01,\n",
      "         -4.8301e-02,  7.4207e-02,  2.3820e-01,  8.7216e-02, -1.1937e-01,\n",
      "          9.2002e-02, -7.7342e-02,  1.2351e-01,  5.7894e-02, -2.1214e-02,\n",
      "          1.8864e-01, -1.8023e-01, -6.6245e-02, -2.7694e-01, -1.1684e-01,\n",
      "         -8.2626e-02,  2.0390e-01,  1.3280e-01, -8.9409e-02,  2.8413e-02,\n",
      "          1.5902e-01, -2.1564e-01],\n",
      "        [-7.9362e-02,  9.8494e-03,  2.0195e-01, -3.1554e-02,  1.7115e-01,\n",
      "         -2.7144e-02,  3.8503e-02,  2.4751e-01,  6.6736e-02, -1.3425e-01,\n",
      "          9.3377e-02, -6.2177e-02,  1.0890e-01,  3.0079e-02,  3.9261e-03,\n",
      "          1.9987e-01, -1.6787e-01, -5.6677e-02, -2.5628e-01, -1.2030e-01,\n",
      "         -9.5162e-02,  1.9863e-01,  1.4932e-01, -8.4697e-02,  2.8518e-02,\n",
      "          1.5812e-01, -2.2353e-01],\n",
      "        [-9.2563e-02, -2.2859e-03,  1.7294e-01, -4.0802e-02,  1.5802e-01,\n",
      "         -4.6539e-02,  5.8388e-02,  2.3176e-01,  7.6156e-02, -1.2011e-01,\n",
      "          8.7951e-02, -7.0073e-02,  1.1653e-01,  5.1068e-02, -9.8393e-03,\n",
      "          1.8246e-01, -1.7300e-01, -5.5610e-02, -2.6709e-01, -1.1693e-01,\n",
      "         -8.6565e-02,  2.0359e-01,  1.4009e-01, -8.8999e-02,  2.3054e-02,\n",
      "          1.5071e-01, -2.2115e-01],\n",
      "        [-8.3142e-02,  1.5335e-02,  2.1415e-01, -5.1643e-02,  1.6266e-01,\n",
      "         -2.0835e-02,  4.7899e-02,  2.2847e-01,  6.9236e-02, -1.4686e-01,\n",
      "          9.0114e-02, -6.8427e-02,  1.2531e-01,  3.0151e-02,  9.5032e-03,\n",
      "          1.9727e-01, -1.7368e-01, -7.0493e-02, -2.5825e-01, -1.2866e-01,\n",
      "         -9.9493e-02,  2.0057e-01,  1.2636e-01, -7.6392e-02,  3.6284e-02,\n",
      "          1.4028e-01, -2.1351e-01],\n",
      "        [-8.2653e-02, -4.8750e-03,  1.8405e-01, -4.6139e-02,  1.5630e-01,\n",
      "         -4.4739e-02,  6.5940e-02,  2.3961e-01,  7.9581e-02, -1.2631e-01,\n",
      "          8.9668e-02, -7.2943e-02,  1.2874e-01,  4.9811e-02, -1.3868e-02,\n",
      "          1.8769e-01, -1.8209e-01, -6.4569e-02, -2.6940e-01, -1.1842e-01,\n",
      "         -8.9557e-02,  2.0452e-01,  1.3239e-01, -8.5892e-02,  3.4002e-02,\n",
      "          1.5569e-01, -2.1027e-01],\n",
      "        [-7.9854e-02,  3.3834e-04,  1.7683e-01, -4.2235e-02,  1.5490e-01,\n",
      "         -4.6043e-02,  6.0757e-02,  2.3782e-01,  7.3979e-02, -1.3135e-01,\n",
      "          8.9155e-02, -7.2833e-02,  1.2518e-01,  5.2188e-02, -1.2637e-02,\n",
      "          1.8170e-01, -1.7757e-01, -5.7787e-02, -2.6298e-01, -1.2091e-01,\n",
      "         -8.2625e-02,  1.9812e-01,  1.3683e-01, -8.5299e-02,  3.2787e-02,\n",
      "          1.5895e-01, -2.1234e-01],\n",
      "        [-8.3905e-02,  1.2015e-02,  1.8332e-01, -3.9991e-02,  1.5776e-01,\n",
      "         -3.7495e-02,  4.7524e-02,  2.3224e-01,  5.8391e-02, -1.3200e-01,\n",
      "          8.2838e-02, -6.8940e-02,  1.1610e-01,  4.5056e-02,  2.1046e-03,\n",
      "          1.8365e-01, -1.6725e-01, -5.1874e-02, -2.5720e-01, -1.2491e-01,\n",
      "         -7.8928e-02,  2.0105e-01,  1.3985e-01, -8.3975e-02,  2.6402e-02,\n",
      "          1.4973e-01, -2.2259e-01],\n",
      "        [-8.7471e-02, -6.6312e-03,  1.8308e-01, -5.5477e-02,  1.6070e-01,\n",
      "         -3.6985e-02,  6.6554e-02,  2.2672e-01,  8.0360e-02, -1.3776e-01,\n",
      "          9.6720e-02, -7.5727e-02,  1.3607e-01,  4.7752e-02, -1.3519e-02,\n",
      "          1.8362e-01, -1.7756e-01, -7.2478e-02, -2.7102e-01, -1.2290e-01,\n",
      "         -8.9961e-02,  2.0475e-01,  1.1953e-01, -8.0868e-02,  4.2669e-02,\n",
      "          1.5354e-01, -2.1217e-01],\n",
      "        [-8.5122e-02,  5.5875e-03,  1.8169e-01, -4.1781e-02,  1.3462e-01,\n",
      "         -5.0009e-02,  5.8359e-02,  2.2461e-01,  7.1622e-02, -1.3618e-01,\n",
      "          7.9795e-02, -7.2080e-02,  1.2959e-01,  4.5593e-02, -3.5461e-03,\n",
      "          1.7591e-01, -1.8936e-01, -5.6616e-02, -2.5741e-01, -1.2164e-01,\n",
      "         -9.2671e-02,  2.0624e-01,  1.2232e-01, -8.2419e-02,  3.8595e-02,\n",
      "          1.3741e-01, -2.0280e-01],\n",
      "        [-8.2138e-02,  8.5661e-03,  2.0572e-01, -4.3536e-02,  1.5016e-01,\n",
      "         -3.4080e-02,  5.3937e-02,  2.2520e-01,  7.3078e-02, -1.4310e-01,\n",
      "          8.7987e-02, -6.9661e-02,  1.2623e-01,  3.9293e-02,  4.4599e-03,\n",
      "          1.9008e-01, -1.8810e-01, -6.7396e-02, -2.5907e-01, -1.2487e-01,\n",
      "         -1.0530e-01,  2.0054e-01,  1.2405e-01, -8.2669e-02,  3.9024e-02,\n",
      "          1.3854e-01, -2.0324e-01],\n",
      "        [-7.9792e-02, -9.8432e-03,  1.8916e-01, -6.1721e-02,  1.7523e-01,\n",
      "         -4.2144e-02,  8.4364e-02,  2.5281e-01,  8.9494e-02, -1.2622e-01,\n",
      "          9.9045e-02, -8.0181e-02,  1.3414e-01,  5.6221e-02, -3.1111e-02,\n",
      "          1.9828e-01, -1.8121e-01, -7.7647e-02, -2.8478e-01, -1.1677e-01,\n",
      "         -7.7888e-02,  2.0273e-01,  1.2689e-01, -8.8006e-02,  3.7041e-02,\n",
      "          1.7361e-01, -2.1413e-01],\n",
      "        [-6.5260e-02, -7.9101e-03,  1.8837e-01, -2.7981e-02,  1.5497e-01,\n",
      "         -5.2070e-02,  5.6868e-02,  2.5769e-01,  8.5579e-02, -1.2710e-01,\n",
      "          9.1723e-02, -6.8788e-02,  1.2217e-01,  5.0526e-02, -1.1420e-02,\n",
      "          1.9588e-01, -1.9014e-01, -5.7501e-02, -2.5584e-01, -1.1327e-01,\n",
      "         -1.0412e-01,  1.8950e-01,  1.5577e-01, -9.1306e-02,  3.1084e-02,\n",
      "          1.6770e-01, -2.0169e-01],\n",
      "        [-8.9730e-02, -1.2783e-03,  1.8820e-01, -3.7997e-02,  1.4829e-01,\n",
      "         -4.6756e-02,  5.6309e-02,  2.2454e-01,  8.1042e-02, -1.2718e-01,\n",
      "          8.7404e-02, -7.0791e-02,  1.1493e-01,  5.0489e-02,  1.9438e-03,\n",
      "          1.8606e-01, -1.8857e-01, -5.7454e-02, -2.6288e-01, -1.1836e-01,\n",
      "         -1.0650e-01,  2.0535e-01,  1.3835e-01, -9.2372e-02,  2.9369e-02,\n",
      "          1.3907e-01, -2.1169e-01],\n",
      "        [-7.7523e-02,  2.0211e-03,  1.8098e-01, -4.8993e-02,  1.5981e-01,\n",
      "         -3.5167e-02,  6.0376e-02,  2.3519e-01,  6.3346e-02, -1.4025e-01,\n",
      "          9.2866e-02, -7.2738e-02,  1.3353e-01,  4.5967e-02, -8.7083e-03,\n",
      "          1.8276e-01, -1.7134e-01, -6.4698e-02, -2.6304e-01, -1.2538e-01,\n",
      "         -7.9279e-02,  2.0146e-01,  1.2631e-01, -7.8843e-02,  4.1877e-02,\n",
      "          1.5981e-01, -2.1158e-01],\n",
      "        [-7.8649e-02,  5.5317e-03,  1.8886e-01, -2.9115e-02,  1.5884e-01,\n",
      "         -3.9624e-02,  4.8551e-02,  2.4167e-01,  6.5426e-02, -1.3209e-01,\n",
      "          8.9437e-02, -6.4082e-02,  1.1666e-01,  4.1663e-02, -1.1324e-03,\n",
      "          1.9049e-01, -1.7601e-01, -5.4286e-02, -2.5882e-01, -1.1924e-01,\n",
      "         -9.1421e-02,  1.9751e-01,  1.4573e-01, -8.5994e-02,  3.0263e-02,\n",
      "          1.5977e-01, -2.1677e-01],\n",
      "        [-9.5063e-02,  9.0432e-03,  2.1158e-01, -5.8333e-02,  1.6236e-01,\n",
      "         -2.7609e-02,  6.5337e-02,  2.1365e-01,  8.2173e-02, -1.4671e-01,\n",
      "          9.5707e-02, -7.6446e-02,  1.3452e-01,  3.9212e-02,  3.2942e-03,\n",
      "          1.9490e-01, -1.8385e-01, -8.1454e-02, -2.7183e-01, -1.2644e-01,\n",
      "         -1.0495e-01,  2.0861e-01,  1.1293e-01, -7.8179e-02,  4.2466e-02,\n",
      "          1.4112e-01, -2.1526e-01],\n",
      "        [-7.7695e-02, -1.4388e-03,  1.8732e-01, -4.3010e-02,  1.4181e-01,\n",
      "         -5.4285e-02,  7.2921e-02,  2.2781e-01,  8.7335e-02, -1.3831e-01,\n",
      "          8.7826e-02, -7.7065e-02,  1.3378e-01,  5.7448e-02, -1.8224e-02,\n",
      "          1.8195e-01, -2.0025e-01, -6.8443e-02, -2.6330e-01, -1.1806e-01,\n",
      "         -9.6434e-02,  1.9051e-01,  1.2161e-01, -8.6210e-02,  3.6291e-02,\n",
      "          1.5151e-01, -2.0082e-01],\n",
      "        [-7.5914e-02,  5.5626e-03,  1.9888e-01, -4.9496e-02,  1.6664e-01,\n",
      "         -2.8550e-02,  5.3212e-02,  2.4843e-01,  6.7634e-02, -1.3619e-01,\n",
      "          9.0955e-02, -7.0401e-02,  1.2683e-01,  3.5872e-02, -5.0471e-03,\n",
      "          1.9467e-01, -1.7173e-01, -6.4943e-02, -2.6193e-01, -1.2423e-01,\n",
      "         -8.7524e-02,  2.0328e-01,  1.3343e-01, -7.9693e-02,  3.7909e-02,\n",
      "          1.5726e-01, -2.1420e-01],\n",
      "        [-6.5413e-02, -1.0743e-02,  1.9020e-01, -5.4214e-02,  1.6268e-01,\n",
      "         -4.5542e-02,  7.9969e-02,  2.5181e-01,  8.9742e-02, -1.3578e-01,\n",
      "          9.7187e-02, -8.1412e-02,  1.4385e-01,  5.6906e-02, -2.9986e-02,\n",
      "          1.9281e-01, -1.8997e-01, -7.7630e-02, -2.7228e-01, -1.2077e-01,\n",
      "         -8.6228e-02,  1.9320e-01,  1.2695e-01, -8.2588e-02,  4.3134e-02,\n",
      "          1.7792e-01, -2.0102e-01],\n",
      "        [-6.5413e-02, -1.0743e-02,  1.9020e-01, -5.4214e-02,  1.6268e-01,\n",
      "         -4.5542e-02,  7.9969e-02,  2.5181e-01,  8.9742e-02, -1.3578e-01,\n",
      "          9.7187e-02, -8.1412e-02,  1.4385e-01,  5.6906e-02, -2.9986e-02,\n",
      "          1.9281e-01, -1.8997e-01, -7.7630e-02, -2.7228e-01, -1.2077e-01,\n",
      "         -8.6228e-02,  1.9320e-01,  1.2695e-01, -8.2588e-02,  4.3134e-02,\n",
      "          1.7792e-01, -2.0102e-01],\n",
      "        [-8.7471e-02, -6.6312e-03,  1.8308e-01, -5.5477e-02,  1.6070e-01,\n",
      "         -3.6985e-02,  6.6554e-02,  2.2672e-01,  8.0360e-02, -1.3776e-01,\n",
      "          9.6720e-02, -7.5727e-02,  1.3607e-01,  4.7752e-02, -1.3519e-02,\n",
      "          1.8362e-01, -1.7756e-01, -7.2478e-02, -2.7102e-01, -1.2290e-01,\n",
      "         -8.9961e-02,  2.0475e-01,  1.1953e-01, -8.0868e-02,  4.2669e-02,\n",
      "          1.5354e-01, -2.1217e-01],\n",
      "        [-9.3989e-02, -4.2141e-04,  1.7071e-01, -3.8449e-02,  1.4824e-01,\n",
      "         -5.2483e-02,  6.4727e-02,  2.2408e-01,  8.1526e-02, -1.2368e-01,\n",
      "          8.6289e-02, -7.0718e-02,  1.2129e-01,  5.3950e-02, -1.4277e-02,\n",
      "          1.7657e-01, -1.8146e-01, -5.8400e-02, -2.6792e-01, -1.1733e-01,\n",
      "         -8.6735e-02,  2.0096e-01,  1.3268e-01, -8.8156e-02,  2.4804e-02,\n",
      "          1.5004e-01, -2.1937e-01],\n",
      "        [-7.9277e-02, -4.7296e-03,  1.8945e-01, -3.8588e-02,  1.5348e-01,\n",
      "         -4.6336e-02,  5.7078e-02,  2.4302e-01,  8.3788e-02, -1.2133e-01,\n",
      "          8.8072e-02, -7.3099e-02,  1.1479e-01,  5.0484e-02, -6.5137e-03,\n",
      "          1.9138e-01, -1.8469e-01, -5.5899e-02, -2.6047e-01, -1.1706e-01,\n",
      "         -9.8520e-02,  2.0352e-01,  1.4553e-01, -9.1009e-02,  2.9398e-02,\n",
      "          1.4885e-01, -2.0713e-01],\n",
      "        [-8.5504e-02,  1.3430e-02,  1.8050e-01, -2.4108e-02,  1.5456e-01,\n",
      "         -3.5405e-02,  2.8744e-02,  2.2878e-01,  5.0380e-02, -1.3326e-01,\n",
      "          8.2744e-02, -5.9399e-02,  1.0418e-01,  3.6549e-02,  1.4566e-02,\n",
      "          1.8172e-01, -1.6274e-01, -4.1953e-02, -2.4684e-01, -1.2406e-01,\n",
      "         -8.6662e-02,  1.9905e-01,  1.5025e-01, -8.4951e-02,  2.3352e-02,\n",
      "          1.4414e-01, -2.2322e-01],\n",
      "        [-9.0710e-02,  9.6733e-03,  1.9297e-01, -4.9277e-02,  1.5911e-01,\n",
      "         -3.6606e-02,  5.7681e-02,  2.2204e-01,  7.1285e-02, -1.3421e-01,\n",
      "          8.6269e-02, -7.4640e-02,  1.2232e-01,  4.8387e-02,  2.9070e-04,\n",
      "          1.8643e-01, -1.7429e-01, -6.3296e-02, -2.6602e-01, -1.2626e-01,\n",
      "         -8.6683e-02,  2.0468e-01,  1.2755e-01, -8.3357e-02,  3.1245e-02,\n",
      "          1.4392e-01, -2.1989e-01]], grad_fn=<AddmmBackward>)\n"
     ]
    }
   ],
   "source": [
    "print(pred)"
   ]
  },
  {
   "cell_type": "code",
   "execution_count": 129,
   "id": "57c0785b",
   "metadata": {},
   "outputs": [
    {
     "data": {
      "text/plain": [
       "tensor([ 5,  6, 23, 21, 10,  7,  7,  7, 26,  3,  7, 14, 18, 16, 24, 16,  3,  3,\n",
       "        13, 12, 19,  1,  9, 13,  5, 23, 23,  1, 18, 13, 10, 12])"
      ]
     },
     "execution_count": 129,
     "metadata": {},
     "output_type": "execute_result"
    }
   ],
   "source": [
    "y[0].cpu()"
   ]
  },
  {
   "cell_type": "code",
   "execution_count": 130,
   "id": "22ca93e3",
   "metadata": {},
   "outputs": [],
   "source": [
    "squeeze_cross_entropy = lambda x,y:F.cross_entropy(x,y[0])\n",
    "squeeze_accuracy =lambda x,y:accuracy(x,y[0])\n"
   ]
  },
  {
   "cell_type": "code",
   "execution_count": 131,
   "id": "f03a2b46",
   "metadata": {},
   "outputs": [
    {
     "data": {
      "text/plain": [
       "(tensor(3.3167, device='cuda:0', grad_fn=<NllLossBackward>),\n",
       " TensorBase(0.1250, device='cuda:0'))"
      ]
     },
     "execution_count": 131,
     "metadata": {},
     "output_type": "execute_result"
    }
   ],
   "source": [
    "squeeze_cross_entropy(pred.cuda(),y),squeeze_accuracy(pred.cuda(),y)"
   ]
  },
  {
   "cell_type": "markdown",
   "id": "3e1731a2",
   "metadata": {},
   "source": [
    "### Define Training Loop and Helper Functions"
   ]
  },
  {
   "cell_type": "code",
   "execution_count": 132,
   "id": "4f24ac6b",
   "metadata": {},
   "outputs": [],
   "source": [
    "#export\n",
    "class HideOutput:\n",
    "    'A utility function that hides all outputs in a context'\n",
    "    def __enter__(self):\n",
    "        self._original_stdout = sys.stdout\n",
    "        sys.stdout = open(os.devnull, 'w')\n",
    "\n",
    "    def __exit__(self, exc_type, exc_val, exc_tb):\n",
    "        sys.stdout.close()\n",
    "        sys.stdout = self._original_stdout"
   ]
  },
  {
   "cell_type": "code",
   "execution_count": 133,
   "id": "04206c76",
   "metadata": {},
   "outputs": [],
   "source": [
    "#export\n",
    "def training_loop(learn,epoch,print_output,lr_find,fixed_learning_rate=0.01):\n",
    "    '''\n",
    "    Basic training loop that uses learning rate finder and one cycle training. \n",
    "    See fastai docs for more information\n",
    "    '''\n",
    "    if lr_find:\n",
    "        lr=np.median([learn.lr_find(show_plot=print_output)[0] for i in range(5)])\n",
    "        learn.fit_one_cycle(epoch,float(lr))\n",
    "    else: learn.fit(epoch,fixed_learning_rate)"
   ]
  },
  {
   "cell_type": "code",
   "execution_count": 134,
   "id": "1784333a",
   "metadata": {},
   "outputs": [],
   "source": [
    "#export\n",
    "def train_validate(dls,m,metrics=accuracy,loss=F.cross_entropy,epoch=20,print_output=True,model_dir=\".\",lr_find=True,\n",
    "                   patience=5,min_delta=0.005,show_plot=True,store_path='tmp',model_name='.model'):\n",
    "    '''\n",
    "    Trains a model on the training set with early stopping based on the validation loss.\n",
    "    Afterwards, applies it to the test set.\n",
    "    '''\n",
    "    cbs = [\n",
    "      EarlyStoppingCallback(monitor='valid_loss',min_delta=min_delta, patience=patience),\n",
    "      SaveModelCallback(fname=model_name),\n",
    "      ]\n",
    "    learn=Learner(dls, m, path=store_path, model_dir=model_dir, loss_func=loss ,metrics=metrics,cbs=cbs)\n",
    "\n",
    "    if print_output:\n",
    "        training_loop(learn,epoch,show_plot,lr_find=lr_find)\n",
    "        return learn.validate(dl=dls[2])\n",
    "    else:\n",
    "        with HideOutput(),learn.no_bar(),learn.no_logging():\n",
    "            training_loop(learn,epoch,show_plot,lr_find=lr_find)\n",
    "            return learn.validate(dl=dls[2])"
   ]
  },
  {
   "cell_type": "markdown",
   "id": "d5c46c30",
   "metadata": {},
   "source": [
    "### Train prediction model"
   ]
  },
  {
   "cell_type": "code",
   "execution_count": 135,
   "id": "d82488a2",
   "metadata": {},
   "outputs": [
    {
     "data": {
      "text/html": [
       "\n",
       "<style>\n",
       "    /* Turns off some styling */\n",
       "    progress {\n",
       "        /* gets rid of default border in Firefox and Opera. */\n",
       "        border: none;\n",
       "        /* Needs to be in here for Safari polyfill so background images work as expected. */\n",
       "        background-size: auto;\n",
       "    }\n",
       "    progress:not([value]), progress:not([value])::-webkit-progress-bar {\n",
       "        background: repeating-linear-gradient(45deg, #7e7e7e, #7e7e7e 10px, #5c5c5c 10px, #5c5c5c 20px);\n",
       "    }\n",
       "    .progress-bar-interrupted, .progress-bar-interrupted::-webkit-progress-bar {\n",
       "        background: #F44336;\n",
       "    }\n",
       "</style>\n"
      ],
      "text/plain": [
       "<IPython.core.display.HTML object>"
      ]
     },
     "metadata": {},
     "output_type": "display_data"
    },
    {
     "data": {
      "text/html": [],
      "text/plain": [
       "<IPython.core.display.HTML object>"
      ]
     },
     "metadata": {},
     "output_type": "display_data"
    },
    {
     "data": {
      "text/html": [
       "\n",
       "<style>\n",
       "    /* Turns off some styling */\n",
       "    progress {\n",
       "        /* gets rid of default border in Firefox and Opera. */\n",
       "        border: none;\n",
       "        /* Needs to be in here for Safari polyfill so background images work as expected. */\n",
       "        background-size: auto;\n",
       "    }\n",
       "    progress:not([value]), progress:not([value])::-webkit-progress-bar {\n",
       "        background: repeating-linear-gradient(45deg, #7e7e7e, #7e7e7e 10px, #5c5c5c 10px, #5c5c5c 20px);\n",
       "    }\n",
       "    .progress-bar-interrupted, .progress-bar-interrupted::-webkit-progress-bar {\n",
       "        background: #F44336;\n",
       "    }\n",
       "</style>\n"
      ],
      "text/plain": [
       "<IPython.core.display.HTML object>"
      ]
     },
     "metadata": {},
     "output_type": "display_data"
    },
    {
     "data": {
      "text/html": [],
      "text/plain": [
       "<IPython.core.display.HTML object>"
      ]
     },
     "metadata": {},
     "output_type": "display_data"
    },
    {
     "data": {
      "text/html": [
       "\n",
       "<style>\n",
       "    /* Turns off some styling */\n",
       "    progress {\n",
       "        /* gets rid of default border in Firefox and Opera. */\n",
       "        border: none;\n",
       "        /* Needs to be in here for Safari polyfill so background images work as expected. */\n",
       "        background-size: auto;\n",
       "    }\n",
       "    progress:not([value]), progress:not([value])::-webkit-progress-bar {\n",
       "        background: repeating-linear-gradient(45deg, #7e7e7e, #7e7e7e 10px, #5c5c5c 10px, #5c5c5c 20px);\n",
       "    }\n",
       "    .progress-bar-interrupted, .progress-bar-interrupted::-webkit-progress-bar {\n",
       "        background: #F44336;\n",
       "    }\n",
       "</style>\n"
      ],
      "text/plain": [
       "<IPython.core.display.HTML object>"
      ]
     },
     "metadata": {},
     "output_type": "display_data"
    },
    {
     "data": {
      "text/html": [],
      "text/plain": [
       "<IPython.core.display.HTML object>"
      ]
     },
     "metadata": {},
     "output_type": "display_data"
    },
    {
     "data": {
      "text/html": [
       "\n",
       "<style>\n",
       "    /* Turns off some styling */\n",
       "    progress {\n",
       "        /* gets rid of default border in Firefox and Opera. */\n",
       "        border: none;\n",
       "        /* Needs to be in here for Safari polyfill so background images work as expected. */\n",
       "        background-size: auto;\n",
       "    }\n",
       "    progress:not([value]), progress:not([value])::-webkit-progress-bar {\n",
       "        background: repeating-linear-gradient(45deg, #7e7e7e, #7e7e7e 10px, #5c5c5c 10px, #5c5c5c 20px);\n",
       "    }\n",
       "    .progress-bar-interrupted, .progress-bar-interrupted::-webkit-progress-bar {\n",
       "        background: #F44336;\n",
       "    }\n",
       "</style>\n"
      ],
      "text/plain": [
       "<IPython.core.display.HTML object>"
      ]
     },
     "metadata": {},
     "output_type": "display_data"
    },
    {
     "data": {
      "text/html": [],
      "text/plain": [
       "<IPython.core.display.HTML object>"
      ]
     },
     "metadata": {},
     "output_type": "display_data"
    },
    {
     "data": {
      "text/html": [
       "\n",
       "<style>\n",
       "    /* Turns off some styling */\n",
       "    progress {\n",
       "        /* gets rid of default border in Firefox and Opera. */\n",
       "        border: none;\n",
       "        /* Needs to be in here for Safari polyfill so background images work as expected. */\n",
       "        background-size: auto;\n",
       "    }\n",
       "    progress:not([value]), progress:not([value])::-webkit-progress-bar {\n",
       "        background: repeating-linear-gradient(45deg, #7e7e7e, #7e7e7e 10px, #5c5c5c 10px, #5c5c5c 20px);\n",
       "    }\n",
       "    .progress-bar-interrupted, .progress-bar-interrupted::-webkit-progress-bar {\n",
       "        background: #F44336;\n",
       "    }\n",
       "</style>\n"
      ],
      "text/plain": [
       "<IPython.core.display.HTML object>"
      ]
     },
     "metadata": {},
     "output_type": "display_data"
    },
    {
     "data": {
      "text/html": [],
      "text/plain": [
       "<IPython.core.display.HTML object>"
      ]
     },
     "metadata": {},
     "output_type": "display_data"
    },
    {
     "data": {
      "text/html": [
       "\n",
       "<style>\n",
       "    /* Turns off some styling */\n",
       "    progress {\n",
       "        /* gets rid of default border in Firefox and Opera. */\n",
       "        border: none;\n",
       "        /* Needs to be in here for Safari polyfill so background images work as expected. */\n",
       "        background-size: auto;\n",
       "    }\n",
       "    progress:not([value]), progress:not([value])::-webkit-progress-bar {\n",
       "        background: repeating-linear-gradient(45deg, #7e7e7e, #7e7e7e 10px, #5c5c5c 10px, #5c5c5c 20px);\n",
       "    }\n",
       "    .progress-bar-interrupted, .progress-bar-interrupted::-webkit-progress-bar {\n",
       "        background: #F44336;\n",
       "    }\n",
       "</style>\n"
      ],
      "text/plain": [
       "<IPython.core.display.HTML object>"
      ]
     },
     "metadata": {},
     "output_type": "display_data"
    },
    {
     "data": {
      "text/html": [
       "<table border=\"1\" class=\"dataframe\">\n",
       "  <thead>\n",
       "    <tr style=\"text-align: left;\">\n",
       "      <th>epoch</th>\n",
       "      <th>train_loss</th>\n",
       "      <th>valid_loss</th>\n",
       "      <th><lambda></th>\n",
       "      <th>time</th>\n",
       "    </tr>\n",
       "  </thead>\n",
       "  <tbody>\n",
       "    <tr>\n",
       "      <td>0</td>\n",
       "      <td>2.622595</td>\n",
       "      <td>2.485071</td>\n",
       "      <td>0.275256</td>\n",
       "      <td>00:08</td>\n",
       "    </tr>\n",
       "    <tr>\n",
       "      <td>1</td>\n",
       "      <td>1.651991</td>\n",
       "      <td>1.569708</td>\n",
       "      <td>0.475354</td>\n",
       "      <td>00:07</td>\n",
       "    </tr>\n",
       "    <tr>\n",
       "      <td>2</td>\n",
       "      <td>1.267154</td>\n",
       "      <td>1.233702</td>\n",
       "      <td>0.507077</td>\n",
       "      <td>00:06</td>\n",
       "    </tr>\n",
       "    <tr>\n",
       "      <td>3</td>\n",
       "      <td>1.184461</td>\n",
       "      <td>1.147280</td>\n",
       "      <td>0.510981</td>\n",
       "      <td>00:06</td>\n",
       "    </tr>\n",
       "    <tr>\n",
       "      <td>4</td>\n",
       "      <td>1.089466</td>\n",
       "      <td>1.091388</td>\n",
       "      <td>0.519766</td>\n",
       "      <td>00:06</td>\n",
       "    </tr>\n",
       "    <tr>\n",
       "      <td>5</td>\n",
       "      <td>1.099081</td>\n",
       "      <td>1.070238</td>\n",
       "      <td>0.509517</td>\n",
       "      <td>00:06</td>\n",
       "    </tr>\n",
       "    <tr>\n",
       "      <td>6</td>\n",
       "      <td>1.081443</td>\n",
       "      <td>1.046195</td>\n",
       "      <td>0.528062</td>\n",
       "      <td>00:06</td>\n",
       "    </tr>\n",
       "    <tr>\n",
       "      <td>7</td>\n",
       "      <td>1.053953</td>\n",
       "      <td>1.050000</td>\n",
       "      <td>0.504148</td>\n",
       "      <td>00:06</td>\n",
       "    </tr>\n",
       "    <tr>\n",
       "      <td>8</td>\n",
       "      <td>1.047342</td>\n",
       "      <td>1.030282</td>\n",
       "      <td>0.516349</td>\n",
       "      <td>00:07</td>\n",
       "    </tr>\n",
       "    <tr>\n",
       "      <td>9</td>\n",
       "      <td>1.039005</td>\n",
       "      <td>1.032885</td>\n",
       "      <td>0.503172</td>\n",
       "      <td>00:06</td>\n",
       "    </tr>\n",
       "    <tr>\n",
       "      <td>10</td>\n",
       "      <td>1.051110</td>\n",
       "      <td>1.020192</td>\n",
       "      <td>0.520254</td>\n",
       "      <td>00:06</td>\n",
       "    </tr>\n",
       "    <tr>\n",
       "      <td>11</td>\n",
       "      <td>1.020989</td>\n",
       "      <td>1.017905</td>\n",
       "      <td>0.525134</td>\n",
       "      <td>00:06</td>\n",
       "    </tr>\n",
       "    <tr>\n",
       "      <td>12</td>\n",
       "      <td>0.993849</td>\n",
       "      <td>1.023048</td>\n",
       "      <td>0.511957</td>\n",
       "      <td>00:06</td>\n",
       "    </tr>\n",
       "    <tr>\n",
       "      <td>13</td>\n",
       "      <td>1.010108</td>\n",
       "      <td>1.025932</td>\n",
       "      <td>0.514397</td>\n",
       "      <td>00:06</td>\n",
       "    </tr>\n",
       "    <tr>\n",
       "      <td>14</td>\n",
       "      <td>0.988763</td>\n",
       "      <td>1.020533</td>\n",
       "      <td>0.524158</td>\n",
       "      <td>00:06</td>\n",
       "    </tr>\n",
       "    <tr>\n",
       "      <td>15</td>\n",
       "      <td>0.970229</td>\n",
       "      <td>1.013173</td>\n",
       "      <td>0.522206</td>\n",
       "      <td>00:06</td>\n",
       "    </tr>\n",
       "    <tr>\n",
       "      <td>16</td>\n",
       "      <td>0.972081</td>\n",
       "      <td>1.011038</td>\n",
       "      <td>0.519278</td>\n",
       "      <td>00:06</td>\n",
       "    </tr>\n",
       "    <tr>\n",
       "      <td>17</td>\n",
       "      <td>0.995236</td>\n",
       "      <td>1.013020</td>\n",
       "      <td>0.524158</td>\n",
       "      <td>00:06</td>\n",
       "    </tr>\n",
       "    <tr>\n",
       "      <td>18</td>\n",
       "      <td>0.962654</td>\n",
       "      <td>1.015892</td>\n",
       "      <td>0.525134</td>\n",
       "      <td>00:06</td>\n",
       "    </tr>\n",
       "    <tr>\n",
       "      <td>19</td>\n",
       "      <td>0.943079</td>\n",
       "      <td>1.017794</td>\n",
       "      <td>0.528551</td>\n",
       "      <td>00:06</td>\n",
       "    </tr>\n",
       "    <tr>\n",
       "      <td>20</td>\n",
       "      <td>0.954314</td>\n",
       "      <td>1.021093</td>\n",
       "      <td>0.521230</td>\n",
       "      <td>00:06</td>\n",
       "    </tr>\n",
       "  </tbody>\n",
       "</table>"
      ],
      "text/plain": [
       "<IPython.core.display.HTML object>"
      ]
     },
     "metadata": {},
     "output_type": "display_data"
    },
    {
     "name": "stdout",
     "output_type": "stream",
     "text": [
      "Better model found at epoch 0 with valid_loss value: 2.4850714206695557.\n",
      "Better model found at epoch 1 with valid_loss value: 1.569708228111267.\n",
      "Better model found at epoch 2 with valid_loss value: 1.2337019443511963.\n",
      "Better model found at epoch 3 with valid_loss value: 1.1472797393798828.\n",
      "Better model found at epoch 4 with valid_loss value: 1.0913877487182617.\n",
      "Better model found at epoch 5 with valid_loss value: 1.070238471031189.\n",
      "Better model found at epoch 6 with valid_loss value: 1.0461950302124023.\n",
      "Better model found at epoch 8 with valid_loss value: 1.0302817821502686.\n",
      "Better model found at epoch 10 with valid_loss value: 1.0201921463012695.\n",
      "Better model found at epoch 11 with valid_loss value: 1.0179046392440796.\n",
      "Better model found at epoch 15 with valid_loss value: 1.0131731033325195.\n",
      "Better model found at epoch 16 with valid_loss value: 1.0110384225845337.\n",
      "No improvement since epoch 15: early stopping\n"
     ]
    },
    {
     "data": {
      "text/html": [
       "\n",
       "<style>\n",
       "    /* Turns off some styling */\n",
       "    progress {\n",
       "        /* gets rid of default border in Firefox and Opera. */\n",
       "        border: none;\n",
       "        /* Needs to be in here for Safari polyfill so background images work as expected. */\n",
       "        background-size: auto;\n",
       "    }\n",
       "    progress:not([value]), progress:not([value])::-webkit-progress-bar {\n",
       "        background: repeating-linear-gradient(45deg, #7e7e7e, #7e7e7e 10px, #5c5c5c 10px, #5c5c5c 20px);\n",
       "    }\n",
       "    .progress-bar-interrupted, .progress-bar-interrupted::-webkit-progress-bar {\n",
       "        background: #F44336;\n",
       "    }\n",
       "</style>\n"
      ],
      "text/plain": [
       "<IPython.core.display.HTML object>"
      ]
     },
     "metadata": {},
     "output_type": "display_data"
    },
    {
     "data": {
      "text/html": [],
      "text/plain": [
       "<IPython.core.display.HTML object>"
      ]
     },
     "metadata": {},
     "output_type": "display_data"
    },
    {
     "name": "stdout",
     "output_type": "stream",
     "text": [
      "Better model found at epoch 0 with valid_loss value: 0.5148438811302185.\n"
     ]
    },
    {
     "data": {
      "image/png": "[encoded data removed]",
      "text/plain": [
       "<Figure size 640x480 with 1 Axes>"
      ]
     },
     "metadata": {},
     "output_type": "display_data"
    },
    {
     "data": {
      "image/png": "[encoded data removed]",
      "text/plain": [
       "<Figure size 640x480 with 1 Axes>"
      ]
     },
     "metadata": {},
     "output_type": "display_data"
    },
    {
     "data": {
      "image/png": "[encoded data removed]",
      "text/plain": [
       "<Figure size 640x480 with 1 Axes>"
      ]
     },
     "metadata": {},
     "output_type": "display_data"
    },
    {
     "data": {
      "image/png": "[encoded data removed]",
      "text/plain": [
       "<Figure size 640x480 with 1 Axes>"
      ]
     },
     "metadata": {},
     "output_type": "display_data"
    },
    {
     "data": {
      "image/png": "[encoded data removed]",
      "text/plain": [
       "<Figure size 640x480 with 1 Axes>"
      ]
     },
     "metadata": {},
     "output_type": "display_data"
    }
   ],
   "source": [
    "train_val = train_validate(dls,m,epoch=25,metrics=squeeze_accuracy,loss=squeeze_cross_entropy)"
   ]
  },
  {
   "cell_type": "markdown",
   "id": "3758fa6e",
   "metadata": {},
   "source": [
    "### Load Test Data"
   ]
  },
  {
   "cell_type": "code",
   "execution_count": 136,
   "id": "91422082",
   "metadata": {},
   "outputs": [
    {
     "data": {
      "text/html": [
       "<div>\n",
       "<style scoped>\n",
       "    .dataframe tbody tr th:only-of-type {\n",
       "        vertical-align: middle;\n",
       "    }\n",
       "\n",
       "    .dataframe tbody tr th {\n",
       "        vertical-align: top;\n",
       "    }\n",
       "\n",
       "    .dataframe thead th {\n",
       "        text-align: right;\n",
       "    }\n",
       "</style>\n",
       "<table border=\"1\" class=\"dataframe\">\n",
       "  <thead>\n",
       "    <tr style=\"text-align: right;\">\n",
       "      <th></th>\n",
       "      <th>activity</th>\n",
       "      <th>trace_id</th>\n",
       "      <th>case:pdc:costs</th>\n",
       "      <th>normal</th>\n",
       "      <th>event_id</th>\n",
       "    </tr>\n",
       "    <tr>\n",
       "      <th>trace_id</th>\n",
       "      <th></th>\n",
       "      <th></th>\n",
       "      <th></th>\n",
       "      <th></th>\n",
       "      <th></th>\n",
       "    </tr>\n",
       "  </thead>\n",
       "  <tbody>\n",
       "    <tr>\n",
       "      <th>trace 4</th>\n",
       "      <td>###start###</td>\n",
       "      <td>trace 4</td>\n",
       "      <td>5.0</td>\n",
       "      <td>False</td>\n",
       "      <td>0</td>\n",
       "    </tr>\n",
       "    <tr>\n",
       "      <th>trace 4</th>\n",
       "      <td>t26</td>\n",
       "      <td>trace 4</td>\n",
       "      <td>5.0</td>\n",
       "      <td>False</td>\n",
       "      <td>1</td>\n",
       "    </tr>\n",
       "    <tr>\n",
       "      <th>trace 4</th>\n",
       "      <td>t32</td>\n",
       "      <td>trace 4</td>\n",
       "      <td>5.0</td>\n",
       "      <td>False</td>\n",
       "      <td>2</td>\n",
       "    </tr>\n",
       "    <tr>\n",
       "      <th>trace 4</th>\n",
       "      <td>t41</td>\n",
       "      <td>trace 4</td>\n",
       "      <td>5.0</td>\n",
       "      <td>False</td>\n",
       "      <td>3</td>\n",
       "    </tr>\n",
       "    <tr>\n",
       "      <th>trace 4</th>\n",
       "      <td>t44</td>\n",
       "      <td>trace 4</td>\n",
       "      <td>5.0</td>\n",
       "      <td>False</td>\n",
       "      <td>4</td>\n",
       "    </tr>\n",
       "    <tr>\n",
       "      <th>trace 4</th>\n",
       "      <td>t33</td>\n",
       "      <td>trace 4</td>\n",
       "      <td>5.0</td>\n",
       "      <td>False</td>\n",
       "      <td>5</td>\n",
       "    </tr>\n",
       "    <tr>\n",
       "      <th>trace 4</th>\n",
       "      <td>t23</td>\n",
       "      <td>trace 4</td>\n",
       "      <td>5.0</td>\n",
       "      <td>False</td>\n",
       "      <td>6</td>\n",
       "    </tr>\n",
       "    <tr>\n",
       "      <th>trace 4</th>\n",
       "      <td>t31</td>\n",
       "      <td>trace 4</td>\n",
       "      <td>5.0</td>\n",
       "      <td>False</td>\n",
       "      <td>7</td>\n",
       "    </tr>\n",
       "    <tr>\n",
       "      <th>trace 4</th>\n",
       "      <td>t41</td>\n",
       "      <td>trace 4</td>\n",
       "      <td>5.0</td>\n",
       "      <td>False</td>\n",
       "      <td>8</td>\n",
       "    </tr>\n",
       "    <tr>\n",
       "      <th>trace 4</th>\n",
       "      <td>t34</td>\n",
       "      <td>trace 4</td>\n",
       "      <td>5.0</td>\n",
       "      <td>False</td>\n",
       "      <td>9</td>\n",
       "    </tr>\n",
       "    <tr>\n",
       "      <th>trace 4</th>\n",
       "      <td>t33</td>\n",
       "      <td>trace 4</td>\n",
       "      <td>5.0</td>\n",
       "      <td>False</td>\n",
       "      <td>10</td>\n",
       "    </tr>\n",
       "    <tr>\n",
       "      <th>trace 4</th>\n",
       "      <td>t24</td>\n",
       "      <td>trace 4</td>\n",
       "      <td>5.0</td>\n",
       "      <td>False</td>\n",
       "      <td>11</td>\n",
       "    </tr>\n",
       "    <tr>\n",
       "      <th>trace 4</th>\n",
       "      <td>t26</td>\n",
       "      <td>trace 4</td>\n",
       "      <td>5.0</td>\n",
       "      <td>False</td>\n",
       "      <td>12</td>\n",
       "    </tr>\n",
       "    <tr>\n",
       "      <th>trace 4</th>\n",
       "      <td>t36</td>\n",
       "      <td>trace 4</td>\n",
       "      <td>5.0</td>\n",
       "      <td>False</td>\n",
       "      <td>13</td>\n",
       "    </tr>\n",
       "    <tr>\n",
       "      <th>trace 4</th>\n",
       "      <td>t23</td>\n",
       "      <td>trace 4</td>\n",
       "      <td>5.0</td>\n",
       "      <td>False</td>\n",
       "      <td>14</td>\n",
       "    </tr>\n",
       "    <tr>\n",
       "      <th>trace 4</th>\n",
       "      <td>t44</td>\n",
       "      <td>trace 4</td>\n",
       "      <td>5.0</td>\n",
       "      <td>False</td>\n",
       "      <td>15</td>\n",
       "    </tr>\n",
       "    <tr>\n",
       "      <th>trace 4</th>\n",
       "      <td>t21</td>\n",
       "      <td>trace 4</td>\n",
       "      <td>5.0</td>\n",
       "      <td>False</td>\n",
       "      <td>16</td>\n",
       "    </tr>\n",
       "    <tr>\n",
       "      <th>trace 4</th>\n",
       "      <td>t54</td>\n",
       "      <td>trace 4</td>\n",
       "      <td>5.0</td>\n",
       "      <td>False</td>\n",
       "      <td>17</td>\n",
       "    </tr>\n",
       "    <tr>\n",
       "      <th>trace 4</th>\n",
       "      <td>t31</td>\n",
       "      <td>trace 4</td>\n",
       "      <td>5.0</td>\n",
       "      <td>False</td>\n",
       "      <td>18</td>\n",
       "    </tr>\n",
       "    <tr>\n",
       "      <th>trace 4</th>\n",
       "      <td>t41</td>\n",
       "      <td>trace 4</td>\n",
       "      <td>5.0</td>\n",
       "      <td>False</td>\n",
       "      <td>19</td>\n",
       "    </tr>\n",
       "    <tr>\n",
       "      <th>trace 4</th>\n",
       "      <td>t66</td>\n",
       "      <td>trace 4</td>\n",
       "      <td>5.0</td>\n",
       "      <td>False</td>\n",
       "      <td>20</td>\n",
       "    </tr>\n",
       "    <tr>\n",
       "      <th>trace 4</th>\n",
       "      <td>t51</td>\n",
       "      <td>trace 4</td>\n",
       "      <td>5.0</td>\n",
       "      <td>False</td>\n",
       "      <td>21</td>\n",
       "    </tr>\n",
       "    <tr>\n",
       "      <th>trace 4</th>\n",
       "      <td>t76</td>\n",
       "      <td>trace 4</td>\n",
       "      <td>5.0</td>\n",
       "      <td>False</td>\n",
       "      <td>22</td>\n",
       "    </tr>\n",
       "    <tr>\n",
       "      <th>trace 4</th>\n",
       "      <td>t74</td>\n",
       "      <td>trace 4</td>\n",
       "      <td>5.0</td>\n",
       "      <td>False</td>\n",
       "      <td>23</td>\n",
       "    </tr>\n",
       "    <tr>\n",
       "      <th>trace 4</th>\n",
       "      <td>t64</td>\n",
       "      <td>trace 4</td>\n",
       "      <td>5.0</td>\n",
       "      <td>False</td>\n",
       "      <td>24</td>\n",
       "    </tr>\n",
       "    <tr>\n",
       "      <th>trace 4</th>\n",
       "      <td>t62</td>\n",
       "      <td>trace 4</td>\n",
       "      <td>5.0</td>\n",
       "      <td>False</td>\n",
       "      <td>25</td>\n",
       "    </tr>\n",
       "    <tr>\n",
       "      <th>trace 4</th>\n",
       "      <td>t71</td>\n",
       "      <td>trace 4</td>\n",
       "      <td>5.0</td>\n",
       "      <td>False</td>\n",
       "      <td>26</td>\n",
       "    </tr>\n",
       "    <tr>\n",
       "      <th>trace 4</th>\n",
       "      <td>t34</td>\n",
       "      <td>trace 4</td>\n",
       "      <td>5.0</td>\n",
       "      <td>False</td>\n",
       "      <td>27</td>\n",
       "    </tr>\n",
       "    <tr>\n",
       "      <th>trace 4</th>\n",
       "      <td>t24</td>\n",
       "      <td>trace 4</td>\n",
       "      <td>5.0</td>\n",
       "      <td>False</td>\n",
       "      <td>28</td>\n",
       "    </tr>\n",
       "    <tr>\n",
       "      <th>trace 4</th>\n",
       "      <td>t26</td>\n",
       "      <td>trace 4</td>\n",
       "      <td>5.0</td>\n",
       "      <td>False</td>\n",
       "      <td>29</td>\n",
       "    </tr>\n",
       "    <tr>\n",
       "      <th>trace 4</th>\n",
       "      <td>t44</td>\n",
       "      <td>trace 4</td>\n",
       "      <td>5.0</td>\n",
       "      <td>False</td>\n",
       "      <td>30</td>\n",
       "    </tr>\n",
       "    <tr>\n",
       "      <th>trace 4</th>\n",
       "      <td>t34</td>\n",
       "      <td>trace 4</td>\n",
       "      <td>5.0</td>\n",
       "      <td>False</td>\n",
       "      <td>31</td>\n",
       "    </tr>\n",
       "    <tr>\n",
       "      <th>trace 4</th>\n",
       "      <td>t24</td>\n",
       "      <td>trace 4</td>\n",
       "      <td>5.0</td>\n",
       "      <td>False</td>\n",
       "      <td>32</td>\n",
       "    </tr>\n",
       "    <tr>\n",
       "      <th>trace 4</th>\n",
       "      <td>t26</td>\n",
       "      <td>trace 4</td>\n",
       "      <td>5.0</td>\n",
       "      <td>False</td>\n",
       "      <td>33</td>\n",
       "    </tr>\n",
       "    <tr>\n",
       "      <th>trace 4</th>\n",
       "      <td>t36</td>\n",
       "      <td>trace 4</td>\n",
       "      <td>5.0</td>\n",
       "      <td>False</td>\n",
       "      <td>34</td>\n",
       "    </tr>\n",
       "    <tr>\n",
       "      <th>trace 4</th>\n",
       "      <td>t44</td>\n",
       "      <td>trace 4</td>\n",
       "      <td>5.0</td>\n",
       "      <td>False</td>\n",
       "      <td>35</td>\n",
       "    </tr>\n",
       "    <tr>\n",
       "      <th>trace 4</th>\n",
       "      <td>t54</td>\n",
       "      <td>trace 4</td>\n",
       "      <td>5.0</td>\n",
       "      <td>False</td>\n",
       "      <td>36</td>\n",
       "    </tr>\n",
       "    <tr>\n",
       "      <th>trace 4</th>\n",
       "      <td>t65</td>\n",
       "      <td>trace 4</td>\n",
       "      <td>5.0</td>\n",
       "      <td>False</td>\n",
       "      <td>37</td>\n",
       "    </tr>\n",
       "    <tr>\n",
       "      <th>trace 4</th>\n",
       "      <td>t76</td>\n",
       "      <td>trace 4</td>\n",
       "      <td>5.0</td>\n",
       "      <td>False</td>\n",
       "      <td>38</td>\n",
       "    </tr>\n",
       "    <tr>\n",
       "      <th>trace 4</th>\n",
       "      <td>t74</td>\n",
       "      <td>trace 4</td>\n",
       "      <td>5.0</td>\n",
       "      <td>False</td>\n",
       "      <td>39</td>\n",
       "    </tr>\n",
       "    <tr>\n",
       "      <th>trace 4</th>\n",
       "      <td>t64</td>\n",
       "      <td>trace 4</td>\n",
       "      <td>5.0</td>\n",
       "      <td>False</td>\n",
       "      <td>40</td>\n",
       "    </tr>\n",
       "    <tr>\n",
       "      <th>trace 4</th>\n",
       "      <td>t34</td>\n",
       "      <td>trace 4</td>\n",
       "      <td>5.0</td>\n",
       "      <td>False</td>\n",
       "      <td>41</td>\n",
       "    </tr>\n",
       "    <tr>\n",
       "      <th>trace 4</th>\n",
       "      <td>t24</td>\n",
       "      <td>trace 4</td>\n",
       "      <td>5.0</td>\n",
       "      <td>False</td>\n",
       "      <td>42</td>\n",
       "    </tr>\n",
       "    <tr>\n",
       "      <th>trace 4</th>\n",
       "      <td>t26</td>\n",
       "      <td>trace 4</td>\n",
       "      <td>5.0</td>\n",
       "      <td>False</td>\n",
       "      <td>43</td>\n",
       "    </tr>\n",
       "    <tr>\n",
       "      <th>trace 4</th>\n",
       "      <td>t44</td>\n",
       "      <td>trace 4</td>\n",
       "      <td>5.0</td>\n",
       "      <td>False</td>\n",
       "      <td>44</td>\n",
       "    </tr>\n",
       "    <tr>\n",
       "      <th>trace 4</th>\n",
       "      <td>t34</td>\n",
       "      <td>trace 4</td>\n",
       "      <td>5.0</td>\n",
       "      <td>False</td>\n",
       "      <td>45</td>\n",
       "    </tr>\n",
       "    <tr>\n",
       "      <th>trace 4</th>\n",
       "      <td>t21</td>\n",
       "      <td>trace 4</td>\n",
       "      <td>5.0</td>\n",
       "      <td>False</td>\n",
       "      <td>46</td>\n",
       "    </tr>\n",
       "    <tr>\n",
       "      <th>trace 4</th>\n",
       "      <td>t24</td>\n",
       "      <td>trace 4</td>\n",
       "      <td>5.0</td>\n",
       "      <td>False</td>\n",
       "      <td>47</td>\n",
       "    </tr>\n",
       "    <tr>\n",
       "      <th>trace 4</th>\n",
       "      <td>t26</td>\n",
       "      <td>trace 4</td>\n",
       "      <td>5.0</td>\n",
       "      <td>False</td>\n",
       "      <td>48</td>\n",
       "    </tr>\n",
       "    <tr>\n",
       "      <th>trace 4</th>\n",
       "      <td>t44</td>\n",
       "      <td>trace 4</td>\n",
       "      <td>5.0</td>\n",
       "      <td>False</td>\n",
       "      <td>49</td>\n",
       "    </tr>\n",
       "  </tbody>\n",
       "</table>\n",
       "</div>"
      ],
      "text/plain": [
       "             activity trace_id case:pdc:costs normal event_id\n",
       "trace_id                                                     \n",
       "trace 4   ###start###  trace 4            5.0  False        0\n",
       "trace 4           t26  trace 4            5.0  False        1\n",
       "trace 4           t32  trace 4            5.0  False        2\n",
       "trace 4           t41  trace 4            5.0  False        3\n",
       "trace 4           t44  trace 4            5.0  False        4\n",
       "trace 4           t33  trace 4            5.0  False        5\n",
       "trace 4           t23  trace 4            5.0  False        6\n",
       "trace 4           t31  trace 4            5.0  False        7\n",
       "trace 4           t41  trace 4            5.0  False        8\n",
       "trace 4           t34  trace 4            5.0  False        9\n",
       "trace 4           t33  trace 4            5.0  False       10\n",
       "trace 4           t24  trace 4            5.0  False       11\n",
       "trace 4           t26  trace 4            5.0  False       12\n",
       "trace 4           t36  trace 4            5.0  False       13\n",
       "trace 4           t23  trace 4            5.0  False       14\n",
       "trace 4           t44  trace 4            5.0  False       15\n",
       "trace 4           t21  trace 4            5.0  False       16\n",
       "trace 4           t54  trace 4            5.0  False       17\n",
       "trace 4           t31  trace 4            5.0  False       18\n",
       "trace 4           t41  trace 4            5.0  False       19\n",
       "trace 4           t66  trace 4            5.0  False       20\n",
       "trace 4           t51  trace 4            5.0  False       21\n",
       "trace 4           t76  trace 4            5.0  False       22\n",
       "trace 4           t74  trace 4            5.0  False       23\n",
       "trace 4           t64  trace 4            5.0  False       24\n",
       "trace 4           t62  trace 4            5.0  False       25\n",
       "trace 4           t71  trace 4            5.0  False       26\n",
       "trace 4           t34  trace 4            5.0  False       27\n",
       "trace 4           t24  trace 4            5.0  False       28\n",
       "trace 4           t26  trace 4            5.0  False       29\n",
       "trace 4           t44  trace 4            5.0  False       30\n",
       "trace 4           t34  trace 4            5.0  False       31\n",
       "trace 4           t24  trace 4            5.0  False       32\n",
       "trace 4           t26  trace 4            5.0  False       33\n",
       "trace 4           t36  trace 4            5.0  False       34\n",
       "trace 4           t44  trace 4            5.0  False       35\n",
       "trace 4           t54  trace 4            5.0  False       36\n",
       "trace 4           t65  trace 4            5.0  False       37\n",
       "trace 4           t76  trace 4            5.0  False       38\n",
       "trace 4           t74  trace 4            5.0  False       39\n",
       "trace 4           t64  trace 4            5.0  False       40\n",
       "trace 4           t34  trace 4            5.0  False       41\n",
       "trace 4           t24  trace 4            5.0  False       42\n",
       "trace 4           t26  trace 4            5.0  False       43\n",
       "trace 4           t44  trace 4            5.0  False       44\n",
       "trace 4           t34  trace 4            5.0  False       45\n",
       "trace 4           t21  trace 4            5.0  False       46\n",
       "trace 4           t24  trace 4            5.0  False       47\n",
       "trace 4           t26  trace 4            5.0  False       48\n",
       "trace 4           t44  trace 4            5.0  False       49"
      ]
     },
     "execution_count": 136,
     "metadata": {},
     "output_type": "execute_result"
    }
   ],
   "source": [
    "test_log = import_log(f'data/csv/PDC2020_ground_truth/{log_name}.csv.gz')\n",
    "test_log[test_log['normal'] == False].head(50)"
   ]
  },
  {
   "cell_type": "markdown",
   "id": "f1fa1395",
   "metadata": {},
   "source": [
    "### Create PPOBJ of test data with same vocab"
   ]
  },
  {
   "cell_type": "code",
   "execution_count": 137,
   "id": "6c2fd708",
   "metadata": {},
   "outputs": [],
   "source": [
    "#export\n",
    "def process_test(test_log,categorify,cat_names='activity'):\n",
    "    o=PPObj(test_log,procs=categorify,cat_names=cat_names,y_names=cat_names,do_setup=False)\n",
    "    o.process() # map to the same categories as in the training set\n",
    "    return o\n"
   ]
  },
  {
   "cell_type": "code",
   "execution_count": 164,
   "id": "d83c39a3",
   "metadata": {},
   "outputs": [],
   "source": [
    "o = process_test(test_log,categorify)"
   ]
  },
  {
   "cell_type": "markdown",
   "id": "d526f36f",
   "metadata": {},
   "source": [
    "### Apply Prediction Model"
   ]
  },
  {
   "cell_type": "code",
   "execution_count": 165,
   "id": "e770ce43",
   "metadata": {},
   "outputs": [],
   "source": [
    "#export\n",
    "def predict_next_step(o,m,ws=5):\n",
    "    wds,idx=partial(windows_fast,ws=ws)(o.xs, o.event_ids)\n",
    "    res=(m(LongTensor(wds).cuda()))\n",
    "    return res,idx"
   ]
  },
  {
   "cell_type": "code",
   "execution_count": 166,
   "id": "b231e959",
   "metadata": {},
   "outputs": [],
   "source": [
    "nsp,idx=predict_next_step(o,m)"
   ]
  },
  {
   "cell_type": "markdown",
   "id": "06bc0020",
   "metadata": {},
   "source": [
    "### Calculate Anomaly Score"
   ]
  },
  {
   "cell_type": "code",
   "execution_count": 167,
   "id": "1306dcae",
   "metadata": {},
   "outputs": [],
   "source": [
    "def calc_anomaly_score(res,o,idx):\n",
    "    sm = nn.Softmax(dim=1)\n",
    "    y = o.items['activity'].iloc[idx].values\n",
    "    p = sm(res)\n",
    "    pred = p.max(1)[0]\n",
    "    truth = p[list(range(0, len(y))),y]\n",
    "    a_score = ((pred - truth) / pred).cpu().detach().numpy()\n",
    "    return a_score"
   ]
  },
  {
   "cell_type": "code",
   "execution_count": 168,
   "id": "577852a7",
   "metadata": {},
   "outputs": [],
   "source": [
    "anomaly_score = calc_anomaly_score(nsp,o,idx)"
   ]
  },
  {
   "cell_type": "markdown",
   "id": "29672c07",
   "metadata": {},
   "source": [
    "# Experiment (Rom)"
   ]
  },
  {
   "cell_type": "code",
   "execution_count": 169,
   "id": "bfa262cb",
   "metadata": {},
   "outputs": [
    {
     "name": "stdout",
     "output_type": "stream",
     "text": [
      "trace_id\n",
      "trace 1                                                                                                                                                      [2, 3, 8, 6, 13, 11, 14, 10, 5, 9, 6, 12, 14, 4, 16, 3, 8, 22, 13, 15, 18, 23, 26, 1]\n",
      "trace 10                                                                                                                                          [2, 3, 7, 13, 15, 23, 24, 6, 19, 14, 16, 9, 4, 21, 7, 13, 15, 26, 18, 23, 24, 19, 15, 18, 23, 1]\n",
      "trace 100                                                     [2, 3, 7, 13, 6, 9, 4, 3, 14, 7, 13, 16, 9, 21, 25, 20, 16, 4, 3, 8, 13, 21, 15, 17, 23, 24, 19, 15, 9, 4, 7, 13, 15, 23, 24, 19, 15, 23, 24, 19, 15, 18, 23, 24, 19, 15, 17, 23, 1]\n",
      "trace 1000                                                                           [2, 3, 8, 13, 6, 11, 15, 18, 23, 14, 16, 24, 19, 15, 21, 23, 26, 25, 20, 16, 21, 26, 20, 10, 5, 6, 11, 14, 10, 5, 6, 11, 14, 10, 5, 6, 11, 14, 16, 22, 26, 1]\n",
      "trace 101                                                                                                                                                                        [2, 3, 8, 14, 10, 5, 6, 6, 12, 13, 15, 14, 18, 16, 23, 21, 26, 1]\n",
      "                                                                                                                              ...                                                                                                                 \n",
      "trace 995                                                                                                        [2, 6, 14, 8, 16, 21, 13, 26, 25, 20, 15, 18, 23, 16, 24, 22, 19, 15, 17, 23, 24, 19, 9, 4, 8, 13, 9, 4, 3, 7, 13, 15, 18, 23, 1]\n",
      "trace 996                                                                                                                                                                                         [2, 16, 6, 12, 8, 14, 13, 15, 18, 23, 16, 22, 1]\n",
      "trace 997     [2, 6, 12, 8, 13, 15, 18, 23, 24, 14, 19, 16, 15, 21, 26, 23, 25, 24, 19, 20, 9, 10, 4, 3, 8, 5, 13, 15, 6, 12, 18, 23, 24, 16, 19, 22, 15, 26, 25, 18, 23, 20, 16, 21, 26, 25, 20, 16, 21, 26, 25, 20, 10, 5, 6, 12, 14, 16, 22, 1]\n",
      "trace 998                                                                                                                                               [2, 6, 11, 14, 3, 16, 7, 22, 13, 26, 25, 15, 20, 16, 17, 22, 23, 24, 3, 19, 15, 18, 23, 1]\n",
      "trace 999                                                                                                                                                                                 [2, 3, 7, 13, 9, 6, 4, 14, 7, 16, 21, 13, 26, 15, 23, 1]\n",
      "Length: 1000, dtype: object\n"
     ]
    }
   ],
   "source": [
    "df = o.xs\n",
    "grouper = df.groupby('trace_id')\n",
    "grouped = grouper.apply(lambda x: x['activity'].values)\n",
    "print(grouped)"
   ]
  },
  {
   "cell_type": "code",
   "execution_count": 170,
   "id": "59deb3ea",
   "metadata": {},
   "outputs": [
    {
     "name": "stdout",
     "output_type": "stream",
     "text": [
      "[ 3  8  6 ... 22 26  1]\n"
     ]
    }
   ],
   "source": [
    "y = o.items['activity'].iloc[idx].values\n",
    "print(y)"
   ]
  },
  {
   "cell_type": "markdown",
   "id": "248c2b2c",
   "metadata": {},
   "source": [
    "## Return o.xs"
   ]
  },
  {
   "cell_type": "code",
   "execution_count": 171,
   "id": "a8255219",
   "metadata": {},
   "outputs": [
    {
     "ename": "ValueError",
     "evalue": "cannot reindex on an axis with duplicate labels",
     "output_type": "error",
     "traceback": [
      "\u001b[1;31m---------------------------------------------------------------------------\u001b[0m",
      "\u001b[1;31mValueError\u001b[0m                                Traceback (most recent call last)",
      "\u001b[1;32mc:\\Users\\Rom\\Desktop\\Technion\\Research\\Summer Project\\project#1\\dapnn\\03_anomaly.ipynb Cell 47\u001b[0m line \u001b[0;36m1\n\u001b[0;32m      <a href='vscode-notebook-cell:/c%3A/Users/Rom/Desktop/Technion/Research/Summer%20Project/project%231/dapnn/03_anomaly.ipynb#Y211sZmlsZQ%3D%3D?line=6'>7</a>\u001b[0m \u001b[39m# Set 'trace_id' as the index\u001b[39;00m\n\u001b[0;32m      <a href='vscode-notebook-cell:/c%3A/Users/Rom/Desktop/Technion/Research/Summer%20Project/project%231/dapnn/03_anomaly.ipynb#Y211sZmlsZQ%3D%3D?line=7'>8</a>\u001b[0m df2\u001b[39m.\u001b[39mset_index(\u001b[39m'\u001b[39m\u001b[39mtrace_id\u001b[39m\u001b[39m'\u001b[39m, inplace\u001b[39m=\u001b[39m\u001b[39mTrue\u001b[39;00m)\n\u001b[1;32m---> <a href='vscode-notebook-cell:/c%3A/Users/Rom/Desktop/Technion/Research/Summer%20Project/project%231/dapnn/03_anomaly.ipynb#Y211sZmlsZQ%3D%3D?line=9'>10</a>\u001b[0m o\u001b[39m.\u001b[39;49mxs \u001b[39m=\u001b[39m df2\n",
      "File \u001b[1;32mc:\\Users\\Rom\\Desktop\\Technion\\Research\\Summer Project\\project#1\\dapnn\\dapnn\\data_processing.py:158\u001b[0m, in \u001b[0;36m_add_prop.<locals>.fset\u001b[1;34m(o, v)\u001b[0m\n\u001b[0;32m    157\u001b[0m \u001b[39m@f\u001b[39m\u001b[39m.\u001b[39msetter\n\u001b[1;32m--> 158\u001b[0m \u001b[39mdef\u001b[39;00m \u001b[39mfset\u001b[39m(o, v): o[\u001b[39mgetattr\u001b[39;49m(o,nm\u001b[39m+\u001b[39;49m\u001b[39m'\u001b[39;49m\u001b[39m_names\u001b[39;49m\u001b[39m'\u001b[39;49m)] \u001b[39m=\u001b[39m v\n",
      "File \u001b[1;32mc:\\Users\\Rom\\anaconda3\\envs\\dapnn\\lib\\site-packages\\fastcore\\foundation.py:89\u001b[0m, in \u001b[0;36mCollBase.__setitem__\u001b[1;34m(self, k, v)\u001b[0m\n\u001b[1;32m---> 89\u001b[0m \u001b[39mdef\u001b[39;00m \u001b[39m__setitem__\u001b[39m(\u001b[39mself\u001b[39m, k, v): \u001b[39mself\u001b[39;49m\u001b[39m.\u001b[39;49mitems[\u001b[39mlist\u001b[39;49m(k) \u001b[39mif\u001b[39;49;00m \u001b[39misinstance\u001b[39;49m(k,CollBase) \u001b[39melse\u001b[39;49;00m k] \u001b[39m=\u001b[39m v\n",
      "File \u001b[1;32mc:\\Users\\Rom\\anaconda3\\envs\\dapnn\\lib\\site-packages\\pandas\\core\\frame.py:3938\u001b[0m, in \u001b[0;36mDataFrame.__setitem__\u001b[1;34m(self, key, value)\u001b[0m\n\u001b[0;32m   3936\u001b[0m     \u001b[39mself\u001b[39m\u001b[39m.\u001b[39m_setitem_frame(key, value)\n\u001b[0;32m   3937\u001b[0m \u001b[39melif\u001b[39;00m \u001b[39misinstance\u001b[39m(key, (Series, np\u001b[39m.\u001b[39mndarray, \u001b[39mlist\u001b[39m, Index)):\n\u001b[1;32m-> 3938\u001b[0m     \u001b[39mself\u001b[39;49m\u001b[39m.\u001b[39;49m_setitem_array(key, value)\n\u001b[0;32m   3939\u001b[0m \u001b[39melif\u001b[39;00m \u001b[39misinstance\u001b[39m(value, DataFrame):\n\u001b[0;32m   3940\u001b[0m     \u001b[39mself\u001b[39m\u001b[39m.\u001b[39m_set_item_frame_value(key, value)\n",
      "File \u001b[1;32mc:\\Users\\Rom\\anaconda3\\envs\\dapnn\\lib\\site-packages\\pandas\\core\\frame.py:3982\u001b[0m, in \u001b[0;36mDataFrame._setitem_array\u001b[1;34m(self, key, value)\u001b[0m\n\u001b[0;32m   3980\u001b[0m     check_key_length(\u001b[39mself\u001b[39m\u001b[39m.\u001b[39mcolumns, key, value)\n\u001b[0;32m   3981\u001b[0m     \u001b[39mfor\u001b[39;00m k1, k2 \u001b[39min\u001b[39;00m \u001b[39mzip\u001b[39m(key, value\u001b[39m.\u001b[39mcolumns):\n\u001b[1;32m-> 3982\u001b[0m         \u001b[39mself\u001b[39;49m[k1] \u001b[39m=\u001b[39m value[k2]\n\u001b[0;32m   3984\u001b[0m \u001b[39melif\u001b[39;00m \u001b[39mnot\u001b[39;00m is_list_like(value):\n\u001b[0;32m   3985\u001b[0m     \u001b[39mfor\u001b[39;00m col \u001b[39min\u001b[39;00m key:\n",
      "File \u001b[1;32mc:\\Users\\Rom\\anaconda3\\envs\\dapnn\\lib\\site-packages\\pandas\\core\\frame.py:3950\u001b[0m, in \u001b[0;36mDataFrame.__setitem__\u001b[1;34m(self, key, value)\u001b[0m\n\u001b[0;32m   3947\u001b[0m     \u001b[39mself\u001b[39m\u001b[39m.\u001b[39m_setitem_array([key], value)\n\u001b[0;32m   3948\u001b[0m \u001b[39melse\u001b[39;00m:\n\u001b[0;32m   3949\u001b[0m     \u001b[39m# set column\u001b[39;00m\n\u001b[1;32m-> 3950\u001b[0m     \u001b[39mself\u001b[39;49m\u001b[39m.\u001b[39;49m_set_item(key, value)\n",
      "File \u001b[1;32mc:\\Users\\Rom\\anaconda3\\envs\\dapnn\\lib\\site-packages\\pandas\\core\\frame.py:4143\u001b[0m, in \u001b[0;36mDataFrame._set_item\u001b[1;34m(self, key, value)\u001b[0m\n\u001b[0;32m   4133\u001b[0m \u001b[39mdef\u001b[39;00m \u001b[39m_set_item\u001b[39m(\u001b[39mself\u001b[39m, key, value) \u001b[39m-\u001b[39m\u001b[39m>\u001b[39m \u001b[39mNone\u001b[39;00m:\n\u001b[0;32m   4134\u001b[0m \u001b[39m    \u001b[39m\u001b[39m\"\"\"\u001b[39;00m\n\u001b[0;32m   4135\u001b[0m \u001b[39m    Add series to DataFrame in specified column.\u001b[39;00m\n\u001b[0;32m   4136\u001b[0m \n\u001b[1;32m   (...)\u001b[0m\n\u001b[0;32m   4141\u001b[0m \u001b[39m    ensure homogeneity.\u001b[39;00m\n\u001b[0;32m   4142\u001b[0m \u001b[39m    \"\"\"\u001b[39;00m\n\u001b[1;32m-> 4143\u001b[0m     value \u001b[39m=\u001b[39m \u001b[39mself\u001b[39;49m\u001b[39m.\u001b[39;49m_sanitize_column(value)\n\u001b[0;32m   4145\u001b[0m     \u001b[39mif\u001b[39;00m (\n\u001b[0;32m   4146\u001b[0m         key \u001b[39min\u001b[39;00m \u001b[39mself\u001b[39m\u001b[39m.\u001b[39mcolumns\n\u001b[0;32m   4147\u001b[0m         \u001b[39mand\u001b[39;00m value\u001b[39m.\u001b[39mndim \u001b[39m==\u001b[39m \u001b[39m1\u001b[39m\n\u001b[0;32m   4148\u001b[0m         \u001b[39mand\u001b[39;00m \u001b[39mnot\u001b[39;00m is_extension_array_dtype(value)\n\u001b[0;32m   4149\u001b[0m     ):\n\u001b[0;32m   4150\u001b[0m         \u001b[39m# broadcast across multiple columns if necessary\u001b[39;00m\n\u001b[0;32m   4151\u001b[0m         \u001b[39mif\u001b[39;00m \u001b[39mnot\u001b[39;00m \u001b[39mself\u001b[39m\u001b[39m.\u001b[39mcolumns\u001b[39m.\u001b[39mis_unique \u001b[39mor\u001b[39;00m \u001b[39misinstance\u001b[39m(\u001b[39mself\u001b[39m\u001b[39m.\u001b[39mcolumns, MultiIndex):\n",
      "File \u001b[1;32mc:\\Users\\Rom\\anaconda3\\envs\\dapnn\\lib\\site-packages\\pandas\\core\\frame.py:4867\u001b[0m, in \u001b[0;36mDataFrame._sanitize_column\u001b[1;34m(self, value)\u001b[0m\n\u001b[0;32m   4865\u001b[0m     \u001b[39mreturn\u001b[39;00m _reindex_for_setitem(value, \u001b[39mself\u001b[39m\u001b[39m.\u001b[39mindex)\n\u001b[0;32m   4866\u001b[0m \u001b[39melif\u001b[39;00m is_dict_like(value):\n\u001b[1;32m-> 4867\u001b[0m     \u001b[39mreturn\u001b[39;00m _reindex_for_setitem(Series(value), \u001b[39mself\u001b[39;49m\u001b[39m.\u001b[39;49mindex)\n\u001b[0;32m   4869\u001b[0m \u001b[39mif\u001b[39;00m is_list_like(value):\n\u001b[0;32m   4870\u001b[0m     com\u001b[39m.\u001b[39mrequire_length_match(value, \u001b[39mself\u001b[39m\u001b[39m.\u001b[39mindex)\n",
      "File \u001b[1;32mc:\\Users\\Rom\\anaconda3\\envs\\dapnn\\lib\\site-packages\\pandas\\core\\frame.py:11615\u001b[0m, in \u001b[0;36m_reindex_for_setitem\u001b[1;34m(value, index)\u001b[0m\n\u001b[0;32m  11611\u001b[0m \u001b[39mexcept\u001b[39;00m \u001b[39mValueError\u001b[39;00m \u001b[39mas\u001b[39;00m err:\n\u001b[0;32m  11612\u001b[0m     \u001b[39m# raised in MultiIndex.from_tuples, see test_insert_error_msmgs\u001b[39;00m\n\u001b[0;32m  11613\u001b[0m     \u001b[39mif\u001b[39;00m \u001b[39mnot\u001b[39;00m value\u001b[39m.\u001b[39mindex\u001b[39m.\u001b[39mis_unique:\n\u001b[0;32m  11614\u001b[0m         \u001b[39m# duplicate axis\u001b[39;00m\n\u001b[1;32m> 11615\u001b[0m         \u001b[39mraise\u001b[39;00m err\n\u001b[0;32m  11617\u001b[0m     \u001b[39mraise\u001b[39;00m \u001b[39mTypeError\u001b[39;00m(\n\u001b[0;32m  11618\u001b[0m         \u001b[39m\"\u001b[39m\u001b[39mincompatible index of inserted column with frame index\u001b[39m\u001b[39m\"\u001b[39m\n\u001b[0;32m  11619\u001b[0m     ) \u001b[39mfrom\u001b[39;00m \u001b[39merr\u001b[39;00m\n\u001b[0;32m  11620\u001b[0m \u001b[39mreturn\u001b[39;00m reindexed_value\n",
      "File \u001b[1;32mc:\\Users\\Rom\\anaconda3\\envs\\dapnn\\lib\\site-packages\\pandas\\core\\frame.py:11610\u001b[0m, in \u001b[0;36m_reindex_for_setitem\u001b[1;34m(value, index)\u001b[0m\n\u001b[0;32m  11608\u001b[0m \u001b[39m# GH#4107\u001b[39;00m\n\u001b[0;32m  11609\u001b[0m \u001b[39mtry\u001b[39;00m:\n\u001b[1;32m> 11610\u001b[0m     reindexed_value \u001b[39m=\u001b[39m value\u001b[39m.\u001b[39;49mreindex(index)\u001b[39m.\u001b[39m_values\n\u001b[0;32m  11611\u001b[0m \u001b[39mexcept\u001b[39;00m \u001b[39mValueError\u001b[39;00m \u001b[39mas\u001b[39;00m err:\n\u001b[0;32m  11612\u001b[0m     \u001b[39m# raised in MultiIndex.from_tuples, see test_insert_error_msmgs\u001b[39;00m\n\u001b[0;32m  11613\u001b[0m     \u001b[39mif\u001b[39;00m \u001b[39mnot\u001b[39;00m value\u001b[39m.\u001b[39mindex\u001b[39m.\u001b[39mis_unique:\n\u001b[0;32m  11614\u001b[0m         \u001b[39m# duplicate axis\u001b[39;00m\n",
      "File \u001b[1;32mc:\\Users\\Rom\\anaconda3\\envs\\dapnn\\lib\\site-packages\\pandas\\core\\series.py:4918\u001b[0m, in \u001b[0;36mSeries.reindex\u001b[1;34m(self, index, axis, method, copy, level, fill_value, limit, tolerance)\u001b[0m\n\u001b[0;32m   4901\u001b[0m \u001b[39m@doc\u001b[39m(\n\u001b[0;32m   4902\u001b[0m     NDFrame\u001b[39m.\u001b[39mreindex,  \u001b[39m# type: ignore[has-type]\u001b[39;00m\n\u001b[0;32m   4903\u001b[0m     klass\u001b[39m=\u001b[39m_shared_doc_kwargs[\u001b[39m\"\u001b[39m\u001b[39mklass\u001b[39m\u001b[39m\"\u001b[39m],\n\u001b[1;32m   (...)\u001b[0m\n\u001b[0;32m   4916\u001b[0m     tolerance\u001b[39m=\u001b[39m\u001b[39mNone\u001b[39;00m,\n\u001b[0;32m   4917\u001b[0m ) \u001b[39m-\u001b[39m\u001b[39m>\u001b[39m Series:\n\u001b[1;32m-> 4918\u001b[0m     \u001b[39mreturn\u001b[39;00m \u001b[39msuper\u001b[39;49m()\u001b[39m.\u001b[39;49mreindex(\n\u001b[0;32m   4919\u001b[0m         index\u001b[39m=\u001b[39;49mindex,\n\u001b[0;32m   4920\u001b[0m         method\u001b[39m=\u001b[39;49mmethod,\n\u001b[0;32m   4921\u001b[0m         copy\u001b[39m=\u001b[39;49mcopy,\n\u001b[0;32m   4922\u001b[0m         level\u001b[39m=\u001b[39;49mlevel,\n\u001b[0;32m   4923\u001b[0m         fill_value\u001b[39m=\u001b[39;49mfill_value,\n\u001b[0;32m   4924\u001b[0m         limit\u001b[39m=\u001b[39;49mlimit,\n\u001b[0;32m   4925\u001b[0m         tolerance\u001b[39m=\u001b[39;49mtolerance,\n\u001b[0;32m   4926\u001b[0m     )\n",
      "File \u001b[1;32mc:\\Users\\Rom\\anaconda3\\envs\\dapnn\\lib\\site-packages\\pandas\\core\\generic.py:5360\u001b[0m, in \u001b[0;36mNDFrame.reindex\u001b[1;34m(self, labels, index, columns, axis, method, copy, level, fill_value, limit, tolerance)\u001b[0m\n\u001b[0;32m   5357\u001b[0m     \u001b[39mreturn\u001b[39;00m \u001b[39mself\u001b[39m\u001b[39m.\u001b[39m_reindex_multi(axes, copy, fill_value)\n\u001b[0;32m   5359\u001b[0m \u001b[39m# perform the reindex on the axes\u001b[39;00m\n\u001b[1;32m-> 5360\u001b[0m \u001b[39mreturn\u001b[39;00m \u001b[39mself\u001b[39;49m\u001b[39m.\u001b[39;49m_reindex_axes(\n\u001b[0;32m   5361\u001b[0m     axes, level, limit, tolerance, method, fill_value, copy\n\u001b[0;32m   5362\u001b[0m )\u001b[39m.\u001b[39m__finalize__(\u001b[39mself\u001b[39m, method\u001b[39m=\u001b[39m\u001b[39m\"\u001b[39m\u001b[39mreindex\u001b[39m\u001b[39m\"\u001b[39m)\n",
      "File \u001b[1;32mc:\\Users\\Rom\\anaconda3\\envs\\dapnn\\lib\\site-packages\\pandas\\core\\generic.py:5375\u001b[0m, in \u001b[0;36mNDFrame._reindex_axes\u001b[1;34m(self, axes, level, limit, tolerance, method, fill_value, copy)\u001b[0m\n\u001b[0;32m   5372\u001b[0m     \u001b[39mcontinue\u001b[39;00m\n\u001b[0;32m   5374\u001b[0m ax \u001b[39m=\u001b[39m \u001b[39mself\u001b[39m\u001b[39m.\u001b[39m_get_axis(a)\n\u001b[1;32m-> 5375\u001b[0m new_index, indexer \u001b[39m=\u001b[39m ax\u001b[39m.\u001b[39;49mreindex(\n\u001b[0;32m   5376\u001b[0m     labels, level\u001b[39m=\u001b[39;49mlevel, limit\u001b[39m=\u001b[39;49mlimit, tolerance\u001b[39m=\u001b[39;49mtolerance, method\u001b[39m=\u001b[39;49mmethod\n\u001b[0;32m   5377\u001b[0m )\n\u001b[0;32m   5379\u001b[0m axis \u001b[39m=\u001b[39m \u001b[39mself\u001b[39m\u001b[39m.\u001b[39m_get_axis_number(a)\n\u001b[0;32m   5380\u001b[0m obj \u001b[39m=\u001b[39m obj\u001b[39m.\u001b[39m_reindex_with_indexers(\n\u001b[0;32m   5381\u001b[0m     {axis: [new_index, indexer]},\n\u001b[0;32m   5382\u001b[0m     fill_value\u001b[39m=\u001b[39mfill_value,\n\u001b[0;32m   5383\u001b[0m     copy\u001b[39m=\u001b[39mcopy,\n\u001b[0;32m   5384\u001b[0m     allow_dups\u001b[39m=\u001b[39m\u001b[39mFalse\u001b[39;00m,\n\u001b[0;32m   5385\u001b[0m )\n",
      "File \u001b[1;32mc:\\Users\\Rom\\anaconda3\\envs\\dapnn\\lib\\site-packages\\pandas\\core\\indexes\\base.py:4275\u001b[0m, in \u001b[0;36mIndex.reindex\u001b[1;34m(self, target, method, level, limit, tolerance)\u001b[0m\n\u001b[0;32m   4272\u001b[0m     \u001b[39mraise\u001b[39;00m \u001b[39mValueError\u001b[39;00m(\u001b[39m\"\u001b[39m\u001b[39mcannot handle a non-unique multi-index!\u001b[39m\u001b[39m\"\u001b[39m)\n\u001b[0;32m   4273\u001b[0m \u001b[39melif\u001b[39;00m \u001b[39mnot\u001b[39;00m \u001b[39mself\u001b[39m\u001b[39m.\u001b[39mis_unique:\n\u001b[0;32m   4274\u001b[0m     \u001b[39m# GH#42568\u001b[39;00m\n\u001b[1;32m-> 4275\u001b[0m     \u001b[39mraise\u001b[39;00m \u001b[39mValueError\u001b[39;00m(\u001b[39m\"\u001b[39m\u001b[39mcannot reindex on an axis with duplicate labels\u001b[39m\u001b[39m\"\u001b[39m)\n\u001b[0;32m   4276\u001b[0m \u001b[39melse\u001b[39;00m:\n\u001b[0;32m   4277\u001b[0m     indexer, _ \u001b[39m=\u001b[39m \u001b[39mself\u001b[39m\u001b[39m.\u001b[39mget_indexer_non_unique(target)\n",
      "\u001b[1;31mValueError\u001b[0m: cannot reindex on an axis with duplicate labels"
     ]
    }
   ],
   "source": [
    "df2 = pd.DataFrame(grouped.explode())\n",
    "df2.reset_index(inplace=True)\n",
    "\n",
    "# Rename the columns\n",
    "df2.columns = ['trace_id', 'activity']\n",
    "\n",
    "# Set 'trace_id' as the index\n",
    "df2.set_index('trace_id', inplace=True)\n",
    "\n",
    "o.xs = df2"
   ]
  },
  {
   "cell_type": "code",
   "execution_count": null,
   "id": "de048a1c",
   "metadata": {},
   "outputs": [],
   "source": [
    "nsp,idx=predict_next_step(o,m)"
   ]
  },
  {
   "cell_type": "markdown",
   "id": "d1ff2dc0",
   "metadata": {},
   "source": [
    "### Classify Anomalies based of Threshhold, get predictions and ground truth, compute a few metrics"
   ]
  },
  {
   "cell_type": "code",
   "execution_count": 30,
   "id": "f654a04a",
   "metadata": {},
   "outputs": [],
   "source": [
    "def get_anomalies(a_score,o,idx,threshhold=0.98):\n",
    "    df=pd.DataFrame(columns=['a_score'])\n",
    "    df['a_score'] = a_score\n",
    "    df['trace_id'] = o.items.iloc[idx]['trace_id'].values\n",
    "    df['normal'] = o.items.iloc[idx]['normal'].values\n",
    "    df\n",
    "\n",
    "    y_true = (df.loc[df.trace_id.drop_duplicates().index].normal==False).tolist()\n",
    "    cases = df.loc[df.trace_id.drop_duplicates().index].trace_id.tolist()\n",
    "    anomalies = set(list(df.loc[df['a_score'] > threshhold]['trace_id']))\n",
    "    y_pred=[case in anomalies for case in cases]\n",
    "    return y_pred,y_true"
   ]
  },
  {
   "cell_type": "code",
   "execution_count": 31,
   "id": "0b3d6e0e",
   "metadata": {},
   "outputs": [],
   "source": [
    "y_pred, y_true = get_anomalies(anomaly_score,o,idx)"
   ]
  },
  {
   "cell_type": "code",
   "execution_count": 105,
   "id": "aae8346a",
   "metadata": {},
   "outputs": [
    {
     "name": "stdout",
     "output_type": "stream",
     "text": [
      "1000 1000\n"
     ]
    }
   ],
   "source": [
    "print(len(y_pred),len(y_true))"
   ]
  },
  {
   "cell_type": "code",
   "execution_count": 102,
   "id": "e01e4c28",
   "metadata": {},
   "outputs": [
    {
     "data": {
      "text/plain": [
       "0.8538461538461538"
      ]
     },
     "execution_count": 102,
     "metadata": {},
     "output_type": "execute_result"
    }
   ],
   "source": [
    "f1_score(y_true, y_pred)"
   ]
  },
  {
   "cell_type": "code",
   "execution_count": 33,
   "id": "72cc81ba",
   "metadata": {},
   "outputs": [
    {
     "data": {
      "text/plain": [
       "0.848"
      ]
     },
     "execution_count": 33,
     "metadata": {},
     "output_type": "execute_result"
    }
   ],
   "source": [
    "accuracy_score(y_true, y_pred)"
   ]
  },
  {
   "cell_type": "code",
   "execution_count": 34,
   "id": "219695bb",
   "metadata": {},
   "outputs": [
    {
     "data": {
      "text/plain": [
       "0.751269035532995"
      ]
     },
     "execution_count": 34,
     "metadata": {},
     "output_type": "execute_result"
    }
   ],
   "source": [
    "precision_score(y_true,y_pred)"
   ]
  },
  {
   "cell_type": "code",
   "execution_count": 35,
   "id": "b5e14d32",
   "metadata": {},
   "outputs": [
    {
     "data": {
      "text/plain": [
       "0.9888641425389755"
      ]
     },
     "execution_count": 35,
     "metadata": {},
     "output_type": "execute_result"
    }
   ],
   "source": [
    "recall_score(y_true,y_pred)"
   ]
  },
  {
   "cell_type": "markdown",
   "id": "80061f69",
   "metadata": {},
   "source": [
    "# A little order"
   ]
  },
  {
   "cell_type": "code",
   "execution_count": 202,
   "id": "c59b0f5c",
   "metadata": {},
   "outputs": [
    {
     "name": "stdout",
     "output_type": "stream",
     "text": [
      "            activity    trace_id case:pdc:costs normal event_id\n",
      "trace_id                                                       \n",
      "trace 1            2     trace 1            0.0   True        0\n",
      "trace 1            3     trace 1            0.0   True        1\n",
      "trace 1            8     trace 1            0.0   True        2\n",
      "trace 1            6     trace 1            0.0   True        3\n",
      "trace 1           13     trace 1            0.0   True        4\n",
      "...              ...         ...            ...    ...      ...\n",
      "trace 1000        14  trace 1000            2.0  False       37\n",
      "trace 1000        16  trace 1000            2.0  False       38\n",
      "trace 1000        22  trace 1000            2.0  False       39\n",
      "trace 1000        26  trace 1000            2.0  False       40\n",
      "trace 1000         1  trace 1000            2.0  False       41\n",
      "\n",
      "[30095 rows x 5 columns]\n"
     ]
    }
   ],
   "source": [
    "import random\n",
    "random.seed(0)\n",
    "\n",
    "o = process_test(test_log,categorify)\n",
    "\n",
    "column_name = 'activity'\n",
    "probability_of_change = 0.01\n",
    "mask = np.random.rand(len(o[column_name])) < probability_of_change\n",
    "random_values = np.random.randint(2, 3, size=np.sum(mask))\n",
    "o.loc[mask, column_name] = random_values\n",
    "\n",
    "print(o)"
   ]
  },
  {
   "cell_type": "code",
   "execution_count": 203,
   "id": "a3cce387",
   "metadata": {},
   "outputs": [
    {
     "name": "stdout",
     "output_type": "stream",
     "text": [
      "0.7765118317265557\n"
     ]
    }
   ],
   "source": [
    "nsp,idx=predict_next_step(o,m)\n",
    "anomaly_score = calc_anomaly_score(nsp,o,idx)\n",
    "y_pred, y_true = get_anomalies(anomaly_score,o,idx)\n",
    "print(f1_score(y_true, y_pred))"
   ]
  },
  {
   "cell_type": "markdown",
   "id": "88538e14",
   "metadata": {},
   "source": [
    "### Get NSP Accuracy on Inrference\n"
   ]
  },
  {
   "cell_type": "code",
   "execution_count": 36,
   "id": "1a721df3",
   "metadata": {},
   "outputs": [],
   "source": [
    "#export\n",
    "#nsp is the next step prediction\n",
    "def nsp_accuracy(o,idx,nsp):\n",
    "    nsp_y=o.ys.iloc[idx]\n",
    "    nsp_acc= accuracy(nsp,tensor(nsp_y.values).cuda())\n",
    "    return nsp_acc"
   ]
  },
  {
   "cell_type": "code",
   "execution_count": 37,
   "id": "9ea07e3d",
   "metadata": {},
   "outputs": [
    {
     "data": {
      "text/plain": [
       "TensorBase(0.5023, device='cuda:0')"
      ]
     },
     "execution_count": 37,
     "metadata": {},
     "output_type": "execute_result"
    }
   ],
   "source": [
    "nsp_accuracy(o,idx,nsp)"
   ]
  },
  {
   "cell_type": "markdown",
   "id": "51d7fbd8",
   "metadata": {},
   "source": [
    "## Multivariate Anomaly Detection\n",
    "\n",
    "Rewrite the prediction model to support multivariate prediction. Define attr_dict that maps event log to considerable attributes. Dynamically adapt preprocessing, network architecture, loss function, and anomaly score computation"
   ]
  },
  {
   "cell_type": "code",
   "execution_count": 38,
   "id": "036fa2a6",
   "metadata": {},
   "outputs": [],
   "source": [
    "#export\n",
    "attr_dict={}\n",
    "for i in [i for i in glob.glob('data/csv/binet_logs/*')]:\n",
    "    if 'bpic12'in i:\n",
    "        attr_dict[i] =['activity']\n",
    "    elif 'bpic13' in i:\n",
    "        attr_dict[i]=['activity','org:group',\n",
    "'org:resource', 'org:role', 'organization country', 'product', 'resource country','impact']\n",
    "    elif 'bpic17' in i:  \n",
    "        attr_dict[i]=['activity','EventOrigin','org:resource']\n",
    "    elif 'bpic15' in i:\n",
    "        attr_dict[i]=['activity', 'action_code', 'activityNameEN', 'activityNameNL','monitoringResource', 'org:resource', 'question']\n",
    "    elif '-1.' in i:\n",
    "        attr_dict[i]=['activity','user']\n",
    "    elif '-2.' in i:\n",
    "        attr_dict[i]=['activity','user','day']\n",
    "    elif '-3.' in i:\n",
    "        attr_dict[i]=['activity','user','day','country']\n",
    "    elif '-4.' in i:\n",
    "        attr_dict[i]=['activity','user','day','country','company']"
   ]
  },
  {
   "cell_type": "code",
   "execution_count": 39,
   "id": "264564f3",
   "metadata": {},
   "outputs": [],
   "source": [
    "#export\n",
    "def get_attr(attr_dict,log_name):\n",
    "    if log_name in attr_dict: \n",
    "        return attr_dict[log_name]\n",
    "    else: return ['activity']"
   ]
  },
  {
   "cell_type": "markdown",
   "id": "8122c58d",
   "metadata": {},
   "source": [
    "### Load Event Log:"
   ]
  },
  {
   "cell_type": "code",
   "execution_count": 40,
   "id": "14ada9e1",
   "metadata": {},
   "outputs": [],
   "source": [
    "log_name= 'medium-0.3-4'"
   ]
  },
  {
   "cell_type": "code",
   "execution_count": 41,
   "id": "2a3870cc",
   "metadata": {},
   "outputs": [],
   "source": [
    "fn=f'data/csv/binet_logs/{log_name}.csv.gz'"
   ]
  },
  {
   "cell_type": "code",
   "execution_count": 42,
   "id": "a2d756e5",
   "metadata": {},
   "outputs": [
    {
     "data": {
      "text/plain": [
       "['activity']"
      ]
     },
     "execution_count": 42,
     "metadata": {},
     "output_type": "execute_result"
    }
   ],
   "source": [
    "cols= get_attr(attr_dict,fn)\n",
    "cols"
   ]
  },
  {
   "cell_type": "code",
   "execution_count": 43,
   "id": "33e2a025",
   "metadata": {},
   "outputs": [
    {
     "data": {
      "text/html": [
       "<div>\n",
       "<style scoped>\n",
       "    .dataframe tbody tr th:only-of-type {\n",
       "        vertical-align: middle;\n",
       "    }\n",
       "\n",
       "    .dataframe tbody tr th {\n",
       "        vertical-align: top;\n",
       "    }\n",
       "\n",
       "    .dataframe thead th {\n",
       "        text-align: right;\n",
       "    }\n",
       "</style>\n",
       "<table border=\"1\" class=\"dataframe\">\n",
       "  <thead>\n",
       "    <tr style=\"text-align: right;\">\n",
       "      <th></th>\n",
       "      <th>activity</th>\n",
       "      <th>timestamp</th>\n",
       "      <th>timestamp_end</th>\n",
       "      <th>anomaly</th>\n",
       "      <th>trace_id</th>\n",
       "      <th>company</th>\n",
       "      <th>country</th>\n",
       "      <th>day</th>\n",
       "      <th>user</th>\n",
       "      <th>event_id</th>\n",
       "    </tr>\n",
       "    <tr>\n",
       "      <th>trace_id</th>\n",
       "      <th></th>\n",
       "      <th></th>\n",
       "      <th></th>\n",
       "      <th></th>\n",
       "      <th></th>\n",
       "      <th></th>\n",
       "      <th></th>\n",
       "      <th></th>\n",
       "      <th></th>\n",
       "      <th></th>\n",
       "    </tr>\n",
       "  </thead>\n",
       "  <tbody>\n",
       "    <tr>\n",
       "      <th>1</th>\n",
       "      <td>###start###</td>\n",
       "      <td>NaN</td>\n",
       "      <td>NaN</td>\n",
       "      <td>Rework</td>\n",
       "      <td>1</td>\n",
       "      <td>Codehow</td>\n",
       "      <td>Comoros</td>\n",
       "      <td>Wednesday</td>\n",
       "      <td>Wilton</td>\n",
       "      <td>0</td>\n",
       "    </tr>\n",
       "    <tr>\n",
       "      <th>1</th>\n",
       "      <td>Activity A</td>\n",
       "      <td>NaN</td>\n",
       "      <td>NaN</td>\n",
       "      <td>Rework</td>\n",
       "      <td>1</td>\n",
       "      <td>Codehow</td>\n",
       "      <td>Comoros</td>\n",
       "      <td>Wednesday</td>\n",
       "      <td>Wilton</td>\n",
       "      <td>1</td>\n",
       "    </tr>\n",
       "    <tr>\n",
       "      <th>1</th>\n",
       "      <td>Activity Z</td>\n",
       "      <td>NaN</td>\n",
       "      <td>NaN</td>\n",
       "      <td>Rework</td>\n",
       "      <td>1</td>\n",
       "      <td>Plussunin</td>\n",
       "      <td>Chad</td>\n",
       "      <td>Tuesday</td>\n",
       "      <td>Iluminada</td>\n",
       "      <td>2</td>\n",
       "    </tr>\n",
       "    <tr>\n",
       "      <th>1</th>\n",
       "      <td>Activity AA</td>\n",
       "      <td>NaN</td>\n",
       "      <td>NaN</td>\n",
       "      <td>Rework</td>\n",
       "      <td>1</td>\n",
       "      <td>year-job</td>\n",
       "      <td>Libyan Arab Jamahiriya</td>\n",
       "      <td>Wednesday</td>\n",
       "      <td>Sandra</td>\n",
       "      <td>3</td>\n",
       "    </tr>\n",
       "    <tr>\n",
       "      <th>1</th>\n",
       "      <td>Activity AF</td>\n",
       "      <td>NaN</td>\n",
       "      <td>NaN</td>\n",
       "      <td>Rework</td>\n",
       "      <td>1</td>\n",
       "      <td>Donquadtech</td>\n",
       "      <td>Cocos (Keeling) Islands</td>\n",
       "      <td>Friday</td>\n",
       "      <td>Ling</td>\n",
       "      <td>4</td>\n",
       "    </tr>\n",
       "  </tbody>\n",
       "</table>\n",
       "</div>"
      ],
      "text/plain": [
       "             activity timestamp timestamp_end anomaly trace_id      company  \\\n",
       "trace_id                                                                      \n",
       "1         ###start###       NaN           NaN  Rework        1      Codehow   \n",
       "1          Activity A       NaN           NaN  Rework        1      Codehow   \n",
       "1          Activity Z       NaN           NaN  Rework        1    Plussunin   \n",
       "1         Activity AA       NaN           NaN  Rework        1     year-job   \n",
       "1         Activity AF       NaN           NaN  Rework        1  Donquadtech   \n",
       "\n",
       "                          country        day       user event_id  \n",
       "trace_id                                                          \n",
       "1                         Comoros  Wednesday     Wilton        0  \n",
       "1                         Comoros  Wednesday     Wilton        1  \n",
       "1                            Chad    Tuesday  Iluminada        2  \n",
       "1          Libyan Arab Jamahiriya  Wednesday     Sandra        3  \n",
       "1         Cocos (Keeling) Islands     Friday       Ling        4  "
      ]
     },
     "execution_count": 43,
     "metadata": {},
     "output_type": "execute_result"
    }
   ],
   "source": [
    "log = import_log(fn,cols)\n",
    "log.head()"
   ]
  },
  {
   "cell_type": "code",
   "execution_count": 44,
   "id": "923b1a42",
   "metadata": {},
   "outputs": [
    {
     "data": {
      "text/plain": [
       "'activity'"
      ]
     },
     "execution_count": 44,
     "metadata": {},
     "output_type": "execute_result"
    }
   ],
   "source": [
    "cols[0]"
   ]
  },
  {
   "cell_type": "markdown",
   "id": "06230177",
   "metadata": {},
   "source": [
    "### Create Training Data Loaders and Vocab:"
   ]
  },
  {
   "cell_type": "code",
   "execution_count": 45,
   "id": "a6cae91b",
   "metadata": {},
   "outputs": [],
   "source": [
    "o,dls,categorify = training_dl(log,cols)"
   ]
  },
  {
   "cell_type": "code",
   "execution_count": 46,
   "id": "944ebbed",
   "metadata": {},
   "outputs": [],
   "source": [
    "xcat,ycat = dls.one_batch()"
   ]
  },
  {
   "cell_type": "code",
   "execution_count": 47,
   "id": "d364add8",
   "metadata": {},
   "outputs": [
    {
     "data": {
      "text/plain": [
       "torch.Size([32, 1, 5])"
      ]
     },
     "execution_count": 47,
     "metadata": {},
     "output_type": "execute_result"
    }
   ],
   "source": [
    "xcat.shape"
   ]
  },
  {
   "cell_type": "code",
   "execution_count": 48,
   "id": "4a3cabaa",
   "metadata": {},
   "outputs": [
    {
     "data": {
      "text/plain": [
       "tensor([ 1, 10,  3, 17, 10, 10,  5, 11,  5, 12, 10,  5, 30, 20, 10,  5,  4,  3,\n",
       "         5,  3,  3,  1, 27,  1, 23, 34,  1,  1, 10,  1,  4, 10],\n",
       "       device='cuda:0')"
      ]
     },
     "execution_count": 48,
     "metadata": {},
     "output_type": "execute_result"
    }
   ],
   "source": [
    "ycat[0]"
   ]
  },
  {
   "cell_type": "code",
   "execution_count": 49,
   "id": "eb7e24a6",
   "metadata": {},
   "outputs": [],
   "source": [
    "#export\n",
    "from fastai.tabular.model import get_emb_sz # get embedding size"
   ]
  },
  {
   "cell_type": "markdown",
   "id": "db34a44d",
   "metadata": {},
   "source": [
    "### Create Multivariate Prediction Model\n",
    "Todo: support continuous attributes"
   ]
  },
  {
   "cell_type": "code",
   "execution_count": 50,
   "id": "d40aed52",
   "metadata": {},
   "outputs": [],
   "source": [
    "emb_szs = get_emb_sz(o) # get embedding size"
   ]
  },
  {
   "cell_type": "code",
   "execution_count": 51,
   "id": "a5d37725",
   "metadata": {},
   "outputs": [],
   "source": [
    "#export\n",
    "class MultivariateModel(torch.nn.Module) :\n",
    "    def __init__(self, emb_szs, lstm_neurons=25,lstm_layers=2) :\n",
    "        super().__init__()\n",
    "        \n",
    "        self.embeds = nn.ModuleList([Embedding(ni, nf) for ni,nf in emb_szs])\n",
    "        self.lstms = nn.ModuleList([nn.LSTM(nf, lstm_neurons, batch_first=True, num_layers=lstm_layers) \n",
    "                                    for ni,nf in emb_szs])\n",
    "        self.linears = nn.ModuleList([nn.Linear(lstm_neurons, ni) for ni,nf in emb_szs])\n",
    "\n",
    "        \n",
    "\n",
    "    def forward(self, xcat):\n",
    "        res=[]\n",
    "        for i in range(xcat.shape[1]):\n",
    "            x =xcat[:,i]\n",
    "            x =self.embeds[i](x)\n",
    "            x,_ =self.lstms[i](x)\n",
    "            x = x[:,-1]\n",
    "            x= self.linears[i](x)\n",
    "            res.append(x)\n",
    "        return tuple(res)\n",
    "    \n"
   ]
  },
  {
   "cell_type": "code",
   "execution_count": 52,
   "id": "6349a6a9",
   "metadata": {},
   "outputs": [],
   "source": [
    "m=MultivariateModel(emb_szs)\n",
    "pred = m(xcat.cpu())"
   ]
  },
  {
   "cell_type": "markdown",
   "id": "1c5bad96",
   "metadata": {},
   "source": [
    "### Define Multi-Loss and -Metrics"
   ]
  },
  {
   "cell_type": "code",
   "execution_count": 53,
   "id": "1ef03594",
   "metadata": {},
   "outputs": [],
   "source": [
    "#export\n",
    "def _accuracy_idx(a,b,i): return accuracy(listify(a)[i],listify(b)[i])\n",
    "\n",
    "def get_metrics(o):\n",
    "    \n",
    "    number_cats=len(o.ycat_names)\n",
    "    \n",
    "    accuracies=[]\n",
    "    for i in range(number_cats):\n",
    "        accuracy_func=partial(_accuracy_idx,i=i)\n",
    "        accuracy_func.__name__= f\"acc_{o.ycat_names[i]}\"\n",
    "        accuracy_func=AvgMetric(accuracy_func)\n",
    "        accuracies.append(accuracy_func)\n",
    "    mae_days=None\n",
    "    return L(accuracies)+mae_days\n",
    "\n",
    "def multi_loss_sum(o,p,y):\n",
    "    '''Multi Loss function that sums up multiple loss functions. The selection of the loss function is based on the PPObj o'''\n",
    "    p,y=listify(p),listify(y)\n",
    "    len_cat,len_cont=len(o.ycat_names),len(o.ycont_names)\n",
    "    cross_entropies=[F.cross_entropy(p[i],y[i]) for i in range(len_cat)]\n",
    "    return torch.sum(torch.stack(list(L(cross_entropies))))\n",
    "\n",
    "def my_loss(p,y): return F.cross_entropy(p[0],y[0])\n",
    "def my_metric(p,y): return accuracy(p[0],y[0])"
   ]
  },
  {
   "cell_type": "code",
   "execution_count": 54,
   "id": "cbde838d",
   "metadata": {},
   "outputs": [],
   "source": [
    "loss=partial(multi_loss_sum,o)"
   ]
  },
  {
   "cell_type": "code",
   "execution_count": 55,
   "id": "90fb0c30",
   "metadata": {},
   "outputs": [
    {
     "data": {
      "text/plain": [
       "tensor(4.2192, grad_fn=<SumBackward0>)"
      ]
     },
     "execution_count": 55,
     "metadata": {},
     "output_type": "execute_result"
    }
   ],
   "source": [
    "loss(pred,[i.cpu() for i in ycat])"
   ]
  },
  {
   "cell_type": "markdown",
   "id": "6ee0bd35",
   "metadata": {},
   "source": [
    "### Training of the prediction network\n",
    "Todo: Rename the Metric Columns"
   ]
  },
  {
   "cell_type": "code",
   "execution_count": 56,
   "id": "f8c8a098",
   "metadata": {},
   "outputs": [
    {
     "data": {
      "text/html": [
       "\n",
       "<style>\n",
       "    /* Turns off some styling */\n",
       "    progress {\n",
       "        /* gets rid of default border in Firefox and Opera. */\n",
       "        border: none;\n",
       "        /* Needs to be in here for Safari polyfill so background images work as expected. */\n",
       "        background-size: auto;\n",
       "    }\n",
       "    progress:not([value]), progress:not([value])::-webkit-progress-bar {\n",
       "        background: repeating-linear-gradient(45deg, #7e7e7e, #7e7e7e 10px, #5c5c5c 10px, #5c5c5c 20px);\n",
       "    }\n",
       "    .progress-bar-interrupted, .progress-bar-interrupted::-webkit-progress-bar {\n",
       "        background: #F44336;\n",
       "    }\n",
       "</style>\n"
      ],
      "text/plain": [
       "<IPython.core.display.HTML object>"
      ]
     },
     "metadata": {},
     "output_type": "display_data"
    },
    {
     "data": {
      "text/html": [
       "\n",
       "    <div>\n",
       "      <progress value='0' class='' max='1' style='width:300px; height:20px; vertical-align: middle;'></progress>\n",
       "      0.00% [0/1 00:00&lt;?]\n",
       "    </div>\n",
       "    \n",
       "\n",
       "\n",
       "    <div>\n",
       "      <progress value='5' class='' max='785' style='width:300px; height:20px; vertical-align: middle;'></progress>\n",
       "      0.64% [5/785 00:00&lt;00:17 4.2290]\n",
       "    </div>\n",
       "    "
      ],
      "text/plain": [
       "<IPython.core.display.HTML object>"
      ]
     },
     "metadata": {},
     "output_type": "display_data"
    },
    {
     "data": {
      "text/html": [
       "\n",
       "<style>\n",
       "    /* Turns off some styling */\n",
       "    progress {\n",
       "        /* gets rid of default border in Firefox and Opera. */\n",
       "        border: none;\n",
       "        /* Needs to be in here for Safari polyfill so background images work as expected. */\n",
       "        background-size: auto;\n",
       "    }\n",
       "    progress:not([value]), progress:not([value])::-webkit-progress-bar {\n",
       "        background: repeating-linear-gradient(45deg, #7e7e7e, #7e7e7e 10px, #5c5c5c 10px, #5c5c5c 20px);\n",
       "    }\n",
       "    .progress-bar-interrupted, .progress-bar-interrupted::-webkit-progress-bar {\n",
       "        background: #F44336;\n",
       "    }\n",
       "</style>\n"
      ],
      "text/plain": [
       "<IPython.core.display.HTML object>"
      ]
     },
     "metadata": {},
     "output_type": "display_data"
    },
    {
     "data": {
      "text/html": [],
      "text/plain": [
       "<IPython.core.display.HTML object>"
      ]
     },
     "metadata": {},
     "output_type": "display_data"
    },
    {
     "data": {
      "text/html": [
       "\n",
       "<style>\n",
       "    /* Turns off some styling */\n",
       "    progress {\n",
       "        /* gets rid of default border in Firefox and Opera. */\n",
       "        border: none;\n",
       "        /* Needs to be in here for Safari polyfill so background images work as expected. */\n",
       "        background-size: auto;\n",
       "    }\n",
       "    progress:not([value]), progress:not([value])::-webkit-progress-bar {\n",
       "        background: repeating-linear-gradient(45deg, #7e7e7e, #7e7e7e 10px, #5c5c5c 10px, #5c5c5c 20px);\n",
       "    }\n",
       "    .progress-bar-interrupted, .progress-bar-interrupted::-webkit-progress-bar {\n",
       "        background: #F44336;\n",
       "    }\n",
       "</style>\n"
      ],
      "text/plain": [
       "<IPython.core.display.HTML object>"
      ]
     },
     "metadata": {},
     "output_type": "display_data"
    },
    {
     "data": {
      "text/html": [],
      "text/plain": [
       "<IPython.core.display.HTML object>"
      ]
     },
     "metadata": {},
     "output_type": "display_data"
    },
    {
     "data": {
      "text/html": [
       "\n",
       "<style>\n",
       "    /* Turns off some styling */\n",
       "    progress {\n",
       "        /* gets rid of default border in Firefox and Opera. */\n",
       "        border: none;\n",
       "        /* Needs to be in here for Safari polyfill so background images work as expected. */\n",
       "        background-size: auto;\n",
       "    }\n",
       "    progress:not([value]), progress:not([value])::-webkit-progress-bar {\n",
       "        background: repeating-linear-gradient(45deg, #7e7e7e, #7e7e7e 10px, #5c5c5c 10px, #5c5c5c 20px);\n",
       "    }\n",
       "    .progress-bar-interrupted, .progress-bar-interrupted::-webkit-progress-bar {\n",
       "        background: #F44336;\n",
       "    }\n",
       "</style>\n"
      ],
      "text/plain": [
       "<IPython.core.display.HTML object>"
      ]
     },
     "metadata": {},
     "output_type": "display_data"
    },
    {
     "data": {
      "text/html": [],
      "text/plain": [
       "<IPython.core.display.HTML object>"
      ]
     },
     "metadata": {},
     "output_type": "display_data"
    },
    {
     "data": {
      "text/html": [
       "\n",
       "<style>\n",
       "    /* Turns off some styling */\n",
       "    progress {\n",
       "        /* gets rid of default border in Firefox and Opera. */\n",
       "        border: none;\n",
       "        /* Needs to be in here for Safari polyfill so background images work as expected. */\n",
       "        background-size: auto;\n",
       "    }\n",
       "    progress:not([value]), progress:not([value])::-webkit-progress-bar {\n",
       "        background: repeating-linear-gradient(45deg, #7e7e7e, #7e7e7e 10px, #5c5c5c 10px, #5c5c5c 20px);\n",
       "    }\n",
       "    .progress-bar-interrupted, .progress-bar-interrupted::-webkit-progress-bar {\n",
       "        background: #F44336;\n",
       "    }\n",
       "</style>\n"
      ],
      "text/plain": [
       "<IPython.core.display.HTML object>"
      ]
     },
     "metadata": {},
     "output_type": "display_data"
    },
    {
     "data": {
      "text/html": [],
      "text/plain": [
       "<IPython.core.display.HTML object>"
      ]
     },
     "metadata": {},
     "output_type": "display_data"
    },
    {
     "data": {
      "text/html": [
       "\n",
       "<style>\n",
       "    /* Turns off some styling */\n",
       "    progress {\n",
       "        /* gets rid of default border in Firefox and Opera. */\n",
       "        border: none;\n",
       "        /* Needs to be in here for Safari polyfill so background images work as expected. */\n",
       "        background-size: auto;\n",
       "    }\n",
       "    progress:not([value]), progress:not([value])::-webkit-progress-bar {\n",
       "        background: repeating-linear-gradient(45deg, #7e7e7e, #7e7e7e 10px, #5c5c5c 10px, #5c5c5c 20px);\n",
       "    }\n",
       "    .progress-bar-interrupted, .progress-bar-interrupted::-webkit-progress-bar {\n",
       "        background: #F44336;\n",
       "    }\n",
       "</style>\n"
      ],
      "text/plain": [
       "<IPython.core.display.HTML object>"
      ]
     },
     "metadata": {},
     "output_type": "display_data"
    },
    {
     "data": {
      "text/html": [
       "<table border=\"1\" class=\"dataframe\">\n",
       "  <thead>\n",
       "    <tr style=\"text-align: left;\">\n",
       "      <th>epoch</th>\n",
       "      <th>train_loss</th>\n",
       "      <th>valid_loss</th>\n",
       "      <th>_accuracy_idx</th>\n",
       "      <th>time</th>\n",
       "    </tr>\n",
       "  </thead>\n",
       "  <tbody>\n",
       "    <tr>\n",
       "      <td>0</td>\n",
       "      <td>2.918148</td>\n",
       "      <td>2.865427</td>\n",
       "      <td>0.146359</td>\n",
       "      <td>00:08</td>\n",
       "    </tr>\n",
       "    <tr>\n",
       "      <td>1</td>\n",
       "      <td>1.421537</td>\n",
       "      <td>1.335839</td>\n",
       "      <td>0.695386</td>\n",
       "      <td>00:07</td>\n",
       "    </tr>\n",
       "    <tr>\n",
       "      <td>2</td>\n",
       "      <td>0.981461</td>\n",
       "      <td>0.965541</td>\n",
       "      <td>0.742970</td>\n",
       "      <td>00:07</td>\n",
       "    </tr>\n",
       "    <tr>\n",
       "      <td>3</td>\n",
       "      <td>0.835241</td>\n",
       "      <td>0.836984</td>\n",
       "      <td>0.765681</td>\n",
       "      <td>00:08</td>\n",
       "    </tr>\n",
       "    <tr>\n",
       "      <td>4</td>\n",
       "      <td>0.783576</td>\n",
       "      <td>0.771399</td>\n",
       "      <td>0.781543</td>\n",
       "      <td>00:07</td>\n",
       "    </tr>\n",
       "    <tr>\n",
       "      <td>5</td>\n",
       "      <td>0.766380</td>\n",
       "      <td>0.744798</td>\n",
       "      <td>0.787311</td>\n",
       "      <td>00:07</td>\n",
       "    </tr>\n",
       "    <tr>\n",
       "      <td>6</td>\n",
       "      <td>0.689995</td>\n",
       "      <td>0.718853</td>\n",
       "      <td>0.791276</td>\n",
       "      <td>00:07</td>\n",
       "    </tr>\n",
       "    <tr>\n",
       "      <td>7</td>\n",
       "      <td>0.693695</td>\n",
       "      <td>0.711058</td>\n",
       "      <td>0.782985</td>\n",
       "      <td>00:07</td>\n",
       "    </tr>\n",
       "    <tr>\n",
       "      <td>8</td>\n",
       "      <td>0.648308</td>\n",
       "      <td>0.689069</td>\n",
       "      <td>0.788392</td>\n",
       "      <td>00:07</td>\n",
       "    </tr>\n",
       "    <tr>\n",
       "      <td>9</td>\n",
       "      <td>0.639150</td>\n",
       "      <td>0.681740</td>\n",
       "      <td>0.796683</td>\n",
       "      <td>00:07</td>\n",
       "    </tr>\n",
       "    <tr>\n",
       "      <td>10</td>\n",
       "      <td>0.628478</td>\n",
       "      <td>0.685604</td>\n",
       "      <td>0.794160</td>\n",
       "      <td>00:07</td>\n",
       "    </tr>\n",
       "    <tr>\n",
       "      <td>11</td>\n",
       "      <td>0.668938</td>\n",
       "      <td>0.680446</td>\n",
       "      <td>0.794521</td>\n",
       "      <td>00:07</td>\n",
       "    </tr>\n",
       "    <tr>\n",
       "      <td>12</td>\n",
       "      <td>0.654467</td>\n",
       "      <td>0.678288</td>\n",
       "      <td>0.799207</td>\n",
       "      <td>00:07</td>\n",
       "    </tr>\n",
       "    <tr>\n",
       "      <td>13</td>\n",
       "      <td>0.675739</td>\n",
       "      <td>0.673024</td>\n",
       "      <td>0.799928</td>\n",
       "      <td>00:06</td>\n",
       "    </tr>\n",
       "    <tr>\n",
       "      <td>14</td>\n",
       "      <td>0.600612</td>\n",
       "      <td>0.667073</td>\n",
       "      <td>0.798846</td>\n",
       "      <td>00:07</td>\n",
       "    </tr>\n",
       "    <tr>\n",
       "      <td>15</td>\n",
       "      <td>0.622319</td>\n",
       "      <td>0.667850</td>\n",
       "      <td>0.798846</td>\n",
       "      <td>00:07</td>\n",
       "    </tr>\n",
       "    <tr>\n",
       "      <td>16</td>\n",
       "      <td>0.654509</td>\n",
       "      <td>0.666184</td>\n",
       "      <td>0.800649</td>\n",
       "      <td>00:06</td>\n",
       "    </tr>\n",
       "    <tr>\n",
       "      <td>17</td>\n",
       "      <td>0.605085</td>\n",
       "      <td>0.659459</td>\n",
       "      <td>0.801730</td>\n",
       "      <td>00:07</td>\n",
       "    </tr>\n",
       "    <tr>\n",
       "      <td>18</td>\n",
       "      <td>0.597580</td>\n",
       "      <td>0.661634</td>\n",
       "      <td>0.800649</td>\n",
       "      <td>00:07</td>\n",
       "    </tr>\n",
       "    <tr>\n",
       "      <td>19</td>\n",
       "      <td>0.608073</td>\n",
       "      <td>0.661083</td>\n",
       "      <td>0.802812</td>\n",
       "      <td>00:06</td>\n",
       "    </tr>\n",
       "    <tr>\n",
       "      <td>20</td>\n",
       "      <td>0.619457</td>\n",
       "      <td>0.658320</td>\n",
       "      <td>0.802451</td>\n",
       "      <td>00:06</td>\n",
       "    </tr>\n",
       "    <tr>\n",
       "      <td>21</td>\n",
       "      <td>0.638513</td>\n",
       "      <td>0.659667</td>\n",
       "      <td>0.799928</td>\n",
       "      <td>00:07</td>\n",
       "    </tr>\n",
       "    <tr>\n",
       "      <td>22</td>\n",
       "      <td>0.603667</td>\n",
       "      <td>0.658582</td>\n",
       "      <td>0.800288</td>\n",
       "      <td>00:06</td>\n",
       "    </tr>\n",
       "  </tbody>\n",
       "</table>"
      ],
      "text/plain": [
       "<IPython.core.display.HTML object>"
      ]
     },
     "metadata": {},
     "output_type": "display_data"
    },
    {
     "name": "stdout",
     "output_type": "stream",
     "text": [
      "Better model found at epoch 0 with valid_loss value: 2.865427017211914.\n",
      "Better model found at epoch 1 with valid_loss value: 1.3358389139175415.\n",
      "Better model found at epoch 2 with valid_loss value: 0.9655407071113586.\n",
      "Better model found at epoch 3 with valid_loss value: 0.8369837403297424.\n",
      "Better model found at epoch 4 with valid_loss value: 0.7713987231254578.\n",
      "Better model found at epoch 5 with valid_loss value: 0.744797945022583.\n",
      "Better model found at epoch 6 with valid_loss value: 0.7188529372215271.\n",
      "Better model found at epoch 7 with valid_loss value: 0.7110580205917358.\n",
      "Better model found at epoch 8 with valid_loss value: 0.6890693306922913.\n",
      "Better model found at epoch 9 with valid_loss value: 0.6817404627799988.\n",
      "Better model found at epoch 11 with valid_loss value: 0.6804460883140564.\n",
      "Better model found at epoch 12 with valid_loss value: 0.6782880425453186.\n",
      "Better model found at epoch 13 with valid_loss value: 0.6730236411094666.\n",
      "Better model found at epoch 14 with valid_loss value: 0.667072594165802.\n",
      "Better model found at epoch 16 with valid_loss value: 0.6661837697029114.\n",
      "Better model found at epoch 17 with valid_loss value: 0.6594585180282593.\n",
      "Better model found at epoch 20 with valid_loss value: 0.658320426940918.\n",
      "No improvement since epoch 17: early stopping\n"
     ]
    },
    {
     "data": {
      "text/html": [
       "\n",
       "<style>\n",
       "    /* Turns off some styling */\n",
       "    progress {\n",
       "        /* gets rid of default border in Firefox and Opera. */\n",
       "        border: none;\n",
       "        /* Needs to be in here for Safari polyfill so background images work as expected. */\n",
       "        background-size: auto;\n",
       "    }\n",
       "    progress:not([value]), progress:not([value])::-webkit-progress-bar {\n",
       "        background: repeating-linear-gradient(45deg, #7e7e7e, #7e7e7e 10px, #5c5c5c 10px, #5c5c5c 20px);\n",
       "    }\n",
       "    .progress-bar-interrupted, .progress-bar-interrupted::-webkit-progress-bar {\n",
       "        background: #F44336;\n",
       "    }\n",
       "</style>\n"
      ],
      "text/plain": [
       "<IPython.core.display.HTML object>"
      ]
     },
     "metadata": {},
     "output_type": "display_data"
    },
    {
     "data": {
      "text/html": [],
      "text/plain": [
       "<IPython.core.display.HTML object>"
      ]
     },
     "metadata": {},
     "output_type": "display_data"
    },
    {
     "name": "stdout",
     "output_type": "stream",
     "text": [
      "Better model found at epoch 0 with valid_loss value: 0.8011192679405212.\n"
     ]
    }
   ],
   "source": [
    "epoch=25\n",
    "train_val=train_validate(dls,m,loss=loss,metrics=get_metrics(o),epoch=epoch,show_plot=False)\n"
   ]
  },
  {
   "cell_type": "markdown",
   "id": "8a86be72",
   "metadata": {},
   "source": [
    "### Load Test Log for Inference"
   ]
  },
  {
   "cell_type": "code",
   "execution_count": 57,
   "id": "dc88bbaa",
   "metadata": {},
   "outputs": [],
   "source": [
    "log = import_log(fn,cols)\n",
    "log.head()\n",
    "o = process_test(log,categorify,cols)"
   ]
  },
  {
   "cell_type": "code",
   "execution_count": 58,
   "id": "c77f1e98",
   "metadata": {},
   "outputs": [],
   "source": [
    "#export\n",
    "def predict_next_step(o,m,ws=5):\n",
    "    wds,idx=partial(windows_fast,ws=ws)(o.xs, o.event_ids)\n",
    "    res= []\n",
    "    with torch.no_grad():\n",
    "        for b in DataLoader(wds,bs=8*1024,shuffle=False):\n",
    "            h= m(b.long().cuda())\n",
    "            h= tuple([i.cpu() for i in h])\n",
    "            res.append(h)\n",
    "\n",
    "    res =tuple([torch.cat([k[i] for k in res] ) for i in range(len(o.cat_names))])\n",
    "    return res,idx"
   ]
  },
  {
   "cell_type": "code",
   "execution_count": 59,
   "id": "fbf88624",
   "metadata": {},
   "outputs": [
    {
     "name": "stdout",
     "output_type": "stream",
     "text": [
      "313 ms ± 52.5 ms per loop (mean ± std. dev. of 7 runs, 1 loop each)\n"
     ]
    }
   ],
   "source": [
    "%%timeit\n",
    "res,idx=predict_next_step(o,m)\n"
   ]
  },
  {
   "cell_type": "markdown",
   "id": "35c980a4",
   "metadata": {},
   "source": [
    "### Compute Anomaly Score"
   ]
  },
  {
   "cell_type": "code",
   "execution_count": 60,
   "id": "83cf63b5",
   "metadata": {},
   "outputs": [],
   "source": [
    "#export\n",
    "def multivariate_anomaly_score(res,o,idx,cols):\n",
    "    score_df=pd.DataFrame()\n",
    "\n",
    "    for cidx,_ in enumerate(cols):\n",
    "        sm = nn.Softmax(dim=1)\n",
    "        p = sm(res[cidx].cpu())\n",
    "        pred = p.max(1)[0]\n",
    "        y = o.items[cols[cidx]].iloc[idx].values\n",
    "\n",
    "        truth=p[list(range(len(y))),y]\n",
    "        score = ((pred - truth) / pred).tolist()\n",
    "        score_df[cols[cidx]] = score\n",
    "    score_df['trace_id']=o.items['trace_id'].iloc[idx].values\n",
    "    return score_df"
   ]
  },
  {
   "cell_type": "code",
   "execution_count": 61,
   "id": "0ed1deed",
   "metadata": {},
   "outputs": [
    {
     "ename": "NameError",
     "evalue": "name 'res' is not defined",
     "output_type": "error",
     "traceback": [
      "\u001b[1;31m---------------------------------------------------------------------------\u001b[0m",
      "\u001b[1;31mNameError\u001b[0m                                 Traceback (most recent call last)",
      "\u001b[1;32mc:\\Users\\Rom\\Desktop\\Technion\\Research\\Summer Project\\project#1\\dapnn\\03_anomaly.ipynb Cell 86\u001b[0m line \u001b[0;36m1\n\u001b[1;32m----> <a href='vscode-notebook-cell:/c%3A/Users/Rom/Desktop/Technion/Research/Summer%20Project/project%231/dapnn/03_anomaly.ipynb#Y146sZmlsZQ%3D%3D?line=0'>1</a>\u001b[0m score_df\u001b[39m=\u001b[39mmultivariate_anomaly_score(res,o,idx,cols)\n\u001b[0;32m      <a href='vscode-notebook-cell:/c%3A/Users/Rom/Desktop/Technion/Research/Summer%20Project/project%231/dapnn/03_anomaly.ipynb#Y146sZmlsZQ%3D%3D?line=1'>2</a>\u001b[0m score_df\n",
      "\u001b[1;31mNameError\u001b[0m: name 'res' is not defined"
     ]
    }
   ],
   "source": [
    "score_df=multivariate_anomaly_score(res,o,idx,cols)\n",
    "score_df"
   ]
  },
  {
   "cell_type": "markdown",
   "id": "f84c6602",
   "metadata": {},
   "source": [
    "### Anomaly Classification"
   ]
  },
  {
   "cell_type": "markdown",
   "id": "71c4566d",
   "metadata": {},
   "source": [
    "We can set a fixed threshold or define a custom threshold function. Currently only fixed threshold is used."
   ]
  },
  {
   "cell_type": "code",
   "execution_count": null,
   "id": "74407f48",
   "metadata": {},
   "outputs": [],
   "source": [
    "#export\n",
    "def get_thresholds(col,act_threshold=0.964,attr_threshold=0.9971):\n",
    "    \"\"\"\n",
    "    Defines a custom threshold function\n",
    "    \"\"\"\n",
    "    if col =='activity':\n",
    "        return act_threshold\n",
    "    else: \n",
    "        return attr_threshold"
   ]
  },
  {
   "cell_type": "code",
   "execution_count": null,
   "id": "378ac76c",
   "metadata": {},
   "outputs": [],
   "source": [
    "#export\n",
    "def multivariate_anomalies(score_df,cols,idx,o,anomaly_col='normal',fixed_threshold=None,get_thresholds=get_thresholds):\n",
    "    if fixed_threshold is None:\n",
    "        comp_thresholds=get_thresholds\n",
    "    else:\n",
    "        comp_thresholds = lambda _: fixed_threshold\n",
    "    a=[score_df.loc[score_df[c] >= comp_thresholds(c)]['trace_id'] for c in cols]\n",
    "    anomalies=list(set().union(*a))\n",
    "    h=o.items.iloc[idx][anomaly_col]\n",
    "    if anomaly_col=='anomaly':\n",
    "        score_df['is_anomaly']=(h!='normal').tolist()\n",
    "    else:\n",
    "        score_df['is_anomaly']=(h==False).tolist()\n",
    "    score_df['anomaly']=h.tolist()\n",
    "    y_true = (score_df.loc[score_df.trace_id.drop_duplicates().index].is_anomaly).tolist()\n",
    "    cases = score_df.loc[score_df.trace_id.drop_duplicates().index].trace_id.tolist()\n",
    "    y_pred=[case in anomalies for case in cases]\n",
    "    return y_true,y_pred"
   ]
  },
  {
   "cell_type": "code",
   "execution_count": null,
   "id": "7851f0bc",
   "metadata": {},
   "outputs": [],
   "source": [
    "y_true,y_pred=multivariate_anomalies(score_df,cols,idx,o,fixed_threshold=None,anomaly_col='anomaly')"
   ]
  },
  {
   "cell_type": "code",
   "execution_count": 104,
   "id": "88de79fa",
   "metadata": {},
   "outputs": [
    {
     "name": "stdout",
     "output_type": "stream",
     "text": [
      "1000\n"
     ]
    }
   ],
   "source": [
    "print(len(y_true))"
   ]
  },
  {
   "cell_type": "code",
   "execution_count": null,
   "id": "203416ee",
   "metadata": {},
   "outputs": [],
   "source": [
    "f1_score(y_true, y_pred)"
   ]
  },
  {
   "cell_type": "code",
   "execution_count": null,
   "id": "37f7aebb",
   "metadata": {},
   "outputs": [],
   "source": [
    "k=o.items.groupby(o.items.index)['anomaly'].last().iloc[np.where(~np.equal(y_pred, y_true))[0]\n",
    "]\n",
    "k.value_counts()"
   ]
  },
  {
   "cell_type": "code",
   "execution_count": null,
   "id": "0e8fe71d",
   "metadata": {},
   "outputs": [],
   "source": [
    "o.items.groupby(o.items.index)['anomaly'].last().value_counts()"
   ]
  },
  {
   "cell_type": "markdown",
   "id": "f140eba5",
   "metadata": {},
   "source": [
    "## Plot Anomaly Scores for a Trace"
   ]
  },
  {
   "cell_type": "code",
   "execution_count": null,
   "id": "e5d1089a",
   "metadata": {},
   "outputs": [],
   "source": [
    "score_df\n"
   ]
  },
  {
   "cell_type": "code",
   "execution_count": null,
   "id": "6bc3a2a9",
   "metadata": {},
   "outputs": [],
   "source": [
    "score_df.groupby(['trace_id']).size().drop_duplicates().sort_values()"
   ]
  },
  {
   "cell_type": "code",
   "execution_count": null,
   "id": "c4fab847",
   "metadata": {},
   "outputs": [],
   "source": [
    "score_df['event_id']=score_df.groupby('trace_id').cumcount()\n",
    "\n",
    "plot_data=score_df.melt(value_vars=['activity','user','day','country','company'],value_name='Anomaly Score',var_name='Attribute',id_vars=['trace_id','anomaly','event_id'])\n",
    "plot_data['event_id']=plot_data.groupby('trace_id').cumcount()\n",
    "plot_data"
   ]
  },
  {
   "cell_type": "code",
   "execution_count": null,
   "id": "001d1347",
   "metadata": {},
   "outputs": [],
   "source": [
    "import seaborn as sns"
   ]
  },
  {
   "cell_type": "code",
   "execution_count": null,
   "id": "6e8158d3",
   "metadata": {},
   "outputs": [],
   "source": [
    "data=plot_data[plot_data['trace_id']==6].copy()\n",
    "data['xticks']= [f'e{y+1}' for x in range(5) for y in range(len(data)//5)]\n",
    "print(len(data))\n",
    "print(data['anomaly'].iloc[0])\n",
    "print(data['trace_id'].iloc[0])\n",
    "times = data.event_id.unique()\n",
    "g = sns.FacetGrid(data, col=\"trace_id\", hue=\"Attribute\",\n",
    "                  palette=\"Set3\", height=4, aspect=2)\n",
    "g.map(sns.barplot, 'event_id', 'Anomaly Score', order=times)\n",
    "g.add_legend()\n",
    "ax1 = g.axes[0][0]\n",
    "g.set_titles(col_template=\"\", row_template=\"\")\n",
    "g.set_axis_labels('')\n",
    "\n",
    "ax1.axhline(0.98, ls='--')\n",
    "for ax in g.axes.flat:\n",
    "  \n",
    "    ax.set_xticklabels([f'e{y+1}' for x in range(5) for y in range(len(data)//5)], rotation=40,fontsize=9) # set new labels\n",
    "plt.show()"
   ]
  },
  {
   "cell_type": "code",
   "execution_count": null,
   "id": "30752109",
   "metadata": {},
   "outputs": [],
   "source": [
    "import matplotlib.pyplot as plt\n",
    "plt.style.use('ggplot')\n"
   ]
  },
  {
   "cell_type": "code",
   "execution_count": null,
   "id": "3fd88b5a",
   "metadata": {},
   "outputs": [],
   "source": [
    "def plot_anomaly_scores(trace_id):\n",
    "    data=plot_data[plot_data['trace_id']==trace_id]\n",
    "    print(len(data))\n",
    "    print(data['anomaly'].iloc[0])\n",
    "    print(data['trace_id'].iloc[0])\n",
    "    times = data.event_id.unique()\n",
    "    g = sns.FacetGrid(data, col=\"trace_id\", hue=\"Attribute\",\n",
    "                      palette=\"Set3\", height=4, aspect=2)\n",
    "    g.map(sns.barplot, 'event_id', 'Anomaly Score', order=times)\n",
    "    g.add_legend()\n",
    "    ax1 = g.axes[0][0]\n",
    "    g.set_titles(col_template=\"\", row_template=\"\")\n",
    "    g.set_axis_labels('')\n",
    "    ax1.axhline(0.98, ls='--')\n",
    "    for ax in g.axes.flat:\n",
    "\n",
    "        ax.set_xticklabels([f'e{y+1}' for x in range(5) for y in range(len(data)//5)], rotation=50,fontsize=11) # set new labels\n",
    "    plt.show()"
   ]
  },
  {
   "cell_type": "code",
   "execution_count": null,
   "id": "68b81aec",
   "metadata": {},
   "outputs": [],
   "source": [
    "plot_anomaly_scores(1)"
   ]
  },
  {
   "cell_type": "code",
   "execution_count": null,
   "id": "d27ec6ea",
   "metadata": {},
   "outputs": [],
   "source": [
    "plot_anomaly_scores(6)"
   ]
  },
  {
   "cell_type": "code",
   "execution_count": null,
   "id": "c28d1ce0",
   "metadata": {},
   "outputs": [],
   "source": []
  }
 ],
 "metadata": {
  "kernelspec": {
   "display_name": "Research",
   "language": "python",
   "name": "python3"
  },
  "language_info": {
   "codemirror_mode": {
    "name": "ipython",
    "version": 3
   },
   "file_extension": ".py",
   "mimetype": "text/x-python",
   "name": "python",
   "nbconvert_exporter": "python",
   "pygments_lexer": "ipython3",
   "version": "3.9.18"
  }
 },
 "nbformat": 4,
 "nbformat_minor": 5
}
