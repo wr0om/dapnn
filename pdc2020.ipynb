{
 "cells": [
  {
   "cell_type": "code",
   "execution_count": 1,
   "metadata": {},
   "outputs": [],
   "source": [
    "from dapnn.imports import *\n",
    "from dapnn.data_processing import *\n",
    "import seaborn as sns\n",
    "import matplotlib.pyplot as plt\n",
    "import numpy as np\n",
    "import random\n",
    "import torch\n",
    "\n",
    "import warnings\n",
    "warnings.filterwarnings(action='once')"
   ]
  },
  {
   "cell_type": "code",
   "execution_count": 2,
   "metadata": {},
   "outputs": [],
   "source": [
    "# Set the random seed for reproducible results\n",
    "def seed_everything(seed=42):\n",
    "    random.seed(seed)\n",
    "    os.environ['PYTHONHASHSEED'] = str(seed)\n",
    "    np.random.seed(seed)\n",
    "    torch.manual_seed(seed)\n",
    "\n",
    "seed_everything()"
   ]
  },
  {
   "cell_type": "markdown",
   "metadata": {},
   "source": [
    "keeping only the traces in the log that will create the normal model"
   ]
  },
  {
   "cell_type": "code",
   "execution_count": 7,
   "metadata": {},
   "outputs": [
    {
     "name": "stdout",
     "output_type": "stream",
     "text": [
      "['data/csv/PDC2020_training/pdc_2020_0000000.csv.gz', 'data/csv/PDC2020_training/pdc_2020_0000001.csv.gz', 'data/csv/PDC2020_training/pdc_2020_0000010.csv.gz', 'data/csv/PDC2020_training/pdc_2020_0000011.csv.gz', 'data/csv/PDC2020_training/pdc_2020_0000100.csv.gz', 'data/csv/PDC2020_training/pdc_2020_0000101.csv.gz', 'data/csv/PDC2020_training/pdc_2020_0000110.csv.gz', 'data/csv/PDC2020_training/pdc_2020_0000111.csv.gz', 'data/csv/PDC2020_training/pdc_2020_0001000.csv.gz', 'data/csv/PDC2020_training/pdc_2020_0001001.csv.gz', 'data/csv/PDC2020_training/pdc_2020_0001010.csv.gz', 'data/csv/PDC2020_training/pdc_2020_0001011.csv.gz', 'data/csv/PDC2020_training/pdc_2020_0001100.csv.gz', 'data/csv/PDC2020_training/pdc_2020_0001101.csv.gz', 'data/csv/PDC2020_training/pdc_2020_0001110.csv.gz', 'data/csv/PDC2020_training/pdc_2020_0001111.csv.gz', 'data/csv/PDC2020_training/pdc_2020_0010000.csv.gz', 'data/csv/PDC2020_training/pdc_2020_0010001.csv.gz', 'data/csv/PDC2020_training/pdc_2020_0010010.csv.gz', 'data/csv/PDC2020_training/pdc_2020_0010011.csv.gz', 'data/csv/PDC2020_training/pdc_2020_0010100.csv.gz', 'data/csv/PDC2020_training/pdc_2020_0010101.csv.gz', 'data/csv/PDC2020_training/pdc_2020_0010110.csv.gz', 'data/csv/PDC2020_training/pdc_2020_0010111.csv.gz', 'data/csv/PDC2020_training/pdc_2020_0011000.csv.gz', 'data/csv/PDC2020_training/pdc_2020_0011001.csv.gz', 'data/csv/PDC2020_training/pdc_2020_0011010.csv.gz', 'data/csv/PDC2020_training/pdc_2020_0011011.csv.gz', 'data/csv/PDC2020_training/pdc_2020_0011100.csv.gz', 'data/csv/PDC2020_training/pdc_2020_0011101.csv.gz', 'data/csv/PDC2020_training/pdc_2020_0011110.csv.gz', 'data/csv/PDC2020_training/pdc_2020_0011111.csv.gz', 'data/csv/PDC2020_training/pdc_2020_0100000.csv.gz', 'data/csv/PDC2020_training/pdc_2020_0100001.csv.gz', 'data/csv/PDC2020_training/pdc_2020_0100010.csv.gz', 'data/csv/PDC2020_training/pdc_2020_0100011.csv.gz', 'data/csv/PDC2020_training/pdc_2020_0100100.csv.gz', 'data/csv/PDC2020_training/pdc_2020_0100101.csv.gz', 'data/csv/PDC2020_training/pdc_2020_0100110.csv.gz', 'data/csv/PDC2020_training/pdc_2020_0100111.csv.gz', 'data/csv/PDC2020_training/pdc_2020_0101000.csv.gz', 'data/csv/PDC2020_training/pdc_2020_0101001.csv.gz', 'data/csv/PDC2020_training/pdc_2020_0101010.csv.gz', 'data/csv/PDC2020_training/pdc_2020_0101011.csv.gz', 'data/csv/PDC2020_training/pdc_2020_0101100.csv.gz', 'data/csv/PDC2020_training/pdc_2020_0101101.csv.gz', 'data/csv/PDC2020_training/pdc_2020_0101110.csv.gz', 'data/csv/PDC2020_training/pdc_2020_0101111.csv.gz', 'data/csv/PDC2020_training/pdc_2020_0110000.csv.gz', 'data/csv/PDC2020_training/pdc_2020_0110001.csv.gz', 'data/csv/PDC2020_training/pdc_2020_0110010.csv.gz', 'data/csv/PDC2020_training/pdc_2020_0110011.csv.gz', 'data/csv/PDC2020_training/pdc_2020_0110100.csv.gz', 'data/csv/PDC2020_training/pdc_2020_0110101.csv.gz', 'data/csv/PDC2020_training/pdc_2020_0110110.csv.gz', 'data/csv/PDC2020_training/pdc_2020_0110111.csv.gz', 'data/csv/PDC2020_training/pdc_2020_0111000.csv.gz', 'data/csv/PDC2020_training/pdc_2020_0111001.csv.gz', 'data/csv/PDC2020_training/pdc_2020_0111010.csv.gz', 'data/csv/PDC2020_training/pdc_2020_0111011.csv.gz', 'data/csv/PDC2020_training/pdc_2020_0111100.csv.gz', 'data/csv/PDC2020_training/pdc_2020_0111101.csv.gz', 'data/csv/PDC2020_training/pdc_2020_0111110.csv.gz', 'data/csv/PDC2020_training/pdc_2020_0111111.csv.gz', 'data/csv/PDC2020_training/pdc_2020_0200000.csv.gz', 'data/csv/PDC2020_training/pdc_2020_0200001.csv.gz', 'data/csv/PDC2020_training/pdc_2020_0200010.csv.gz', 'data/csv/PDC2020_training/pdc_2020_0200011.csv.gz', 'data/csv/PDC2020_training/pdc_2020_0200100.csv.gz', 'data/csv/PDC2020_training/pdc_2020_0200101.csv.gz', 'data/csv/PDC2020_training/pdc_2020_0200110.csv.gz', 'data/csv/PDC2020_training/pdc_2020_0200111.csv.gz', 'data/csv/PDC2020_training/pdc_2020_0201000.csv.gz', 'data/csv/PDC2020_training/pdc_2020_0201001.csv.gz', 'data/csv/PDC2020_training/pdc_2020_0201010.csv.gz', 'data/csv/PDC2020_training/pdc_2020_0201011.csv.gz', 'data/csv/PDC2020_training/pdc_2020_0201100.csv.gz', 'data/csv/PDC2020_training/pdc_2020_0201101.csv.gz', 'data/csv/PDC2020_training/pdc_2020_0201110.csv.gz', 'data/csv/PDC2020_training/pdc_2020_0201111.csv.gz', 'data/csv/PDC2020_training/pdc_2020_0210000.csv.gz', 'data/csv/PDC2020_training/pdc_2020_0210001.csv.gz', 'data/csv/PDC2020_training/pdc_2020_0210010.csv.gz', 'data/csv/PDC2020_training/pdc_2020_0210011.csv.gz', 'data/csv/PDC2020_training/pdc_2020_0210100.csv.gz', 'data/csv/PDC2020_training/pdc_2020_0210101.csv.gz', 'data/csv/PDC2020_training/pdc_2020_0210110.csv.gz', 'data/csv/PDC2020_training/pdc_2020_0210111.csv.gz', 'data/csv/PDC2020_training/pdc_2020_0211000.csv.gz', 'data/csv/PDC2020_training/pdc_2020_0211001.csv.gz', 'data/csv/PDC2020_training/pdc_2020_0211010.csv.gz', 'data/csv/PDC2020_training/pdc_2020_0211011.csv.gz', 'data/csv/PDC2020_training/pdc_2020_0211100.csv.gz', 'data/csv/PDC2020_training/pdc_2020_0211101.csv.gz', 'data/csv/PDC2020_training/pdc_2020_0211110.csv.gz', 'data/csv/PDC2020_training/pdc_2020_0211111.csv.gz', 'data/csv/PDC2020_training/pdc_2020_1000000.csv.gz', 'data/csv/PDC2020_training/pdc_2020_1000001.csv.gz', 'data/csv/PDC2020_training/pdc_2020_1000010.csv.gz', 'data/csv/PDC2020_training/pdc_2020_1000011.csv.gz', 'data/csv/PDC2020_training/pdc_2020_1000100.csv.gz', 'data/csv/PDC2020_training/pdc_2020_1000101.csv.gz', 'data/csv/PDC2020_training/pdc_2020_1000110.csv.gz', 'data/csv/PDC2020_training/pdc_2020_1000111.csv.gz', 'data/csv/PDC2020_training/pdc_2020_1001000.csv.gz', 'data/csv/PDC2020_training/pdc_2020_1001001.csv.gz', 'data/csv/PDC2020_training/pdc_2020_1001010.csv.gz', 'data/csv/PDC2020_training/pdc_2020_1001011.csv.gz', 'data/csv/PDC2020_training/pdc_2020_1001100.csv.gz', 'data/csv/PDC2020_training/pdc_2020_1001101.csv.gz', 'data/csv/PDC2020_training/pdc_2020_1001110.csv.gz', 'data/csv/PDC2020_training/pdc_2020_1001111.csv.gz', 'data/csv/PDC2020_training/pdc_2020_1010000.csv.gz', 'data/csv/PDC2020_training/pdc_2020_1010001.csv.gz', 'data/csv/PDC2020_training/pdc_2020_1010010.csv.gz', 'data/csv/PDC2020_training/pdc_2020_1010011.csv.gz', 'data/csv/PDC2020_training/pdc_2020_1010100.csv.gz', 'data/csv/PDC2020_training/pdc_2020_1010101.csv.gz', 'data/csv/PDC2020_training/pdc_2020_1010110.csv.gz', 'data/csv/PDC2020_training/pdc_2020_1010111.csv.gz', 'data/csv/PDC2020_training/pdc_2020_1011000.csv.gz', 'data/csv/PDC2020_training/pdc_2020_1011001.csv.gz', 'data/csv/PDC2020_training/pdc_2020_1011010.csv.gz', 'data/csv/PDC2020_training/pdc_2020_1011011.csv.gz', 'data/csv/PDC2020_training/pdc_2020_1011100.csv.gz', 'data/csv/PDC2020_training/pdc_2020_1011101.csv.gz', 'data/csv/PDC2020_training/pdc_2020_1011110.csv.gz', 'data/csv/PDC2020_training/pdc_2020_1011111.csv.gz', 'data/csv/PDC2020_training/pdc_2020_1100000.csv.gz', 'data/csv/PDC2020_training/pdc_2020_1100001.csv.gz', 'data/csv/PDC2020_training/pdc_2020_1100010.csv.gz', 'data/csv/PDC2020_training/pdc_2020_1100011.csv.gz', 'data/csv/PDC2020_training/pdc_2020_1100100.csv.gz', 'data/csv/PDC2020_training/pdc_2020_1100101.csv.gz', 'data/csv/PDC2020_training/pdc_2020_1100110.csv.gz', 'data/csv/PDC2020_training/pdc_2020_1100111.csv.gz', 'data/csv/PDC2020_training/pdc_2020_1101000.csv.gz', 'data/csv/PDC2020_training/pdc_2020_1101001.csv.gz', 'data/csv/PDC2020_training/pdc_2020_1101010.csv.gz', 'data/csv/PDC2020_training/pdc_2020_1101011.csv.gz', 'data/csv/PDC2020_training/pdc_2020_1101100.csv.gz', 'data/csv/PDC2020_training/pdc_2020_1101101.csv.gz', 'data/csv/PDC2020_training/pdc_2020_1101110.csv.gz', 'data/csv/PDC2020_training/pdc_2020_1101111.csv.gz', 'data/csv/PDC2020_training/pdc_2020_1110000.csv.gz', 'data/csv/PDC2020_training/pdc_2020_1110001.csv.gz', 'data/csv/PDC2020_training/pdc_2020_1110010.csv.gz', 'data/csv/PDC2020_training/pdc_2020_1110011.csv.gz', 'data/csv/PDC2020_training/pdc_2020_1110100.csv.gz', 'data/csv/PDC2020_training/pdc_2020_1110101.csv.gz', 'data/csv/PDC2020_training/pdc_2020_1110110.csv.gz', 'data/csv/PDC2020_training/pdc_2020_1110111.csv.gz', 'data/csv/PDC2020_training/pdc_2020_1111000.csv.gz', 'data/csv/PDC2020_training/pdc_2020_1111001.csv.gz', 'data/csv/PDC2020_training/pdc_2020_1111010.csv.gz', 'data/csv/PDC2020_training/pdc_2020_1111011.csv.gz', 'data/csv/PDC2020_training/pdc_2020_1111100.csv.gz', 'data/csv/PDC2020_training/pdc_2020_1111101.csv.gz', 'data/csv/PDC2020_training/pdc_2020_1111110.csv.gz', 'data/csv/PDC2020_training/pdc_2020_1111111.csv.gz', 'data/csv/PDC2020_training/pdc_2020_1200000.csv.gz', 'data/csv/PDC2020_training/pdc_2020_1200001.csv.gz', 'data/csv/PDC2020_training/pdc_2020_1200010.csv.gz', 'data/csv/PDC2020_training/pdc_2020_1200011.csv.gz', 'data/csv/PDC2020_training/pdc_2020_1200100.csv.gz', 'data/csv/PDC2020_training/pdc_2020_1200101.csv.gz', 'data/csv/PDC2020_training/pdc_2020_1200110.csv.gz', 'data/csv/PDC2020_training/pdc_2020_1200111.csv.gz', 'data/csv/PDC2020_training/pdc_2020_1201000.csv.gz', 'data/csv/PDC2020_training/pdc_2020_1201001.csv.gz', 'data/csv/PDC2020_training/pdc_2020_1201010.csv.gz', 'data/csv/PDC2020_training/pdc_2020_1201011.csv.gz', 'data/csv/PDC2020_training/pdc_2020_1201100.csv.gz', 'data/csv/PDC2020_training/pdc_2020_1201101.csv.gz', 'data/csv/PDC2020_training/pdc_2020_1201110.csv.gz', 'data/csv/PDC2020_training/pdc_2020_1201111.csv.gz', 'data/csv/PDC2020_training/pdc_2020_1210000.csv.gz', 'data/csv/PDC2020_training/pdc_2020_1210001.csv.gz', 'data/csv/PDC2020_training/pdc_2020_1210010.csv.gz', 'data/csv/PDC2020_training/pdc_2020_1210011.csv.gz', 'data/csv/PDC2020_training/pdc_2020_1210100.csv.gz', 'data/csv/PDC2020_training/pdc_2020_1210101.csv.gz', 'data/csv/PDC2020_training/pdc_2020_1210110.csv.gz', 'data/csv/PDC2020_training/pdc_2020_1210111.csv.gz', 'data/csv/PDC2020_training/pdc_2020_1211000.csv.gz', 'data/csv/PDC2020_training/pdc_2020_1211001.csv.gz', 'data/csv/PDC2020_training/pdc_2020_1211010.csv.gz', 'data/csv/PDC2020_training/pdc_2020_1211011.csv.gz', 'data/csv/PDC2020_training/pdc_2020_1211100.csv.gz', 'data/csv/PDC2020_training/pdc_2020_1211101.csv.gz', 'data/csv/PDC2020_training/pdc_2020_1211110.csv.gz', 'data/csv/PDC2020_training/pdc_2020_1211111.csv.gz']\n"
     ]
    },
    {
     "data": {
      "text/html": [
       "<div>\n",
       "<style scoped>\n",
       "    .dataframe tbody tr th:only-of-type {\n",
       "        vertical-align: middle;\n",
       "    }\n",
       "\n",
       "    .dataframe tbody tr th {\n",
       "        vertical-align: top;\n",
       "    }\n",
       "\n",
       "    .dataframe thead th {\n",
       "        text-align: right;\n",
       "    }\n",
       "</style>\n",
       "<table border=\"1\" class=\"dataframe\">\n",
       "  <thead>\n",
       "    <tr style=\"text-align: right;\">\n",
       "      <th></th>\n",
       "      <th>activity</th>\n",
       "      <th>trace_id</th>\n",
       "      <th>event_id</th>\n",
       "    </tr>\n",
       "    <tr>\n",
       "      <th>trace_id</th>\n",
       "      <th></th>\n",
       "      <th></th>\n",
       "      <th></th>\n",
       "    </tr>\n",
       "  </thead>\n",
       "  <tbody>\n",
       "    <tr>\n",
       "      <th>trace 1</th>\n",
       "      <td>###start###</td>\n",
       "      <td>trace 1</td>\n",
       "      <td>0</td>\n",
       "    </tr>\n",
       "    <tr>\n",
       "      <th>trace 1</th>\n",
       "      <td>t11</td>\n",
       "      <td>trace 1</td>\n",
       "      <td>1</td>\n",
       "    </tr>\n",
       "    <tr>\n",
       "      <th>trace 1</th>\n",
       "      <td>t26</td>\n",
       "      <td>trace 1</td>\n",
       "      <td>2</td>\n",
       "    </tr>\n",
       "    <tr>\n",
       "      <th>trace 1</th>\n",
       "      <td>t21</td>\n",
       "      <td>trace 1</td>\n",
       "      <td>3</td>\n",
       "    </tr>\n",
       "    <tr>\n",
       "      <th>trace 1</th>\n",
       "      <td>t32</td>\n",
       "      <td>trace 1</td>\n",
       "      <td>4</td>\n",
       "    </tr>\n",
       "  </tbody>\n",
       "</table>\n",
       "</div>"
      ],
      "text/plain": [
       "             activity trace_id event_id\n",
       "trace_id                               \n",
       "trace 1   ###start###  trace 1        0\n",
       "trace 1           t11  trace 1        1\n",
       "trace 1           t26  trace 1        2\n",
       "trace 1           t21  trace 1        3\n",
       "trace 1           t32  trace 1        4"
      ]
     },
     "execution_count": 7,
     "metadata": {},
     "output_type": "execute_result"
    }
   ],
   "source": [
    "log_path='data/csv/PDC2020_training/'\n",
    "log = import_log(log_path)\n",
    "\n",
    "num_traces = len(log['trace_id'].unique())\n",
    "ratio = 0.8\n",
    "traces_for_normal_model = int(num_traces * ratio)\n",
    "\n",
    "log = log[log['trace_id'].str.split(' ').str[1].astype(int) < traces_for_normal_model]\n",
    "log.head(5)"
   ]
  },
  {
   "cell_type": "code",
   "execution_count": 8,
   "metadata": {},
   "outputs": [],
   "source": [
    "def training_dl(log,cat_names='activity',seed=45,ws=5,bs=32):\n",
    "    categorify=Categorify()\n",
    "    o=PPObj(log,procs=categorify,cat_names=cat_names,y_names=cat_names,splits=split_traces(log,test_seed=seed,validation_seed=seed))\n",
    "    dls=o.get_dls(windows=partial(windows_fast,ws=ws),bs=bs)\n",
    "    return o,dls,categorify"
   ]
  },
  {
   "cell_type": "code",
   "execution_count": 34,
   "metadata": {},
   "outputs": [],
   "source": [
    "class ControlFlowModel(torch.nn.Module) :\n",
    "    def __init__(self, o) :\n",
    "        super().__init__()\n",
    "        hidden=25\n",
    "        vocab_act=len(o.procs.categorify['activity'])\n",
    "        emb_dim_act = int(np.sqrt(vocab_act))+1\n",
    "\n",
    "        self.emb_act = nn.Embedding(vocab_act,emb_dim_act)\n",
    "        \n",
    "        self.lstm_act = nn.LSTM(emb_dim_act, hidden, batch_first=True, num_layers=2)\n",
    "\n",
    "        self.linear_act = nn.Linear(hidden, vocab_act)\n",
    "\n",
    "    def forward(self, xcat):\n",
    "        xcat=xcat[:,0]\n",
    "        x_act=xcat\n",
    "        x_act = self.emb_act(x_act)\n",
    "        x_act,_ = self.lstm_act(x_act)\n",
    "        x_act = x_act[:,-1]\n",
    "        x_act = self.linear_act(x_act)\n",
    "        return x_act"
   ]
  },
  {
   "cell_type": "code",
   "execution_count": 10,
   "metadata": {},
   "outputs": [],
   "source": [
    "class HideOutput:\n",
    "    'A utility function that hides all outputs in a context'\n",
    "    def __enter__(self):\n",
    "        self._original_stdout = sys.stdout\n",
    "        sys.stdout = open(os.devnull, 'w')\n",
    "\n",
    "    def __exit__(self, exc_type, exc_val, exc_tb):\n",
    "        sys.stdout.close()\n",
    "        sys.stdout = self._original_stdout\n",
    "\n",
    "\n",
    "def training_loop(learn,epoch,print_output,lr_find,fixed_learning_rate=0.01):\n",
    "    '''\n",
    "    Basic training loop that uses learning rate finder and one cycle training. \n",
    "    See fastai docs for more information\n",
    "    '''\n",
    "    if lr_find:\n",
    "        lr=np.median([learn.lr_find(show_plot=print_output)[0] for i in range(5)])\n",
    "        learn.fit_one_cycle(epoch,float(lr))\n",
    "    else: learn.fit(epoch,fixed_learning_rate)\n",
    "\n",
    "\n",
    "def train_validate(dls,m,metrics=accuracy,loss=F.cross_entropy,epoch=20,print_output=True,model_dir=\".\",lr_find=True,\n",
    "                   patience=5,min_delta=0.005,show_plot=True,store_path='tmp',model_name='.model'):\n",
    "    '''\n",
    "    Trains a model on the training set with early stopping based on the validation loss.\n",
    "    Afterwards, applies it to the test set.\n",
    "    '''\n",
    "    cbs = [\n",
    "      EarlyStoppingCallback(monitor='valid_loss',min_delta=min_delta, patience=patience),\n",
    "      SaveModelCallback(fname=model_name),\n",
    "      ]\n",
    "    learn=Learner(dls, m, path=store_path, model_dir=model_dir, loss_func=loss ,metrics=metrics,cbs=cbs)\n",
    "\n",
    "    if print_output:\n",
    "        training_loop(learn,epoch,show_plot,lr_find=lr_find)\n",
    "        return learn.validate(dl=dls[2])\n",
    "    else:\n",
    "        with HideOutput(),learn.no_bar(),learn.no_logging():\n",
    "            training_loop(learn,epoch,show_plot,lr_find=lr_find)\n",
    "            return learn.validate(dl=dls[2])"
   ]
  },
  {
   "cell_type": "code",
   "execution_count": 11,
   "metadata": {},
   "outputs": [],
   "source": [
    "squeeze_cross_entropy = lambda x,y:F.cross_entropy(x,y[0])\n",
    "squeeze_accuracy =lambda x,y:accuracy(x,y[0])"
   ]
  },
  {
   "cell_type": "code",
   "execution_count": 12,
   "metadata": {},
   "outputs": [
    {
     "name": "stderr",
     "output_type": "stream",
     "text": [
      "/lv_local/home/romh/DAPNN/dapnn/dapnn/data_processing.py:208: DeprecationWarning: is_categorical_dtype is deprecated and will be removed in a future version. Use isinstance(dtype, pd.CategoricalDtype) instead\n",
      "  if not is_categorical_dtype(c):\n"
     ]
    },
    {
     "data": {
      "text/html": [
       "\n",
       "<style>\n",
       "    /* Turns off some styling */\n",
       "    progress {\n",
       "        /* gets rid of default border in Firefox and Opera. */\n",
       "        border: none;\n",
       "        /* Needs to be in here for Safari polyfill so background images work as expected. */\n",
       "        background-size: auto;\n",
       "    }\n",
       "    progress:not([value]), progress:not([value])::-webkit-progress-bar {\n",
       "        background: repeating-linear-gradient(45deg, #7e7e7e, #7e7e7e 10px, #5c5c5c 10px, #5c5c5c 20px);\n",
       "    }\n",
       "    .progress-bar-interrupted, .progress-bar-interrupted::-webkit-progress-bar {\n",
       "        background: #F44336;\n",
       "    }\n",
       "</style>\n"
      ],
      "text/plain": [
       "<IPython.core.display.HTML object>"
      ]
     },
     "metadata": {},
     "output_type": "display_data"
    },
    {
     "data": {
      "text/html": [],
      "text/plain": [
       "<IPython.core.display.HTML object>"
      ]
     },
     "metadata": {},
     "output_type": "display_data"
    },
    {
     "data": {
      "text/html": [
       "\n",
       "<style>\n",
       "    /* Turns off some styling */\n",
       "    progress {\n",
       "        /* gets rid of default border in Firefox and Opera. */\n",
       "        border: none;\n",
       "        /* Needs to be in here for Safari polyfill so background images work as expected. */\n",
       "        background-size: auto;\n",
       "    }\n",
       "    progress:not([value]), progress:not([value])::-webkit-progress-bar {\n",
       "        background: repeating-linear-gradient(45deg, #7e7e7e, #7e7e7e 10px, #5c5c5c 10px, #5c5c5c 20px);\n",
       "    }\n",
       "    .progress-bar-interrupted, .progress-bar-interrupted::-webkit-progress-bar {\n",
       "        background: #F44336;\n",
       "    }\n",
       "</style>\n"
      ],
      "text/plain": [
       "<IPython.core.display.HTML object>"
      ]
     },
     "metadata": {},
     "output_type": "display_data"
    },
    {
     "data": {
      "text/html": [],
      "text/plain": [
       "<IPython.core.display.HTML object>"
      ]
     },
     "metadata": {},
     "output_type": "display_data"
    },
    {
     "data": {
      "text/html": [
       "\n",
       "<style>\n",
       "    /* Turns off some styling */\n",
       "    progress {\n",
       "        /* gets rid of default border in Firefox and Opera. */\n",
       "        border: none;\n",
       "        /* Needs to be in here for Safari polyfill so background images work as expected. */\n",
       "        background-size: auto;\n",
       "    }\n",
       "    progress:not([value]), progress:not([value])::-webkit-progress-bar {\n",
       "        background: repeating-linear-gradient(45deg, #7e7e7e, #7e7e7e 10px, #5c5c5c 10px, #5c5c5c 20px);\n",
       "    }\n",
       "    .progress-bar-interrupted, .progress-bar-interrupted::-webkit-progress-bar {\n",
       "        background: #F44336;\n",
       "    }\n",
       "</style>\n"
      ],
      "text/plain": [
       "<IPython.core.display.HTML object>"
      ]
     },
     "metadata": {},
     "output_type": "display_data"
    },
    {
     "data": {
      "text/html": [],
      "text/plain": [
       "<IPython.core.display.HTML object>"
      ]
     },
     "metadata": {},
     "output_type": "display_data"
    },
    {
     "data": {
      "text/html": [
       "\n",
       "<style>\n",
       "    /* Turns off some styling */\n",
       "    progress {\n",
       "        /* gets rid of default border in Firefox and Opera. */\n",
       "        border: none;\n",
       "        /* Needs to be in here for Safari polyfill so background images work as expected. */\n",
       "        background-size: auto;\n",
       "    }\n",
       "    progress:not([value]), progress:not([value])::-webkit-progress-bar {\n",
       "        background: repeating-linear-gradient(45deg, #7e7e7e, #7e7e7e 10px, #5c5c5c 10px, #5c5c5c 20px);\n",
       "    }\n",
       "    .progress-bar-interrupted, .progress-bar-interrupted::-webkit-progress-bar {\n",
       "        background: #F44336;\n",
       "    }\n",
       "</style>\n"
      ],
      "text/plain": [
       "<IPython.core.display.HTML object>"
      ]
     },
     "metadata": {},
     "output_type": "display_data"
    },
    {
     "data": {
      "text/html": [],
      "text/plain": [
       "<IPython.core.display.HTML object>"
      ]
     },
     "metadata": {},
     "output_type": "display_data"
    },
    {
     "data": {
      "text/html": [
       "\n",
       "<style>\n",
       "    /* Turns off some styling */\n",
       "    progress {\n",
       "        /* gets rid of default border in Firefox and Opera. */\n",
       "        border: none;\n",
       "        /* Needs to be in here for Safari polyfill so background images work as expected. */\n",
       "        background-size: auto;\n",
       "    }\n",
       "    progress:not([value]), progress:not([value])::-webkit-progress-bar {\n",
       "        background: repeating-linear-gradient(45deg, #7e7e7e, #7e7e7e 10px, #5c5c5c 10px, #5c5c5c 20px);\n",
       "    }\n",
       "    .progress-bar-interrupted, .progress-bar-interrupted::-webkit-progress-bar {\n",
       "        background: #F44336;\n",
       "    }\n",
       "</style>\n"
      ],
      "text/plain": [
       "<IPython.core.display.HTML object>"
      ]
     },
     "metadata": {},
     "output_type": "display_data"
    },
    {
     "data": {
      "text/html": [],
      "text/plain": [
       "<IPython.core.display.HTML object>"
      ]
     },
     "metadata": {},
     "output_type": "display_data"
    },
    {
     "data": {
      "text/html": [
       "\n",
       "<style>\n",
       "    /* Turns off some styling */\n",
       "    progress {\n",
       "        /* gets rid of default border in Firefox and Opera. */\n",
       "        border: none;\n",
       "        /* Needs to be in here for Safari polyfill so background images work as expected. */\n",
       "        background-size: auto;\n",
       "    }\n",
       "    progress:not([value]), progress:not([value])::-webkit-progress-bar {\n",
       "        background: repeating-linear-gradient(45deg, #7e7e7e, #7e7e7e 10px, #5c5c5c 10px, #5c5c5c 20px);\n",
       "    }\n",
       "    .progress-bar-interrupted, .progress-bar-interrupted::-webkit-progress-bar {\n",
       "        background: #F44336;\n",
       "    }\n",
       "</style>\n"
      ],
      "text/plain": [
       "<IPython.core.display.HTML object>"
      ]
     },
     "metadata": {},
     "output_type": "display_data"
    },
    {
     "data": {
      "text/html": [
       "<table border=\"1\" class=\"dataframe\">\n",
       "  <thead>\n",
       "    <tr style=\"text-align: left;\">\n",
       "      <th>epoch</th>\n",
       "      <th>train_loss</th>\n",
       "      <th>valid_loss</th>\n",
       "      <th><lambda></th>\n",
       "      <th>time</th>\n",
       "    </tr>\n",
       "  </thead>\n",
       "  <tbody>\n",
       "    <tr>\n",
       "      <td>0</td>\n",
       "      <td>1.167310</td>\n",
       "      <td>1.163570</td>\n",
       "      <td>0.550733</td>\n",
       "      <td>05:48</td>\n",
       "    </tr>\n",
       "    <tr>\n",
       "      <td>1</td>\n",
       "      <td>1.090757</td>\n",
       "      <td>1.146879</td>\n",
       "      <td>0.537908</td>\n",
       "      <td>05:47</td>\n",
       "    </tr>\n",
       "    <tr>\n",
       "      <td>2</td>\n",
       "      <td>1.114977</td>\n",
       "      <td>1.140593</td>\n",
       "      <td>0.552122</td>\n",
       "      <td>05:48</td>\n",
       "    </tr>\n",
       "    <tr>\n",
       "      <td>3</td>\n",
       "      <td>1.172542</td>\n",
       "      <td>1.149181</td>\n",
       "      <td>0.546106</td>\n",
       "      <td>05:47</td>\n",
       "    </tr>\n",
       "    <tr>\n",
       "      <td>4</td>\n",
       "      <td>1.138215</td>\n",
       "      <td>1.148465</td>\n",
       "      <td>0.547308</td>\n",
       "      <td>05:48</td>\n",
       "    </tr>\n",
       "    <tr>\n",
       "      <td>5</td>\n",
       "      <td>1.113332</td>\n",
       "      <td>1.135598</td>\n",
       "      <td>0.550795</td>\n",
       "      <td>05:47</td>\n",
       "    </tr>\n",
       "    <tr>\n",
       "      <td>6</td>\n",
       "      <td>1.133046</td>\n",
       "      <td>1.128004</td>\n",
       "      <td>0.551089</td>\n",
       "      <td>05:51</td>\n",
       "    </tr>\n",
       "    <tr>\n",
       "      <td>7</td>\n",
       "      <td>1.105586</td>\n",
       "      <td>1.128067</td>\n",
       "      <td>0.545370</td>\n",
       "      <td>05:45</td>\n",
       "    </tr>\n",
       "    <tr>\n",
       "      <td>8</td>\n",
       "      <td>1.109910</td>\n",
       "      <td>1.122441</td>\n",
       "      <td>0.551680</td>\n",
       "      <td>05:45</td>\n",
       "    </tr>\n",
       "    <tr>\n",
       "      <td>9</td>\n",
       "      <td>1.097285</td>\n",
       "      <td>1.124090</td>\n",
       "      <td>0.549291</td>\n",
       "      <td>05:45</td>\n",
       "    </tr>\n",
       "    <tr>\n",
       "      <td>10</td>\n",
       "      <td>1.122411</td>\n",
       "      <td>1.121535</td>\n",
       "      <td>0.549754</td>\n",
       "      <td>05:47</td>\n",
       "    </tr>\n",
       "    <tr>\n",
       "      <td>11</td>\n",
       "      <td>1.092616</td>\n",
       "      <td>1.115341</td>\n",
       "      <td>0.555006</td>\n",
       "      <td>05:45</td>\n",
       "    </tr>\n",
       "    <tr>\n",
       "      <td>12</td>\n",
       "      <td>1.110392</td>\n",
       "      <td>1.109215</td>\n",
       "      <td>0.557076</td>\n",
       "      <td>05:45</td>\n",
       "    </tr>\n",
       "    <tr>\n",
       "      <td>13</td>\n",
       "      <td>1.107351</td>\n",
       "      <td>1.106732</td>\n",
       "      <td>0.555700</td>\n",
       "      <td>05:47</td>\n",
       "    </tr>\n",
       "    <tr>\n",
       "      <td>14</td>\n",
       "      <td>1.092906</td>\n",
       "      <td>1.096908</td>\n",
       "      <td>0.557163</td>\n",
       "      <td>05:45</td>\n",
       "    </tr>\n",
       "    <tr>\n",
       "      <td>15</td>\n",
       "      <td>1.080982</td>\n",
       "      <td>1.094017</td>\n",
       "      <td>0.558060</td>\n",
       "      <td>05:46</td>\n",
       "    </tr>\n",
       "    <tr>\n",
       "      <td>16</td>\n",
       "      <td>1.046300</td>\n",
       "      <td>1.090057</td>\n",
       "      <td>0.558820</td>\n",
       "      <td>05:46</td>\n",
       "    </tr>\n",
       "    <tr>\n",
       "      <td>17</td>\n",
       "      <td>1.069334</td>\n",
       "      <td>1.084361</td>\n",
       "      <td>0.561675</td>\n",
       "      <td>05:47</td>\n",
       "    </tr>\n",
       "    <tr>\n",
       "      <td>18</td>\n",
       "      <td>1.077790</td>\n",
       "      <td>1.081820</td>\n",
       "      <td>0.559361</td>\n",
       "      <td>05:46</td>\n",
       "    </tr>\n",
       "    <tr>\n",
       "      <td>19</td>\n",
       "      <td>1.045109</td>\n",
       "      <td>1.080573</td>\n",
       "      <td>0.561886</td>\n",
       "      <td>05:45</td>\n",
       "    </tr>\n",
       "  </tbody>\n",
       "</table>"
      ],
      "text/plain": [
       "<IPython.core.display.HTML object>"
      ]
     },
     "metadata": {},
     "output_type": "display_data"
    },
    {
     "name": "stdout",
     "output_type": "stream",
     "text": [
      "Better model found at epoch 0 with valid_loss value: 1.1635704040527344.\n",
      "Better model found at epoch 1 with valid_loss value: 1.146878719329834.\n",
      "Better model found at epoch 2 with valid_loss value: 1.140593409538269.\n",
      "Better model found at epoch 5 with valid_loss value: 1.1355983018875122.\n",
      "Better model found at epoch 6 with valid_loss value: 1.1280035972595215.\n",
      "Better model found at epoch 8 with valid_loss value: 1.1224406957626343.\n",
      "Better model found at epoch 10 with valid_loss value: 1.1215351819992065.\n",
      "Better model found at epoch 11 with valid_loss value: 1.1153411865234375.\n",
      "Better model found at epoch 12 with valid_loss value: 1.1092145442962646.\n",
      "Better model found at epoch 13 with valid_loss value: 1.1067320108413696.\n",
      "Better model found at epoch 14 with valid_loss value: 1.0969079732894897.\n",
      "Better model found at epoch 15 with valid_loss value: 1.0940167903900146.\n",
      "Better model found at epoch 16 with valid_loss value: 1.090057373046875.\n",
      "Better model found at epoch 17 with valid_loss value: 1.084360957145691.\n",
      "Better model found at epoch 18 with valid_loss value: 1.0818203687667847.\n",
      "Better model found at epoch 19 with valid_loss value: 1.0805732011795044.\n"
     ]
    },
    {
     "data": {
      "text/html": [
       "\n",
       "<style>\n",
       "    /* Turns off some styling */\n",
       "    progress {\n",
       "        /* gets rid of default border in Firefox and Opera. */\n",
       "        border: none;\n",
       "        /* Needs to be in here for Safari polyfill so background images work as expected. */\n",
       "        background-size: auto;\n",
       "    }\n",
       "    progress:not([value]), progress:not([value])::-webkit-progress-bar {\n",
       "        background: repeating-linear-gradient(45deg, #7e7e7e, #7e7e7e 10px, #5c5c5c 10px, #5c5c5c 20px);\n",
       "    }\n",
       "    .progress-bar-interrupted, .progress-bar-interrupted::-webkit-progress-bar {\n",
       "        background: #F44336;\n",
       "    }\n",
       "</style>\n"
      ],
      "text/plain": [
       "<IPython.core.display.HTML object>"
      ]
     },
     "metadata": {},
     "output_type": "display_data"
    },
    {
     "data": {
      "text/html": [],
      "text/plain": [
       "<IPython.core.display.HTML object>"
      ]
     },
     "metadata": {},
     "output_type": "display_data"
    },
    {
     "name": "stdout",
     "output_type": "stream",
     "text": [
      "Better model found at epoch 0 with valid_loss value: 0.5627988576889038.\n"
     ]
    }
   ],
   "source": [
    "o,dls,categorify = training_dl(log)\n",
    "m = ControlFlowModel(o)\n",
    "train_val = train_validate(dls,m,epoch=20,metrics=squeeze_accuracy,loss=squeeze_cross_entropy, show_plot=False)"
   ]
  },
  {
   "cell_type": "code",
   "execution_count": 39,
   "metadata": {},
   "outputs": [],
   "source": [
    "# save the model m\n",
    "torch.save(m.state_dict(), 'save_model/reg_model.pth')"
   ]
  },
  {
   "cell_type": "code",
   "execution_count": null,
   "metadata": {},
   "outputs": [],
   "source": [
    "# load the model m\n",
    "m = ControlFlowModel(o)\n",
    "m.load_state_dict(torch.load('save_model/reg_model.pth'))"
   ]
  },
  {
   "cell_type": "code",
   "execution_count": 36,
   "metadata": {},
   "outputs": [
    {
     "name": "stdout",
     "output_type": "stream",
     "text": [
      "['data/csv/PDC2020_ground_truth/pdc_2020_0000000.csv.gz', 'data/csv/PDC2020_ground_truth/pdc_2020_0000001.csv.gz', 'data/csv/PDC2020_ground_truth/pdc_2020_0000010.csv.gz', 'data/csv/PDC2020_ground_truth/pdc_2020_0000011.csv.gz', 'data/csv/PDC2020_ground_truth/pdc_2020_0000100.csv.gz', 'data/csv/PDC2020_ground_truth/pdc_2020_0000101.csv.gz', 'data/csv/PDC2020_ground_truth/pdc_2020_0000110.csv.gz', 'data/csv/PDC2020_ground_truth/pdc_2020_0000111.csv.gz', 'data/csv/PDC2020_ground_truth/pdc_2020_0001000.csv.gz', 'data/csv/PDC2020_ground_truth/pdc_2020_0001001.csv.gz', 'data/csv/PDC2020_ground_truth/pdc_2020_0001010.csv.gz', 'data/csv/PDC2020_ground_truth/pdc_2020_0001011.csv.gz', 'data/csv/PDC2020_ground_truth/pdc_2020_0001100.csv.gz', 'data/csv/PDC2020_ground_truth/pdc_2020_0001101.csv.gz', 'data/csv/PDC2020_ground_truth/pdc_2020_0001110.csv.gz', 'data/csv/PDC2020_ground_truth/pdc_2020_0001111.csv.gz', 'data/csv/PDC2020_ground_truth/pdc_2020_0010000.csv.gz', 'data/csv/PDC2020_ground_truth/pdc_2020_0010001.csv.gz', 'data/csv/PDC2020_ground_truth/pdc_2020_0010010.csv.gz', 'data/csv/PDC2020_ground_truth/pdc_2020_0010011.csv.gz', 'data/csv/PDC2020_ground_truth/pdc_2020_0010100.csv.gz', 'data/csv/PDC2020_ground_truth/pdc_2020_0010101.csv.gz', 'data/csv/PDC2020_ground_truth/pdc_2020_0010110.csv.gz', 'data/csv/PDC2020_ground_truth/pdc_2020_0010111.csv.gz', 'data/csv/PDC2020_ground_truth/pdc_2020_0011000.csv.gz', 'data/csv/PDC2020_ground_truth/pdc_2020_0011001.csv.gz', 'data/csv/PDC2020_ground_truth/pdc_2020_0011010.csv.gz', 'data/csv/PDC2020_ground_truth/pdc_2020_0011011.csv.gz', 'data/csv/PDC2020_ground_truth/pdc_2020_0011100.csv.gz', 'data/csv/PDC2020_ground_truth/pdc_2020_0011101.csv.gz', 'data/csv/PDC2020_ground_truth/pdc_2020_0011110.csv.gz', 'data/csv/PDC2020_ground_truth/pdc_2020_0011111.csv.gz', 'data/csv/PDC2020_ground_truth/pdc_2020_0100000.csv.gz', 'data/csv/PDC2020_ground_truth/pdc_2020_0100001.csv.gz', 'data/csv/PDC2020_ground_truth/pdc_2020_0100010.csv.gz', 'data/csv/PDC2020_ground_truth/pdc_2020_0100011.csv.gz', 'data/csv/PDC2020_ground_truth/pdc_2020_0100100.csv.gz', 'data/csv/PDC2020_ground_truth/pdc_2020_0100101.csv.gz', 'data/csv/PDC2020_ground_truth/pdc_2020_0100110.csv.gz', 'data/csv/PDC2020_ground_truth/pdc_2020_0100111.csv.gz', 'data/csv/PDC2020_ground_truth/pdc_2020_0101000.csv.gz', 'data/csv/PDC2020_ground_truth/pdc_2020_0101001.csv.gz', 'data/csv/PDC2020_ground_truth/pdc_2020_0101010.csv.gz', 'data/csv/PDC2020_ground_truth/pdc_2020_0101011.csv.gz', 'data/csv/PDC2020_ground_truth/pdc_2020_0101100.csv.gz', 'data/csv/PDC2020_ground_truth/pdc_2020_0101101.csv.gz', 'data/csv/PDC2020_ground_truth/pdc_2020_0101110.csv.gz', 'data/csv/PDC2020_ground_truth/pdc_2020_0101111.csv.gz', 'data/csv/PDC2020_ground_truth/pdc_2020_0110000.csv.gz', 'data/csv/PDC2020_ground_truth/pdc_2020_0110001.csv.gz', 'data/csv/PDC2020_ground_truth/pdc_2020_0110010.csv.gz', 'data/csv/PDC2020_ground_truth/pdc_2020_0110011.csv.gz', 'data/csv/PDC2020_ground_truth/pdc_2020_0110100.csv.gz', 'data/csv/PDC2020_ground_truth/pdc_2020_0110101.csv.gz', 'data/csv/PDC2020_ground_truth/pdc_2020_0110110.csv.gz', 'data/csv/PDC2020_ground_truth/pdc_2020_0110111.csv.gz', 'data/csv/PDC2020_ground_truth/pdc_2020_0111000.csv.gz', 'data/csv/PDC2020_ground_truth/pdc_2020_0111001.csv.gz', 'data/csv/PDC2020_ground_truth/pdc_2020_0111010.csv.gz', 'data/csv/PDC2020_ground_truth/pdc_2020_0111011.csv.gz', 'data/csv/PDC2020_ground_truth/pdc_2020_0111100.csv.gz', 'data/csv/PDC2020_ground_truth/pdc_2020_0111101.csv.gz', 'data/csv/PDC2020_ground_truth/pdc_2020_0111110.csv.gz', 'data/csv/PDC2020_ground_truth/pdc_2020_0111111.csv.gz', 'data/csv/PDC2020_ground_truth/pdc_2020_0200000.csv.gz', 'data/csv/PDC2020_ground_truth/pdc_2020_0200001.csv.gz', 'data/csv/PDC2020_ground_truth/pdc_2020_0200010.csv.gz', 'data/csv/PDC2020_ground_truth/pdc_2020_0200011.csv.gz', 'data/csv/PDC2020_ground_truth/pdc_2020_0200100.csv.gz', 'data/csv/PDC2020_ground_truth/pdc_2020_0200101.csv.gz', 'data/csv/PDC2020_ground_truth/pdc_2020_0200110.csv.gz', 'data/csv/PDC2020_ground_truth/pdc_2020_0200111.csv.gz', 'data/csv/PDC2020_ground_truth/pdc_2020_0201000.csv.gz', 'data/csv/PDC2020_ground_truth/pdc_2020_0201001.csv.gz', 'data/csv/PDC2020_ground_truth/pdc_2020_0201010.csv.gz', 'data/csv/PDC2020_ground_truth/pdc_2020_0201011.csv.gz', 'data/csv/PDC2020_ground_truth/pdc_2020_0201100.csv.gz', 'data/csv/PDC2020_ground_truth/pdc_2020_0201101.csv.gz', 'data/csv/PDC2020_ground_truth/pdc_2020_0201110.csv.gz', 'data/csv/PDC2020_ground_truth/pdc_2020_0201111.csv.gz', 'data/csv/PDC2020_ground_truth/pdc_2020_0210000.csv.gz', 'data/csv/PDC2020_ground_truth/pdc_2020_0210001.csv.gz', 'data/csv/PDC2020_ground_truth/pdc_2020_0210010.csv.gz', 'data/csv/PDC2020_ground_truth/pdc_2020_0210011.csv.gz', 'data/csv/PDC2020_ground_truth/pdc_2020_0210100.csv.gz', 'data/csv/PDC2020_ground_truth/pdc_2020_0210101.csv.gz', 'data/csv/PDC2020_ground_truth/pdc_2020_0210110.csv.gz', 'data/csv/PDC2020_ground_truth/pdc_2020_0210111.csv.gz', 'data/csv/PDC2020_ground_truth/pdc_2020_0211000.csv.gz', 'data/csv/PDC2020_ground_truth/pdc_2020_0211001.csv.gz', 'data/csv/PDC2020_ground_truth/pdc_2020_0211010.csv.gz', 'data/csv/PDC2020_ground_truth/pdc_2020_0211011.csv.gz', 'data/csv/PDC2020_ground_truth/pdc_2020_0211100.csv.gz', 'data/csv/PDC2020_ground_truth/pdc_2020_0211101.csv.gz', 'data/csv/PDC2020_ground_truth/pdc_2020_0211110.csv.gz', 'data/csv/PDC2020_ground_truth/pdc_2020_0211111.csv.gz', 'data/csv/PDC2020_ground_truth/pdc_2020_1000000.csv.gz', 'data/csv/PDC2020_ground_truth/pdc_2020_1000001.csv.gz', 'data/csv/PDC2020_ground_truth/pdc_2020_1000010.csv.gz', 'data/csv/PDC2020_ground_truth/pdc_2020_1000011.csv.gz', 'data/csv/PDC2020_ground_truth/pdc_2020_1000100.csv.gz', 'data/csv/PDC2020_ground_truth/pdc_2020_1000101.csv.gz', 'data/csv/PDC2020_ground_truth/pdc_2020_1000110.csv.gz', 'data/csv/PDC2020_ground_truth/pdc_2020_1000111.csv.gz', 'data/csv/PDC2020_ground_truth/pdc_2020_1001000.csv.gz', 'data/csv/PDC2020_ground_truth/pdc_2020_1001001.csv.gz', 'data/csv/PDC2020_ground_truth/pdc_2020_1001010.csv.gz', 'data/csv/PDC2020_ground_truth/pdc_2020_1001011.csv.gz', 'data/csv/PDC2020_ground_truth/pdc_2020_1001100.csv.gz', 'data/csv/PDC2020_ground_truth/pdc_2020_1001101.csv.gz', 'data/csv/PDC2020_ground_truth/pdc_2020_1001110.csv.gz', 'data/csv/PDC2020_ground_truth/pdc_2020_1001111.csv.gz', 'data/csv/PDC2020_ground_truth/pdc_2020_1010000.csv.gz', 'data/csv/PDC2020_ground_truth/pdc_2020_1010001.csv.gz', 'data/csv/PDC2020_ground_truth/pdc_2020_1010010.csv.gz', 'data/csv/PDC2020_ground_truth/pdc_2020_1010011.csv.gz', 'data/csv/PDC2020_ground_truth/pdc_2020_1010100.csv.gz', 'data/csv/PDC2020_ground_truth/pdc_2020_1010101.csv.gz', 'data/csv/PDC2020_ground_truth/pdc_2020_1010110.csv.gz', 'data/csv/PDC2020_ground_truth/pdc_2020_1010111.csv.gz', 'data/csv/PDC2020_ground_truth/pdc_2020_1011000.csv.gz', 'data/csv/PDC2020_ground_truth/pdc_2020_1011001.csv.gz', 'data/csv/PDC2020_ground_truth/pdc_2020_1011010.csv.gz', 'data/csv/PDC2020_ground_truth/pdc_2020_1011011.csv.gz', 'data/csv/PDC2020_ground_truth/pdc_2020_1011100.csv.gz', 'data/csv/PDC2020_ground_truth/pdc_2020_1011101.csv.gz', 'data/csv/PDC2020_ground_truth/pdc_2020_1011110.csv.gz', 'data/csv/PDC2020_ground_truth/pdc_2020_1011111.csv.gz', 'data/csv/PDC2020_ground_truth/pdc_2020_1100000.csv.gz', 'data/csv/PDC2020_ground_truth/pdc_2020_1100001.csv.gz', 'data/csv/PDC2020_ground_truth/pdc_2020_1100010.csv.gz', 'data/csv/PDC2020_ground_truth/pdc_2020_1100011.csv.gz', 'data/csv/PDC2020_ground_truth/pdc_2020_1100100.csv.gz', 'data/csv/PDC2020_ground_truth/pdc_2020_1100101.csv.gz', 'data/csv/PDC2020_ground_truth/pdc_2020_1100110.csv.gz', 'data/csv/PDC2020_ground_truth/pdc_2020_1100111.csv.gz', 'data/csv/PDC2020_ground_truth/pdc_2020_1101000.csv.gz', 'data/csv/PDC2020_ground_truth/pdc_2020_1101001.csv.gz', 'data/csv/PDC2020_ground_truth/pdc_2020_1101010.csv.gz', 'data/csv/PDC2020_ground_truth/pdc_2020_1101011.csv.gz', 'data/csv/PDC2020_ground_truth/pdc_2020_1101100.csv.gz', 'data/csv/PDC2020_ground_truth/pdc_2020_1101101.csv.gz', 'data/csv/PDC2020_ground_truth/pdc_2020_1101110.csv.gz', 'data/csv/PDC2020_ground_truth/pdc_2020_1101111.csv.gz', 'data/csv/PDC2020_ground_truth/pdc_2020_1110000.csv.gz', 'data/csv/PDC2020_ground_truth/pdc_2020_1110001.csv.gz', 'data/csv/PDC2020_ground_truth/pdc_2020_1110010.csv.gz', 'data/csv/PDC2020_ground_truth/pdc_2020_1110011.csv.gz', 'data/csv/PDC2020_ground_truth/pdc_2020_1110100.csv.gz', 'data/csv/PDC2020_ground_truth/pdc_2020_1110101.csv.gz', 'data/csv/PDC2020_ground_truth/pdc_2020_1110110.csv.gz', 'data/csv/PDC2020_ground_truth/pdc_2020_1110111.csv.gz', 'data/csv/PDC2020_ground_truth/pdc_2020_1111000.csv.gz', 'data/csv/PDC2020_ground_truth/pdc_2020_1111001.csv.gz', 'data/csv/PDC2020_ground_truth/pdc_2020_1111010.csv.gz', 'data/csv/PDC2020_ground_truth/pdc_2020_1111011.csv.gz', 'data/csv/PDC2020_ground_truth/pdc_2020_1111100.csv.gz', 'data/csv/PDC2020_ground_truth/pdc_2020_1111101.csv.gz', 'data/csv/PDC2020_ground_truth/pdc_2020_1111110.csv.gz', 'data/csv/PDC2020_ground_truth/pdc_2020_1111111.csv.gz', 'data/csv/PDC2020_ground_truth/pdc_2020_1200000.csv.gz', 'data/csv/PDC2020_ground_truth/pdc_2020_1200001.csv.gz', 'data/csv/PDC2020_ground_truth/pdc_2020_1200010.csv.gz', 'data/csv/PDC2020_ground_truth/pdc_2020_1200011.csv.gz', 'data/csv/PDC2020_ground_truth/pdc_2020_1200100.csv.gz', 'data/csv/PDC2020_ground_truth/pdc_2020_1200101.csv.gz', 'data/csv/PDC2020_ground_truth/pdc_2020_1200110.csv.gz', 'data/csv/PDC2020_ground_truth/pdc_2020_1200111.csv.gz', 'data/csv/PDC2020_ground_truth/pdc_2020_1201000.csv.gz', 'data/csv/PDC2020_ground_truth/pdc_2020_1201001.csv.gz', 'data/csv/PDC2020_ground_truth/pdc_2020_1201010.csv.gz', 'data/csv/PDC2020_ground_truth/pdc_2020_1201011.csv.gz', 'data/csv/PDC2020_ground_truth/pdc_2020_1201100.csv.gz', 'data/csv/PDC2020_ground_truth/pdc_2020_1201101.csv.gz', 'data/csv/PDC2020_ground_truth/pdc_2020_1201110.csv.gz', 'data/csv/PDC2020_ground_truth/pdc_2020_1201111.csv.gz', 'data/csv/PDC2020_ground_truth/pdc_2020_1210000.csv.gz', 'data/csv/PDC2020_ground_truth/pdc_2020_1210001.csv.gz', 'data/csv/PDC2020_ground_truth/pdc_2020_1210010.csv.gz', 'data/csv/PDC2020_ground_truth/pdc_2020_1210011.csv.gz', 'data/csv/PDC2020_ground_truth/pdc_2020_1210100.csv.gz', 'data/csv/PDC2020_ground_truth/pdc_2020_1210101.csv.gz', 'data/csv/PDC2020_ground_truth/pdc_2020_1210110.csv.gz', 'data/csv/PDC2020_ground_truth/pdc_2020_1210111.csv.gz', 'data/csv/PDC2020_ground_truth/pdc_2020_1211000.csv.gz', 'data/csv/PDC2020_ground_truth/pdc_2020_1211001.csv.gz', 'data/csv/PDC2020_ground_truth/pdc_2020_1211010.csv.gz', 'data/csv/PDC2020_ground_truth/pdc_2020_1211011.csv.gz', 'data/csv/PDC2020_ground_truth/pdc_2020_1211100.csv.gz', 'data/csv/PDC2020_ground_truth/pdc_2020_1211101.csv.gz', 'data/csv/PDC2020_ground_truth/pdc_2020_1211110.csv.gz', 'data/csv/PDC2020_ground_truth/pdc_2020_1211111.csv.gz']\n"
     ]
    },
    {
     "data": {
      "text/html": [
       "<div>\n",
       "<style scoped>\n",
       "    .dataframe tbody tr th:only-of-type {\n",
       "        vertical-align: middle;\n",
       "    }\n",
       "\n",
       "    .dataframe tbody tr th {\n",
       "        vertical-align: top;\n",
       "    }\n",
       "\n",
       "    .dataframe thead th {\n",
       "        text-align: right;\n",
       "    }\n",
       "</style>\n",
       "<table border=\"1\" class=\"dataframe\">\n",
       "  <thead>\n",
       "    <tr style=\"text-align: right;\">\n",
       "      <th></th>\n",
       "      <th>activity</th>\n",
       "      <th>trace_id</th>\n",
       "      <th>case:pdc:costs</th>\n",
       "      <th>normal</th>\n",
       "      <th>event_id</th>\n",
       "    </tr>\n",
       "    <tr>\n",
       "      <th>trace_id</th>\n",
       "      <th></th>\n",
       "      <th></th>\n",
       "      <th></th>\n",
       "      <th></th>\n",
       "      <th></th>\n",
       "    </tr>\n",
       "  </thead>\n",
       "  <tbody>\n",
       "    <tr>\n",
       "      <th>trace 1</th>\n",
       "      <td>###start###</td>\n",
       "      <td>trace 1</td>\n",
       "      <td>2.0</td>\n",
       "      <td>False</td>\n",
       "      <td>0</td>\n",
       "    </tr>\n",
       "    <tr>\n",
       "      <th>trace 1</th>\n",
       "      <td>t11</td>\n",
       "      <td>trace 1</td>\n",
       "      <td>2.0</td>\n",
       "      <td>False</td>\n",
       "      <td>1</td>\n",
       "    </tr>\n",
       "    <tr>\n",
       "      <th>trace 1</th>\n",
       "      <td>t21</td>\n",
       "      <td>trace 1</td>\n",
       "      <td>2.0</td>\n",
       "      <td>False</td>\n",
       "      <td>2</td>\n",
       "    </tr>\n",
       "    <tr>\n",
       "      <th>trace 1</th>\n",
       "      <td>t26</td>\n",
       "      <td>trace 1</td>\n",
       "      <td>2.0</td>\n",
       "      <td>False</td>\n",
       "      <td>3</td>\n",
       "    </tr>\n",
       "    <tr>\n",
       "      <th>trace 1</th>\n",
       "      <td>t35</td>\n",
       "      <td>trace 1</td>\n",
       "      <td>2.0</td>\n",
       "      <td>False</td>\n",
       "      <td>4</td>\n",
       "    </tr>\n",
       "  </tbody>\n",
       "</table>\n",
       "</div>"
      ],
      "text/plain": [
       "             activity trace_id case:pdc:costs normal event_id\n",
       "trace_id                                                     \n",
       "trace 1   ###start###  trace 1            2.0  False        0\n",
       "trace 1           t11  trace 1            2.0  False        1\n",
       "trace 1           t21  trace 1            2.0  False        2\n",
       "trace 1           t26  trace 1            2.0  False        3\n",
       "trace 1           t35  trace 1            2.0  False        4"
      ]
     },
     "execution_count": 36,
     "metadata": {},
     "output_type": "execute_result"
    }
   ],
   "source": [
    "test_path = 'data/csv/PDC2020_ground_truth/'\n",
    "test_log = import_log(test_path)\n",
    "test_log[test_log['normal'] == False].head(5)"
   ]
  },
  {
   "cell_type": "code",
   "execution_count": 37,
   "metadata": {},
   "outputs": [],
   "source": [
    "def process_test(test_log,categorify,cat_names='activity'):\n",
    "    o=PPObj(test_log,procs=categorify,cat_names=cat_names,y_names=cat_names,do_setup=False)\n",
    "    o.process() # map to the same categories as in the training sett\n",
    "    return o\n",
    "\n",
    "\n",
    "def predict_next_step(o,m,ws=5):\n",
    "    wds,idx=partial(windows_fast,ws=ws)(o.xs, o.event_ids)\n",
    "    res=(m(LongTensor(wds).cuda())) #changed to cpu for memory reasons\n",
    "    return res,idx\n",
    "\n",
    "\n",
    "def calc_anomaly_score(res,o,idx):\n",
    "    sm = nn.Softmax(dim=1)\n",
    "    y = o.items['activity'].iloc[idx].values\n",
    "    p = sm(res)\n",
    "    pred = p.max(1)[0]\n",
    "    truth = p[list(range(0, len(y))),y]\n",
    "    a_score = ((pred - truth) / pred).cuda().detach().numpy()\n",
    "    return a_score\n",
    "\n",
    "\n",
    "def get_anomalies(a_score,o,idx,threshhold=0.98):\n",
    "    df=pd.DataFrame(columns=['a_score'])\n",
    "    df['a_score'] = a_score\n",
    "    df['trace_id'] = o.items.iloc[idx]['trace_id'].values\n",
    "    df['normal'] = o.items.iloc[idx]['normal'].values\n",
    "    # print(df.head(50)) # THIS DF CONTAINS ALL THE ANOMALY SCORES\n",
    "\n",
    "    y_true = (df.loc[df.trace_id.drop_duplicates().index].normal==False).tolist()\n",
    "    cases = df.loc[df.trace_id.drop_duplicates().index].trace_id.tolist()\n",
    "    anomalies = set(list(df.loc[df['a_score'] > threshhold]['trace_id']))\n",
    "    y_pred=[case in anomalies for case in cases]\n",
    "    return y_pred, y_true"
   ]
  },
  {
   "cell_type": "code",
   "execution_count": null,
   "metadata": {},
   "outputs": [],
   "source": [
    "# split test_log into 20 because of memory issues\n",
    "y_pred, y_true = [], []\n",
    "num_traces = len(test_log.trace_id.unique())\n",
    "for i in range(50):\n",
    "    print(\"round \", i)\n",
    "\n",
    "    lower_bound = int(i * num_traces / 50)\n",
    "    upper_bound = int((i + 1) * num_traces / 50)\n",
    "\n",
    "    condition = (test_log['trace_id'].str.split(' ').str[1].astype(int) > lower_bound) & \\\n",
    "                (test_log['trace_id'].str.split(' ').str[1].astype(int) < upper_bound)\n",
    "\n",
    "    test_log_part = test_log[condition]\n",
    "    o_test = process_test(test_log_part,categorify)\n",
    "    res,idx = predict_next_step(o_test,m)\n",
    "    a_score = calc_anomaly_score(res,o_test,idx)\n",
    "    y_pred_part, y_true_part = get_anomalies(a_score,o_test,idx)\n",
    "    y_pred += y_pred_part\n",
    "    y_true += y_true_part"
   ]
  },
  {
   "cell_type": "code",
   "execution_count": 41,
   "metadata": {},
   "outputs": [
    {
     "name": "stderr",
     "output_type": "stream",
     "text": [
      "/lv_local/home/romh/DAPNN/dapnn/dapnn/data_processing.py:208: DeprecationWarning: is_categorical_dtype is deprecated and will be removed in a future version. Use isinstance(dtype, pd.CategoricalDtype) instead\n",
      "  if not is_categorical_dtype(c):\n"
     ]
    },
    {
     "ename": "RuntimeError",
     "evalue": "CUDA out of memory. Tried to allocate 206.00 MiB (GPU 0; 10.91 GiB total capacity; 6.58 MiB already allocated; 16.38 MiB free; 14.00 MiB reserved in total by PyTorch) If reserved memory is >> allocated memory try setting max_split_size_mb to avoid fragmentation.  See documentation for Memory Management and PYTORCH_CUDA_ALLOC_CONF",
     "output_type": "error",
     "traceback": [
      "\u001b[0;31m---------------------------------------------------------------------------\u001b[0m",
      "\u001b[0;31mRuntimeError\u001b[0m                              Traceback (most recent call last)",
      "Cell \u001b[0;32mIn[41], line 2\u001b[0m\n\u001b[1;32m      1\u001b[0m o \u001b[38;5;241m=\u001b[39m process_test(test_log,categorify)\n\u001b[0;32m----> 2\u001b[0m nsp, idx \u001b[38;5;241m=\u001b[39m \u001b[43mpredict_next_step\u001b[49m\u001b[43m(\u001b[49m\u001b[43mo\u001b[49m\u001b[43m,\u001b[49m\u001b[43m \u001b[49m\u001b[43mm\u001b[49m\u001b[43m)\u001b[49m\n\u001b[1;32m      4\u001b[0m anomaly_score \u001b[38;5;241m=\u001b[39m calc_anomaly_score(nsp, o, idx)\n\u001b[1;32m      5\u001b[0m y_pred, y_true \u001b[38;5;241m=\u001b[39m get_anomalies(anomaly_score,o,idx)\n",
      "Cell \u001b[0;32mIn[37], line 9\u001b[0m, in \u001b[0;36mpredict_next_step\u001b[0;34m(o, m, ws)\u001b[0m\n\u001b[1;32m      7\u001b[0m \u001b[38;5;28;01mdef\u001b[39;00m \u001b[38;5;21mpredict_next_step\u001b[39m(o,m,ws\u001b[38;5;241m=\u001b[39m\u001b[38;5;241m5\u001b[39m):\n\u001b[1;32m      8\u001b[0m     wds,idx\u001b[38;5;241m=\u001b[39mpartial(windows_fast,ws\u001b[38;5;241m=\u001b[39mws)(o\u001b[38;5;241m.\u001b[39mxs, o\u001b[38;5;241m.\u001b[39mevent_ids)\n\u001b[0;32m----> 9\u001b[0m     res\u001b[38;5;241m=\u001b[39m(m(\u001b[43mLongTensor\u001b[49m\u001b[43m(\u001b[49m\u001b[43mwds\u001b[49m\u001b[43m)\u001b[49m\u001b[38;5;241;43m.\u001b[39;49m\u001b[43mcuda\u001b[49m\u001b[43m(\u001b[49m\u001b[43m)\u001b[49m)) \u001b[38;5;66;03m#changed to cpu for memory reasons\u001b[39;00m\n\u001b[1;32m     10\u001b[0m     \u001b[38;5;28;01mreturn\u001b[39;00m res,idx\n",
      "\u001b[0;31mRuntimeError\u001b[0m: CUDA out of memory. Tried to allocate 206.00 MiB (GPU 0; 10.91 GiB total capacity; 6.58 MiB already allocated; 16.38 MiB free; 14.00 MiB reserved in total by PyTorch) If reserved memory is >> allocated memory try setting max_split_size_mb to avoid fragmentation.  See documentation for Memory Management and PYTORCH_CUDA_ALLOC_CONF"
     ]
    }
   ],
   "source": [
    "o = process_test(test_log,categorify)\n",
    "nsp, idx = predict_next_step(o, m)\n",
    "\n",
    "anomaly_score = calc_anomaly_score(nsp, o, idx)\n",
    "y_pred, y_true = get_anomalies(anomaly_score,o,idx)"
   ]
  },
  {
   "cell_type": "code",
   "execution_count": null,
   "metadata": {},
   "outputs": [],
   "source": [
    "print(f'F1 score: {f1_score(y_true, y_pred)}')\n",
    "print(f'Accuracy score: {accuracy_score(y_true, y_pred)}')\n",
    "print(f'Precision score: {precision_score(y_true, y_pred)}')\n",
    "print(f'Recall score: {recall_score(y_true, y_pred)}')"
   ]
  }
 ],
 "metadata": {
  "kernelspec": {
   "display_name": "Python 3 (ipykernel)",
   "language": "python",
   "name": "python3"
  },
  "language_info": {
   "codemirror_mode": {
    "name": "ipython",
    "version": 3
   },
   "file_extension": ".py",
   "mimetype": "text/x-python",
   "name": "python",
   "nbconvert_exporter": "python",
   "pygments_lexer": "ipython3",
   "version": "3.9.18"
  }
 },
 "nbformat": 4,
 "nbformat_minor": 4
}
