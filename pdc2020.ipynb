{
 "cells": [
  {
   "cell_type": "code",
   "execution_count": 1,
   "metadata": {},
   "outputs": [],
   "source": [
    "from dapnn.imports import *\n",
    "from dapnn.data_processing import *\n",
    "import seaborn as sns\n",
    "import matplotlib.pyplot as plt\n",
    "import numpy as np\n",
    "import random\n",
    "import torch\n",
    "\n",
    "import warnings\n",
    "warnings.filterwarnings(action='once')"
   ]
  },
  {
   "cell_type": "code",
   "execution_count": 2,
   "metadata": {},
   "outputs": [],
   "source": [
    "# Set the random seed for reproducible results\n",
    "def seed_everything(seed=42):\n",
    "    random.seed(seed)\n",
    "    os.environ['PYTHONHASHSEED'] = str(seed)\n",
    "    np.random.seed(seed)\n",
    "    torch.manual_seed(seed)\n",
    "\n",
    "seed_everything()"
   ]
  },
  {
   "cell_type": "markdown",
   "metadata": {},
   "source": [
    "keeping only the traces in the log that will create the normal model"
   ]
  },
  {
   "cell_type": "code",
   "execution_count": 3,
   "metadata": {},
   "outputs": [
    {
     "name": "stdout",
     "output_type": "stream",
     "text": [
      "['data/csv/PDC2020_training/pdc_2020_0000000.csv.gz', 'data/csv/PDC2020_training/pdc_2020_0000001.csv.gz', 'data/csv/PDC2020_training/pdc_2020_0000010.csv.gz', 'data/csv/PDC2020_training/pdc_2020_0000011.csv.gz', 'data/csv/PDC2020_training/pdc_2020_0000100.csv.gz', 'data/csv/PDC2020_training/pdc_2020_0000101.csv.gz', 'data/csv/PDC2020_training/pdc_2020_0000110.csv.gz', 'data/csv/PDC2020_training/pdc_2020_0000111.csv.gz', 'data/csv/PDC2020_training/pdc_2020_0001000.csv.gz', 'data/csv/PDC2020_training/pdc_2020_0001001.csv.gz', 'data/csv/PDC2020_training/pdc_2020_0001010.csv.gz', 'data/csv/PDC2020_training/pdc_2020_0001011.csv.gz', 'data/csv/PDC2020_training/pdc_2020_0001100.csv.gz', 'data/csv/PDC2020_training/pdc_2020_0001101.csv.gz', 'data/csv/PDC2020_training/pdc_2020_0001110.csv.gz', 'data/csv/PDC2020_training/pdc_2020_0001111.csv.gz', 'data/csv/PDC2020_training/pdc_2020_0010000.csv.gz', 'data/csv/PDC2020_training/pdc_2020_0010001.csv.gz', 'data/csv/PDC2020_training/pdc_2020_0010010.csv.gz', 'data/csv/PDC2020_training/pdc_2020_0010011.csv.gz', 'data/csv/PDC2020_training/pdc_2020_0010100.csv.gz', 'data/csv/PDC2020_training/pdc_2020_0010101.csv.gz', 'data/csv/PDC2020_training/pdc_2020_0010110.csv.gz', 'data/csv/PDC2020_training/pdc_2020_0010111.csv.gz', 'data/csv/PDC2020_training/pdc_2020_0011000.csv.gz', 'data/csv/PDC2020_training/pdc_2020_0011001.csv.gz', 'data/csv/PDC2020_training/pdc_2020_0011010.csv.gz', 'data/csv/PDC2020_training/pdc_2020_0011011.csv.gz', 'data/csv/PDC2020_training/pdc_2020_0011100.csv.gz', 'data/csv/PDC2020_training/pdc_2020_0011101.csv.gz', 'data/csv/PDC2020_training/pdc_2020_0011110.csv.gz', 'data/csv/PDC2020_training/pdc_2020_0011111.csv.gz', 'data/csv/PDC2020_training/pdc_2020_0100000.csv.gz', 'data/csv/PDC2020_training/pdc_2020_0100001.csv.gz', 'data/csv/PDC2020_training/pdc_2020_0100010.csv.gz', 'data/csv/PDC2020_training/pdc_2020_0100011.csv.gz', 'data/csv/PDC2020_training/pdc_2020_0100100.csv.gz', 'data/csv/PDC2020_training/pdc_2020_0100101.csv.gz', 'data/csv/PDC2020_training/pdc_2020_0100110.csv.gz', 'data/csv/PDC2020_training/pdc_2020_0100111.csv.gz', 'data/csv/PDC2020_training/pdc_2020_0101000.csv.gz', 'data/csv/PDC2020_training/pdc_2020_0101001.csv.gz', 'data/csv/PDC2020_training/pdc_2020_0101010.csv.gz', 'data/csv/PDC2020_training/pdc_2020_0101011.csv.gz', 'data/csv/PDC2020_training/pdc_2020_0101100.csv.gz', 'data/csv/PDC2020_training/pdc_2020_0101101.csv.gz', 'data/csv/PDC2020_training/pdc_2020_0101110.csv.gz', 'data/csv/PDC2020_training/pdc_2020_0101111.csv.gz', 'data/csv/PDC2020_training/pdc_2020_0110000.csv.gz', 'data/csv/PDC2020_training/pdc_2020_0110001.csv.gz', 'data/csv/PDC2020_training/pdc_2020_0110010.csv.gz', 'data/csv/PDC2020_training/pdc_2020_0110011.csv.gz', 'data/csv/PDC2020_training/pdc_2020_0110100.csv.gz', 'data/csv/PDC2020_training/pdc_2020_0110101.csv.gz', 'data/csv/PDC2020_training/pdc_2020_0110110.csv.gz', 'data/csv/PDC2020_training/pdc_2020_0110111.csv.gz', 'data/csv/PDC2020_training/pdc_2020_0111000.csv.gz', 'data/csv/PDC2020_training/pdc_2020_0111001.csv.gz', 'data/csv/PDC2020_training/pdc_2020_0111010.csv.gz', 'data/csv/PDC2020_training/pdc_2020_0111011.csv.gz', 'data/csv/PDC2020_training/pdc_2020_0111100.csv.gz', 'data/csv/PDC2020_training/pdc_2020_0111101.csv.gz', 'data/csv/PDC2020_training/pdc_2020_0111110.csv.gz', 'data/csv/PDC2020_training/pdc_2020_0111111.csv.gz', 'data/csv/PDC2020_training/pdc_2020_0200000.csv.gz', 'data/csv/PDC2020_training/pdc_2020_0200001.csv.gz', 'data/csv/PDC2020_training/pdc_2020_0200010.csv.gz', 'data/csv/PDC2020_training/pdc_2020_0200011.csv.gz', 'data/csv/PDC2020_training/pdc_2020_0200100.csv.gz', 'data/csv/PDC2020_training/pdc_2020_0200101.csv.gz', 'data/csv/PDC2020_training/pdc_2020_0200110.csv.gz', 'data/csv/PDC2020_training/pdc_2020_0200111.csv.gz', 'data/csv/PDC2020_training/pdc_2020_0201000.csv.gz', 'data/csv/PDC2020_training/pdc_2020_0201001.csv.gz', 'data/csv/PDC2020_training/pdc_2020_0201010.csv.gz', 'data/csv/PDC2020_training/pdc_2020_0201011.csv.gz', 'data/csv/PDC2020_training/pdc_2020_0201100.csv.gz', 'data/csv/PDC2020_training/pdc_2020_0201101.csv.gz', 'data/csv/PDC2020_training/pdc_2020_0201110.csv.gz', 'data/csv/PDC2020_training/pdc_2020_0201111.csv.gz', 'data/csv/PDC2020_training/pdc_2020_0210000.csv.gz', 'data/csv/PDC2020_training/pdc_2020_0210001.csv.gz', 'data/csv/PDC2020_training/pdc_2020_0210010.csv.gz', 'data/csv/PDC2020_training/pdc_2020_0210011.csv.gz', 'data/csv/PDC2020_training/pdc_2020_0210100.csv.gz', 'data/csv/PDC2020_training/pdc_2020_0210101.csv.gz', 'data/csv/PDC2020_training/pdc_2020_0210110.csv.gz', 'data/csv/PDC2020_training/pdc_2020_0210111.csv.gz', 'data/csv/PDC2020_training/pdc_2020_0211000.csv.gz', 'data/csv/PDC2020_training/pdc_2020_0211001.csv.gz', 'data/csv/PDC2020_training/pdc_2020_0211010.csv.gz', 'data/csv/PDC2020_training/pdc_2020_0211011.csv.gz', 'data/csv/PDC2020_training/pdc_2020_0211100.csv.gz', 'data/csv/PDC2020_training/pdc_2020_0211101.csv.gz', 'data/csv/PDC2020_training/pdc_2020_0211110.csv.gz', 'data/csv/PDC2020_training/pdc_2020_0211111.csv.gz', 'data/csv/PDC2020_training/pdc_2020_1000000.csv.gz', 'data/csv/PDC2020_training/pdc_2020_1000001.csv.gz', 'data/csv/PDC2020_training/pdc_2020_1000010.csv.gz', 'data/csv/PDC2020_training/pdc_2020_1000011.csv.gz', 'data/csv/PDC2020_training/pdc_2020_1000100.csv.gz', 'data/csv/PDC2020_training/pdc_2020_1000101.csv.gz', 'data/csv/PDC2020_training/pdc_2020_1000110.csv.gz', 'data/csv/PDC2020_training/pdc_2020_1000111.csv.gz', 'data/csv/PDC2020_training/pdc_2020_1001000.csv.gz', 'data/csv/PDC2020_training/pdc_2020_1001001.csv.gz', 'data/csv/PDC2020_training/pdc_2020_1001010.csv.gz', 'data/csv/PDC2020_training/pdc_2020_1001011.csv.gz', 'data/csv/PDC2020_training/pdc_2020_1001100.csv.gz', 'data/csv/PDC2020_training/pdc_2020_1001101.csv.gz', 'data/csv/PDC2020_training/pdc_2020_1001110.csv.gz', 'data/csv/PDC2020_training/pdc_2020_1001111.csv.gz', 'data/csv/PDC2020_training/pdc_2020_1010000.csv.gz', 'data/csv/PDC2020_training/pdc_2020_1010001.csv.gz', 'data/csv/PDC2020_training/pdc_2020_1010010.csv.gz', 'data/csv/PDC2020_training/pdc_2020_1010011.csv.gz', 'data/csv/PDC2020_training/pdc_2020_1010100.csv.gz', 'data/csv/PDC2020_training/pdc_2020_1010101.csv.gz', 'data/csv/PDC2020_training/pdc_2020_1010110.csv.gz', 'data/csv/PDC2020_training/pdc_2020_1010111.csv.gz', 'data/csv/PDC2020_training/pdc_2020_1011000.csv.gz', 'data/csv/PDC2020_training/pdc_2020_1011001.csv.gz', 'data/csv/PDC2020_training/pdc_2020_1011010.csv.gz', 'data/csv/PDC2020_training/pdc_2020_1011011.csv.gz', 'data/csv/PDC2020_training/pdc_2020_1011100.csv.gz', 'data/csv/PDC2020_training/pdc_2020_1011101.csv.gz', 'data/csv/PDC2020_training/pdc_2020_1011110.csv.gz', 'data/csv/PDC2020_training/pdc_2020_1011111.csv.gz', 'data/csv/PDC2020_training/pdc_2020_1100000.csv.gz', 'data/csv/PDC2020_training/pdc_2020_1100001.csv.gz', 'data/csv/PDC2020_training/pdc_2020_1100010.csv.gz', 'data/csv/PDC2020_training/pdc_2020_1100011.csv.gz', 'data/csv/PDC2020_training/pdc_2020_1100100.csv.gz', 'data/csv/PDC2020_training/pdc_2020_1100101.csv.gz', 'data/csv/PDC2020_training/pdc_2020_1100110.csv.gz', 'data/csv/PDC2020_training/pdc_2020_1100111.csv.gz', 'data/csv/PDC2020_training/pdc_2020_1101000.csv.gz', 'data/csv/PDC2020_training/pdc_2020_1101001.csv.gz', 'data/csv/PDC2020_training/pdc_2020_1101010.csv.gz', 'data/csv/PDC2020_training/pdc_2020_1101011.csv.gz', 'data/csv/PDC2020_training/pdc_2020_1101100.csv.gz', 'data/csv/PDC2020_training/pdc_2020_1101101.csv.gz', 'data/csv/PDC2020_training/pdc_2020_1101110.csv.gz', 'data/csv/PDC2020_training/pdc_2020_1101111.csv.gz', 'data/csv/PDC2020_training/pdc_2020_1110000.csv.gz', 'data/csv/PDC2020_training/pdc_2020_1110001.csv.gz', 'data/csv/PDC2020_training/pdc_2020_1110010.csv.gz', 'data/csv/PDC2020_training/pdc_2020_1110011.csv.gz', 'data/csv/PDC2020_training/pdc_2020_1110100.csv.gz', 'data/csv/PDC2020_training/pdc_2020_1110101.csv.gz', 'data/csv/PDC2020_training/pdc_2020_1110110.csv.gz', 'data/csv/PDC2020_training/pdc_2020_1110111.csv.gz', 'data/csv/PDC2020_training/pdc_2020_1111000.csv.gz', 'data/csv/PDC2020_training/pdc_2020_1111001.csv.gz', 'data/csv/PDC2020_training/pdc_2020_1111010.csv.gz', 'data/csv/PDC2020_training/pdc_2020_1111011.csv.gz', 'data/csv/PDC2020_training/pdc_2020_1111100.csv.gz', 'data/csv/PDC2020_training/pdc_2020_1111101.csv.gz', 'data/csv/PDC2020_training/pdc_2020_1111110.csv.gz', 'data/csv/PDC2020_training/pdc_2020_1111111.csv.gz', 'data/csv/PDC2020_training/pdc_2020_1200000.csv.gz', 'data/csv/PDC2020_training/pdc_2020_1200001.csv.gz', 'data/csv/PDC2020_training/pdc_2020_1200010.csv.gz', 'data/csv/PDC2020_training/pdc_2020_1200011.csv.gz', 'data/csv/PDC2020_training/pdc_2020_1200100.csv.gz', 'data/csv/PDC2020_training/pdc_2020_1200101.csv.gz', 'data/csv/PDC2020_training/pdc_2020_1200110.csv.gz', 'data/csv/PDC2020_training/pdc_2020_1200111.csv.gz', 'data/csv/PDC2020_training/pdc_2020_1201000.csv.gz', 'data/csv/PDC2020_training/pdc_2020_1201001.csv.gz', 'data/csv/PDC2020_training/pdc_2020_1201010.csv.gz', 'data/csv/PDC2020_training/pdc_2020_1201011.csv.gz', 'data/csv/PDC2020_training/pdc_2020_1201100.csv.gz', 'data/csv/PDC2020_training/pdc_2020_1201101.csv.gz', 'data/csv/PDC2020_training/pdc_2020_1201110.csv.gz', 'data/csv/PDC2020_training/pdc_2020_1201111.csv.gz', 'data/csv/PDC2020_training/pdc_2020_1210000.csv.gz', 'data/csv/PDC2020_training/pdc_2020_1210001.csv.gz', 'data/csv/PDC2020_training/pdc_2020_1210010.csv.gz', 'data/csv/PDC2020_training/pdc_2020_1210011.csv.gz', 'data/csv/PDC2020_training/pdc_2020_1210100.csv.gz', 'data/csv/PDC2020_training/pdc_2020_1210101.csv.gz', 'data/csv/PDC2020_training/pdc_2020_1210110.csv.gz', 'data/csv/PDC2020_training/pdc_2020_1210111.csv.gz', 'data/csv/PDC2020_training/pdc_2020_1211000.csv.gz', 'data/csv/PDC2020_training/pdc_2020_1211001.csv.gz', 'data/csv/PDC2020_training/pdc_2020_1211010.csv.gz', 'data/csv/PDC2020_training/pdc_2020_1211011.csv.gz', 'data/csv/PDC2020_training/pdc_2020_1211100.csv.gz', 'data/csv/PDC2020_training/pdc_2020_1211101.csv.gz', 'data/csv/PDC2020_training/pdc_2020_1211110.csv.gz', 'data/csv/PDC2020_training/pdc_2020_1211111.csv.gz']\n"
     ]
    },
    {
     "data": {
      "text/html": [
       "<div>\n",
       "<style scoped>\n",
       "    .dataframe tbody tr th:only-of-type {\n",
       "        vertical-align: middle;\n",
       "    }\n",
       "\n",
       "    .dataframe tbody tr th {\n",
       "        vertical-align: top;\n",
       "    }\n",
       "\n",
       "    .dataframe thead th {\n",
       "        text-align: right;\n",
       "    }\n",
       "</style>\n",
       "<table border=\"1\" class=\"dataframe\">\n",
       "  <thead>\n",
       "    <tr style=\"text-align: right;\">\n",
       "      <th></th>\n",
       "      <th>activity</th>\n",
       "      <th>trace_id</th>\n",
       "      <th>event_id</th>\n",
       "    </tr>\n",
       "    <tr>\n",
       "      <th>trace_id</th>\n",
       "      <th></th>\n",
       "      <th></th>\n",
       "      <th></th>\n",
       "    </tr>\n",
       "  </thead>\n",
       "  <tbody>\n",
       "    <tr>\n",
       "      <th>trace 1</th>\n",
       "      <td>###start###</td>\n",
       "      <td>trace 1</td>\n",
       "      <td>0</td>\n",
       "    </tr>\n",
       "    <tr>\n",
       "      <th>trace 1</th>\n",
       "      <td>t11</td>\n",
       "      <td>trace 1</td>\n",
       "      <td>1</td>\n",
       "    </tr>\n",
       "    <tr>\n",
       "      <th>trace 1</th>\n",
       "      <td>t26</td>\n",
       "      <td>trace 1</td>\n",
       "      <td>2</td>\n",
       "    </tr>\n",
       "    <tr>\n",
       "      <th>trace 1</th>\n",
       "      <td>t21</td>\n",
       "      <td>trace 1</td>\n",
       "      <td>3</td>\n",
       "    </tr>\n",
       "    <tr>\n",
       "      <th>trace 1</th>\n",
       "      <td>t32</td>\n",
       "      <td>trace 1</td>\n",
       "      <td>4</td>\n",
       "    </tr>\n",
       "  </tbody>\n",
       "</table>\n",
       "</div>"
      ],
      "text/plain": [
       "             activity trace_id event_id\n",
       "trace_id                               \n",
       "trace 1   ###start###  trace 1        0\n",
       "trace 1           t11  trace 1        1\n",
       "trace 1           t26  trace 1        2\n",
       "trace 1           t21  trace 1        3\n",
       "trace 1           t32  trace 1        4"
      ]
     },
     "execution_count": 3,
     "metadata": {},
     "output_type": "execute_result"
    }
   ],
   "source": [
    "log_path='data/csv/PDC2020_training/'\n",
    "log = import_log(log_path)\n",
    "\n",
    "# num_traces = len(log['trace_id'].unique())\n",
    "# ratio = 0.8\n",
    "# traces_for_normal_model = int(num_traces * ratio)\n",
    "\n",
    "# log = log[log['trace_id'].str.split(' ').str[1].astype(int) < traces_for_normal_model]\n",
    "log.head(5)"
   ]
  },
  {
   "cell_type": "code",
   "execution_count": 4,
   "metadata": {},
   "outputs": [],
   "source": [
    "def training_dl(log,cat_names='activity',seed=45,ws=5,bs=32):\n",
    "    categorify=Categorify()\n",
    "    o=PPObj(log,procs=categorify,cat_names=cat_names,y_names=cat_names,splits=split_traces(log,test_seed=seed,validation_seed=seed))\n",
    "    dls=o.get_dls(windows=partial(windows_fast,ws=ws),bs=bs)\n",
    "    return o,dls,categorify"
   ]
  },
  {
   "cell_type": "code",
   "execution_count": 5,
   "metadata": {},
   "outputs": [],
   "source": [
    "class ControlFlowModel(torch.nn.Module) :\n",
    "    def __init__(self, o) :\n",
    "        super().__init__()\n",
    "        hidden=25\n",
    "        vocab_act=len(o.procs.categorify['activity'])\n",
    "        emb_dim_act = int(np.sqrt(vocab_act))+1\n",
    "\n",
    "        self.emb_act = nn.Embedding(vocab_act,emb_dim_act)\n",
    "        \n",
    "        self.lstm_act = nn.LSTM(emb_dim_act, hidden, batch_first=True, num_layers=2)\n",
    "\n",
    "        self.linear_act = nn.Linear(hidden, vocab_act)\n",
    "\n",
    "    def forward(self, xcat):\n",
    "        xcat=xcat[:,0]\n",
    "        x_act=xcat\n",
    "        x_act = self.emb_act(x_act)\n",
    "        x_act,_ = self.lstm_act(x_act)\n",
    "        x_act = x_act[:,-1]\n",
    "        x_act = self.linear_act(x_act)\n",
    "        return x_act"
   ]
  },
  {
   "cell_type": "code",
   "execution_count": 6,
   "metadata": {},
   "outputs": [],
   "source": [
    "class HideOutput:\n",
    "    'A utility function that hides all outputs in a context'\n",
    "    def __enter__(self):\n",
    "        self._original_stdout = sys.stdout\n",
    "        sys.stdout = open(os.devnull, 'w')\n",
    "\n",
    "    def __exit__(self, exc_type, exc_val, exc_tb):\n",
    "        sys.stdout.close()\n",
    "        sys.stdout = self._original_stdout\n",
    "\n",
    "\n",
    "def training_loop(learn,epoch,print_output,lr_find,fixed_learning_rate=0.01):\n",
    "    '''\n",
    "    Basic training loop that uses learning rate finder and one cycle training. \n",
    "    See fastai docs for more information\n",
    "    '''\n",
    "    if lr_find:\n",
    "        lr=np.median([learn.lr_find(show_plot=print_output)[0] for i in range(5)])\n",
    "        learn.fit_one_cycle(epoch,float(lr))\n",
    "    else: learn.fit(epoch,fixed_learning_rate)\n",
    "\n",
    "\n",
    "def train_validate(dls,m,metrics=accuracy,loss=F.cross_entropy,epoch=20,print_output=True,model_dir=\".\",lr_find=True,\n",
    "                   patience=5,min_delta=0.005,show_plot=True,store_path='tmp',model_name='.model'):\n",
    "    '''\n",
    "    Trains a model on the training set with early stopping based on the validation loss.\n",
    "    Afterwards, applies it to the test set.\n",
    "    '''\n",
    "    cbs = [\n",
    "      EarlyStoppingCallback(monitor='valid_loss',min_delta=min_delta, patience=patience),\n",
    "      SaveModelCallback(fname=model_name),\n",
    "      ]\n",
    "    learn=Learner(dls, m, path=store_path, model_dir=model_dir, loss_func=loss ,metrics=metrics,cbs=cbs)\n",
    "\n",
    "    if print_output:\n",
    "        training_loop(learn,epoch,show_plot,lr_find=lr_find)\n",
    "        return learn.validate(dl=dls[2])\n",
    "    else:\n",
    "        with HideOutput(),learn.no_bar(),learn.no_logging():\n",
    "            training_loop(learn,epoch,show_plot,lr_find=lr_find)\n",
    "            return learn.validate(dl=dls[2])"
   ]
  },
  {
   "cell_type": "code",
   "execution_count": 7,
   "metadata": {},
   "outputs": [],
   "source": [
    "squeeze_cross_entropy = lambda x,y:F.cross_entropy(x,y[0])\n",
    "squeeze_accuracy =lambda x,y:accuracy(x,y[0])"
   ]
  },
  {
   "cell_type": "code",
   "execution_count": 8,
   "metadata": {},
   "outputs": [
    {
     "name": "stderr",
     "output_type": "stream",
     "text": [
      "/lv_local/home/romh/DAPNN/dapnn/dapnn/data_processing.py:208: DeprecationWarning: is_categorical_dtype is deprecated and will be removed in a future version. Use isinstance(dtype, pd.CategoricalDtype) instead\n",
      "  if not is_categorical_dtype(c):\n"
     ]
    }
   ],
   "source": [
    "o,dls,categorify = training_dl(log)"
   ]
  },
  {
   "cell_type": "code",
   "execution_count": 9,
   "metadata": {},
   "outputs": [
    {
     "data": {
      "text/html": [
       "\n",
       "<style>\n",
       "    /* Turns off some styling */\n",
       "    progress {\n",
       "        /* gets rid of default border in Firefox and Opera. */\n",
       "        border: none;\n",
       "        /* Needs to be in here for Safari polyfill so background images work as expected. */\n",
       "        background-size: auto;\n",
       "    }\n",
       "    progress:not([value]), progress:not([value])::-webkit-progress-bar {\n",
       "        background: repeating-linear-gradient(45deg, #7e7e7e, #7e7e7e 10px, #5c5c5c 10px, #5c5c5c 20px);\n",
       "    }\n",
       "    .progress-bar-interrupted, .progress-bar-interrupted::-webkit-progress-bar {\n",
       "        background: #F44336;\n",
       "    }\n",
       "</style>\n"
      ],
      "text/plain": [
       "<IPython.core.display.HTML object>"
      ]
     },
     "metadata": {},
     "output_type": "display_data"
    },
    {
     "data": {
      "text/html": [],
      "text/plain": [
       "<IPython.core.display.HTML object>"
      ]
     },
     "metadata": {},
     "output_type": "display_data"
    },
    {
     "data": {
      "text/html": [
       "\n",
       "<style>\n",
       "    /* Turns off some styling */\n",
       "    progress {\n",
       "        /* gets rid of default border in Firefox and Opera. */\n",
       "        border: none;\n",
       "        /* Needs to be in here for Safari polyfill so background images work as expected. */\n",
       "        background-size: auto;\n",
       "    }\n",
       "    progress:not([value]), progress:not([value])::-webkit-progress-bar {\n",
       "        background: repeating-linear-gradient(45deg, #7e7e7e, #7e7e7e 10px, #5c5c5c 10px, #5c5c5c 20px);\n",
       "    }\n",
       "    .progress-bar-interrupted, .progress-bar-interrupted::-webkit-progress-bar {\n",
       "        background: #F44336;\n",
       "    }\n",
       "</style>\n"
      ],
      "text/plain": [
       "<IPython.core.display.HTML object>"
      ]
     },
     "metadata": {},
     "output_type": "display_data"
    },
    {
     "data": {
      "text/html": [],
      "text/plain": [
       "<IPython.core.display.HTML object>"
      ]
     },
     "metadata": {},
     "output_type": "display_data"
    },
    {
     "data": {
      "text/html": [
       "\n",
       "<style>\n",
       "    /* Turns off some styling */\n",
       "    progress {\n",
       "        /* gets rid of default border in Firefox and Opera. */\n",
       "        border: none;\n",
       "        /* Needs to be in here for Safari polyfill so background images work as expected. */\n",
       "        background-size: auto;\n",
       "    }\n",
       "    progress:not([value]), progress:not([value])::-webkit-progress-bar {\n",
       "        background: repeating-linear-gradient(45deg, #7e7e7e, #7e7e7e 10px, #5c5c5c 10px, #5c5c5c 20px);\n",
       "    }\n",
       "    .progress-bar-interrupted, .progress-bar-interrupted::-webkit-progress-bar {\n",
       "        background: #F44336;\n",
       "    }\n",
       "</style>\n"
      ],
      "text/plain": [
       "<IPython.core.display.HTML object>"
      ]
     },
     "metadata": {},
     "output_type": "display_data"
    },
    {
     "data": {
      "text/html": [],
      "text/plain": [
       "<IPython.core.display.HTML object>"
      ]
     },
     "metadata": {},
     "output_type": "display_data"
    },
    {
     "data": {
      "text/html": [
       "\n",
       "<style>\n",
       "    /* Turns off some styling */\n",
       "    progress {\n",
       "        /* gets rid of default border in Firefox and Opera. */\n",
       "        border: none;\n",
       "        /* Needs to be in here for Safari polyfill so background images work as expected. */\n",
       "        background-size: auto;\n",
       "    }\n",
       "    progress:not([value]), progress:not([value])::-webkit-progress-bar {\n",
       "        background: repeating-linear-gradient(45deg, #7e7e7e, #7e7e7e 10px, #5c5c5c 10px, #5c5c5c 20px);\n",
       "    }\n",
       "    .progress-bar-interrupted, .progress-bar-interrupted::-webkit-progress-bar {\n",
       "        background: #F44336;\n",
       "    }\n",
       "</style>\n"
      ],
      "text/plain": [
       "<IPython.core.display.HTML object>"
      ]
     },
     "metadata": {},
     "output_type": "display_data"
    },
    {
     "data": {
      "text/html": [],
      "text/plain": [
       "<IPython.core.display.HTML object>"
      ]
     },
     "metadata": {},
     "output_type": "display_data"
    },
    {
     "data": {
      "text/html": [
       "\n",
       "<style>\n",
       "    /* Turns off some styling */\n",
       "    progress {\n",
       "        /* gets rid of default border in Firefox and Opera. */\n",
       "        border: none;\n",
       "        /* Needs to be in here for Safari polyfill so background images work as expected. */\n",
       "        background-size: auto;\n",
       "    }\n",
       "    progress:not([value]), progress:not([value])::-webkit-progress-bar {\n",
       "        background: repeating-linear-gradient(45deg, #7e7e7e, #7e7e7e 10px, #5c5c5c 10px, #5c5c5c 20px);\n",
       "    }\n",
       "    .progress-bar-interrupted, .progress-bar-interrupted::-webkit-progress-bar {\n",
       "        background: #F44336;\n",
       "    }\n",
       "</style>\n"
      ],
      "text/plain": [
       "<IPython.core.display.HTML object>"
      ]
     },
     "metadata": {},
     "output_type": "display_data"
    },
    {
     "data": {
      "text/html": [],
      "text/plain": [
       "<IPython.core.display.HTML object>"
      ]
     },
     "metadata": {},
     "output_type": "display_data"
    },
    {
     "data": {
      "text/html": [
       "\n",
       "<style>\n",
       "    /* Turns off some styling */\n",
       "    progress {\n",
       "        /* gets rid of default border in Firefox and Opera. */\n",
       "        border: none;\n",
       "        /* Needs to be in here for Safari polyfill so background images work as expected. */\n",
       "        background-size: auto;\n",
       "    }\n",
       "    progress:not([value]), progress:not([value])::-webkit-progress-bar {\n",
       "        background: repeating-linear-gradient(45deg, #7e7e7e, #7e7e7e 10px, #5c5c5c 10px, #5c5c5c 20px);\n",
       "    }\n",
       "    .progress-bar-interrupted, .progress-bar-interrupted::-webkit-progress-bar {\n",
       "        background: #F44336;\n",
       "    }\n",
       "</style>\n"
      ],
      "text/plain": [
       "<IPython.core.display.HTML object>"
      ]
     },
     "metadata": {},
     "output_type": "display_data"
    },
    {
     "data": {
      "text/html": [
       "<table border=\"1\" class=\"dataframe\">\n",
       "  <thead>\n",
       "    <tr style=\"text-align: left;\">\n",
       "      <th>epoch</th>\n",
       "      <th>train_loss</th>\n",
       "      <th>valid_loss</th>\n",
       "      <th><lambda></th>\n",
       "      <th>time</th>\n",
       "    </tr>\n",
       "  </thead>\n",
       "  <tbody>\n",
       "    <tr>\n",
       "      <td>0</td>\n",
       "      <td>1.181628</td>\n",
       "      <td>1.155252</td>\n",
       "      <td>0.555212</td>\n",
       "      <td>07:32</td>\n",
       "    </tr>\n",
       "    <tr>\n",
       "      <td>1</td>\n",
       "      <td>1.129360</td>\n",
       "      <td>1.129190</td>\n",
       "      <td>0.557611</td>\n",
       "      <td>07:31</td>\n",
       "    </tr>\n",
       "    <tr>\n",
       "      <td>2</td>\n",
       "      <td>1.087665</td>\n",
       "      <td>1.116899</td>\n",
       "      <td>0.556362</td>\n",
       "      <td>07:33</td>\n",
       "    </tr>\n",
       "    <tr>\n",
       "      <td>3</td>\n",
       "      <td>1.113634</td>\n",
       "      <td>1.112252</td>\n",
       "      <td>0.560504</td>\n",
       "      <td>07:31</td>\n",
       "    </tr>\n",
       "    <tr>\n",
       "      <td>4</td>\n",
       "      <td>1.111922</td>\n",
       "      <td>1.114079</td>\n",
       "      <td>0.559430</td>\n",
       "      <td>07:32</td>\n",
       "    </tr>\n",
       "    <tr>\n",
       "      <td>5</td>\n",
       "      <td>1.099062</td>\n",
       "      <td>1.121083</td>\n",
       "      <td>0.553177</td>\n",
       "      <td>07:31</td>\n",
       "    </tr>\n",
       "    <tr>\n",
       "      <td>6</td>\n",
       "      <td>1.116661</td>\n",
       "      <td>1.113281</td>\n",
       "      <td>0.558330</td>\n",
       "      <td>07:31</td>\n",
       "    </tr>\n",
       "    <tr>\n",
       "      <td>7</td>\n",
       "      <td>1.112409</td>\n",
       "      <td>1.107039</td>\n",
       "      <td>0.556593</td>\n",
       "      <td>07:33</td>\n",
       "    </tr>\n",
       "    <tr>\n",
       "      <td>8</td>\n",
       "      <td>1.111262</td>\n",
       "      <td>1.105961</td>\n",
       "      <td>0.555307</td>\n",
       "      <td>07:31</td>\n",
       "    </tr>\n",
       "    <tr>\n",
       "      <td>9</td>\n",
       "      <td>1.092789</td>\n",
       "      <td>1.102980</td>\n",
       "      <td>0.560691</td>\n",
       "      <td>07:32</td>\n",
       "    </tr>\n",
       "    <tr>\n",
       "      <td>10</td>\n",
       "      <td>1.082061</td>\n",
       "      <td>1.095521</td>\n",
       "      <td>0.559930</td>\n",
       "      <td>07:32</td>\n",
       "    </tr>\n",
       "    <tr>\n",
       "      <td>11</td>\n",
       "      <td>1.100744</td>\n",
       "      <td>1.092420</td>\n",
       "      <td>0.558679</td>\n",
       "      <td>07:32</td>\n",
       "    </tr>\n",
       "    <tr>\n",
       "      <td>12</td>\n",
       "      <td>1.118138</td>\n",
       "      <td>1.090307</td>\n",
       "      <td>0.564443</td>\n",
       "      <td>07:32</td>\n",
       "    </tr>\n",
       "    <tr>\n",
       "      <td>13</td>\n",
       "      <td>1.083331</td>\n",
       "      <td>1.086065</td>\n",
       "      <td>0.563984</td>\n",
       "      <td>07:33</td>\n",
       "    </tr>\n",
       "    <tr>\n",
       "      <td>14</td>\n",
       "      <td>1.084938</td>\n",
       "      <td>1.077941</td>\n",
       "      <td>0.564500</td>\n",
       "      <td>07:32</td>\n",
       "    </tr>\n",
       "    <tr>\n",
       "      <td>15</td>\n",
       "      <td>1.089788</td>\n",
       "      <td>1.074972</td>\n",
       "      <td>0.567435</td>\n",
       "      <td>07:32</td>\n",
       "    </tr>\n",
       "    <tr>\n",
       "      <td>16</td>\n",
       "      <td>1.063685</td>\n",
       "      <td>1.071295</td>\n",
       "      <td>0.566418</td>\n",
       "      <td>07:31</td>\n",
       "    </tr>\n",
       "    <tr>\n",
       "      <td>17</td>\n",
       "      <td>1.098661</td>\n",
       "      <td>1.068258</td>\n",
       "      <td>0.564969</td>\n",
       "      <td>07:33</td>\n",
       "    </tr>\n",
       "    <tr>\n",
       "      <td>18</td>\n",
       "      <td>1.088635</td>\n",
       "      <td>1.066425</td>\n",
       "      <td>0.568196</td>\n",
       "      <td>07:34</td>\n",
       "    </tr>\n",
       "    <tr>\n",
       "      <td>19</td>\n",
       "      <td>1.069996</td>\n",
       "      <td>1.065629</td>\n",
       "      <td>0.568744</td>\n",
       "      <td>07:32</td>\n",
       "    </tr>\n",
       "  </tbody>\n",
       "</table>"
      ],
      "text/plain": [
       "<IPython.core.display.HTML object>"
      ]
     },
     "metadata": {},
     "output_type": "display_data"
    },
    {
     "name": "stdout",
     "output_type": "stream",
     "text": [
      "Better model found at epoch 0 with valid_loss value: 1.1552515029907227.\n",
      "Better model found at epoch 1 with valid_loss value: 1.1291896104812622.\n",
      "Better model found at epoch 2 with valid_loss value: 1.1168991327285767.\n",
      "Better model found at epoch 3 with valid_loss value: 1.1122517585754395.\n",
      "Better model found at epoch 7 with valid_loss value: 1.1070386171340942.\n",
      "Better model found at epoch 8 with valid_loss value: 1.1059608459472656.\n",
      "Better model found at epoch 9 with valid_loss value: 1.1029795408248901.\n",
      "Better model found at epoch 10 with valid_loss value: 1.095521092414856.\n",
      "Better model found at epoch 11 with valid_loss value: 1.0924196243286133.\n",
      "Better model found at epoch 12 with valid_loss value: 1.0903071165084839.\n",
      "Better model found at epoch 13 with valid_loss value: 1.086065411567688.\n",
      "Better model found at epoch 14 with valid_loss value: 1.0779409408569336.\n",
      "Better model found at epoch 15 with valid_loss value: 1.0749717950820923.\n",
      "Better model found at epoch 16 with valid_loss value: 1.071294903755188.\n",
      "Better model found at epoch 17 with valid_loss value: 1.0682578086853027.\n",
      "Better model found at epoch 18 with valid_loss value: 1.06642484664917.\n",
      "Better model found at epoch 19 with valid_loss value: 1.0656285285949707.\n"
     ]
    },
    {
     "data": {
      "text/html": [
       "\n",
       "<style>\n",
       "    /* Turns off some styling */\n",
       "    progress {\n",
       "        /* gets rid of default border in Firefox and Opera. */\n",
       "        border: none;\n",
       "        /* Needs to be in here for Safari polyfill so background images work as expected. */\n",
       "        background-size: auto;\n",
       "    }\n",
       "    progress:not([value]), progress:not([value])::-webkit-progress-bar {\n",
       "        background: repeating-linear-gradient(45deg, #7e7e7e, #7e7e7e 10px, #5c5c5c 10px, #5c5c5c 20px);\n",
       "    }\n",
       "    .progress-bar-interrupted, .progress-bar-interrupted::-webkit-progress-bar {\n",
       "        background: #F44336;\n",
       "    }\n",
       "</style>\n"
      ],
      "text/plain": [
       "<IPython.core.display.HTML object>"
      ]
     },
     "metadata": {},
     "output_type": "display_data"
    },
    {
     "data": {
      "text/html": [],
      "text/plain": [
       "<IPython.core.display.HTML object>"
      ]
     },
     "metadata": {},
     "output_type": "display_data"
    },
    {
     "name": "stdout",
     "output_type": "stream",
     "text": [
      "Better model found at epoch 0 with valid_loss value: 0.5688726305961609.\n"
     ]
    }
   ],
   "source": [
    "m = ControlFlowModel(o)\n",
    "train_val = train_validate(dls,m,epoch=20,metrics=squeeze_accuracy,loss=squeeze_cross_entropy, show_plot=False)"
   ]
  },
  {
   "cell_type": "code",
   "execution_count": 10,
   "metadata": {},
   "outputs": [],
   "source": [
    "# save the model m\n",
    "torch.save(m.state_dict(), 'all_model/reg_model.pth')\n",
    "# save categorify\n",
    "torch.save(categorify, 'all_model/categorify.pth')"
   ]
  },
  {
   "cell_type": "code",
   "execution_count": 11,
   "metadata": {},
   "outputs": [
    {
     "name": "stdout",
     "output_type": "stream",
     "text": [
      "['data/csv/PDC2020_ground_truth/pdc_2020_0000000.csv.gz', 'data/csv/PDC2020_ground_truth/pdc_2020_0000001.csv.gz', 'data/csv/PDC2020_ground_truth/pdc_2020_0000010.csv.gz', 'data/csv/PDC2020_ground_truth/pdc_2020_0000011.csv.gz', 'data/csv/PDC2020_ground_truth/pdc_2020_0000100.csv.gz', 'data/csv/PDC2020_ground_truth/pdc_2020_0000101.csv.gz', 'data/csv/PDC2020_ground_truth/pdc_2020_0000110.csv.gz', 'data/csv/PDC2020_ground_truth/pdc_2020_0000111.csv.gz', 'data/csv/PDC2020_ground_truth/pdc_2020_0001000.csv.gz', 'data/csv/PDC2020_ground_truth/pdc_2020_0001001.csv.gz', 'data/csv/PDC2020_ground_truth/pdc_2020_0001010.csv.gz', 'data/csv/PDC2020_ground_truth/pdc_2020_0001011.csv.gz', 'data/csv/PDC2020_ground_truth/pdc_2020_0001100.csv.gz', 'data/csv/PDC2020_ground_truth/pdc_2020_0001101.csv.gz', 'data/csv/PDC2020_ground_truth/pdc_2020_0001110.csv.gz', 'data/csv/PDC2020_ground_truth/pdc_2020_0001111.csv.gz', 'data/csv/PDC2020_ground_truth/pdc_2020_0010000.csv.gz', 'data/csv/PDC2020_ground_truth/pdc_2020_0010001.csv.gz', 'data/csv/PDC2020_ground_truth/pdc_2020_0010010.csv.gz', 'data/csv/PDC2020_ground_truth/pdc_2020_0010011.csv.gz', 'data/csv/PDC2020_ground_truth/pdc_2020_0010100.csv.gz', 'data/csv/PDC2020_ground_truth/pdc_2020_0010101.csv.gz', 'data/csv/PDC2020_ground_truth/pdc_2020_0010110.csv.gz', 'data/csv/PDC2020_ground_truth/pdc_2020_0010111.csv.gz', 'data/csv/PDC2020_ground_truth/pdc_2020_0011000.csv.gz', 'data/csv/PDC2020_ground_truth/pdc_2020_0011001.csv.gz', 'data/csv/PDC2020_ground_truth/pdc_2020_0011010.csv.gz', 'data/csv/PDC2020_ground_truth/pdc_2020_0011011.csv.gz', 'data/csv/PDC2020_ground_truth/pdc_2020_0011100.csv.gz', 'data/csv/PDC2020_ground_truth/pdc_2020_0011101.csv.gz', 'data/csv/PDC2020_ground_truth/pdc_2020_0011110.csv.gz', 'data/csv/PDC2020_ground_truth/pdc_2020_0011111.csv.gz', 'data/csv/PDC2020_ground_truth/pdc_2020_0100000.csv.gz', 'data/csv/PDC2020_ground_truth/pdc_2020_0100001.csv.gz', 'data/csv/PDC2020_ground_truth/pdc_2020_0100010.csv.gz', 'data/csv/PDC2020_ground_truth/pdc_2020_0100011.csv.gz', 'data/csv/PDC2020_ground_truth/pdc_2020_0100100.csv.gz', 'data/csv/PDC2020_ground_truth/pdc_2020_0100101.csv.gz', 'data/csv/PDC2020_ground_truth/pdc_2020_0100110.csv.gz', 'data/csv/PDC2020_ground_truth/pdc_2020_0100111.csv.gz', 'data/csv/PDC2020_ground_truth/pdc_2020_0101000.csv.gz', 'data/csv/PDC2020_ground_truth/pdc_2020_0101001.csv.gz', 'data/csv/PDC2020_ground_truth/pdc_2020_0101010.csv.gz', 'data/csv/PDC2020_ground_truth/pdc_2020_0101011.csv.gz', 'data/csv/PDC2020_ground_truth/pdc_2020_0101100.csv.gz', 'data/csv/PDC2020_ground_truth/pdc_2020_0101101.csv.gz', 'data/csv/PDC2020_ground_truth/pdc_2020_0101110.csv.gz', 'data/csv/PDC2020_ground_truth/pdc_2020_0101111.csv.gz', 'data/csv/PDC2020_ground_truth/pdc_2020_0110000.csv.gz', 'data/csv/PDC2020_ground_truth/pdc_2020_0110001.csv.gz', 'data/csv/PDC2020_ground_truth/pdc_2020_0110010.csv.gz', 'data/csv/PDC2020_ground_truth/pdc_2020_0110011.csv.gz', 'data/csv/PDC2020_ground_truth/pdc_2020_0110100.csv.gz', 'data/csv/PDC2020_ground_truth/pdc_2020_0110101.csv.gz', 'data/csv/PDC2020_ground_truth/pdc_2020_0110110.csv.gz', 'data/csv/PDC2020_ground_truth/pdc_2020_0110111.csv.gz', 'data/csv/PDC2020_ground_truth/pdc_2020_0111000.csv.gz', 'data/csv/PDC2020_ground_truth/pdc_2020_0111001.csv.gz', 'data/csv/PDC2020_ground_truth/pdc_2020_0111010.csv.gz', 'data/csv/PDC2020_ground_truth/pdc_2020_0111011.csv.gz', 'data/csv/PDC2020_ground_truth/pdc_2020_0111100.csv.gz', 'data/csv/PDC2020_ground_truth/pdc_2020_0111101.csv.gz', 'data/csv/PDC2020_ground_truth/pdc_2020_0111110.csv.gz', 'data/csv/PDC2020_ground_truth/pdc_2020_0111111.csv.gz', 'data/csv/PDC2020_ground_truth/pdc_2020_0200000.csv.gz', 'data/csv/PDC2020_ground_truth/pdc_2020_0200001.csv.gz', 'data/csv/PDC2020_ground_truth/pdc_2020_0200010.csv.gz', 'data/csv/PDC2020_ground_truth/pdc_2020_0200011.csv.gz', 'data/csv/PDC2020_ground_truth/pdc_2020_0200100.csv.gz', 'data/csv/PDC2020_ground_truth/pdc_2020_0200101.csv.gz', 'data/csv/PDC2020_ground_truth/pdc_2020_0200110.csv.gz', 'data/csv/PDC2020_ground_truth/pdc_2020_0200111.csv.gz', 'data/csv/PDC2020_ground_truth/pdc_2020_0201000.csv.gz', 'data/csv/PDC2020_ground_truth/pdc_2020_0201001.csv.gz', 'data/csv/PDC2020_ground_truth/pdc_2020_0201010.csv.gz', 'data/csv/PDC2020_ground_truth/pdc_2020_0201011.csv.gz', 'data/csv/PDC2020_ground_truth/pdc_2020_0201100.csv.gz', 'data/csv/PDC2020_ground_truth/pdc_2020_0201101.csv.gz', 'data/csv/PDC2020_ground_truth/pdc_2020_0201110.csv.gz', 'data/csv/PDC2020_ground_truth/pdc_2020_0201111.csv.gz', 'data/csv/PDC2020_ground_truth/pdc_2020_0210000.csv.gz', 'data/csv/PDC2020_ground_truth/pdc_2020_0210001.csv.gz', 'data/csv/PDC2020_ground_truth/pdc_2020_0210010.csv.gz', 'data/csv/PDC2020_ground_truth/pdc_2020_0210011.csv.gz', 'data/csv/PDC2020_ground_truth/pdc_2020_0210100.csv.gz', 'data/csv/PDC2020_ground_truth/pdc_2020_0210101.csv.gz', 'data/csv/PDC2020_ground_truth/pdc_2020_0210110.csv.gz', 'data/csv/PDC2020_ground_truth/pdc_2020_0210111.csv.gz', 'data/csv/PDC2020_ground_truth/pdc_2020_0211000.csv.gz', 'data/csv/PDC2020_ground_truth/pdc_2020_0211001.csv.gz', 'data/csv/PDC2020_ground_truth/pdc_2020_0211010.csv.gz', 'data/csv/PDC2020_ground_truth/pdc_2020_0211011.csv.gz', 'data/csv/PDC2020_ground_truth/pdc_2020_0211100.csv.gz', 'data/csv/PDC2020_ground_truth/pdc_2020_0211101.csv.gz', 'data/csv/PDC2020_ground_truth/pdc_2020_0211110.csv.gz', 'data/csv/PDC2020_ground_truth/pdc_2020_0211111.csv.gz', 'data/csv/PDC2020_ground_truth/pdc_2020_1000000.csv.gz', 'data/csv/PDC2020_ground_truth/pdc_2020_1000001.csv.gz', 'data/csv/PDC2020_ground_truth/pdc_2020_1000010.csv.gz', 'data/csv/PDC2020_ground_truth/pdc_2020_1000011.csv.gz', 'data/csv/PDC2020_ground_truth/pdc_2020_1000100.csv.gz', 'data/csv/PDC2020_ground_truth/pdc_2020_1000101.csv.gz', 'data/csv/PDC2020_ground_truth/pdc_2020_1000110.csv.gz', 'data/csv/PDC2020_ground_truth/pdc_2020_1000111.csv.gz', 'data/csv/PDC2020_ground_truth/pdc_2020_1001000.csv.gz', 'data/csv/PDC2020_ground_truth/pdc_2020_1001001.csv.gz', 'data/csv/PDC2020_ground_truth/pdc_2020_1001010.csv.gz', 'data/csv/PDC2020_ground_truth/pdc_2020_1001011.csv.gz', 'data/csv/PDC2020_ground_truth/pdc_2020_1001100.csv.gz', 'data/csv/PDC2020_ground_truth/pdc_2020_1001101.csv.gz', 'data/csv/PDC2020_ground_truth/pdc_2020_1001110.csv.gz', 'data/csv/PDC2020_ground_truth/pdc_2020_1001111.csv.gz', 'data/csv/PDC2020_ground_truth/pdc_2020_1010000.csv.gz', 'data/csv/PDC2020_ground_truth/pdc_2020_1010001.csv.gz', 'data/csv/PDC2020_ground_truth/pdc_2020_1010010.csv.gz', 'data/csv/PDC2020_ground_truth/pdc_2020_1010011.csv.gz', 'data/csv/PDC2020_ground_truth/pdc_2020_1010100.csv.gz', 'data/csv/PDC2020_ground_truth/pdc_2020_1010101.csv.gz', 'data/csv/PDC2020_ground_truth/pdc_2020_1010110.csv.gz', 'data/csv/PDC2020_ground_truth/pdc_2020_1010111.csv.gz', 'data/csv/PDC2020_ground_truth/pdc_2020_1011000.csv.gz', 'data/csv/PDC2020_ground_truth/pdc_2020_1011001.csv.gz', 'data/csv/PDC2020_ground_truth/pdc_2020_1011010.csv.gz', 'data/csv/PDC2020_ground_truth/pdc_2020_1011011.csv.gz', 'data/csv/PDC2020_ground_truth/pdc_2020_1011100.csv.gz', 'data/csv/PDC2020_ground_truth/pdc_2020_1011101.csv.gz', 'data/csv/PDC2020_ground_truth/pdc_2020_1011110.csv.gz', 'data/csv/PDC2020_ground_truth/pdc_2020_1011111.csv.gz', 'data/csv/PDC2020_ground_truth/pdc_2020_1100000.csv.gz', 'data/csv/PDC2020_ground_truth/pdc_2020_1100001.csv.gz', 'data/csv/PDC2020_ground_truth/pdc_2020_1100010.csv.gz', 'data/csv/PDC2020_ground_truth/pdc_2020_1100011.csv.gz', 'data/csv/PDC2020_ground_truth/pdc_2020_1100100.csv.gz', 'data/csv/PDC2020_ground_truth/pdc_2020_1100101.csv.gz', 'data/csv/PDC2020_ground_truth/pdc_2020_1100110.csv.gz', 'data/csv/PDC2020_ground_truth/pdc_2020_1100111.csv.gz', 'data/csv/PDC2020_ground_truth/pdc_2020_1101000.csv.gz', 'data/csv/PDC2020_ground_truth/pdc_2020_1101001.csv.gz', 'data/csv/PDC2020_ground_truth/pdc_2020_1101010.csv.gz', 'data/csv/PDC2020_ground_truth/pdc_2020_1101011.csv.gz', 'data/csv/PDC2020_ground_truth/pdc_2020_1101100.csv.gz', 'data/csv/PDC2020_ground_truth/pdc_2020_1101101.csv.gz', 'data/csv/PDC2020_ground_truth/pdc_2020_1101110.csv.gz', 'data/csv/PDC2020_ground_truth/pdc_2020_1101111.csv.gz', 'data/csv/PDC2020_ground_truth/pdc_2020_1110000.csv.gz', 'data/csv/PDC2020_ground_truth/pdc_2020_1110001.csv.gz', 'data/csv/PDC2020_ground_truth/pdc_2020_1110010.csv.gz', 'data/csv/PDC2020_ground_truth/pdc_2020_1110011.csv.gz', 'data/csv/PDC2020_ground_truth/pdc_2020_1110100.csv.gz', 'data/csv/PDC2020_ground_truth/pdc_2020_1110101.csv.gz', 'data/csv/PDC2020_ground_truth/pdc_2020_1110110.csv.gz', 'data/csv/PDC2020_ground_truth/pdc_2020_1110111.csv.gz', 'data/csv/PDC2020_ground_truth/pdc_2020_1111000.csv.gz', 'data/csv/PDC2020_ground_truth/pdc_2020_1111001.csv.gz', 'data/csv/PDC2020_ground_truth/pdc_2020_1111010.csv.gz', 'data/csv/PDC2020_ground_truth/pdc_2020_1111011.csv.gz', 'data/csv/PDC2020_ground_truth/pdc_2020_1111100.csv.gz', 'data/csv/PDC2020_ground_truth/pdc_2020_1111101.csv.gz', 'data/csv/PDC2020_ground_truth/pdc_2020_1111110.csv.gz', 'data/csv/PDC2020_ground_truth/pdc_2020_1111111.csv.gz', 'data/csv/PDC2020_ground_truth/pdc_2020_1200000.csv.gz', 'data/csv/PDC2020_ground_truth/pdc_2020_1200001.csv.gz', 'data/csv/PDC2020_ground_truth/pdc_2020_1200010.csv.gz', 'data/csv/PDC2020_ground_truth/pdc_2020_1200011.csv.gz', 'data/csv/PDC2020_ground_truth/pdc_2020_1200100.csv.gz', 'data/csv/PDC2020_ground_truth/pdc_2020_1200101.csv.gz', 'data/csv/PDC2020_ground_truth/pdc_2020_1200110.csv.gz', 'data/csv/PDC2020_ground_truth/pdc_2020_1200111.csv.gz', 'data/csv/PDC2020_ground_truth/pdc_2020_1201000.csv.gz', 'data/csv/PDC2020_ground_truth/pdc_2020_1201001.csv.gz', 'data/csv/PDC2020_ground_truth/pdc_2020_1201010.csv.gz', 'data/csv/PDC2020_ground_truth/pdc_2020_1201011.csv.gz', 'data/csv/PDC2020_ground_truth/pdc_2020_1201100.csv.gz', 'data/csv/PDC2020_ground_truth/pdc_2020_1201101.csv.gz', 'data/csv/PDC2020_ground_truth/pdc_2020_1201110.csv.gz', 'data/csv/PDC2020_ground_truth/pdc_2020_1201111.csv.gz', 'data/csv/PDC2020_ground_truth/pdc_2020_1210000.csv.gz', 'data/csv/PDC2020_ground_truth/pdc_2020_1210001.csv.gz', 'data/csv/PDC2020_ground_truth/pdc_2020_1210010.csv.gz', 'data/csv/PDC2020_ground_truth/pdc_2020_1210011.csv.gz', 'data/csv/PDC2020_ground_truth/pdc_2020_1210100.csv.gz', 'data/csv/PDC2020_ground_truth/pdc_2020_1210101.csv.gz', 'data/csv/PDC2020_ground_truth/pdc_2020_1210110.csv.gz', 'data/csv/PDC2020_ground_truth/pdc_2020_1210111.csv.gz', 'data/csv/PDC2020_ground_truth/pdc_2020_1211000.csv.gz', 'data/csv/PDC2020_ground_truth/pdc_2020_1211001.csv.gz', 'data/csv/PDC2020_ground_truth/pdc_2020_1211010.csv.gz', 'data/csv/PDC2020_ground_truth/pdc_2020_1211011.csv.gz', 'data/csv/PDC2020_ground_truth/pdc_2020_1211100.csv.gz', 'data/csv/PDC2020_ground_truth/pdc_2020_1211101.csv.gz', 'data/csv/PDC2020_ground_truth/pdc_2020_1211110.csv.gz', 'data/csv/PDC2020_ground_truth/pdc_2020_1211111.csv.gz']\n"
     ]
    },
    {
     "data": {
      "text/html": [
       "<div>\n",
       "<style scoped>\n",
       "    .dataframe tbody tr th:only-of-type {\n",
       "        vertical-align: middle;\n",
       "    }\n",
       "\n",
       "    .dataframe tbody tr th {\n",
       "        vertical-align: top;\n",
       "    }\n",
       "\n",
       "    .dataframe thead th {\n",
       "        text-align: right;\n",
       "    }\n",
       "</style>\n",
       "<table border=\"1\" class=\"dataframe\">\n",
       "  <thead>\n",
       "    <tr style=\"text-align: right;\">\n",
       "      <th></th>\n",
       "      <th>activity</th>\n",
       "      <th>trace_id</th>\n",
       "      <th>case:pdc:costs</th>\n",
       "      <th>normal</th>\n",
       "      <th>event_id</th>\n",
       "    </tr>\n",
       "    <tr>\n",
       "      <th>trace_id</th>\n",
       "      <th></th>\n",
       "      <th></th>\n",
       "      <th></th>\n",
       "      <th></th>\n",
       "      <th></th>\n",
       "    </tr>\n",
       "  </thead>\n",
       "  <tbody>\n",
       "    <tr>\n",
       "      <th>trace 1</th>\n",
       "      <td>###start###</td>\n",
       "      <td>trace 1</td>\n",
       "      <td>2.0</td>\n",
       "      <td>False</td>\n",
       "      <td>0</td>\n",
       "    </tr>\n",
       "    <tr>\n",
       "      <th>trace 1</th>\n",
       "      <td>t11</td>\n",
       "      <td>trace 1</td>\n",
       "      <td>2.0</td>\n",
       "      <td>False</td>\n",
       "      <td>1</td>\n",
       "    </tr>\n",
       "    <tr>\n",
       "      <th>trace 1</th>\n",
       "      <td>t21</td>\n",
       "      <td>trace 1</td>\n",
       "      <td>2.0</td>\n",
       "      <td>False</td>\n",
       "      <td>2</td>\n",
       "    </tr>\n",
       "    <tr>\n",
       "      <th>trace 1</th>\n",
       "      <td>t26</td>\n",
       "      <td>trace 1</td>\n",
       "      <td>2.0</td>\n",
       "      <td>False</td>\n",
       "      <td>3</td>\n",
       "    </tr>\n",
       "    <tr>\n",
       "      <th>trace 1</th>\n",
       "      <td>t35</td>\n",
       "      <td>trace 1</td>\n",
       "      <td>2.0</td>\n",
       "      <td>False</td>\n",
       "      <td>4</td>\n",
       "    </tr>\n",
       "  </tbody>\n",
       "</table>\n",
       "</div>"
      ],
      "text/plain": [
       "             activity trace_id case:pdc:costs normal event_id\n",
       "trace_id                                                     \n",
       "trace 1   ###start###  trace 1            2.0  False        0\n",
       "trace 1           t11  trace 1            2.0  False        1\n",
       "trace 1           t21  trace 1            2.0  False        2\n",
       "trace 1           t26  trace 1            2.0  False        3\n",
       "trace 1           t35  trace 1            2.0  False        4"
      ]
     },
     "execution_count": 11,
     "metadata": {},
     "output_type": "execute_result"
    }
   ],
   "source": [
    "test_path = 'data/csv/PDC2020_ground_truth/'\n",
    "test_log = import_log(test_path)\n",
    "test_log[test_log['normal'] == False].head(5)"
   ]
  },
  {
   "cell_type": "code",
   "execution_count": 18,
   "metadata": {},
   "outputs": [],
   "source": [
    "def process_test(test_log,categorify,cat_names='activity'):\n",
    "    o=PPObj(test_log,procs=categorify,cat_names=cat_names,y_names=cat_names,do_setup=False)\n",
    "    o.process() # map to the same categories as in the training sett\n",
    "    return o\n",
    "\n",
    "\n",
    "def predict_next_step(o,m,ws=5):\n",
    "    wds,idx=partial(windows_fast,ws=ws)(o.xs, o.event_ids)\n",
    "    res=(m(LongTensor(wds).to('cpu'))) #changed to cpu for memory reasons\n",
    "    return res,idx\n",
    "\n",
    "\n",
    "def calc_anomaly_score(res,o,idx):\n",
    "    sm = nn.Softmax(dim=1)\n",
    "    y = o.items['activity'].iloc[idx].values\n",
    "    p = sm(res)\n",
    "    pred = p.max(1)[0]\n",
    "    truth = p[list(range(0, len(y))),y]\n",
    "    a_score = ((pred - truth) / pred).to('cpu').detach().numpy()\n",
    "    return a_score\n",
    "\n",
    "\n",
    "def get_anomalies(a_score,o,idx,threshhold=0.98):\n",
    "    df=pd.DataFrame(columns=['a_score'])\n",
    "    df['a_score'] = a_score\n",
    "    df['trace_id'] = o.items.iloc[idx]['trace_id'].values\n",
    "    df['normal'] = o.items.iloc[idx]['normal'].values\n",
    "\n",
    "    y_true = (df.loc[df.trace_id.drop_duplicates().index].normal==False).tolist()\n",
    "    cases = df.loc[df.trace_id.drop_duplicates().index].trace_id.tolist()\n",
    "    anomalies = set(list(df.loc[df['a_score'] > threshhold]['trace_id']))\n",
    "    y_pred=[case in anomalies for case in cases]\n",
    "\n",
    "    return y_pred, y_true"
   ]
  },
  {
   "cell_type": "code",
   "execution_count": 19,
   "metadata": {},
   "outputs": [
    {
     "name": "stderr",
     "output_type": "stream",
     "text": [
      "/lv_local/home/romh/DAPNN/dapnn/dapnn/data_processing.py:208: DeprecationWarning: is_categorical_dtype is deprecated and will be removed in a future version. Use isinstance(dtype, pd.CategoricalDtype) instead\n",
      "  if not is_categorical_dtype(c):\n"
     ]
    }
   ],
   "source": [
    "# # load categorify (or just use the one from training)\n",
    "# categorify = torch.load('all_model/categorify.pth')\n",
    "m.to('cpu')\n",
    "o = process_test(test_log,categorify)\n",
    "\n",
    "# load the model m\n",
    "# m = ControlFlowModel(o)\n",
    "# m.load_state_dict(torch.load('all_model/reg_model.pth'))\n",
    "\n",
    "nsp, idx = predict_next_step(o, m)\n",
    "\n",
    "anomaly_score = calc_anomaly_score(nsp, o, idx)\n",
    "y_pred, y_true = get_anomalies(anomaly_score,o,idx)"
   ]
  },
  {
   "cell_type": "code",
   "execution_count": 20,
   "metadata": {},
   "outputs": [],
   "source": [
    "# save y_pred and y_true into a df and save it as csv\n",
    "df = pd.DataFrame(columns=['y_pred'])\n",
    "df['y_pred'] = y_pred\n",
    "df['y_true'] = y_true\n",
    "df.to_csv('all_model/dapnn_y_pred_y_true.csv', index=False)"
   ]
  },
  {
   "cell_type": "code",
   "execution_count": 21,
   "metadata": {},
   "outputs": [
    {
     "name": "stdout",
     "output_type": "stream",
     "text": [
      "F1 score: 0.8530489294146382\n",
      "Accuracy score: 0.8495833333333334\n",
      "Precision score: 0.798612831310379\n",
      "Recall score: 0.915448965773322\n"
     ]
    }
   ],
   "source": [
    "print(f'F1 score: {f1_score(y_true, y_pred)}')\n",
    "print(f'Accuracy score: {accuracy_score(y_true, y_pred)}')\n",
    "print(f'Precision score: {precision_score(y_true, y_pred)}')\n",
    "print(f'Recall score: {recall_score(y_true, y_pred)}')"
   ]
  },
  {
   "cell_type": "markdown",
   "metadata": {},
   "source": [
    "## Switched"
   ]
  },
  {
   "cell_type": "code",
   "execution_count": 22,
   "metadata": {},
   "outputs": [],
   "source": [
    "def calc_if_anomaly(res,o,idx,k=6):\n",
    "    # for each activity, it is an anomaly if its not in the top k most likely activities in the next step\n",
    "    sm = nn.Softmax(dim=1)\n",
    "    y = o.items['activity'].iloc[idx].values\n",
    "    p = sm(res)\n",
    "    if_anomaly = []\n",
    "    for i in range(len(y)):\n",
    "        if_anomaly.append(1 if y[i] not in p[i].argsort(descending=True)[:k] else 0)\n",
    "    return if_anomaly\n",
    "\n",
    "\n",
    "def get_anomalies_if_anomaly(if_anomaly,o,idx,r=0.99):\n",
    "    \"\"\"If a trace has more than r of its activities as anomalies, it is an anomaly\"\"\"\n",
    "    df = pd.DataFrame(columns=['if_anomaly'])\n",
    "    df['if_anomaly'] = if_anomaly\n",
    "    df['trace_id'] = o.items.iloc[idx]['trace_id'].values\n",
    "    df['normal'] = o.items.iloc[idx]['normal'].values\n",
    "    y_true = (df.loc[df.trace_id.drop_duplicates().index].normal==False).tolist()\n",
    "    cases = df.loc[df.trace_id.drop_duplicates().index].trace_id.tolist()\n",
    "    # for each trace, if more than r of its activities are anomalies, it is an anomaly\n",
    "\n",
    "    anomalies = set(list(df.loc[df.groupby('trace_id')['if_anomaly'].transform('mean') < r]['trace_id']))\n",
    "    y_pred=[case in anomalies for case in cases]\n",
    "    return y_pred, y_true"
   ]
  },
  {
   "cell_type": "code",
   "execution_count": 23,
   "metadata": {},
   "outputs": [],
   "source": [
    "if_anomaly = calc_if_anomaly(nsp, o, idx)\n",
    "y_pred, y_true = get_anomalies_if_anomaly(if_anomaly,o,idx)"
   ]
  },
  {
   "cell_type": "code",
   "execution_count": 24,
   "metadata": {},
   "outputs": [],
   "source": [
    "# save y_pred and y_true into a df and save it as csv\n",
    "df = pd.DataFrame(columns=['y_pred'])\n",
    "df['y_pred'] = y_pred\n",
    "df['y_true'] = y_true\n",
    "df.to_csv('all_model/dapnn_y_pred_y_true_switched.csv', index=False)"
   ]
  },
  {
   "cell_type": "code",
   "execution_count": 25,
   "metadata": {},
   "outputs": [
    {
     "name": "stdout",
     "output_type": "stream",
     "text": [
      "F1 score: 0.6458179048263897\n",
      "Accuracy score: 0.47690625\n",
      "Precision score: 0.47690625\n",
      "Recall score: 1.0\n"
     ]
    }
   ],
   "source": [
    "print(f'F1 score: {f1_score(y_true, y_pred)}')\n",
    "print(f'Accuracy score: {accuracy_score(y_true, y_pred)}')\n",
    "print(f'Precision score: {precision_score(y_true, y_pred)}')\n",
    "print(f'Recall score: {recall_score(y_true, y_pred)}')"
   ]
  }
 ],
 "metadata": {
  "kernelspec": {
   "display_name": "Python 3 (ipykernel)",
   "language": "python",
   "name": "python3"
  },
  "language_info": {
   "codemirror_mode": {
    "name": "ipython",
    "version": 3
   },
   "file_extension": ".py",
   "mimetype": "text/x-python",
   "name": "python",
   "nbconvert_exporter": "python",
   "pygments_lexer": "ipython3",
   "version": "3.9.18"
  }
 },
 "nbformat": 4,
 "nbformat_minor": 4
}
