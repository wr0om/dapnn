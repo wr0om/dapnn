{
 "cells": [
  {
   "cell_type": "code",
   "execution_count": 1,
   "metadata": {},
   "outputs": [],
   "source": [
    "from dapnn.imports import *\n",
    "from dapnn.data_processing import *\n",
    "import seaborn as sns\n",
    "import matplotlib.pyplot as plt\n",
    "import numpy as np\n",
    "import random\n",
    "import torch\n",
    "\n",
    "import warnings\n",
    "warnings.filterwarnings(action='once')"
   ]
  },
  {
   "cell_type": "code",
   "execution_count": 2,
   "metadata": {},
   "outputs": [],
   "source": [
    "# Set the random seed for reproducible results\n",
    "def seed_everything(seed=42):\n",
    "    random.seed(seed)\n",
    "    os.environ['PYTHONHASHSEED'] = str(seed)\n",
    "    np.random.seed(seed)\n",
    "    torch.manual_seed(seed)\n",
    "\n",
    "seed_everything()"
   ]
  },
  {
   "cell_type": "code",
   "execution_count": 3,
   "metadata": {},
   "outputs": [
    {
     "name": "stdout",
     "output_type": "stream",
     "text": [
      "['data/csv/PDC2020_training/pdc_2020_0000000.csv.gz', 'data/csv/PDC2020_training/pdc_2020_0000001.csv.gz', 'data/csv/PDC2020_training/pdc_2020_0000010.csv.gz', 'data/csv/PDC2020_training/pdc_2020_0000011.csv.gz', 'data/csv/PDC2020_training/pdc_2020_0000100.csv.gz', 'data/csv/PDC2020_training/pdc_2020_0000101.csv.gz', 'data/csv/PDC2020_training/pdc_2020_0000110.csv.gz', 'data/csv/PDC2020_training/pdc_2020_0000111.csv.gz', 'data/csv/PDC2020_training/pdc_2020_0001000.csv.gz', 'data/csv/PDC2020_training/pdc_2020_0001001.csv.gz', 'data/csv/PDC2020_training/pdc_2020_0001010.csv.gz', 'data/csv/PDC2020_training/pdc_2020_0001011.csv.gz', 'data/csv/PDC2020_training/pdc_2020_0001100.csv.gz', 'data/csv/PDC2020_training/pdc_2020_0001101.csv.gz', 'data/csv/PDC2020_training/pdc_2020_0001110.csv.gz', 'data/csv/PDC2020_training/pdc_2020_0001111.csv.gz', 'data/csv/PDC2020_training/pdc_2020_0010000.csv.gz', 'data/csv/PDC2020_training/pdc_2020_0010001.csv.gz', 'data/csv/PDC2020_training/pdc_2020_0010010.csv.gz', 'data/csv/PDC2020_training/pdc_2020_0010011.csv.gz', 'data/csv/PDC2020_training/pdc_2020_0010100.csv.gz', 'data/csv/PDC2020_training/pdc_2020_0010101.csv.gz', 'data/csv/PDC2020_training/pdc_2020_0010110.csv.gz', 'data/csv/PDC2020_training/pdc_2020_0010111.csv.gz', 'data/csv/PDC2020_training/pdc_2020_0011000.csv.gz', 'data/csv/PDC2020_training/pdc_2020_0011001.csv.gz', 'data/csv/PDC2020_training/pdc_2020_0011010.csv.gz', 'data/csv/PDC2020_training/pdc_2020_0011011.csv.gz', 'data/csv/PDC2020_training/pdc_2020_0011100.csv.gz', 'data/csv/PDC2020_training/pdc_2020_0011101.csv.gz', 'data/csv/PDC2020_training/pdc_2020_0011110.csv.gz', 'data/csv/PDC2020_training/pdc_2020_0011111.csv.gz', 'data/csv/PDC2020_training/pdc_2020_0100000.csv.gz', 'data/csv/PDC2020_training/pdc_2020_0100001.csv.gz', 'data/csv/PDC2020_training/pdc_2020_0100010.csv.gz', 'data/csv/PDC2020_training/pdc_2020_0100011.csv.gz', 'data/csv/PDC2020_training/pdc_2020_0100100.csv.gz', 'data/csv/PDC2020_training/pdc_2020_0100101.csv.gz', 'data/csv/PDC2020_training/pdc_2020_0100110.csv.gz', 'data/csv/PDC2020_training/pdc_2020_0100111.csv.gz', 'data/csv/PDC2020_training/pdc_2020_0101000.csv.gz', 'data/csv/PDC2020_training/pdc_2020_0101001.csv.gz', 'data/csv/PDC2020_training/pdc_2020_0101010.csv.gz', 'data/csv/PDC2020_training/pdc_2020_0101011.csv.gz', 'data/csv/PDC2020_training/pdc_2020_0101100.csv.gz', 'data/csv/PDC2020_training/pdc_2020_0101101.csv.gz', 'data/csv/PDC2020_training/pdc_2020_0101110.csv.gz', 'data/csv/PDC2020_training/pdc_2020_0101111.csv.gz', 'data/csv/PDC2020_training/pdc_2020_0110000.csv.gz', 'data/csv/PDC2020_training/pdc_2020_0110001.csv.gz', 'data/csv/PDC2020_training/pdc_2020_0110010.csv.gz', 'data/csv/PDC2020_training/pdc_2020_0110011.csv.gz', 'data/csv/PDC2020_training/pdc_2020_0110100.csv.gz', 'data/csv/PDC2020_training/pdc_2020_0110101.csv.gz', 'data/csv/PDC2020_training/pdc_2020_0110110.csv.gz', 'data/csv/PDC2020_training/pdc_2020_0110111.csv.gz', 'data/csv/PDC2020_training/pdc_2020_0111000.csv.gz', 'data/csv/PDC2020_training/pdc_2020_0111001.csv.gz', 'data/csv/PDC2020_training/pdc_2020_0111010.csv.gz', 'data/csv/PDC2020_training/pdc_2020_0111011.csv.gz', 'data/csv/PDC2020_training/pdc_2020_0111100.csv.gz', 'data/csv/PDC2020_training/pdc_2020_0111101.csv.gz', 'data/csv/PDC2020_training/pdc_2020_0111110.csv.gz', 'data/csv/PDC2020_training/pdc_2020_0111111.csv.gz', 'data/csv/PDC2020_training/pdc_2020_0200000.csv.gz', 'data/csv/PDC2020_training/pdc_2020_0200001.csv.gz', 'data/csv/PDC2020_training/pdc_2020_0200010.csv.gz', 'data/csv/PDC2020_training/pdc_2020_0200011.csv.gz', 'data/csv/PDC2020_training/pdc_2020_0200100.csv.gz', 'data/csv/PDC2020_training/pdc_2020_0200101.csv.gz', 'data/csv/PDC2020_training/pdc_2020_0200110.csv.gz', 'data/csv/PDC2020_training/pdc_2020_0200111.csv.gz', 'data/csv/PDC2020_training/pdc_2020_0201000.csv.gz', 'data/csv/PDC2020_training/pdc_2020_0201001.csv.gz', 'data/csv/PDC2020_training/pdc_2020_0201010.csv.gz', 'data/csv/PDC2020_training/pdc_2020_0201011.csv.gz', 'data/csv/PDC2020_training/pdc_2020_0201100.csv.gz', 'data/csv/PDC2020_training/pdc_2020_0201101.csv.gz', 'data/csv/PDC2020_training/pdc_2020_0201110.csv.gz', 'data/csv/PDC2020_training/pdc_2020_0201111.csv.gz', 'data/csv/PDC2020_training/pdc_2020_0210000.csv.gz', 'data/csv/PDC2020_training/pdc_2020_0210001.csv.gz', 'data/csv/PDC2020_training/pdc_2020_0210010.csv.gz', 'data/csv/PDC2020_training/pdc_2020_0210011.csv.gz', 'data/csv/PDC2020_training/pdc_2020_0210100.csv.gz', 'data/csv/PDC2020_training/pdc_2020_0210101.csv.gz', 'data/csv/PDC2020_training/pdc_2020_0210110.csv.gz', 'data/csv/PDC2020_training/pdc_2020_0210111.csv.gz', 'data/csv/PDC2020_training/pdc_2020_0211000.csv.gz', 'data/csv/PDC2020_training/pdc_2020_0211001.csv.gz', 'data/csv/PDC2020_training/pdc_2020_0211010.csv.gz', 'data/csv/PDC2020_training/pdc_2020_0211011.csv.gz', 'data/csv/PDC2020_training/pdc_2020_0211100.csv.gz', 'data/csv/PDC2020_training/pdc_2020_0211101.csv.gz', 'data/csv/PDC2020_training/pdc_2020_0211110.csv.gz', 'data/csv/PDC2020_training/pdc_2020_0211111.csv.gz', 'data/csv/PDC2020_training/pdc_2020_1000000.csv.gz', 'data/csv/PDC2020_training/pdc_2020_1000001.csv.gz', 'data/csv/PDC2020_training/pdc_2020_1000010.csv.gz', 'data/csv/PDC2020_training/pdc_2020_1000011.csv.gz', 'data/csv/PDC2020_training/pdc_2020_1000100.csv.gz', 'data/csv/PDC2020_training/pdc_2020_1000101.csv.gz', 'data/csv/PDC2020_training/pdc_2020_1000110.csv.gz', 'data/csv/PDC2020_training/pdc_2020_1000111.csv.gz', 'data/csv/PDC2020_training/pdc_2020_1001000.csv.gz', 'data/csv/PDC2020_training/pdc_2020_1001001.csv.gz', 'data/csv/PDC2020_training/pdc_2020_1001010.csv.gz', 'data/csv/PDC2020_training/pdc_2020_1001011.csv.gz', 'data/csv/PDC2020_training/pdc_2020_1001100.csv.gz', 'data/csv/PDC2020_training/pdc_2020_1001101.csv.gz', 'data/csv/PDC2020_training/pdc_2020_1001110.csv.gz', 'data/csv/PDC2020_training/pdc_2020_1001111.csv.gz', 'data/csv/PDC2020_training/pdc_2020_1010000.csv.gz', 'data/csv/PDC2020_training/pdc_2020_1010001.csv.gz', 'data/csv/PDC2020_training/pdc_2020_1010010.csv.gz', 'data/csv/PDC2020_training/pdc_2020_1010011.csv.gz', 'data/csv/PDC2020_training/pdc_2020_1010100.csv.gz', 'data/csv/PDC2020_training/pdc_2020_1010101.csv.gz', 'data/csv/PDC2020_training/pdc_2020_1010110.csv.gz', 'data/csv/PDC2020_training/pdc_2020_1010111.csv.gz', 'data/csv/PDC2020_training/pdc_2020_1011000.csv.gz', 'data/csv/PDC2020_training/pdc_2020_1011001.csv.gz', 'data/csv/PDC2020_training/pdc_2020_1011010.csv.gz', 'data/csv/PDC2020_training/pdc_2020_1011011.csv.gz', 'data/csv/PDC2020_training/pdc_2020_1011100.csv.gz', 'data/csv/PDC2020_training/pdc_2020_1011101.csv.gz', 'data/csv/PDC2020_training/pdc_2020_1011110.csv.gz', 'data/csv/PDC2020_training/pdc_2020_1011111.csv.gz', 'data/csv/PDC2020_training/pdc_2020_1100000.csv.gz', 'data/csv/PDC2020_training/pdc_2020_1100001.csv.gz', 'data/csv/PDC2020_training/pdc_2020_1100010.csv.gz', 'data/csv/PDC2020_training/pdc_2020_1100011.csv.gz', 'data/csv/PDC2020_training/pdc_2020_1100100.csv.gz', 'data/csv/PDC2020_training/pdc_2020_1100101.csv.gz', 'data/csv/PDC2020_training/pdc_2020_1100110.csv.gz', 'data/csv/PDC2020_training/pdc_2020_1100111.csv.gz', 'data/csv/PDC2020_training/pdc_2020_1101000.csv.gz', 'data/csv/PDC2020_training/pdc_2020_1101001.csv.gz', 'data/csv/PDC2020_training/pdc_2020_1101010.csv.gz', 'data/csv/PDC2020_training/pdc_2020_1101011.csv.gz', 'data/csv/PDC2020_training/pdc_2020_1101100.csv.gz', 'data/csv/PDC2020_training/pdc_2020_1101101.csv.gz', 'data/csv/PDC2020_training/pdc_2020_1101110.csv.gz', 'data/csv/PDC2020_training/pdc_2020_1101111.csv.gz', 'data/csv/PDC2020_training/pdc_2020_1110000.csv.gz', 'data/csv/PDC2020_training/pdc_2020_1110001.csv.gz', 'data/csv/PDC2020_training/pdc_2020_1110010.csv.gz', 'data/csv/PDC2020_training/pdc_2020_1110011.csv.gz', 'data/csv/PDC2020_training/pdc_2020_1110100.csv.gz', 'data/csv/PDC2020_training/pdc_2020_1110101.csv.gz', 'data/csv/PDC2020_training/pdc_2020_1110110.csv.gz', 'data/csv/PDC2020_training/pdc_2020_1110111.csv.gz', 'data/csv/PDC2020_training/pdc_2020_1111000.csv.gz', 'data/csv/PDC2020_training/pdc_2020_1111001.csv.gz', 'data/csv/PDC2020_training/pdc_2020_1111010.csv.gz', 'data/csv/PDC2020_training/pdc_2020_1111011.csv.gz', 'data/csv/PDC2020_training/pdc_2020_1111100.csv.gz', 'data/csv/PDC2020_training/pdc_2020_1111101.csv.gz', 'data/csv/PDC2020_training/pdc_2020_1111110.csv.gz', 'data/csv/PDC2020_training/pdc_2020_1111111.csv.gz', 'data/csv/PDC2020_training/pdc_2020_1200000.csv.gz', 'data/csv/PDC2020_training/pdc_2020_1200001.csv.gz', 'data/csv/PDC2020_training/pdc_2020_1200010.csv.gz', 'data/csv/PDC2020_training/pdc_2020_1200011.csv.gz', 'data/csv/PDC2020_training/pdc_2020_1200100.csv.gz', 'data/csv/PDC2020_training/pdc_2020_1200101.csv.gz', 'data/csv/PDC2020_training/pdc_2020_1200110.csv.gz', 'data/csv/PDC2020_training/pdc_2020_1200111.csv.gz', 'data/csv/PDC2020_training/pdc_2020_1201000.csv.gz', 'data/csv/PDC2020_training/pdc_2020_1201001.csv.gz', 'data/csv/PDC2020_training/pdc_2020_1201010.csv.gz', 'data/csv/PDC2020_training/pdc_2020_1201011.csv.gz', 'data/csv/PDC2020_training/pdc_2020_1201100.csv.gz', 'data/csv/PDC2020_training/pdc_2020_1201101.csv.gz', 'data/csv/PDC2020_training/pdc_2020_1201110.csv.gz', 'data/csv/PDC2020_training/pdc_2020_1201111.csv.gz', 'data/csv/PDC2020_training/pdc_2020_1210000.csv.gz', 'data/csv/PDC2020_training/pdc_2020_1210001.csv.gz', 'data/csv/PDC2020_training/pdc_2020_1210010.csv.gz', 'data/csv/PDC2020_training/pdc_2020_1210011.csv.gz', 'data/csv/PDC2020_training/pdc_2020_1210100.csv.gz', 'data/csv/PDC2020_training/pdc_2020_1210101.csv.gz', 'data/csv/PDC2020_training/pdc_2020_1210110.csv.gz', 'data/csv/PDC2020_training/pdc_2020_1210111.csv.gz', 'data/csv/PDC2020_training/pdc_2020_1211000.csv.gz', 'data/csv/PDC2020_training/pdc_2020_1211001.csv.gz', 'data/csv/PDC2020_training/pdc_2020_1211010.csv.gz', 'data/csv/PDC2020_training/pdc_2020_1211011.csv.gz', 'data/csv/PDC2020_training/pdc_2020_1211100.csv.gz', 'data/csv/PDC2020_training/pdc_2020_1211101.csv.gz', 'data/csv/PDC2020_training/pdc_2020_1211110.csv.gz', 'data/csv/PDC2020_training/pdc_2020_1211111.csv.gz']\n"
     ]
    },
    {
     "data": {
      "text/html": [
       "<div>\n",
       "<style scoped>\n",
       "    .dataframe tbody tr th:only-of-type {\n",
       "        vertical-align: middle;\n",
       "    }\n",
       "\n",
       "    .dataframe tbody tr th {\n",
       "        vertical-align: top;\n",
       "    }\n",
       "\n",
       "    .dataframe thead th {\n",
       "        text-align: right;\n",
       "    }\n",
       "</style>\n",
       "<table border=\"1\" class=\"dataframe\">\n",
       "  <thead>\n",
       "    <tr style=\"text-align: right;\">\n",
       "      <th></th>\n",
       "      <th>activity</th>\n",
       "      <th>trace_id</th>\n",
       "      <th>event_id</th>\n",
       "    </tr>\n",
       "    <tr>\n",
       "      <th>trace_id</th>\n",
       "      <th></th>\n",
       "      <th></th>\n",
       "      <th></th>\n",
       "    </tr>\n",
       "  </thead>\n",
       "  <tbody>\n",
       "    <tr>\n",
       "      <th>trace 153601</th>\n",
       "      <td>###start###</td>\n",
       "      <td>trace 153601</td>\n",
       "      <td>0</td>\n",
       "    </tr>\n",
       "    <tr>\n",
       "      <th>trace 153601</th>\n",
       "      <td>t26</td>\n",
       "      <td>trace 153601</td>\n",
       "      <td>1</td>\n",
       "    </tr>\n",
       "    <tr>\n",
       "      <th>trace 153601</th>\n",
       "      <td>t35</td>\n",
       "      <td>trace 153601</td>\n",
       "      <td>2</td>\n",
       "    </tr>\n",
       "    <tr>\n",
       "      <th>trace 153601</th>\n",
       "      <td>t44</td>\n",
       "      <td>trace 153601</td>\n",
       "      <td>3</td>\n",
       "    </tr>\n",
       "    <tr>\n",
       "      <th>trace 153601</th>\n",
       "      <td>t34</td>\n",
       "      <td>trace 153601</td>\n",
       "      <td>4</td>\n",
       "    </tr>\n",
       "  </tbody>\n",
       "</table>\n",
       "</div>"
      ],
      "text/plain": [
       "                 activity      trace_id event_id\n",
       "trace_id                                        \n",
       "trace 153601  ###start###  trace 153601        0\n",
       "trace 153601          t26  trace 153601        1\n",
       "trace 153601          t35  trace 153601        2\n",
       "trace 153601          t44  trace 153601        3\n",
       "trace 153601          t34  trace 153601        4"
      ]
     },
     "execution_count": 3,
     "metadata": {},
     "output_type": "execute_result"
    }
   ],
   "source": [
    "log_path='data/csv/PDC2020_training/'\n",
    "log = import_log(log_path)\n",
    "\n",
    "num_traces = len(log['trace_id'].unique())\n",
    "ratio = 0.8\n",
    "traces_for_normal_model = int(num_traces * ratio)\n",
    "\n",
    "log = log[log['trace_id'].str.split(' ').str[1].astype(int) > traces_for_normal_model]\n",
    "log.head(5)"
   ]
  },
  {
   "cell_type": "markdown",
   "metadata": {},
   "source": [
    "# Process Discovery Using The IM"
   ]
  },
  {
   "cell_type": "code",
   "execution_count": 4,
   "metadata": {},
   "outputs": [],
   "source": [
    "import pandas as pd\n",
    "import pm4py"
   ]
  },
  {
   "cell_type": "code",
   "execution_count": 5,
   "metadata": {},
   "outputs": [
    {
     "name": "stderr",
     "output_type": "stream",
     "text": [
      "/lv_local/home/romh/PROGS/anaconda3/envs/dapnn/lib/python3.9/site-packages/pm4py/objects/log/util/dataframe_utils.py:180: UserWarning: Could not infer format, so each element will be parsed individually, falling back to `dateutil`. To ensure parsing is consistent and as-expected, please specify a format.\n",
      "  df[col] = pd.to_datetime(df[col], utc=True)\n",
      "/lv_local/home/romh/PROGS/anaconda3/envs/dapnn/lib/python3.9/site-packages/pm4py/objects/log/util/dataframe_utils.py:180: UserWarning: Could not infer format, so each element will be parsed individually, falling back to `dateutil`. To ensure parsing is consistent and as-expected, please specify a format.\n",
      "  df[col] = pd.to_datetime(df[col], utc=True)\n",
      "/lv_local/home/romh/PROGS/anaconda3/envs/dapnn/lib/python3.9/site-packages/pm4py/objects/log/util/dataframe_utils.py:180: UserWarning: Could not infer format, so each element will be parsed individually, falling back to `dateutil`. To ensure parsing is consistent and as-expected, please specify a format.\n",
      "  df[col] = pd.to_datetime(df[col], utc=True)\n",
      "/lv_local/home/romh/PROGS/anaconda3/envs/dapnn/lib/python3.9/site-packages/pm4py/objects/log/util/dataframe_utils.py:180: UserWarning: Could not infer format, so each element will be parsed individually, falling back to `dateutil`. To ensure parsing is consistent and as-expected, please specify a format.\n",
      "  df[col] = pd.to_datetime(df[col], utc=True)\n",
      "/lv_local/home/romh/PROGS/anaconda3/envs/dapnn/lib/python3.9/site-packages/pm4py/utils.py:537: UserWarning: the EventLog class has been deprecated and will be removed in a future release.\n",
      "  warnings.warn(\"the EventLog class has been deprecated and will be removed in a future release.\")\n"
     ]
    }
   ],
   "source": [
    "log = pm4py.format_dataframe(log, case_id='trace_id', activity_key='activity', timestamp_key='event_id')\n",
    "log = pm4py.convert_to_event_log(log)\n",
    "model_str = 'heuristic' # Change"
   ]
  },
  {
   "cell_type": "code",
   "execution_count": 13,
   "metadata": {},
   "outputs": [],
   "source": [
    "model_str = 'ILP'"
   ]
  },
  {
   "cell_type": "code",
   "execution_count": 6,
   "metadata": {},
   "outputs": [],
   "source": [
    "def get_process_model(log, model_str):\n",
    "    if model_str == 'IM':\n",
    "        net, im, fm = pm4py.discover_petri_net_inductive(log)\n",
    "    elif model_str == 'alpha':\n",
    "        net, im, fm = pm4py.discover_petri_net_alpha(log)\n",
    "    elif model_str == 'heuristic':\n",
    "        net, im, fm = pm4py.discover_petri_net_heuristics(log)\n",
    "    return net, im, fm"
   ]
  },
  {
   "cell_type": "code",
   "execution_count": 14,
   "metadata": {},
   "outputs": [
    {
     "name": "stderr",
     "output_type": "stream",
     "text": [
      "/lv_local/home/romh/PROGS/anaconda3/envs/dapnn/lib/python3.9/site-packages/ipywidgets/widgets/widget.py:528: DeprecationWarning: The `ipykernel.comm.Comm` class has been deprecated. Please use the `comm` module instead.For creating comms, use the function `from comm import create_comm`.\n",
      "  self.comm = Comm(**args)\n"
     ]
    },
    {
     "data": {
      "application/vnd.jupyter.widget-view+json": {
       "model_id": "5d2b5cbecd86468fbc9ae1a69ac9aa30",
       "version_major": 2,
       "version_minor": 0
      },
      "text/plain": [
       "discovering Petri net using ILP miner, completed causal relations ::   0%|          | 0/108 [00:00<?, ?it/s]"
      ]
     },
     "metadata": {},
     "output_type": "display_data"
    }
   ],
   "source": [
    "net, im, fm = get_process_model(log, model_str)"
   ]
  },
  {
   "cell_type": "markdown",
   "metadata": {},
   "source": [
    "# Test Set"
   ]
  },
  {
   "cell_type": "code",
   "execution_count": 8,
   "metadata": {},
   "outputs": [
    {
     "name": "stdout",
     "output_type": "stream",
     "text": [
      "['data/csv/PDC2020_ground_truth/pdc_2020_0000000.csv.gz', 'data/csv/PDC2020_ground_truth/pdc_2020_0000001.csv.gz', 'data/csv/PDC2020_ground_truth/pdc_2020_0000010.csv.gz', 'data/csv/PDC2020_ground_truth/pdc_2020_0000011.csv.gz', 'data/csv/PDC2020_ground_truth/pdc_2020_0000100.csv.gz', 'data/csv/PDC2020_ground_truth/pdc_2020_0000101.csv.gz', 'data/csv/PDC2020_ground_truth/pdc_2020_0000110.csv.gz', 'data/csv/PDC2020_ground_truth/pdc_2020_0000111.csv.gz', 'data/csv/PDC2020_ground_truth/pdc_2020_0001000.csv.gz', 'data/csv/PDC2020_ground_truth/pdc_2020_0001001.csv.gz', 'data/csv/PDC2020_ground_truth/pdc_2020_0001010.csv.gz', 'data/csv/PDC2020_ground_truth/pdc_2020_0001011.csv.gz', 'data/csv/PDC2020_ground_truth/pdc_2020_0001100.csv.gz', 'data/csv/PDC2020_ground_truth/pdc_2020_0001101.csv.gz', 'data/csv/PDC2020_ground_truth/pdc_2020_0001110.csv.gz', 'data/csv/PDC2020_ground_truth/pdc_2020_0001111.csv.gz', 'data/csv/PDC2020_ground_truth/pdc_2020_0010000.csv.gz', 'data/csv/PDC2020_ground_truth/pdc_2020_0010001.csv.gz', 'data/csv/PDC2020_ground_truth/pdc_2020_0010010.csv.gz', 'data/csv/PDC2020_ground_truth/pdc_2020_0010011.csv.gz', 'data/csv/PDC2020_ground_truth/pdc_2020_0010100.csv.gz', 'data/csv/PDC2020_ground_truth/pdc_2020_0010101.csv.gz', 'data/csv/PDC2020_ground_truth/pdc_2020_0010110.csv.gz', 'data/csv/PDC2020_ground_truth/pdc_2020_0010111.csv.gz', 'data/csv/PDC2020_ground_truth/pdc_2020_0011000.csv.gz', 'data/csv/PDC2020_ground_truth/pdc_2020_0011001.csv.gz', 'data/csv/PDC2020_ground_truth/pdc_2020_0011010.csv.gz', 'data/csv/PDC2020_ground_truth/pdc_2020_0011011.csv.gz', 'data/csv/PDC2020_ground_truth/pdc_2020_0011100.csv.gz', 'data/csv/PDC2020_ground_truth/pdc_2020_0011101.csv.gz', 'data/csv/PDC2020_ground_truth/pdc_2020_0011110.csv.gz', 'data/csv/PDC2020_ground_truth/pdc_2020_0011111.csv.gz', 'data/csv/PDC2020_ground_truth/pdc_2020_0100000.csv.gz', 'data/csv/PDC2020_ground_truth/pdc_2020_0100001.csv.gz', 'data/csv/PDC2020_ground_truth/pdc_2020_0100010.csv.gz', 'data/csv/PDC2020_ground_truth/pdc_2020_0100011.csv.gz', 'data/csv/PDC2020_ground_truth/pdc_2020_0100100.csv.gz', 'data/csv/PDC2020_ground_truth/pdc_2020_0100101.csv.gz', 'data/csv/PDC2020_ground_truth/pdc_2020_0100110.csv.gz', 'data/csv/PDC2020_ground_truth/pdc_2020_0100111.csv.gz', 'data/csv/PDC2020_ground_truth/pdc_2020_0101000.csv.gz', 'data/csv/PDC2020_ground_truth/pdc_2020_0101001.csv.gz', 'data/csv/PDC2020_ground_truth/pdc_2020_0101010.csv.gz', 'data/csv/PDC2020_ground_truth/pdc_2020_0101011.csv.gz', 'data/csv/PDC2020_ground_truth/pdc_2020_0101100.csv.gz', 'data/csv/PDC2020_ground_truth/pdc_2020_0101101.csv.gz', 'data/csv/PDC2020_ground_truth/pdc_2020_0101110.csv.gz', 'data/csv/PDC2020_ground_truth/pdc_2020_0101111.csv.gz', 'data/csv/PDC2020_ground_truth/pdc_2020_0110000.csv.gz', 'data/csv/PDC2020_ground_truth/pdc_2020_0110001.csv.gz', 'data/csv/PDC2020_ground_truth/pdc_2020_0110010.csv.gz', 'data/csv/PDC2020_ground_truth/pdc_2020_0110011.csv.gz', 'data/csv/PDC2020_ground_truth/pdc_2020_0110100.csv.gz', 'data/csv/PDC2020_ground_truth/pdc_2020_0110101.csv.gz', 'data/csv/PDC2020_ground_truth/pdc_2020_0110110.csv.gz', 'data/csv/PDC2020_ground_truth/pdc_2020_0110111.csv.gz', 'data/csv/PDC2020_ground_truth/pdc_2020_0111000.csv.gz', 'data/csv/PDC2020_ground_truth/pdc_2020_0111001.csv.gz', 'data/csv/PDC2020_ground_truth/pdc_2020_0111010.csv.gz', 'data/csv/PDC2020_ground_truth/pdc_2020_0111011.csv.gz', 'data/csv/PDC2020_ground_truth/pdc_2020_0111100.csv.gz', 'data/csv/PDC2020_ground_truth/pdc_2020_0111101.csv.gz', 'data/csv/PDC2020_ground_truth/pdc_2020_0111110.csv.gz', 'data/csv/PDC2020_ground_truth/pdc_2020_0111111.csv.gz', 'data/csv/PDC2020_ground_truth/pdc_2020_0200000.csv.gz', 'data/csv/PDC2020_ground_truth/pdc_2020_0200001.csv.gz', 'data/csv/PDC2020_ground_truth/pdc_2020_0200010.csv.gz', 'data/csv/PDC2020_ground_truth/pdc_2020_0200011.csv.gz', 'data/csv/PDC2020_ground_truth/pdc_2020_0200100.csv.gz', 'data/csv/PDC2020_ground_truth/pdc_2020_0200101.csv.gz', 'data/csv/PDC2020_ground_truth/pdc_2020_0200110.csv.gz', 'data/csv/PDC2020_ground_truth/pdc_2020_0200111.csv.gz', 'data/csv/PDC2020_ground_truth/pdc_2020_0201000.csv.gz', 'data/csv/PDC2020_ground_truth/pdc_2020_0201001.csv.gz', 'data/csv/PDC2020_ground_truth/pdc_2020_0201010.csv.gz', 'data/csv/PDC2020_ground_truth/pdc_2020_0201011.csv.gz', 'data/csv/PDC2020_ground_truth/pdc_2020_0201100.csv.gz', 'data/csv/PDC2020_ground_truth/pdc_2020_0201101.csv.gz', 'data/csv/PDC2020_ground_truth/pdc_2020_0201110.csv.gz', 'data/csv/PDC2020_ground_truth/pdc_2020_0201111.csv.gz', 'data/csv/PDC2020_ground_truth/pdc_2020_0210000.csv.gz', 'data/csv/PDC2020_ground_truth/pdc_2020_0210001.csv.gz', 'data/csv/PDC2020_ground_truth/pdc_2020_0210010.csv.gz', 'data/csv/PDC2020_ground_truth/pdc_2020_0210011.csv.gz', 'data/csv/PDC2020_ground_truth/pdc_2020_0210100.csv.gz', 'data/csv/PDC2020_ground_truth/pdc_2020_0210101.csv.gz', 'data/csv/PDC2020_ground_truth/pdc_2020_0210110.csv.gz', 'data/csv/PDC2020_ground_truth/pdc_2020_0210111.csv.gz', 'data/csv/PDC2020_ground_truth/pdc_2020_0211000.csv.gz', 'data/csv/PDC2020_ground_truth/pdc_2020_0211001.csv.gz', 'data/csv/PDC2020_ground_truth/pdc_2020_0211010.csv.gz', 'data/csv/PDC2020_ground_truth/pdc_2020_0211011.csv.gz', 'data/csv/PDC2020_ground_truth/pdc_2020_0211100.csv.gz', 'data/csv/PDC2020_ground_truth/pdc_2020_0211101.csv.gz', 'data/csv/PDC2020_ground_truth/pdc_2020_0211110.csv.gz', 'data/csv/PDC2020_ground_truth/pdc_2020_0211111.csv.gz', 'data/csv/PDC2020_ground_truth/pdc_2020_1000000.csv.gz', 'data/csv/PDC2020_ground_truth/pdc_2020_1000001.csv.gz', 'data/csv/PDC2020_ground_truth/pdc_2020_1000010.csv.gz', 'data/csv/PDC2020_ground_truth/pdc_2020_1000011.csv.gz', 'data/csv/PDC2020_ground_truth/pdc_2020_1000100.csv.gz', 'data/csv/PDC2020_ground_truth/pdc_2020_1000101.csv.gz', 'data/csv/PDC2020_ground_truth/pdc_2020_1000110.csv.gz', 'data/csv/PDC2020_ground_truth/pdc_2020_1000111.csv.gz', 'data/csv/PDC2020_ground_truth/pdc_2020_1001000.csv.gz', 'data/csv/PDC2020_ground_truth/pdc_2020_1001001.csv.gz', 'data/csv/PDC2020_ground_truth/pdc_2020_1001010.csv.gz', 'data/csv/PDC2020_ground_truth/pdc_2020_1001011.csv.gz', 'data/csv/PDC2020_ground_truth/pdc_2020_1001100.csv.gz', 'data/csv/PDC2020_ground_truth/pdc_2020_1001101.csv.gz', 'data/csv/PDC2020_ground_truth/pdc_2020_1001110.csv.gz', 'data/csv/PDC2020_ground_truth/pdc_2020_1001111.csv.gz', 'data/csv/PDC2020_ground_truth/pdc_2020_1010000.csv.gz', 'data/csv/PDC2020_ground_truth/pdc_2020_1010001.csv.gz', 'data/csv/PDC2020_ground_truth/pdc_2020_1010010.csv.gz', 'data/csv/PDC2020_ground_truth/pdc_2020_1010011.csv.gz', 'data/csv/PDC2020_ground_truth/pdc_2020_1010100.csv.gz', 'data/csv/PDC2020_ground_truth/pdc_2020_1010101.csv.gz', 'data/csv/PDC2020_ground_truth/pdc_2020_1010110.csv.gz', 'data/csv/PDC2020_ground_truth/pdc_2020_1010111.csv.gz', 'data/csv/PDC2020_ground_truth/pdc_2020_1011000.csv.gz', 'data/csv/PDC2020_ground_truth/pdc_2020_1011001.csv.gz', 'data/csv/PDC2020_ground_truth/pdc_2020_1011010.csv.gz', 'data/csv/PDC2020_ground_truth/pdc_2020_1011011.csv.gz', 'data/csv/PDC2020_ground_truth/pdc_2020_1011100.csv.gz', 'data/csv/PDC2020_ground_truth/pdc_2020_1011101.csv.gz', 'data/csv/PDC2020_ground_truth/pdc_2020_1011110.csv.gz', 'data/csv/PDC2020_ground_truth/pdc_2020_1011111.csv.gz', 'data/csv/PDC2020_ground_truth/pdc_2020_1100000.csv.gz', 'data/csv/PDC2020_ground_truth/pdc_2020_1100001.csv.gz', 'data/csv/PDC2020_ground_truth/pdc_2020_1100010.csv.gz', 'data/csv/PDC2020_ground_truth/pdc_2020_1100011.csv.gz', 'data/csv/PDC2020_ground_truth/pdc_2020_1100100.csv.gz', 'data/csv/PDC2020_ground_truth/pdc_2020_1100101.csv.gz', 'data/csv/PDC2020_ground_truth/pdc_2020_1100110.csv.gz', 'data/csv/PDC2020_ground_truth/pdc_2020_1100111.csv.gz', 'data/csv/PDC2020_ground_truth/pdc_2020_1101000.csv.gz', 'data/csv/PDC2020_ground_truth/pdc_2020_1101001.csv.gz', 'data/csv/PDC2020_ground_truth/pdc_2020_1101010.csv.gz', 'data/csv/PDC2020_ground_truth/pdc_2020_1101011.csv.gz', 'data/csv/PDC2020_ground_truth/pdc_2020_1101100.csv.gz', 'data/csv/PDC2020_ground_truth/pdc_2020_1101101.csv.gz', 'data/csv/PDC2020_ground_truth/pdc_2020_1101110.csv.gz', 'data/csv/PDC2020_ground_truth/pdc_2020_1101111.csv.gz', 'data/csv/PDC2020_ground_truth/pdc_2020_1110000.csv.gz', 'data/csv/PDC2020_ground_truth/pdc_2020_1110001.csv.gz', 'data/csv/PDC2020_ground_truth/pdc_2020_1110010.csv.gz', 'data/csv/PDC2020_ground_truth/pdc_2020_1110011.csv.gz', 'data/csv/PDC2020_ground_truth/pdc_2020_1110100.csv.gz', 'data/csv/PDC2020_ground_truth/pdc_2020_1110101.csv.gz', 'data/csv/PDC2020_ground_truth/pdc_2020_1110110.csv.gz', 'data/csv/PDC2020_ground_truth/pdc_2020_1110111.csv.gz', 'data/csv/PDC2020_ground_truth/pdc_2020_1111000.csv.gz', 'data/csv/PDC2020_ground_truth/pdc_2020_1111001.csv.gz', 'data/csv/PDC2020_ground_truth/pdc_2020_1111010.csv.gz', 'data/csv/PDC2020_ground_truth/pdc_2020_1111011.csv.gz', 'data/csv/PDC2020_ground_truth/pdc_2020_1111100.csv.gz', 'data/csv/PDC2020_ground_truth/pdc_2020_1111101.csv.gz', 'data/csv/PDC2020_ground_truth/pdc_2020_1111110.csv.gz', 'data/csv/PDC2020_ground_truth/pdc_2020_1111111.csv.gz', 'data/csv/PDC2020_ground_truth/pdc_2020_1200000.csv.gz', 'data/csv/PDC2020_ground_truth/pdc_2020_1200001.csv.gz', 'data/csv/PDC2020_ground_truth/pdc_2020_1200010.csv.gz', 'data/csv/PDC2020_ground_truth/pdc_2020_1200011.csv.gz', 'data/csv/PDC2020_ground_truth/pdc_2020_1200100.csv.gz', 'data/csv/PDC2020_ground_truth/pdc_2020_1200101.csv.gz', 'data/csv/PDC2020_ground_truth/pdc_2020_1200110.csv.gz', 'data/csv/PDC2020_ground_truth/pdc_2020_1200111.csv.gz', 'data/csv/PDC2020_ground_truth/pdc_2020_1201000.csv.gz', 'data/csv/PDC2020_ground_truth/pdc_2020_1201001.csv.gz', 'data/csv/PDC2020_ground_truth/pdc_2020_1201010.csv.gz', 'data/csv/PDC2020_ground_truth/pdc_2020_1201011.csv.gz', 'data/csv/PDC2020_ground_truth/pdc_2020_1201100.csv.gz', 'data/csv/PDC2020_ground_truth/pdc_2020_1201101.csv.gz', 'data/csv/PDC2020_ground_truth/pdc_2020_1201110.csv.gz', 'data/csv/PDC2020_ground_truth/pdc_2020_1201111.csv.gz', 'data/csv/PDC2020_ground_truth/pdc_2020_1210000.csv.gz', 'data/csv/PDC2020_ground_truth/pdc_2020_1210001.csv.gz', 'data/csv/PDC2020_ground_truth/pdc_2020_1210010.csv.gz', 'data/csv/PDC2020_ground_truth/pdc_2020_1210011.csv.gz', 'data/csv/PDC2020_ground_truth/pdc_2020_1210100.csv.gz', 'data/csv/PDC2020_ground_truth/pdc_2020_1210101.csv.gz', 'data/csv/PDC2020_ground_truth/pdc_2020_1210110.csv.gz', 'data/csv/PDC2020_ground_truth/pdc_2020_1210111.csv.gz', 'data/csv/PDC2020_ground_truth/pdc_2020_1211000.csv.gz', 'data/csv/PDC2020_ground_truth/pdc_2020_1211001.csv.gz', 'data/csv/PDC2020_ground_truth/pdc_2020_1211010.csv.gz', 'data/csv/PDC2020_ground_truth/pdc_2020_1211011.csv.gz', 'data/csv/PDC2020_ground_truth/pdc_2020_1211100.csv.gz', 'data/csv/PDC2020_ground_truth/pdc_2020_1211101.csv.gz', 'data/csv/PDC2020_ground_truth/pdc_2020_1211110.csv.gz', 'data/csv/PDC2020_ground_truth/pdc_2020_1211111.csv.gz']\n"
     ]
    },
    {
     "data": {
      "text/html": [
       "<div>\n",
       "<style scoped>\n",
       "    .dataframe tbody tr th:only-of-type {\n",
       "        vertical-align: middle;\n",
       "    }\n",
       "\n",
       "    .dataframe tbody tr th {\n",
       "        vertical-align: top;\n",
       "    }\n",
       "\n",
       "    .dataframe thead th {\n",
       "        text-align: right;\n",
       "    }\n",
       "</style>\n",
       "<table border=\"1\" class=\"dataframe\">\n",
       "  <thead>\n",
       "    <tr style=\"text-align: right;\">\n",
       "      <th></th>\n",
       "      <th>activity</th>\n",
       "      <th>trace_id</th>\n",
       "      <th>case:pdc:costs</th>\n",
       "      <th>normal</th>\n",
       "      <th>event_id</th>\n",
       "    </tr>\n",
       "    <tr>\n",
       "      <th>trace_id</th>\n",
       "      <th></th>\n",
       "      <th></th>\n",
       "      <th></th>\n",
       "      <th></th>\n",
       "      <th></th>\n",
       "    </tr>\n",
       "  </thead>\n",
       "  <tbody>\n",
       "    <tr>\n",
       "      <th>trace 1</th>\n",
       "      <td>###start###</td>\n",
       "      <td>trace 1</td>\n",
       "      <td>2.0</td>\n",
       "      <td>False</td>\n",
       "      <td>0</td>\n",
       "    </tr>\n",
       "    <tr>\n",
       "      <th>trace 1</th>\n",
       "      <td>t11</td>\n",
       "      <td>trace 1</td>\n",
       "      <td>2.0</td>\n",
       "      <td>False</td>\n",
       "      <td>1</td>\n",
       "    </tr>\n",
       "    <tr>\n",
       "      <th>trace 1</th>\n",
       "      <td>t21</td>\n",
       "      <td>trace 1</td>\n",
       "      <td>2.0</td>\n",
       "      <td>False</td>\n",
       "      <td>2</td>\n",
       "    </tr>\n",
       "    <tr>\n",
       "      <th>trace 1</th>\n",
       "      <td>t26</td>\n",
       "      <td>trace 1</td>\n",
       "      <td>2.0</td>\n",
       "      <td>False</td>\n",
       "      <td>3</td>\n",
       "    </tr>\n",
       "    <tr>\n",
       "      <th>trace 1</th>\n",
       "      <td>t35</td>\n",
       "      <td>trace 1</td>\n",
       "      <td>2.0</td>\n",
       "      <td>False</td>\n",
       "      <td>4</td>\n",
       "    </tr>\n",
       "  </tbody>\n",
       "</table>\n",
       "</div>"
      ],
      "text/plain": [
       "             activity trace_id case:pdc:costs normal event_id\n",
       "trace_id                                                     \n",
       "trace 1   ###start###  trace 1            2.0  False        0\n",
       "trace 1           t11  trace 1            2.0  False        1\n",
       "trace 1           t21  trace 1            2.0  False        2\n",
       "trace 1           t26  trace 1            2.0  False        3\n",
       "trace 1           t35  trace 1            2.0  False        4"
      ]
     },
     "execution_count": 8,
     "metadata": {},
     "output_type": "execute_result"
    }
   ],
   "source": [
    "test_path = 'data/csv/PDC2020_ground_truth/'\n",
    "test_log = import_log(test_path)\n",
    "test_log.head(5)"
   ]
  },
  {
   "cell_type": "code",
   "execution_count": 9,
   "metadata": {},
   "outputs": [],
   "source": [
    "df = test_log.copy()\n",
    "df = df[['trace_id', 'normal']]\n",
    "df = df.drop_duplicates()"
   ]
  },
  {
   "cell_type": "code",
   "execution_count": 10,
   "metadata": {},
   "outputs": [
    {
     "name": "stderr",
     "output_type": "stream",
     "text": [
      "/lv_local/home/romh/PROGS/anaconda3/envs/dapnn/lib/python3.9/site-packages/pm4py/objects/log/util/dataframe_utils.py:180: UserWarning: Could not infer format, so each element will be parsed individually, falling back to `dateutil`. To ensure parsing is consistent and as-expected, please specify a format.\n",
      "  df[col] = pd.to_datetime(df[col], utc=True)\n",
      "/lv_local/home/romh/PROGS/anaconda3/envs/dapnn/lib/python3.9/site-packages/pm4py/objects/log/util/dataframe_utils.py:180: UserWarning: Could not infer format, so each element will be parsed individually, falling back to `dateutil`. To ensure parsing is consistent and as-expected, please specify a format.\n",
      "  df[col] = pd.to_datetime(df[col], utc=True)\n",
      "/lv_local/home/romh/PROGS/anaconda3/envs/dapnn/lib/python3.9/site-packages/pm4py/objects/log/util/dataframe_utils.py:180: UserWarning: Could not infer format, so each element will be parsed individually, falling back to `dateutil`. To ensure parsing is consistent and as-expected, please specify a format.\n",
      "  df[col] = pd.to_datetime(df[col], utc=True)\n",
      "/lv_local/home/romh/PROGS/anaconda3/envs/dapnn/lib/python3.9/site-packages/pm4py/objects/log/util/dataframe_utils.py:180: UserWarning: Could not infer format, so each element will be parsed individually, falling back to `dateutil`. To ensure parsing is consistent and as-expected, please specify a format.\n",
      "  df[col] = pd.to_datetime(df[col], utc=True)\n",
      "/lv_local/home/romh/PROGS/anaconda3/envs/dapnn/lib/python3.9/site-packages/pm4py/utils.py:537: UserWarning: the EventLog class has been deprecated and will be removed in a future release.\n",
      "  warnings.warn(\"the EventLog class has been deprecated and will be removed in a future release.\")\n"
     ]
    }
   ],
   "source": [
    "test_log = pm4py.format_dataframe(test_log, case_id='trace_id', activity_key='activity', timestamp_key='event_id')\n",
    "test_log = pm4py.convert_to_event_log(test_log)"
   ]
  },
  {
   "cell_type": "code",
   "execution_count": 15,
   "metadata": {},
   "outputs": [],
   "source": [
    "def replay_log(log, net, im, fm ,df, model_str):\n",
    "    replayed_log = pm4py.conformance_diagnostics_token_based_replay(log, net, im, fm)\n",
    "    predicted = dict()\n",
    "    for i, trace in enumerate(replayed_log):\n",
    "        predicted[f'trace {i+1}'] = not trace['trace_is_fit'] # the trace is anomalous if it is not fit\n",
    "    predicted = pd.DataFrame.from_dict(predicted, orient='index', columns=['predicted'])\n",
    "    predicted.index.name = 'trace_id'\n",
    "    predicted = predicted.join(df, on='trace_id')[['predicted', 'normal']]\n",
    "    predicted['normal'].replace({True: False, False: True}, inplace=True)\n",
    "    predicted.columns = ['y_pred', 'y_true']\n",
    "    predicted.to_csv('save_model/' + model_str + '_y_pred_y_true.csv', index=False)\n",
    "    return predicted"
   ]
  },
  {
   "cell_type": "code",
   "execution_count": 16,
   "metadata": {},
   "outputs": [
    {
     "data": {
      "application/vnd.jupyter.widget-view+json": {
       "model_id": "a17df41ffa6f40bbb1494078f9a9a53d",
       "version_major": 2,
       "version_minor": 0
      },
      "text/plain": [
       "replaying log with TBR, completed variants ::   0%|          | 0/78736 [00:00<?, ?it/s]"
      ]
     },
     "metadata": {},
     "output_type": "display_data"
    },
    {
     "data": {
      "text/html": [
       "<div>\n",
       "<style scoped>\n",
       "    .dataframe tbody tr th:only-of-type {\n",
       "        vertical-align: middle;\n",
       "    }\n",
       "\n",
       "    .dataframe tbody tr th {\n",
       "        vertical-align: top;\n",
       "    }\n",
       "\n",
       "    .dataframe thead th {\n",
       "        text-align: right;\n",
       "    }\n",
       "</style>\n",
       "<table border=\"1\" class=\"dataframe\">\n",
       "  <thead>\n",
       "    <tr style=\"text-align: right;\">\n",
       "      <th></th>\n",
       "      <th>y_pred</th>\n",
       "      <th>y_true</th>\n",
       "    </tr>\n",
       "    <tr>\n",
       "      <th>trace_id</th>\n",
       "      <th></th>\n",
       "      <th></th>\n",
       "    </tr>\n",
       "  </thead>\n",
       "  <tbody>\n",
       "    <tr>\n",
       "      <th>trace 1</th>\n",
       "      <td>False</td>\n",
       "      <td>True</td>\n",
       "    </tr>\n",
       "    <tr>\n",
       "      <th>trace 2</th>\n",
       "      <td>False</td>\n",
       "      <td>False</td>\n",
       "    </tr>\n",
       "    <tr>\n",
       "      <th>trace 3</th>\n",
       "      <td>False</td>\n",
       "      <td>True</td>\n",
       "    </tr>\n",
       "    <tr>\n",
       "      <th>trace 4</th>\n",
       "      <td>False</td>\n",
       "      <td>True</td>\n",
       "    </tr>\n",
       "    <tr>\n",
       "      <th>trace 5</th>\n",
       "      <td>False</td>\n",
       "      <td>False</td>\n",
       "    </tr>\n",
       "    <tr>\n",
       "      <th>...</th>\n",
       "      <td>...</td>\n",
       "      <td>...</td>\n",
       "    </tr>\n",
       "    <tr>\n",
       "      <th>trace 191996</th>\n",
       "      <td>False</td>\n",
       "      <td>False</td>\n",
       "    </tr>\n",
       "    <tr>\n",
       "      <th>trace 191997</th>\n",
       "      <td>False</td>\n",
       "      <td>False</td>\n",
       "    </tr>\n",
       "    <tr>\n",
       "      <th>trace 191998</th>\n",
       "      <td>False</td>\n",
       "      <td>True</td>\n",
       "    </tr>\n",
       "    <tr>\n",
       "      <th>trace 191999</th>\n",
       "      <td>False</td>\n",
       "      <td>False</td>\n",
       "    </tr>\n",
       "    <tr>\n",
       "      <th>trace 192000</th>\n",
       "      <td>False</td>\n",
       "      <td>False</td>\n",
       "    </tr>\n",
       "  </tbody>\n",
       "</table>\n",
       "<p>192000 rows × 2 columns</p>\n",
       "</div>"
      ],
      "text/plain": [
       "              y_pred  y_true\n",
       "trace_id                    \n",
       "trace 1        False    True\n",
       "trace 2        False   False\n",
       "trace 3        False    True\n",
       "trace 4        False    True\n",
       "trace 5        False   False\n",
       "...              ...     ...\n",
       "trace 191996   False   False\n",
       "trace 191997   False   False\n",
       "trace 191998   False    True\n",
       "trace 191999   False   False\n",
       "trace 192000   False   False\n",
       "\n",
       "[192000 rows x 2 columns]"
      ]
     },
     "execution_count": 16,
     "metadata": {},
     "output_type": "execute_result"
    }
   ],
   "source": [
    "replay_log(test_log, net, im, fm, df, model_str)"
   ]
  }
 ],
 "metadata": {
  "kernelspec": {
   "display_name": "dapnn",
   "language": "python",
   "name": "python3"
  },
  "language_info": {
   "codemirror_mode": {
    "name": "ipython",
    "version": 3
   },
   "file_extension": ".py",
   "mimetype": "text/x-python",
   "name": "python",
   "nbconvert_exporter": "python",
   "pygments_lexer": "ipython3",
   "version": "3.9.18"
  }
 },
 "nbformat": 4,
 "nbformat_minor": 2
}
