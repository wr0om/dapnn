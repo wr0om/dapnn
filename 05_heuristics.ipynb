{
 "cells": [
  {
   "cell_type": "markdown",
   "id": "b615ef02",
   "metadata": {},
   "source": [
    "# Heuristics \n",
    "> This notebook reimplements and prints different heuristics from Nolle 2019 including\n",
    "- elbow_up\n",
    "- elbow_down\n",
    "- lowest_plateau_left\n",
    "- lowest_plateau_right\n",
    "- lowest_plateau_centered\n",
    "- best\n",
    "\n",
    "> Additional we show the how prediction score normalization affects the anomaly ratio curve and leads to a performance boost im terms of F1-Score on the anomaly detection task"
   ]
  },
  {
   "cell_type": "code",
   "execution_count": 1,
   "id": "03918355",
   "metadata": {},
   "outputs": [],
   "source": [
    "#default_exp heuristics"
   ]
  },
  {
   "cell_type": "markdown",
   "id": "3fc291de",
   "metadata": {},
   "source": [
    "<h1>Table of Contents<span class=\"tocSkip\"></span></h1>\n",
    "<div class=\"toc\"><ul class=\"toc-item\"><li><span><a href=\"#Get-Anomaly-Scores:\" data-toc-modified-id=\"Get-Anomaly-Scores:-1\"><span class=\"toc-item-num\">1&nbsp;&nbsp;</span>Get Anomaly Scores:</a></span></li><li><span><a href=\"#Get-Predictions-per-threshold\" data-toc-modified-id=\"Get-Predictions-per-threshold-2\"><span class=\"toc-item-num\">2&nbsp;&nbsp;</span>Get Predictions per threshold</a></span></li><li><span><a href=\"#Heuristics\" data-toc-modified-id=\"Heuristics-3\"><span class=\"toc-item-num\">3&nbsp;&nbsp;</span>Heuristics</a></span><ul class=\"toc-item\"><li><span><a href=\"#Best-Threshold\" data-toc-modified-id=\"Best-Threshold-3.1\"><span class=\"toc-item-num\">3.1&nbsp;&nbsp;</span>Best Threshold</a></span></li><li><span><a href=\"#Fixed-Threshold\" data-toc-modified-id=\"Fixed-Threshold-3.2\"><span class=\"toc-item-num\">3.2&nbsp;&nbsp;</span>Fixed Threshold</a></span></li><li><span><a href=\"#Ratio-Heuristic\" data-toc-modified-id=\"Ratio-Heuristic-3.3\"><span class=\"toc-item-num\">3.3&nbsp;&nbsp;</span>Ratio Heuristic</a></span></li><li><span><a href=\"#Ellbow-Heuristic\" data-toc-modified-id=\"Ellbow-Heuristic-3.4\"><span class=\"toc-item-num\">3.4&nbsp;&nbsp;</span>Ellbow Heuristic</a></span></li><li><span><a href=\"#Lowest-Plateau-Heuristic\" data-toc-modified-id=\"Lowest-Plateau-Heuristic-3.5\"><span class=\"toc-item-num\">3.5&nbsp;&nbsp;</span>Lowest Plateau Heuristic</a></span></li></ul></li><li><span><a href=\"#Visualization\" data-toc-modified-id=\"Visualization-4\"><span class=\"toc-item-num\">4&nbsp;&nbsp;</span>Visualization</a></span></li><li><span><a href=\"#Impact-of-Prediction-Score-Normalization\" data-toc-modified-id=\"Impact-of-Prediction-Score-Normalization-5\"><span class=\"toc-item-num\">5&nbsp;&nbsp;</span>Impact of Prediction Score Normalization</a></span></li></ul></div>"
   ]
  },
  {
   "cell_type": "code",
   "execution_count": 2,
   "id": "70adbf6c",
   "metadata": {},
   "outputs": [],
   "source": [
    "%load_ext autoreload\n",
    "%autoreload 2\n",
    "%matplotlib inline"
   ]
  },
  {
   "cell_type": "code",
   "execution_count": 3,
   "id": "3d5f39e4",
   "metadata": {},
   "outputs": [
    {
     "name": "stderr",
     "output_type": "stream",
     "text": [
      "c:\\Users\\Rom\\anaconda3\\envs\\dapnn\\lib\\site-packages\\tqdm\\auto.py:21: TqdmWarning: IProgress not found. Please update jupyter and ipywidgets. See https://ipywidgets.readthedocs.io/en/stable/user_install.html\n",
      "  from .autonotebook import tqdm as notebook_tqdm\n"
     ]
    }
   ],
   "source": [
    "#export\n",
    "from dapnn.imports import *\n",
    "from dapnn.data_processing import *\n",
    "\n",
    "from dapnn.anomaly import * \n",
    "import seaborn as sns\n",
    "sns.set_theme(style=\"darkgrid\")"
   ]
  },
  {
   "cell_type": "code",
   "execution_count": 4,
   "id": "c67301c5",
   "metadata": {},
   "outputs": [
    {
     "ename": "NameError",
     "evalue": "name 'notebook2script' is not defined",
     "output_type": "error",
     "traceback": [
      "\u001b[1;31m---------------------------------------------------------------------------\u001b[0m",
      "\u001b[1;31mNameError\u001b[0m                                 Traceback (most recent call last)",
      "Cell \u001b[1;32mIn[4], line 1\u001b[0m\n\u001b[1;32m----> 1\u001b[0m \u001b[43mnotebook2script\u001b[49m(\u001b[38;5;124m'\u001b[39m\u001b[38;5;124m05_heuristics.ipynb\u001b[39m\u001b[38;5;124m'\u001b[39m)\n",
      "\u001b[1;31mNameError\u001b[0m: name 'notebook2script' is not defined"
     ]
    }
   ],
   "source": [
    "# notebook2script('05_heuristics.ipynb')"
   ]
  },
  {
   "cell_type": "markdown",
   "id": "ec2824f0",
   "metadata": {},
   "source": [
    "## Get Anomaly Scores:"
   ]
  },
  {
   "cell_type": "code",
   "execution_count": 5,
   "id": "265368ae",
   "metadata": {},
   "outputs": [],
   "source": [
    "#export\n",
    "from sklearn.metrics import confusion_matrix\n",
    "\n",
    "def f_score(y_true, y_pred,sample_weight=None):\n",
    "    C = confusion_matrix(y_true, y_pred, sample_weight=sample_weight)\n",
    "    with np.errstate(divide=\"ignore\", invalid=\"ignore\"):\n",
    "        per_class = np.diag(C) / C.sum(axis=1)\n",
    "    if np.any(np.isnan(per_class)):\n",
    "        warnings.warn(\"y_pred contains classes not in y_true\")\n",
    "        per_class = per_class[~np.isnan(per_class)]\n",
    "    P = per_class[0]\n",
    "    N = per_class[1]\n",
    "    score = 2*(P*N)/(P+N)\n",
    "    return score"
   ]
  },
  {
   "cell_type": "code",
   "execution_count": 6,
   "id": "7bb5dc7a",
   "metadata": {},
   "outputs": [],
   "source": [
    "#export\n",
    "def load_pred_model(learner_path,train_log_path,log_name,cols=['activity']):\n",
    "    p = f'{learner_path}/{log_name}_vocab.p'\n",
    "    with open(p, 'rb') as fp:\n",
    "        categorify = pickle.load(fp)\n",
    "    log = import_log(train_log_path)\n",
    "    o = process_test(log,categorify,cols)\n",
    "    dls=o.get_dls()\n",
    "    loss=partial(multi_loss_sum,o)\n",
    "    emb_szs = get_emb_sz(o)\n",
    "    m=MultivariateModel(emb_szs)\n",
    "    learn=Learner(dls, m, path=learner_path, model_dir='.', loss_func=loss, metrics=get_metrics(o))\n",
    "    learn.load(log_name,with_opt=False)\n",
    "    m=learn.model.cuda()\n",
    "    return m, categorify"
   ]
  },
  {
   "cell_type": "code",
   "execution_count": 7,
   "id": "7b85060b",
   "metadata": {},
   "outputs": [],
   "source": [
    "#export\n",
    "def multivariate_anomaly_score(res,o,idx,cols,normalization = True):\n",
    "    score_df=pd.DataFrame()\n",
    "\n",
    "    for cidx,_ in enumerate(cols):\n",
    "        sm = nn.Softmax(dim=1)\n",
    "        p = sm(res[cidx].cpu())\n",
    "        pred = p.max(1)[0]\n",
    "        y = o.items[cols[cidx]].iloc[idx].values\n",
    "\n",
    "        truth=p[list(range(len(y))),y]\n",
    "        if normalization:\n",
    "            score = ((pred - truth) / pred).tolist()\n",
    "        else:\n",
    "            score = (pred - truth).tolist()\n",
    "        score_df[cols[cidx]] = score\n",
    "    score_df['trace_id']=o.items['trace_id'].iloc[idx].values\n",
    "    return score_df"
   ]
  },
  {
   "cell_type": "code",
   "execution_count": 8,
   "id": "5c296d95",
   "metadata": {},
   "outputs": [],
   "source": [
    "#export\n",
    "def get_score_df(log_name,pdc_year=2020,prediction_normalization = True):\n",
    "    learner_path=f'models/pdc{pdc_year}'\n",
    "    training_log_path = f'data/csv/PDC{pdc_year}_training/pdc_{pdc_year}_{log_name}.csv.gz'\n",
    "    test_log_path = f'data/csv/PDC{pdc_year}_ground_truth/pdc_{pdc_year}_{log_name}.csv.gz' \n",
    "    \n",
    "    cols = ['activity']\n",
    "    m, categorify= load_pred_model(learner_path,training_log_path,log_name)\n",
    "    if type(test_log_path)==str:\n",
    "        log = import_log(test_log_path)\n",
    "    else:\n",
    "        log = test_log_path   \n",
    "    o = process_test(log,categorify,cols)\n",
    "    nsp,idx=predict_next_step(o,m)\n",
    "    score_df=multivariate_anomaly_score(nsp,o,idx,cols,prediction_normalization)\n",
    "    y_true =o.items.groupby(o.items.index)['normal'].mean().to_numpy() == False\n",
    "    return score_df,y_true"
   ]
  },
  {
   "cell_type": "code",
   "execution_count": 9,
   "id": "3b06c433",
   "metadata": {},
   "outputs": [
    {
     "ename": "FileNotFoundError",
     "evalue": "[Errno 2] No such file or directory: 'models/pdc2020/1001001_vocab.p'",
     "output_type": "error",
     "traceback": [
      "\u001b[1;31m---------------------------------------------------------------------------\u001b[0m",
      "\u001b[1;31mFileNotFoundError\u001b[0m                         Traceback (most recent call last)",
      "Cell \u001b[1;32mIn[9], line 2\u001b[0m\n\u001b[0;32m      1\u001b[0m log_name \u001b[38;5;241m=\u001b[39m \u001b[38;5;124m'\u001b[39m\u001b[38;5;124m1001001\u001b[39m\u001b[38;5;124m'\u001b[39m\n\u001b[1;32m----> 2\u001b[0m score_df,y_true \u001b[38;5;241m=\u001b[39m \u001b[43mget_score_df\u001b[49m\u001b[43m(\u001b[49m\u001b[43mlog_name\u001b[49m\u001b[43m)\u001b[49m\n",
      "Cell \u001b[1;32mIn[8], line 8\u001b[0m, in \u001b[0;36mget_score_df\u001b[1;34m(log_name, pdc_year, prediction_normalization)\u001b[0m\n\u001b[0;32m      5\u001b[0m test_log_path \u001b[38;5;241m=\u001b[39m \u001b[38;5;124mf\u001b[39m\u001b[38;5;124m'\u001b[39m\u001b[38;5;124mdata/csv/PDC\u001b[39m\u001b[38;5;132;01m{\u001b[39;00mpdc_year\u001b[38;5;132;01m}\u001b[39;00m\u001b[38;5;124m_ground_truth/pdc_\u001b[39m\u001b[38;5;132;01m{\u001b[39;00mpdc_year\u001b[38;5;132;01m}\u001b[39;00m\u001b[38;5;124m_\u001b[39m\u001b[38;5;132;01m{\u001b[39;00mlog_name\u001b[38;5;132;01m}\u001b[39;00m\u001b[38;5;124m.csv.gz\u001b[39m\u001b[38;5;124m'\u001b[39m \n\u001b[0;32m      7\u001b[0m cols \u001b[38;5;241m=\u001b[39m [\u001b[38;5;124m'\u001b[39m\u001b[38;5;124mactivity\u001b[39m\u001b[38;5;124m'\u001b[39m]\n\u001b[1;32m----> 8\u001b[0m m, categorify\u001b[38;5;241m=\u001b[39m \u001b[43mload_pred_model\u001b[49m\u001b[43m(\u001b[49m\u001b[43mlearner_path\u001b[49m\u001b[43m,\u001b[49m\u001b[43mtraining_log_path\u001b[49m\u001b[43m,\u001b[49m\u001b[43mlog_name\u001b[49m\u001b[43m)\u001b[49m\n\u001b[0;32m      9\u001b[0m \u001b[38;5;28;01mif\u001b[39;00m \u001b[38;5;28mtype\u001b[39m(test_log_path)\u001b[38;5;241m==\u001b[39m\u001b[38;5;28mstr\u001b[39m:\n\u001b[0;32m     10\u001b[0m     log \u001b[38;5;241m=\u001b[39m import_log(test_log_path)\n",
      "Cell \u001b[1;32mIn[6], line 4\u001b[0m, in \u001b[0;36mload_pred_model\u001b[1;34m(learner_path, train_log_path, log_name, cols)\u001b[0m\n\u001b[0;32m      2\u001b[0m \u001b[38;5;28;01mdef\u001b[39;00m \u001b[38;5;21mload_pred_model\u001b[39m(learner_path,train_log_path,log_name,cols\u001b[38;5;241m=\u001b[39m[\u001b[38;5;124m'\u001b[39m\u001b[38;5;124mactivity\u001b[39m\u001b[38;5;124m'\u001b[39m]):\n\u001b[0;32m      3\u001b[0m     p \u001b[38;5;241m=\u001b[39m \u001b[38;5;124mf\u001b[39m\u001b[38;5;124m'\u001b[39m\u001b[38;5;132;01m{\u001b[39;00mlearner_path\u001b[38;5;132;01m}\u001b[39;00m\u001b[38;5;124m/\u001b[39m\u001b[38;5;132;01m{\u001b[39;00mlog_name\u001b[38;5;132;01m}\u001b[39;00m\u001b[38;5;124m_vocab.p\u001b[39m\u001b[38;5;124m'\u001b[39m\n\u001b[1;32m----> 4\u001b[0m     \u001b[38;5;28;01mwith\u001b[39;00m \u001b[38;5;28;43mopen\u001b[39;49m\u001b[43m(\u001b[49m\u001b[43mp\u001b[49m\u001b[43m,\u001b[49m\u001b[43m \u001b[49m\u001b[38;5;124;43m'\u001b[39;49m\u001b[38;5;124;43mrb\u001b[39;49m\u001b[38;5;124;43m'\u001b[39;49m\u001b[43m)\u001b[49m \u001b[38;5;28;01mas\u001b[39;00m fp:\n\u001b[0;32m      5\u001b[0m         categorify \u001b[38;5;241m=\u001b[39m pickle\u001b[38;5;241m.\u001b[39mload(fp)\n\u001b[0;32m      6\u001b[0m     log \u001b[38;5;241m=\u001b[39m import_log(train_log_path)\n",
      "File \u001b[1;32mc:\\Users\\Rom\\anaconda3\\envs\\dapnn\\lib\\site-packages\\IPython\\core\\interactiveshell.py:286\u001b[0m, in \u001b[0;36m_modified_open\u001b[1;34m(file, *args, **kwargs)\u001b[0m\n\u001b[0;32m    279\u001b[0m \u001b[38;5;28;01mif\u001b[39;00m file \u001b[38;5;129;01min\u001b[39;00m {\u001b[38;5;241m0\u001b[39m, \u001b[38;5;241m1\u001b[39m, \u001b[38;5;241m2\u001b[39m}:\n\u001b[0;32m    280\u001b[0m     \u001b[38;5;28;01mraise\u001b[39;00m \u001b[38;5;167;01mValueError\u001b[39;00m(\n\u001b[0;32m    281\u001b[0m         \u001b[38;5;124mf\u001b[39m\u001b[38;5;124m\"\u001b[39m\u001b[38;5;124mIPython won\u001b[39m\u001b[38;5;124m'\u001b[39m\u001b[38;5;124mt let you open fd=\u001b[39m\u001b[38;5;132;01m{\u001b[39;00mfile\u001b[38;5;132;01m}\u001b[39;00m\u001b[38;5;124m by default \u001b[39m\u001b[38;5;124m\"\u001b[39m\n\u001b[0;32m    282\u001b[0m         \u001b[38;5;124m\"\u001b[39m\u001b[38;5;124mas it is likely to crash IPython. If you know what you are doing, \u001b[39m\u001b[38;5;124m\"\u001b[39m\n\u001b[0;32m    283\u001b[0m         \u001b[38;5;124m\"\u001b[39m\u001b[38;5;124myou can use builtins\u001b[39m\u001b[38;5;124m'\u001b[39m\u001b[38;5;124m open.\u001b[39m\u001b[38;5;124m\"\u001b[39m\n\u001b[0;32m    284\u001b[0m     )\n\u001b[1;32m--> 286\u001b[0m \u001b[38;5;28;01mreturn\u001b[39;00m io_open(file, \u001b[38;5;241m*\u001b[39margs, \u001b[38;5;241m*\u001b[39m\u001b[38;5;241m*\u001b[39mkwargs)\n",
      "\u001b[1;31mFileNotFoundError\u001b[0m: [Errno 2] No such file or directory: 'models/pdc2020/1001001_vocab.p'"
     ]
    }
   ],
   "source": [
    "log_name = '1001001'\n",
    "score_df,y_true = get_score_df(log_name)"
   ]
  },
  {
   "cell_type": "markdown",
   "id": "60b95dad",
   "metadata": {},
   "source": [
    "## Get Predictions per threshold"
   ]
  },
  {
   "cell_type": "code",
   "execution_count": null,
   "id": "c16c9d86",
   "metadata": {},
   "outputs": [],
   "source": [
    "#export\n",
    "def get_preds(score_df,threshold):\n",
    "    h =score_df.groupby('trace_id')['activity'].max()\n",
    "    h=(h-h.min())/(h.max()-h.min())\n",
    "\n",
    "    y_pred = (h.to_numpy()>threshold).astype(int)\n",
    "    return y_pred\n"
   ]
  },
  {
   "cell_type": "code",
   "execution_count": null,
   "id": "d1c4897a",
   "metadata": {},
   "outputs": [
    {
     "data": {
      "text/plain": [
       "array([0.   , 0.001, 0.002, 0.003, 0.004, 0.005, 0.006, 0.007, 0.008,\n",
       "       0.009, 0.01 , 0.011, 0.012, 0.013, 0.014, 0.015, 0.016, 0.017,\n",
       "       0.018, 0.019])"
      ]
     },
     "execution_count": null,
     "metadata": {},
     "output_type": "execute_result"
    }
   ],
   "source": [
    "ths = np.array((range(1000)))*0.001 +0.0\n",
    "ths[:20]"
   ]
  },
  {
   "cell_type": "code",
   "execution_count": null,
   "id": "095f078b",
   "metadata": {},
   "outputs": [],
   "source": []
  },
  {
   "cell_type": "code",
   "execution_count": null,
   "id": "e4ee6c53",
   "metadata": {},
   "outputs": [],
   "source": [
    "#export\n",
    "def get_th_df(ths,score_df,y_true,log_name,f_score=f_score):\n",
    "    res = []\n",
    "    for t in progress_bar(ths):\n",
    "        y_pred=get_preds(score_df,t)\n",
    "        anomaly_ratio = sum(x == 1 for x in y_pred) / len(y_pred)\n",
    "        f1 = f_score(y_true, y_pred)\n",
    "        precision = precision_score(y_true,y_pred)\n",
    "        recall = recall_score(y_true,y_pred)\n",
    "        res.append([log_name, f1, precision, recall, anomaly_ratio])\n",
    "\n",
    "    columns='Log Name', 'F1 Score','Precision','Recall', 'Anomaly Ratio'\n",
    "    th_df = pd.DataFrame(res,columns=columns,index=ths)\n",
    "    return th_df\n"
   ]
  },
  {
   "cell_type": "code",
   "execution_count": null,
   "id": "adee987b",
   "metadata": {},
   "outputs": [
    {
     "data": {
      "text/html": [
       "\n",
       "    <div>\n",
       "        <style>\n",
       "            /* Turns off some styling */\n",
       "            progress {\n",
       "                /* gets rid of default border in Firefox and Opera. */\n",
       "                border: none;\n",
       "                /* Needs to be in here for Safari polyfill so background images work as expected. */\n",
       "                background-size: auto;\n",
       "            }\n",
       "            .progress-bar-interrupted, .progress-bar-interrupted::-webkit-progress-bar {\n",
       "                background: #F44336;\n",
       "            }\n",
       "        </style>\n",
       "      <progress value='1000' class='' max='1000' style='width:300px; height:20px; vertical-align: middle;'></progress>\n",
       "      100.00% [1000/1000 00:05<00:00]\n",
       "    </div>\n",
       "    "
      ],
      "text/plain": [
       "<IPython.core.display.HTML object>"
      ]
     },
     "metadata": {},
     "output_type": "display_data"
    },
    {
     "data": {
      "text/html": [
       "<div>\n",
       "<style scoped>\n",
       "    .dataframe tbody tr th:only-of-type {\n",
       "        vertical-align: middle;\n",
       "    }\n",
       "\n",
       "    .dataframe tbody tr th {\n",
       "        vertical-align: top;\n",
       "    }\n",
       "\n",
       "    .dataframe thead th {\n",
       "        text-align: right;\n",
       "    }\n",
       "</style>\n",
       "<table border=\"1\" class=\"dataframe\">\n",
       "  <thead>\n",
       "    <tr style=\"text-align: right;\">\n",
       "      <th></th>\n",
       "      <th>Log Name</th>\n",
       "      <th>F1 Score</th>\n",
       "      <th>Precision</th>\n",
       "      <th>Recall</th>\n",
       "      <th>Anomaly Ratio</th>\n",
       "    </tr>\n",
       "  </thead>\n",
       "  <tbody>\n",
       "    <tr>\n",
       "      <th>0.000</th>\n",
       "      <td>1001001</td>\n",
       "      <td>0.003914</td>\n",
       "      <td>0.490490</td>\n",
       "      <td>1.000000</td>\n",
       "      <td>0.999</td>\n",
       "    </tr>\n",
       "    <tr>\n",
       "      <th>0.001</th>\n",
       "      <td>1001001</td>\n",
       "      <td>0.003914</td>\n",
       "      <td>0.490490</td>\n",
       "      <td>1.000000</td>\n",
       "      <td>0.999</td>\n",
       "    </tr>\n",
       "    <tr>\n",
       "      <th>0.002</th>\n",
       "      <td>1001001</td>\n",
       "      <td>0.003914</td>\n",
       "      <td>0.490490</td>\n",
       "      <td>1.000000</td>\n",
       "      <td>0.999</td>\n",
       "    </tr>\n",
       "    <tr>\n",
       "      <th>0.003</th>\n",
       "      <td>1001001</td>\n",
       "      <td>0.003914</td>\n",
       "      <td>0.490490</td>\n",
       "      <td>1.000000</td>\n",
       "      <td>0.999</td>\n",
       "    </tr>\n",
       "    <tr>\n",
       "      <th>0.004</th>\n",
       "      <td>1001001</td>\n",
       "      <td>0.007812</td>\n",
       "      <td>0.490982</td>\n",
       "      <td>1.000000</td>\n",
       "      <td>0.998</td>\n",
       "    </tr>\n",
       "    <tr>\n",
       "      <th>...</th>\n",
       "      <td>...</td>\n",
       "      <td>...</td>\n",
       "      <td>...</td>\n",
       "      <td>...</td>\n",
       "      <td>...</td>\n",
       "    </tr>\n",
       "    <tr>\n",
       "      <th>0.995</th>\n",
       "      <td>1001001</td>\n",
       "      <td>0.747303</td>\n",
       "      <td>0.993220</td>\n",
       "      <td>0.597959</td>\n",
       "      <td>0.295</td>\n",
       "    </tr>\n",
       "    <tr>\n",
       "      <th>0.996</th>\n",
       "      <td>1001001</td>\n",
       "      <td>0.706633</td>\n",
       "      <td>0.996283</td>\n",
       "      <td>0.546939</td>\n",
       "      <td>0.269</td>\n",
       "    </tr>\n",
       "    <tr>\n",
       "      <th>0.997</th>\n",
       "      <td>1001001</td>\n",
       "      <td>0.662597</td>\n",
       "      <td>0.995902</td>\n",
       "      <td>0.495918</td>\n",
       "      <td>0.244</td>\n",
       "    </tr>\n",
       "    <tr>\n",
       "      <th>0.998</th>\n",
       "      <td>1001001</td>\n",
       "      <td>0.603989</td>\n",
       "      <td>1.000000</td>\n",
       "      <td>0.432653</td>\n",
       "      <td>0.212</td>\n",
       "    </tr>\n",
       "    <tr>\n",
       "      <th>0.999</th>\n",
       "      <td>1001001</td>\n",
       "      <td>0.478261</td>\n",
       "      <td>1.000000</td>\n",
       "      <td>0.314286</td>\n",
       "      <td>0.154</td>\n",
       "    </tr>\n",
       "  </tbody>\n",
       "</table>\n",
       "<p>1000 rows × 5 columns</p>\n",
       "</div>"
      ],
      "text/plain": [
       "      Log Name  F1 Score  Precision    Recall  Anomaly Ratio\n",
       "0.000  1001001  0.003914   0.490490  1.000000          0.999\n",
       "0.001  1001001  0.003914   0.490490  1.000000          0.999\n",
       "0.002  1001001  0.003914   0.490490  1.000000          0.999\n",
       "0.003  1001001  0.003914   0.490490  1.000000          0.999\n",
       "0.004  1001001  0.007812   0.490982  1.000000          0.998\n",
       "...        ...       ...        ...       ...            ...\n",
       "0.995  1001001  0.747303   0.993220  0.597959          0.295\n",
       "0.996  1001001  0.706633   0.996283  0.546939          0.269\n",
       "0.997  1001001  0.662597   0.995902  0.495918          0.244\n",
       "0.998  1001001  0.603989   1.000000  0.432653          0.212\n",
       "0.999  1001001  0.478261   1.000000  0.314286          0.154\n",
       "\n",
       "[1000 rows x 5 columns]"
      ]
     },
     "execution_count": null,
     "metadata": {},
     "output_type": "execute_result"
    }
   ],
   "source": [
    "th_df = get_th_df(ths,score_df,y_true,log_name)\n",
    "th_df"
   ]
  },
  {
   "cell_type": "markdown",
   "id": "afa309ca",
   "metadata": {},
   "source": [
    "## Heuristics"
   ]
  },
  {
   "cell_type": "markdown",
   "id": "19650f4b",
   "metadata": {},
   "source": [
    "###  Best Threshold"
   ]
  },
  {
   "cell_type": "code",
   "execution_count": null,
   "id": "96e326e4",
   "metadata": {},
   "outputs": [],
   "source": [
    "#export\n",
    "def get_best_threshhold(th_df): return th_df.iloc[th_df['F1 Score'].argmax()]\n"
   ]
  },
  {
   "cell_type": "code",
   "execution_count": null,
   "id": "eac7e8ca",
   "metadata": {},
   "outputs": [
    {
     "data": {
      "text/plain": [
       "Log Name          1001001\n",
       "F1 Score         0.971086\n",
       "Precision        0.963783\n",
       "Recall           0.977551\n",
       "Anomaly Ratio       0.497\n",
       "Name: 0.924, dtype: object"
      ]
     },
     "execution_count": null,
     "metadata": {},
     "output_type": "execute_result"
    }
   ],
   "source": [
    "best_threshhold = get_best_threshhold(th_df)\n",
    "best_threshhold"
   ]
  },
  {
   "cell_type": "markdown",
   "id": "7710a053",
   "metadata": {},
   "source": [
    "### Fixed Threshold"
   ]
  },
  {
   "cell_type": "code",
   "execution_count": null,
   "id": "cd8fa8d6",
   "metadata": {},
   "outputs": [],
   "source": [
    "#export\n",
    "def get_fixed_heuristic(fixed,th_df): return th_df.iloc[np.absolute(th_df.index.to_numpy()-fixed).argmin()]\n"
   ]
  },
  {
   "cell_type": "code",
   "execution_count": null,
   "id": "83f3f5cb",
   "metadata": {},
   "outputs": [
    {
     "data": {
      "text/plain": [
       "Log Name          1001001\n",
       "F1 Score          0.92415\n",
       "Precision        0.983834\n",
       "Recall           0.869388\n",
       "Anomaly Ratio       0.433\n",
       "Name: 0.98, dtype: object"
      ]
     },
     "execution_count": null,
     "metadata": {},
     "output_type": "execute_result"
    }
   ],
   "source": [
    "fixed = 0.98\n",
    "\n",
    "fixed_heuristic =get_fixed_heuristic(fixed,th_df)\n",
    "fixed_heuristic"
   ]
  },
  {
   "cell_type": "code",
   "execution_count": null,
   "id": "1861a1e0",
   "metadata": {},
   "outputs": [],
   "source": []
  },
  {
   "cell_type": "markdown",
   "id": "b2cc0557",
   "metadata": {},
   "source": [
    "### Ratio Heuristic"
   ]
  },
  {
   "cell_type": "code",
   "execution_count": null,
   "id": "b321ddd2",
   "metadata": {},
   "outputs": [],
   "source": [
    "#export\n",
    "def get_ratio_th(ratio,th_df):return th_df.iloc[th_df['Anomaly Ratio'].sub(ratio).abs().argmin()]\n"
   ]
  },
  {
   "cell_type": "code",
   "execution_count": null,
   "id": "d1a5d14c",
   "metadata": {},
   "outputs": [
    {
     "data": {
      "text/plain": [
       "Log Name          1001001\n",
       "F1 Score         0.967096\n",
       "Precision        0.956088\n",
       "Recall           0.977551\n",
       "Anomaly Ratio       0.501\n",
       "Name: 0.921, dtype: object"
      ]
     },
     "execution_count": null,
     "metadata": {},
     "output_type": "execute_result"
    }
   ],
   "source": [
    "ratio =0.5\n",
    "ratio_heuristic =get_ratio_th(ratio,th_df)\n",
    "ratio_heuristic"
   ]
  },
  {
   "cell_type": "code",
   "execution_count": null,
   "id": "77d1308e",
   "metadata": {},
   "outputs": [
    {
     "data": {
      "text/plain": [
       "functools.partial(<function get_ratio_th at 0x7fa7d44da4c0>, 0.5)"
      ]
     },
     "execution_count": null,
     "metadata": {},
     "output_type": "execute_result"
    }
   ],
   "source": [
    "partial(get_ratio_th,0.5)"
   ]
  },
  {
   "cell_type": "markdown",
   "id": "00d498db",
   "metadata": {},
   "source": [
    "### Ellbow Heuristic"
   ]
  },
  {
   "cell_type": "code",
   "execution_count": null,
   "id": "94e60bb2",
   "metadata": {},
   "outputs": [],
   "source": [
    "#export\n",
    "def elbow_heuristic(th_df):\n",
    "    taus = th_df.index.to_numpy()\n",
    "    r = th_df['Anomaly Ratio'].to_numpy()\n",
    "    step = taus[1:] - taus[:-1]\n",
    "    r_prime_prime = (r[2:] - 2 * r[1:-1] + r[:-2]) / (step[1:] * step[:-1])\n",
    "    ellbow_down = th_df.iloc[np.argmax(r_prime_prime) + 1]\n",
    "    ellbow_up = th_df.iloc[np.argmin(r_prime_prime) + 1]\n",
    "    return ellbow_down,ellbow_up\n"
   ]
  },
  {
   "cell_type": "code",
   "execution_count": null,
   "id": "fe930aa2",
   "metadata": {},
   "outputs": [
    {
     "data": {
      "text/plain": [
       "(Log Name          1001001\n",
       " F1 Score          0.75836\n",
       " Precision        0.993377\n",
       " Recall           0.612245\n",
       " Anomaly Ratio       0.302\n",
       " Name: 0.994, dtype: object,\n",
       " Log Name          1001001\n",
       " F1 Score         0.603989\n",
       " Precision             1.0\n",
       " Recall           0.432653\n",
       " Anomaly Ratio       0.212\n",
       " Name: 0.998, dtype: object)"
      ]
     },
     "execution_count": null,
     "metadata": {},
     "output_type": "execute_result"
    }
   ],
   "source": [
    "ellbow_down,ellbow_up = elbow_heuristic(th_df)\n",
    "ellbow_down,ellbow_up"
   ]
  },
  {
   "cell_type": "markdown",
   "id": "78fd356b",
   "metadata": {},
   "source": [
    "### Lowest Plateau Heuristic"
   ]
  },
  {
   "cell_type": "code",
   "execution_count": null,
   "id": "db7f94b0",
   "metadata": {},
   "outputs": [],
   "source": [
    "#export\n",
    "def get_lowest_plateau_heuristic(th_df):\n",
    "    taus = th_df.index.to_numpy()\n",
    "    r = th_df['Anomaly Ratio'].to_numpy()\n",
    "    r_prime = (r[1:] - r[:-1]) / (taus[1:] - taus[:-1])\n",
    "    stable_region = r_prime > np.mean(r_prime) / 2\n",
    "    regions = np.split(np.arange(len(stable_region)), np.where(~stable_region)[0])\n",
    "    regions = [taus[idx[1:]] for idx in regions if len(idx) > 1]\n",
    "    if len(regions) == 0:\n",
    "        regions = [taus[-2:]]\n",
    "    lp_min = get_fixed_heuristic(regions[-1].min(),th_df)\n",
    "    lp_mean = get_fixed_heuristic(regions[-1].mean(),th_df)\n",
    "    lp_max = get_fixed_heuristic(regions[-1].max(),th_df)\n",
    "    return lp_min,lp_mean,lp_max\n"
   ]
  },
  {
   "cell_type": "code",
   "execution_count": null,
   "id": "2fee1634",
   "metadata": {},
   "outputs": [
    {
     "data": {
      "text/plain": [
       "(Log Name          1001001\n",
       " F1 Score         0.950696\n",
       " Precision        0.976293\n",
       " Recall            0.92449\n",
       " Anomaly Ratio       0.464\n",
       " Name: 0.966, dtype: object,\n",
       " Log Name          1001001\n",
       " F1 Score         0.950696\n",
       " Precision        0.976293\n",
       " Recall            0.92449\n",
       " Anomaly Ratio       0.464\n",
       " Name: 0.966, dtype: object,\n",
       " Log Name          1001001\n",
       " F1 Score         0.950696\n",
       " Precision        0.976293\n",
       " Recall            0.92449\n",
       " Anomaly Ratio       0.464\n",
       " Name: 0.967, dtype: object)"
      ]
     },
     "execution_count": null,
     "metadata": {},
     "output_type": "execute_result"
    }
   ],
   "source": [
    "lp_min,lp_mean,lp_max=get_lowest_plateau_heuristic(th_df)\n",
    "lp_min,lp_mean,lp_max"
   ]
  },
  {
   "cell_type": "markdown",
   "id": "2d168d96",
   "metadata": {},
   "source": [
    "## Visualization"
   ]
  },
  {
   "cell_type": "code",
   "execution_count": null,
   "id": "a6b5616e",
   "metadata": {},
   "outputs": [
    {
     "data": {
      "text/html": [
       "\n",
       "    <div>\n",
       "        <style>\n",
       "            /* Turns off some styling */\n",
       "            progress {\n",
       "                /* gets rid of default border in Firefox and Opera. */\n",
       "                border: none;\n",
       "                /* Needs to be in here for Safari polyfill so background images work as expected. */\n",
       "                background-size: auto;\n",
       "            }\n",
       "            .progress-bar-interrupted, .progress-bar-interrupted::-webkit-progress-bar {\n",
       "                background: #F44336;\n",
       "            }\n",
       "        </style>\n",
       "      <progress value='100' class='' max='100' style='width:300px; height:20px; vertical-align: middle;'></progress>\n",
       "      100.00% [100/100 00:00<00:00]\n",
       "    </div>\n",
       "    "
      ],
      "text/plain": [
       "<IPython.core.display.HTML object>"
      ]
     },
     "metadata": {},
     "output_type": "display_data"
    }
   ],
   "source": [
    "log_name = '1001001'\n",
    "score_df,y_true = get_score_df(log_name)\n",
    "ths = np.array((range(100)))*0.001 +0.9\n",
    "th_df = get_th_df(ths,score_df,y_true,log_name)\n",
    "heuristics = [get_best_threshhold,partial(get_ratio_th,0.5),elbow_heuristic,\n",
    "              partial(get_fixed_heuristic,0.98),get_lowest_plateau_heuristic]\n",
    "heuristic_names = ['best','r_0.5','e_down','e_up','fix','lp_min','lp_mean','lp_max']\n",
    "heuristic_scores =[i for j in [listify(x(th_df)) for x in heuristics] for i in j]"
   ]
  },
  {
   "cell_type": "code",
   "execution_count": null,
   "id": "5cb4d513",
   "metadata": {},
   "outputs": [],
   "source": [
    "#export\n",
    "def get_plot_data(th_df,id_vars=['Log Name'],value_vars = ['F1 Score','Anomaly Ratio']):\n",
    "    plot_data=th_df.melt(var_name='Metric',value_name='Score',id_vars =id_vars ,value_vars=value_vars,ignore_index=False)\n",
    "    plot_data['Threshold']=plot_data.index\n",
    "    plot_data.index=range(len(plot_data))\n",
    "    return plot_data\n"
   ]
  },
  {
   "cell_type": "code",
   "execution_count": null,
   "id": "fcf91e29",
   "metadata": {},
   "outputs": [],
   "source": [
    "plot_data = get_plot_data(th_df)"
   ]
  },
  {
   "cell_type": "code",
   "execution_count": null,
   "id": "c9eff7ca",
   "metadata": {},
   "outputs": [
    {
     "data": {
      "text/plain": [
       "<matplotlib.legend.Legend at 0x7fa7d441ae50>"
      ]
     },
     "execution_count": null,
     "metadata": {},
     "output_type": "execute_result"
    },
    {
     "data": {
      "image/png": "[encoded data removed]",
      "text/plain": [
       "<Figure size 1296x720 with 1 Axes>"
      ]
     },
     "metadata": {},
     "output_type": "display_data"
    }
   ],
   "source": [
    "color_palette = sns.color_palette()\n",
    "sns.set(rc={'figure.figsize':(18,10)})\n",
    "\n",
    "sns.lineplot(x=\"Threshold\", y=\"Score\",\n",
    "             hue=\"Metric\",\n",
    "             data=plot_data).set(title=f'Log: {log_name}')\n",
    "for i in range(len(heuristic_scores)):\n",
    "    plt.axvline(heuristic_scores[i].name, 0,1,color=color_palette[i],linestyle='--',\n",
    "                label=f\"~{heuristic_names[i]}, {heuristic_scores[i].name}, {heuristic_scores[i]['F1 Score'].round(2)}\")\n",
    "plt.legend(bbox_to_anchor=(1.05, 1), loc=2, borderaxespad=0.)\n"
   ]
  },
  {
   "cell_type": "code",
   "execution_count": null,
   "id": "584b3174",
   "metadata": {},
   "outputs": [
    {
     "data": {
      "text/html": [
       "<div>\n",
       "<style scoped>\n",
       "    .dataframe tbody tr th:only-of-type {\n",
       "        vertical-align: middle;\n",
       "    }\n",
       "\n",
       "    .dataframe tbody tr th {\n",
       "        vertical-align: top;\n",
       "    }\n",
       "\n",
       "    .dataframe thead th {\n",
       "        text-align: right;\n",
       "    }\n",
       "</style>\n",
       "<table border=\"1\" class=\"dataframe\">\n",
       "  <thead>\n",
       "    <tr style=\"text-align: right;\">\n",
       "      <th></th>\n",
       "      <th>Threshold</th>\n",
       "      <th>F1-Score</th>\n",
       "    </tr>\n",
       "  </thead>\n",
       "  <tbody>\n",
       "    <tr>\n",
       "      <th>best</th>\n",
       "      <td>0.924</td>\n",
       "      <td>0.971086</td>\n",
       "    </tr>\n",
       "    <tr>\n",
       "      <th>r_0.5</th>\n",
       "      <td>0.921</td>\n",
       "      <td>0.967096</td>\n",
       "    </tr>\n",
       "    <tr>\n",
       "      <th>e_down</th>\n",
       "      <td>0.994</td>\n",
       "      <td>0.758360</td>\n",
       "    </tr>\n",
       "    <tr>\n",
       "      <th>e_up</th>\n",
       "      <td>0.998</td>\n",
       "      <td>0.603989</td>\n",
       "    </tr>\n",
       "    <tr>\n",
       "      <th>fix</th>\n",
       "      <td>0.980</td>\n",
       "      <td>0.924150</td>\n",
       "    </tr>\n",
       "    <tr>\n",
       "      <th>lp_min</th>\n",
       "      <td>0.978</td>\n",
       "      <td>0.928742</td>\n",
       "    </tr>\n",
       "    <tr>\n",
       "      <th>lp_mean</th>\n",
       "      <td>0.978</td>\n",
       "      <td>0.928742</td>\n",
       "    </tr>\n",
       "    <tr>\n",
       "      <th>lp_max</th>\n",
       "      <td>0.978</td>\n",
       "      <td>0.928742</td>\n",
       "    </tr>\n",
       "  </tbody>\n",
       "</table>\n",
       "</div>"
      ],
      "text/plain": [
       "         Threshold  F1-Score\n",
       "best         0.924  0.971086\n",
       "r_0.5        0.921  0.967096\n",
       "e_down       0.994  0.758360\n",
       "e_up         0.998  0.603989\n",
       "fix          0.980  0.924150\n",
       "lp_min       0.978  0.928742\n",
       "lp_mean      0.978  0.928742\n",
       "lp_max       0.978  0.928742"
      ]
     },
     "execution_count": null,
     "metadata": {},
     "output_type": "execute_result"
    }
   ],
   "source": [
    "pd.DataFrame(zip([i.name for i in heuristic_scores],[i['F1 Score'] for i in heuristic_scores]),\n",
    "             columns=['Threshold','F1-Score'],index=heuristic_names)"
   ]
  },
  {
   "cell_type": "markdown",
   "id": "cd7846ee",
   "metadata": {},
   "source": [
    "## Impact of Prediction Score Normalization"
   ]
  },
  {
   "cell_type": "code",
   "execution_count": null,
   "id": "bb7a9d25",
   "metadata": {},
   "outputs": [
    {
     "data": {
      "text/plain": [
       "['0110110', '0211101', '0100101']"
      ]
     },
     "execution_count": null,
     "metadata": {},
     "output_type": "execute_result"
    }
   ],
   "source": [
    "logs = pd.read_csv('results/pdc2020_0.98_25.csv',dtype={'log_name':str})['log_name']\n",
    "logs = logs.sample(frac=1)[:3].tolist()\n",
    "logs"
   ]
  },
  {
   "cell_type": "code",
   "execution_count": null,
   "id": "83e00e56",
   "metadata": {},
   "outputs": [
    {
     "data": {
      "text/html": [
       "\n",
       "    <div>\n",
       "        <style>\n",
       "            /* Turns off some styling */\n",
       "            progress {\n",
       "                /* gets rid of default border in Firefox and Opera. */\n",
       "                border: none;\n",
       "                /* Needs to be in here for Safari polyfill so background images work as expected. */\n",
       "                background-size: auto;\n",
       "            }\n",
       "            .progress-bar-interrupted, .progress-bar-interrupted::-webkit-progress-bar {\n",
       "                background: #F44336;\n",
       "            }\n",
       "        </style>\n",
       "      <progress value='3' class='' max='3' style='width:300px; height:20px; vertical-align: middle;'></progress>\n",
       "      100.00% [3/3 00:40<00:00]\n",
       "    </div>\n",
       "    "
      ],
      "text/plain": [
       "<IPython.core.display.HTML object>"
      ]
     },
     "metadata": {},
     "output_type": "display_data"
    },
    {
     "data": {
      "text/html": [
       "\n",
       "    <div>\n",
       "        <style>\n",
       "            /* Turns off some styling */\n",
       "            progress {\n",
       "                /* gets rid of default border in Firefox and Opera. */\n",
       "                border: none;\n",
       "                /* Needs to be in here for Safari polyfill so background images work as expected. */\n",
       "                background-size: auto;\n",
       "            }\n",
       "            .progress-bar-interrupted, .progress-bar-interrupted::-webkit-progress-bar {\n",
       "                background: #F44336;\n",
       "            }\n",
       "        </style>\n",
       "      <progress value='1000' class='' max='1000' style='width:300px; height:20px; vertical-align: middle;'></progress>\n",
       "      100.00% [1000/1000 00:06<00:00]\n",
       "    </div>\n",
       "    "
      ],
      "text/plain": [
       "<IPython.core.display.HTML object>"
      ]
     },
     "metadata": {},
     "output_type": "display_data"
    },
    {
     "data": {
      "text/html": [
       "\n",
       "    <div>\n",
       "        <style>\n",
       "            /* Turns off some styling */\n",
       "            progress {\n",
       "                /* gets rid of default border in Firefox and Opera. */\n",
       "                border: none;\n",
       "                /* Needs to be in here for Safari polyfill so background images work as expected. */\n",
       "                background-size: auto;\n",
       "            }\n",
       "            .progress-bar-interrupted, .progress-bar-interrupted::-webkit-progress-bar {\n",
       "                background: #F44336;\n",
       "            }\n",
       "        </style>\n",
       "      <progress value='1000' class='' max='1000' style='width:300px; height:20px; vertical-align: middle;'></progress>\n",
       "      100.00% [1000/1000 00:06<00:00]\n",
       "    </div>\n",
       "    "
      ],
      "text/plain": [
       "<IPython.core.display.HTML object>"
      ]
     },
     "metadata": {},
     "output_type": "display_data"
    },
    {
     "data": {
      "text/html": [
       "\n",
       "    <div>\n",
       "        <style>\n",
       "            /* Turns off some styling */\n",
       "            progress {\n",
       "                /* gets rid of default border in Firefox and Opera. */\n",
       "                border: none;\n",
       "                /* Needs to be in here for Safari polyfill so background images work as expected. */\n",
       "                background-size: auto;\n",
       "            }\n",
       "            .progress-bar-interrupted, .progress-bar-interrupted::-webkit-progress-bar {\n",
       "                background: #F44336;\n",
       "            }\n",
       "        </style>\n",
       "      <progress value='1000' class='' max='1000' style='width:300px; height:20px; vertical-align: middle;'></progress>\n",
       "      100.00% [1000/1000 00:06<00:00]\n",
       "    </div>\n",
       "    "
      ],
      "text/plain": [
       "<IPython.core.display.HTML object>"
      ]
     },
     "metadata": {},
     "output_type": "display_data"
    },
    {
     "data": {
      "text/html": [
       "\n",
       "    <div>\n",
       "        <style>\n",
       "            /* Turns off some styling */\n",
       "            progress {\n",
       "                /* gets rid of default border in Firefox and Opera. */\n",
       "                border: none;\n",
       "                /* Needs to be in here for Safari polyfill so background images work as expected. */\n",
       "                background-size: auto;\n",
       "            }\n",
       "            .progress-bar-interrupted, .progress-bar-interrupted::-webkit-progress-bar {\n",
       "                background: #F44336;\n",
       "            }\n",
       "        </style>\n",
       "      <progress value='1000' class='' max='1000' style='width:300px; height:20px; vertical-align: middle;'></progress>\n",
       "      100.00% [1000/1000 00:06<00:00]\n",
       "    </div>\n",
       "    "
      ],
      "text/plain": [
       "<IPython.core.display.HTML object>"
      ]
     },
     "metadata": {},
     "output_type": "display_data"
    },
    {
     "data": {
      "text/html": [
       "\n",
       "    <div>\n",
       "        <style>\n",
       "            /* Turns off some styling */\n",
       "            progress {\n",
       "                /* gets rid of default border in Firefox and Opera. */\n",
       "                border: none;\n",
       "                /* Needs to be in here for Safari polyfill so background images work as expected. */\n",
       "                background-size: auto;\n",
       "            }\n",
       "            .progress-bar-interrupted, .progress-bar-interrupted::-webkit-progress-bar {\n",
       "                background: #F44336;\n",
       "            }\n",
       "        </style>\n",
       "      <progress value='1000' class='' max='1000' style='width:300px; height:20px; vertical-align: middle;'></progress>\n",
       "      100.00% [1000/1000 00:06<00:00]\n",
       "    </div>\n",
       "    "
      ],
      "text/plain": [
       "<IPython.core.display.HTML object>"
      ]
     },
     "metadata": {},
     "output_type": "display_data"
    },
    {
     "data": {
      "text/html": [
       "\n",
       "    <div>\n",
       "        <style>\n",
       "            /* Turns off some styling */\n",
       "            progress {\n",
       "                /* gets rid of default border in Firefox and Opera. */\n",
       "                border: none;\n",
       "                /* Needs to be in here for Safari polyfill so background images work as expected. */\n",
       "                background-size: auto;\n",
       "            }\n",
       "            .progress-bar-interrupted, .progress-bar-interrupted::-webkit-progress-bar {\n",
       "                background: #F44336;\n",
       "            }\n",
       "        </style>\n",
       "      <progress value='1000' class='' max='1000' style='width:300px; height:20px; vertical-align: middle;'></progress>\n",
       "      100.00% [1000/1000 00:06<00:00]\n",
       "    </div>\n",
       "    "
      ],
      "text/plain": [
       "<IPython.core.display.HTML object>"
      ]
     },
     "metadata": {},
     "output_type": "display_data"
    }
   ],
   "source": [
    "res = []\n",
    "for log_name in progress_bar(logs):\n",
    "    ths = np.array((range(1000)))*0.001 +0.0   \n",
    "    score_df,y_true = get_score_df(log_name)\n",
    "    th_df1 = get_th_df(ths,score_df,y_true,log_name)\n",
    "    th_df1['Normalization'] = True\n",
    "    score_df,y_true = get_score_df(log_name,prediction_normalization=False)\n",
    "    th_df2 = get_th_df(ths,score_df,y_true,log_name)\n",
    "    th_df2['Normalization'] = False\n",
    "    res+=[th_df1,th_df2]\n",
    "    \n"
   ]
  },
  {
   "cell_type": "code",
   "execution_count": null,
   "id": "c9a29841",
   "metadata": {},
   "outputs": [
    {
     "data": {
      "text/html": [
       "<div>\n",
       "<style scoped>\n",
       "    .dataframe tbody tr th:only-of-type {\n",
       "        vertical-align: middle;\n",
       "    }\n",
       "\n",
       "    .dataframe tbody tr th {\n",
       "        vertical-align: top;\n",
       "    }\n",
       "\n",
       "    .dataframe thead th {\n",
       "        text-align: right;\n",
       "    }\n",
       "</style>\n",
       "<table border=\"1\" class=\"dataframe\">\n",
       "  <thead>\n",
       "    <tr style=\"text-align: right;\">\n",
       "      <th></th>\n",
       "      <th>Log Name</th>\n",
       "      <th>F1 Score</th>\n",
       "      <th>Precision</th>\n",
       "      <th>Recall</th>\n",
       "      <th>Anomaly Ratio</th>\n",
       "      <th>Normalization</th>\n",
       "    </tr>\n",
       "    <tr>\n",
       "      <th>Threshold</th>\n",
       "      <th></th>\n",
       "      <th></th>\n",
       "      <th></th>\n",
       "      <th></th>\n",
       "      <th></th>\n",
       "      <th></th>\n",
       "    </tr>\n",
       "  </thead>\n",
       "  <tbody>\n",
       "    <tr>\n",
       "      <th>0.000</th>\n",
       "      <td>0110110</td>\n",
       "      <td>0.024561</td>\n",
       "      <td>0.440081</td>\n",
       "      <td>1.000000</td>\n",
       "      <td>0.993</td>\n",
       "      <td>True</td>\n",
       "    </tr>\n",
       "    <tr>\n",
       "      <th>0.001</th>\n",
       "      <td>0110110</td>\n",
       "      <td>0.024561</td>\n",
       "      <td>0.440081</td>\n",
       "      <td>1.000000</td>\n",
       "      <td>0.993</td>\n",
       "      <td>True</td>\n",
       "    </tr>\n",
       "    <tr>\n",
       "      <th>0.002</th>\n",
       "      <td>0110110</td>\n",
       "      <td>0.024561</td>\n",
       "      <td>0.440081</td>\n",
       "      <td>1.000000</td>\n",
       "      <td>0.993</td>\n",
       "      <td>True</td>\n",
       "    </tr>\n",
       "    <tr>\n",
       "      <th>0.003</th>\n",
       "      <td>0110110</td>\n",
       "      <td>0.024561</td>\n",
       "      <td>0.440081</td>\n",
       "      <td>1.000000</td>\n",
       "      <td>0.993</td>\n",
       "      <td>True</td>\n",
       "    </tr>\n",
       "    <tr>\n",
       "      <th>0.004</th>\n",
       "      <td>0110110</td>\n",
       "      <td>0.024561</td>\n",
       "      <td>0.440081</td>\n",
       "      <td>1.000000</td>\n",
       "      <td>0.993</td>\n",
       "      <td>True</td>\n",
       "    </tr>\n",
       "    <tr>\n",
       "      <th>...</th>\n",
       "      <td>...</td>\n",
       "      <td>...</td>\n",
       "      <td>...</td>\n",
       "      <td>...</td>\n",
       "      <td>...</td>\n",
       "      <td>...</td>\n",
       "    </tr>\n",
       "    <tr>\n",
       "      <th>0.995</th>\n",
       "      <td>0100101</td>\n",
       "      <td>0.035635</td>\n",
       "      <td>1.000000</td>\n",
       "      <td>0.018141</td>\n",
       "      <td>0.008</td>\n",
       "      <td>False</td>\n",
       "    </tr>\n",
       "    <tr>\n",
       "      <th>0.996</th>\n",
       "      <td>0100101</td>\n",
       "      <td>0.026846</td>\n",
       "      <td>1.000000</td>\n",
       "      <td>0.013605</td>\n",
       "      <td>0.006</td>\n",
       "      <td>False</td>\n",
       "    </tr>\n",
       "    <tr>\n",
       "      <th>0.997</th>\n",
       "      <td>0100101</td>\n",
       "      <td>0.026846</td>\n",
       "      <td>1.000000</td>\n",
       "      <td>0.013605</td>\n",
       "      <td>0.006</td>\n",
       "      <td>False</td>\n",
       "    </tr>\n",
       "    <tr>\n",
       "      <th>0.998</th>\n",
       "      <td>0100101</td>\n",
       "      <td>0.017978</td>\n",
       "      <td>1.000000</td>\n",
       "      <td>0.009070</td>\n",
       "      <td>0.004</td>\n",
       "      <td>False</td>\n",
       "    </tr>\n",
       "    <tr>\n",
       "      <th>0.999</th>\n",
       "      <td>0100101</td>\n",
       "      <td>0.013514</td>\n",
       "      <td>1.000000</td>\n",
       "      <td>0.006803</td>\n",
       "      <td>0.003</td>\n",
       "      <td>False</td>\n",
       "    </tr>\n",
       "  </tbody>\n",
       "</table>\n",
       "<p>6000 rows × 6 columns</p>\n",
       "</div>"
      ],
      "text/plain": [
       "          Log Name  F1 Score  Precision    Recall  Anomaly Ratio  \\\n",
       "Threshold                                                          \n",
       "0.000      0110110  0.024561   0.440081  1.000000          0.993   \n",
       "0.001      0110110  0.024561   0.440081  1.000000          0.993   \n",
       "0.002      0110110  0.024561   0.440081  1.000000          0.993   \n",
       "0.003      0110110  0.024561   0.440081  1.000000          0.993   \n",
       "0.004      0110110  0.024561   0.440081  1.000000          0.993   \n",
       "...            ...       ...        ...       ...            ...   \n",
       "0.995      0100101  0.035635   1.000000  0.018141          0.008   \n",
       "0.996      0100101  0.026846   1.000000  0.013605          0.006   \n",
       "0.997      0100101  0.026846   1.000000  0.013605          0.006   \n",
       "0.998      0100101  0.017978   1.000000  0.009070          0.004   \n",
       "0.999      0100101  0.013514   1.000000  0.006803          0.003   \n",
       "\n",
       "           Normalization  \n",
       "Threshold                 \n",
       "0.000               True  \n",
       "0.001               True  \n",
       "0.002               True  \n",
       "0.003               True  \n",
       "0.004               True  \n",
       "...                  ...  \n",
       "0.995              False  \n",
       "0.996              False  \n",
       "0.997              False  \n",
       "0.998              False  \n",
       "0.999              False  \n",
       "\n",
       "[6000 rows x 6 columns]"
      ]
     },
     "execution_count": null,
     "metadata": {},
     "output_type": "execute_result"
    }
   ],
   "source": [
    "heuristic_scores=[]\n",
    "for df in res:\n",
    "    df['Threshold'] = df.index\n",
    "    heuristic_scores.append([i for j in [listify(x(df)) for x in heuristics] for i in j])\n",
    "th_df = pd.concat(res,ignore_index=True)\n",
    "th_df.index = th_df['Threshold']\n",
    "th_df = th_df.drop('Threshold',axis=1)\n",
    "th_df"
   ]
  },
  {
   "cell_type": "code",
   "execution_count": null,
   "id": "1a070974",
   "metadata": {},
   "outputs": [
    {
     "data": {
      "text/html": [
       "<div>\n",
       "<style scoped>\n",
       "    .dataframe tbody tr th:only-of-type {\n",
       "        vertical-align: middle;\n",
       "    }\n",
       "\n",
       "    .dataframe tbody tr th {\n",
       "        vertical-align: top;\n",
       "    }\n",
       "\n",
       "    .dataframe thead th {\n",
       "        text-align: right;\n",
       "    }\n",
       "</style>\n",
       "<table border=\"1\" class=\"dataframe\">\n",
       "  <thead>\n",
       "    <tr style=\"text-align: right;\">\n",
       "      <th></th>\n",
       "      <th>Heuristic</th>\n",
       "      <th>Log</th>\n",
       "      <th>F1</th>\n",
       "      <th>Anomaly Ratio</th>\n",
       "      <th>Threshold</th>\n",
       "      <th>Normalization</th>\n",
       "    </tr>\n",
       "  </thead>\n",
       "  <tbody>\n",
       "    <tr>\n",
       "      <th>40</th>\n",
       "      <td>best</td>\n",
       "      <td>0100101</td>\n",
       "      <td>0.669253</td>\n",
       "      <td>0.512</td>\n",
       "      <td>0.554</td>\n",
       "      <td>False</td>\n",
       "    </tr>\n",
       "    <tr>\n",
       "      <th>32</th>\n",
       "      <td>best</td>\n",
       "      <td>0100101</td>\n",
       "      <td>0.872011</td>\n",
       "      <td>0.502</td>\n",
       "      <td>0.989</td>\n",
       "      <td>True</td>\n",
       "    </tr>\n",
       "    <tr>\n",
       "      <th>42</th>\n",
       "      <td>e_down</td>\n",
       "      <td>0100101</td>\n",
       "      <td>0.315227</td>\n",
       "      <td>0.886</td>\n",
       "      <td>0.233</td>\n",
       "      <td>False</td>\n",
       "    </tr>\n",
       "    <tr>\n",
       "      <th>34</th>\n",
       "      <td>e_down</td>\n",
       "      <td>0100101</td>\n",
       "      <td>0.480452</td>\n",
       "      <td>0.821</td>\n",
       "      <td>0.575</td>\n",
       "      <td>True</td>\n",
       "    </tr>\n",
       "    <tr>\n",
       "      <th>43</th>\n",
       "      <td>e_up</td>\n",
       "      <td>0100101</td>\n",
       "      <td>0.279278</td>\n",
       "      <td>0.901</td>\n",
       "      <td>0.232</td>\n",
       "      <td>False</td>\n",
       "    </tr>\n",
       "    <tr>\n",
       "      <th>35</th>\n",
       "      <td>e_up</td>\n",
       "      <td>0100101</td>\n",
       "      <td>0.425147</td>\n",
       "      <td>0.848</td>\n",
       "      <td>0.574</td>\n",
       "      <td>True</td>\n",
       "    </tr>\n",
       "    <tr>\n",
       "      <th>44</th>\n",
       "      <td>fix</td>\n",
       "      <td>0100101</td>\n",
       "      <td>0.095032</td>\n",
       "      <td>0.022</td>\n",
       "      <td>0.980</td>\n",
       "      <td>False</td>\n",
       "    </tr>\n",
       "    <tr>\n",
       "      <th>36</th>\n",
       "      <td>fix</td>\n",
       "      <td>0100101</td>\n",
       "      <td>0.848000</td>\n",
       "      <td>0.559</td>\n",
       "      <td>0.980</td>\n",
       "      <td>True</td>\n",
       "    </tr>\n",
       "    <tr>\n",
       "      <th>47</th>\n",
       "      <td>lp_max</td>\n",
       "      <td>0100101</td>\n",
       "      <td>0.026846</td>\n",
       "      <td>0.006</td>\n",
       "      <td>0.996</td>\n",
       "      <td>False</td>\n",
       "    </tr>\n",
       "    <tr>\n",
       "      <th>39</th>\n",
       "      <td>lp_max</td>\n",
       "      <td>0100101</td>\n",
       "      <td>0.859450</td>\n",
       "      <td>0.530</td>\n",
       "      <td>0.985</td>\n",
       "      <td>True</td>\n",
       "    </tr>\n",
       "    <tr>\n",
       "      <th>46</th>\n",
       "      <td>lp_mean</td>\n",
       "      <td>0100101</td>\n",
       "      <td>0.026846</td>\n",
       "      <td>0.006</td>\n",
       "      <td>0.996</td>\n",
       "      <td>False</td>\n",
       "    </tr>\n",
       "    <tr>\n",
       "      <th>38</th>\n",
       "      <td>lp_mean</td>\n",
       "      <td>0100101</td>\n",
       "      <td>0.859450</td>\n",
       "      <td>0.530</td>\n",
       "      <td>0.985</td>\n",
       "      <td>True</td>\n",
       "    </tr>\n",
       "    <tr>\n",
       "      <th>45</th>\n",
       "      <td>lp_min</td>\n",
       "      <td>0100101</td>\n",
       "      <td>0.026846</td>\n",
       "      <td>0.006</td>\n",
       "      <td>0.996</td>\n",
       "      <td>False</td>\n",
       "    </tr>\n",
       "    <tr>\n",
       "      <th>37</th>\n",
       "      <td>lp_min</td>\n",
       "      <td>0100101</td>\n",
       "      <td>0.859450</td>\n",
       "      <td>0.530</td>\n",
       "      <td>0.985</td>\n",
       "      <td>True</td>\n",
       "    </tr>\n",
       "    <tr>\n",
       "      <th>41</th>\n",
       "      <td>r_0.5</td>\n",
       "      <td>0100101</td>\n",
       "      <td>0.662714</td>\n",
       "      <td>0.500</td>\n",
       "      <td>0.572</td>\n",
       "      <td>False</td>\n",
       "    </tr>\n",
       "    <tr>\n",
       "      <th>33</th>\n",
       "      <td>r_0.5</td>\n",
       "      <td>0100101</td>\n",
       "      <td>0.872011</td>\n",
       "      <td>0.502</td>\n",
       "      <td>0.989</td>\n",
       "      <td>True</td>\n",
       "    </tr>\n",
       "    <tr>\n",
       "      <th>8</th>\n",
       "      <td>best</td>\n",
       "      <td>0110110</td>\n",
       "      <td>0.749155</td>\n",
       "      <td>0.651</td>\n",
       "      <td>0.426</td>\n",
       "      <td>False</td>\n",
       "    </tr>\n",
       "    <tr>\n",
       "      <th>0</th>\n",
       "      <td>best</td>\n",
       "      <td>0110110</td>\n",
       "      <td>0.901397</td>\n",
       "      <td>0.493</td>\n",
       "      <td>0.997</td>\n",
       "      <td>True</td>\n",
       "    </tr>\n",
       "    <tr>\n",
       "      <th>10</th>\n",
       "      <td>e_down</td>\n",
       "      <td>0110110</td>\n",
       "      <td>0.656933</td>\n",
       "      <td>0.722</td>\n",
       "      <td>0.367</td>\n",
       "      <td>False</td>\n",
       "    </tr>\n",
       "    <tr>\n",
       "      <th>2</th>\n",
       "      <td>e_down</td>\n",
       "      <td>0110110</td>\n",
       "      <td>0.799574</td>\n",
       "      <td>0.625</td>\n",
       "      <td>0.817</td>\n",
       "      <td>True</td>\n",
       "    </tr>\n",
       "    <tr>\n",
       "      <th>11</th>\n",
       "      <td>e_up</td>\n",
       "      <td>0110110</td>\n",
       "      <td>0.600412</td>\n",
       "      <td>0.756</td>\n",
       "      <td>0.366</td>\n",
       "      <td>False</td>\n",
       "    </tr>\n",
       "    <tr>\n",
       "      <th>3</th>\n",
       "      <td>e_up</td>\n",
       "      <td>0110110</td>\n",
       "      <td>0.736251</td>\n",
       "      <td>0.672</td>\n",
       "      <td>0.816</td>\n",
       "      <td>True</td>\n",
       "    </tr>\n",
       "    <tr>\n",
       "      <th>12</th>\n",
       "      <td>fix</td>\n",
       "      <td>0110110</td>\n",
       "      <td>0.515487</td>\n",
       "      <td>0.197</td>\n",
       "      <td>0.980</td>\n",
       "      <td>False</td>\n",
       "    </tr>\n",
       "    <tr>\n",
       "      <th>4</th>\n",
       "      <td>fix</td>\n",
       "      <td>0110110</td>\n",
       "      <td>0.866247</td>\n",
       "      <td>0.561</td>\n",
       "      <td>0.980</td>\n",
       "      <td>True</td>\n",
       "    </tr>\n",
       "    <tr>\n",
       "      <th>15</th>\n",
       "      <td>lp_max</td>\n",
       "      <td>0110110</td>\n",
       "      <td>0.159954</td>\n",
       "      <td>0.040</td>\n",
       "      <td>0.996</td>\n",
       "      <td>False</td>\n",
       "    </tr>\n",
       "    <tr>\n",
       "      <th>7</th>\n",
       "      <td>lp_max</td>\n",
       "      <td>0110110</td>\n",
       "      <td>0.880070</td>\n",
       "      <td>0.543</td>\n",
       "      <td>0.988</td>\n",
       "      <td>True</td>\n",
       "    </tr>\n",
       "    <tr>\n",
       "      <th>14</th>\n",
       "      <td>lp_mean</td>\n",
       "      <td>0110110</td>\n",
       "      <td>0.159954</td>\n",
       "      <td>0.040</td>\n",
       "      <td>0.996</td>\n",
       "      <td>False</td>\n",
       "    </tr>\n",
       "    <tr>\n",
       "      <th>6</th>\n",
       "      <td>lp_mean</td>\n",
       "      <td>0110110</td>\n",
       "      <td>0.880070</td>\n",
       "      <td>0.543</td>\n",
       "      <td>0.988</td>\n",
       "      <td>True</td>\n",
       "    </tr>\n",
       "    <tr>\n",
       "      <th>13</th>\n",
       "      <td>lp_min</td>\n",
       "      <td>0110110</td>\n",
       "      <td>0.159954</td>\n",
       "      <td>0.040</td>\n",
       "      <td>0.996</td>\n",
       "      <td>False</td>\n",
       "    </tr>\n",
       "    <tr>\n",
       "      <th>5</th>\n",
       "      <td>lp_min</td>\n",
       "      <td>0110110</td>\n",
       "      <td>0.880070</td>\n",
       "      <td>0.543</td>\n",
       "      <td>0.988</td>\n",
       "      <td>True</td>\n",
       "    </tr>\n",
       "    <tr>\n",
       "      <th>9</th>\n",
       "      <td>r_0.5</td>\n",
       "      <td>0110110</td>\n",
       "      <td>0.731521</td>\n",
       "      <td>0.500</td>\n",
       "      <td>0.667</td>\n",
       "      <td>False</td>\n",
       "    </tr>\n",
       "    <tr>\n",
       "      <th>1</th>\n",
       "      <td>r_0.5</td>\n",
       "      <td>0110110</td>\n",
       "      <td>0.901397</td>\n",
       "      <td>0.493</td>\n",
       "      <td>0.997</td>\n",
       "      <td>True</td>\n",
       "    </tr>\n",
       "    <tr>\n",
       "      <th>24</th>\n",
       "      <td>best</td>\n",
       "      <td>0211101</td>\n",
       "      <td>0.688730</td>\n",
       "      <td>0.451</td>\n",
       "      <td>0.546</td>\n",
       "      <td>False</td>\n",
       "    </tr>\n",
       "    <tr>\n",
       "      <th>16</th>\n",
       "      <td>best</td>\n",
       "      <td>0211101</td>\n",
       "      <td>0.891679</td>\n",
       "      <td>0.563</td>\n",
       "      <td>0.973</td>\n",
       "      <td>True</td>\n",
       "    </tr>\n",
       "    <tr>\n",
       "      <th>26</th>\n",
       "      <td>e_down</td>\n",
       "      <td>0211101</td>\n",
       "      <td>0.216216</td>\n",
       "      <td>0.936</td>\n",
       "      <td>0.075</td>\n",
       "      <td>False</td>\n",
       "    </tr>\n",
       "    <tr>\n",
       "      <th>18</th>\n",
       "      <td>e_down</td>\n",
       "      <td>0211101</td>\n",
       "      <td>0.701107</td>\n",
       "      <td>0.715</td>\n",
       "      <td>0.729</td>\n",
       "      <td>True</td>\n",
       "    </tr>\n",
       "    <tr>\n",
       "      <th>27</th>\n",
       "      <td>e_up</td>\n",
       "      <td>0211101</td>\n",
       "      <td>0.086957</td>\n",
       "      <td>0.976</td>\n",
       "      <td>0.074</td>\n",
       "      <td>False</td>\n",
       "    </tr>\n",
       "    <tr>\n",
       "      <th>19</th>\n",
       "      <td>e_up</td>\n",
       "      <td>0211101</td>\n",
       "      <td>0.637419</td>\n",
       "      <td>0.753</td>\n",
       "      <td>0.728</td>\n",
       "      <td>True</td>\n",
       "    </tr>\n",
       "    <tr>\n",
       "      <th>28</th>\n",
       "      <td>fix</td>\n",
       "      <td>0211101</td>\n",
       "      <td>0.096729</td>\n",
       "      <td>0.029</td>\n",
       "      <td>0.980</td>\n",
       "      <td>False</td>\n",
       "    </tr>\n",
       "    <tr>\n",
       "      <th>20</th>\n",
       "      <td>fix</td>\n",
       "      <td>0211101</td>\n",
       "      <td>0.887330</td>\n",
       "      <td>0.549</td>\n",
       "      <td>0.980</td>\n",
       "      <td>True</td>\n",
       "    </tr>\n",
       "    <tr>\n",
       "      <th>31</th>\n",
       "      <td>lp_max</td>\n",
       "      <td>0211101</td>\n",
       "      <td>0.020964</td>\n",
       "      <td>0.005</td>\n",
       "      <td>0.997</td>\n",
       "      <td>False</td>\n",
       "    </tr>\n",
       "    <tr>\n",
       "      <th>23</th>\n",
       "      <td>lp_max</td>\n",
       "      <td>0211101</td>\n",
       "      <td>0.881158</td>\n",
       "      <td>0.525</td>\n",
       "      <td>0.984</td>\n",
       "      <td>True</td>\n",
       "    </tr>\n",
       "    <tr>\n",
       "      <th>30</th>\n",
       "      <td>lp_mean</td>\n",
       "      <td>0211101</td>\n",
       "      <td>0.020964</td>\n",
       "      <td>0.005</td>\n",
       "      <td>0.997</td>\n",
       "      <td>False</td>\n",
       "    </tr>\n",
       "    <tr>\n",
       "      <th>22</th>\n",
       "      <td>lp_mean</td>\n",
       "      <td>0211101</td>\n",
       "      <td>0.881158</td>\n",
       "      <td>0.525</td>\n",
       "      <td>0.984</td>\n",
       "      <td>True</td>\n",
       "    </tr>\n",
       "    <tr>\n",
       "      <th>29</th>\n",
       "      <td>lp_min</td>\n",
       "      <td>0211101</td>\n",
       "      <td>0.020964</td>\n",
       "      <td>0.005</td>\n",
       "      <td>0.997</td>\n",
       "      <td>False</td>\n",
       "    </tr>\n",
       "    <tr>\n",
       "      <th>21</th>\n",
       "      <td>lp_min</td>\n",
       "      <td>0211101</td>\n",
       "      <td>0.881158</td>\n",
       "      <td>0.525</td>\n",
       "      <td>0.984</td>\n",
       "      <td>True</td>\n",
       "    </tr>\n",
       "    <tr>\n",
       "      <th>25</th>\n",
       "      <td>r_0.5</td>\n",
       "      <td>0211101</td>\n",
       "      <td>0.675433</td>\n",
       "      <td>0.501</td>\n",
       "      <td>0.529</td>\n",
       "      <td>False</td>\n",
       "    </tr>\n",
       "    <tr>\n",
       "      <th>17</th>\n",
       "      <td>r_0.5</td>\n",
       "      <td>0211101</td>\n",
       "      <td>0.869674</td>\n",
       "      <td>0.501</td>\n",
       "      <td>0.987</td>\n",
       "      <td>True</td>\n",
       "    </tr>\n",
       "  </tbody>\n",
       "</table>\n",
       "</div>"
      ],
      "text/plain": [
       "   Heuristic      Log        F1  Anomaly Ratio  Threshold  Normalization\n",
       "40      best  0100101  0.669253          0.512      0.554          False\n",
       "32      best  0100101  0.872011          0.502      0.989           True\n",
       "42    e_down  0100101  0.315227          0.886      0.233          False\n",
       "34    e_down  0100101  0.480452          0.821      0.575           True\n",
       "43      e_up  0100101  0.279278          0.901      0.232          False\n",
       "35      e_up  0100101  0.425147          0.848      0.574           True\n",
       "44       fix  0100101  0.095032          0.022      0.980          False\n",
       "36       fix  0100101  0.848000          0.559      0.980           True\n",
       "47    lp_max  0100101  0.026846          0.006      0.996          False\n",
       "39    lp_max  0100101  0.859450          0.530      0.985           True\n",
       "46   lp_mean  0100101  0.026846          0.006      0.996          False\n",
       "38   lp_mean  0100101  0.859450          0.530      0.985           True\n",
       "45    lp_min  0100101  0.026846          0.006      0.996          False\n",
       "37    lp_min  0100101  0.859450          0.530      0.985           True\n",
       "41     r_0.5  0100101  0.662714          0.500      0.572          False\n",
       "33     r_0.5  0100101  0.872011          0.502      0.989           True\n",
       "8       best  0110110  0.749155          0.651      0.426          False\n",
       "0       best  0110110  0.901397          0.493      0.997           True\n",
       "10    e_down  0110110  0.656933          0.722      0.367          False\n",
       "2     e_down  0110110  0.799574          0.625      0.817           True\n",
       "11      e_up  0110110  0.600412          0.756      0.366          False\n",
       "3       e_up  0110110  0.736251          0.672      0.816           True\n",
       "12       fix  0110110  0.515487          0.197      0.980          False\n",
       "4        fix  0110110  0.866247          0.561      0.980           True\n",
       "15    lp_max  0110110  0.159954          0.040      0.996          False\n",
       "7     lp_max  0110110  0.880070          0.543      0.988           True\n",
       "14   lp_mean  0110110  0.159954          0.040      0.996          False\n",
       "6    lp_mean  0110110  0.880070          0.543      0.988           True\n",
       "13    lp_min  0110110  0.159954          0.040      0.996          False\n",
       "5     lp_min  0110110  0.880070          0.543      0.988           True\n",
       "9      r_0.5  0110110  0.731521          0.500      0.667          False\n",
       "1      r_0.5  0110110  0.901397          0.493      0.997           True\n",
       "24      best  0211101  0.688730          0.451      0.546          False\n",
       "16      best  0211101  0.891679          0.563      0.973           True\n",
       "26    e_down  0211101  0.216216          0.936      0.075          False\n",
       "18    e_down  0211101  0.701107          0.715      0.729           True\n",
       "27      e_up  0211101  0.086957          0.976      0.074          False\n",
       "19      e_up  0211101  0.637419          0.753      0.728           True\n",
       "28       fix  0211101  0.096729          0.029      0.980          False\n",
       "20       fix  0211101  0.887330          0.549      0.980           True\n",
       "31    lp_max  0211101  0.020964          0.005      0.997          False\n",
       "23    lp_max  0211101  0.881158          0.525      0.984           True\n",
       "30   lp_mean  0211101  0.020964          0.005      0.997          False\n",
       "22   lp_mean  0211101  0.881158          0.525      0.984           True\n",
       "29    lp_min  0211101  0.020964          0.005      0.997          False\n",
       "21    lp_min  0211101  0.881158          0.525      0.984           True\n",
       "25     r_0.5  0211101  0.675433          0.501      0.529          False\n",
       "17     r_0.5  0211101  0.869674          0.501      0.987           True"
      ]
     },
     "execution_count": null,
     "metadata": {},
     "output_type": "execute_result"
    }
   ],
   "source": [
    "res2 = []\n",
    "for i in heuristic_scores:\n",
    "    for k,j in enumerate(i):\n",
    "        res2.append([heuristic_names[k],j['Log Name'],j['F1 Score'],j['Anomaly Ratio'],j['Threshold'],j['Normalization']])\n",
    "df =pd.DataFrame(res2,columns=['Heuristic','Log','F1','Anomaly Ratio','Threshold','Normalization'])\n",
    "df.sort_values(['Log','Heuristic','Normalization'])"
   ]
  },
  {
   "cell_type": "code",
   "execution_count": null,
   "id": "5c53a4f5",
   "metadata": {},
   "outputs": [
    {
     "data": {
      "text/plain": [
       "<seaborn.axisgrid.FacetGrid at 0x7fa7d4225bb0>"
      ]
     },
     "execution_count": null,
     "metadata": {},
     "output_type": "execute_result"
    },
    {
     "data": {
      "image/png": "[encoded data removed]",
      "text/plain": [
       "<Figure size 1129.22x288 with 3 Axes>"
      ]
     },
     "metadata": {},
     "output_type": "display_data"
    }
   ],
   "source": [
    "g = sns.catplot(x=\"Heuristic\", y=\"F1\",\n",
    "                hue=\"Normalization\", col=\"Log\",\n",
    "                data=df, kind=\"bar\",\n",
    "                height=4, aspect=1.2);\n",
    "g.set_xticklabels(rotation=60)\n",
    "g.set(xlabel=None)"
   ]
  },
  {
   "cell_type": "code",
   "execution_count": null,
   "id": "66c4776b",
   "metadata": {},
   "outputs": [
    {
     "data": {
      "text/plain": [
       "['best', 'r_0.5', 'e_down', 'e_up', 'fix', 'lp_min', 'lp_mean', 'lp_max']"
      ]
     },
     "execution_count": null,
     "metadata": {},
     "output_type": "execute_result"
    }
   ],
   "source": [
    "heuristic_names"
   ]
  },
  {
   "cell_type": "code",
   "execution_count": null,
   "id": "7cb5487a",
   "metadata": {},
   "outputs": [],
   "source": []
  },
  {
   "cell_type": "code",
   "execution_count": null,
   "id": "c4f9a606",
   "metadata": {},
   "outputs": [
    {
     "data": {
      "image/png": "[encoded data removed]",
      "text/plain": [
       "<Figure size 907.2x432 with 6 Axes>"
      ]
     },
     "metadata": {},
     "output_type": "display_data"
    }
   ],
   "source": [
    "sel_heuristics =[0,2,4,6] # Select Heuristics\n",
    "\n",
    "\n",
    "plot_data = get_plot_data(th_df,id_vars=['Log Name','Normalization'])\n",
    "g = sns.FacetGrid(plot_data, col=\"Log Name\",  row=\"Normalization\",hue='Metric',legend_out=True,aspect=1.4,\n",
    "                 sharey=True,sharex=False,margin_titles=True,despine=True)\n",
    "g.map_dataframe(sns.lineplot,\"Threshold\",'Score')\n",
    "\n",
    "axes = [i for j in list(zip(g.axes[1],g.axes[0])) for i in j]\n",
    "for i,ax in enumerate(axes):\n",
    "    if i % 2== 0: ax.set_xlim([0.8,1])\n",
    "    for j in sel_heuristics: #\n",
    "        ax.axvline(heuristic_scores[i][j].name, ls='--',label=heuristic_names[j],color=color_palette[j])\n",
    "plt.legend(bbox_to_anchor=(1.15, 1), loc=2, borderaxespad=0.)\n",
    "plt.tight_layout()\n"
   ]
  },
  {
   "cell_type": "code",
   "execution_count": null,
   "id": "5725b7c0",
   "metadata": {},
   "outputs": [],
   "source": []
  }
 ],
 "metadata": {
  "kernelspec": {
   "display_name": "dapnn",
   "language": "python",
   "name": "python3"
  },
  "language_info": {
   "codemirror_mode": {
    "name": "ipython",
    "version": 3
   },
   "file_extension": ".py",
   "mimetype": "text/x-python",
   "name": "python",
   "nbconvert_exporter": "python",
   "pygments_lexer": "ipython3",
   "version": "3.9.18"
  }
 },
 "nbformat": 4,
 "nbformat_minor": 5
}
