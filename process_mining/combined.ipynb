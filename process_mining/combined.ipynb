{
 "cells": [
  {
   "cell_type": "code",
   "execution_count": 2,
   "metadata": {},
   "outputs": [],
   "source": [
    "import pandas as pd"
   ]
  },
  {
   "cell_type": "code",
   "execution_count": 3,
   "metadata": {},
   "outputs": [],
   "source": [
    "def calc_precision(df, col='combined'):\n",
    "    tp = df[(df[col] == True) & (df['y_true'] == True)].shape[0]\n",
    "    fp = df[(df[col] == True) & (df['y_true'] == False)].shape[0]\n",
    "    return tp / (tp + fp)\n",
    "\n",
    "def calc_recall(df, col='combined'):\n",
    "    tp = df[(df[col] == True) & (df['y_true'] == True)].shape[0]\n",
    "    fn = df[(df[col] == False) & (df['y_true'] == True)].shape[0]\n",
    "    return tp / (tp + fn)\n",
    "\n",
    "def calc_f1(r, p):\n",
    "    return 2 * ((p * r) / (p + r))"
   ]
  },
  {
   "cell_type": "code",
   "execution_count": 4,
   "metadata": {},
   "outputs": [],
   "source": [
    "def calc_preformance(nn_model, process_model, rule=1):\n",
    "    merged_df = nn_model.copy()\n",
    "    merged_df.columns = ['nn_y_pred', 'y_true']\n",
    "    merged_df['process_y_pred'] = process_model['y_pred']\n",
    "    print('=' * 20)\n",
    "    if rule == 0:\n",
    "        print('Only using process model')\n",
    "        merged_df['combined'] = merged_df['process_y_pred']\n",
    "    elif rule == 1:\n",
    "        print('Using OR rule')\n",
    "        merged_df['combined'] = merged_df['nn_y_pred'] | merged_df['process_y_pred']\n",
    "    elif rule == 2:\n",
    "        print('Using AND rule')\n",
    "        merged_df['combined'] = merged_df['nn_y_pred'] & merged_df['process_y_pred']\n",
    "    elif rule == 3:\n",
    "        print('Using XOR rule')\n",
    "        merged_df['combined'] = merged_df['nn_y_pred'] ^ merged_df['process_y_pred']\n",
    "    else:\n",
    "        raise ValueError('rule must be 1, 2, or 3')\n",
    "\n",
    "    p = calc_precision(merged_df)\n",
    "    r = calc_recall(merged_df)\n",
    "    f1 = calc_f1(r, p)\n",
    "\n",
    "    print(f'Precision: {p}')\n",
    "    print(f'Recall: {r}')\n",
    "    print(f'F1: {f1}')\n",
    "    print('=' * 20)\n",
    "\n",
    "    "
   ]
  },
  {
   "cell_type": "markdown",
   "metadata": {},
   "source": [
    "# Regular DAPNN"
   ]
  },
  {
   "cell_type": "code",
   "execution_count": 5,
   "metadata": {},
   "outputs": [
    {
     "name": "stdout",
     "output_type": "stream",
     "text": [
      "====================\n",
      "Only using DAPNN\n",
      "Precision: 0.794545213320445\n",
      "Recall: 0.9156455452897364\n",
      "F1: 0.8508077610001623\n",
      "====================\n"
     ]
    }
   ],
   "source": [
    "dapnn = pd.read_csv('../save_model/dapnn_y_pred_y_true.csv')\n",
    "p = calc_precision(dapnn, col='y_pred')\n",
    "r = calc_recall(dapnn, col='y_pred')\n",
    "f1 = calc_f1(r, p)\n",
    "\n",
    "\n",
    "print('='*20 + '\\nOnly using DAPNN')\n",
    "print(f'Precision: {p}')\n",
    "print(f'Recall: {r}')\n",
    "print(f'F1: {f1}')\n",
    "print('='*20)"
   ]
  },
  {
   "cell_type": "markdown",
   "metadata": {},
   "source": [
    "## IM (Inductive Miner)"
   ]
  },
  {
   "cell_type": "code",
   "execution_count": 6,
   "metadata": {},
   "outputs": [
    {
     "name": "stdout",
     "output_type": "stream",
     "text": [
      "====================\n",
      "Only using process model\n",
      "Precision: 0.48542458808618505\n",
      "Recall: 0.03346220212742721\n",
      "F1: 0.06260855350538425\n",
      "====================\n",
      "====================\n",
      "Using OR rule\n",
      "Precision: 0.7770107932283581\n",
      "Recall: 0.9182993687613307\n",
      "F1: 0.8417675266039983\n",
      "====================\n",
      "====================\n",
      "Using AND rule\n",
      "Precision: 0.7797125483692647\n",
      "Recall: 0.03080837865583295\n",
      "F1: 0.05927466801143049\n",
      "====================\n",
      "====================\n",
      "Using XOR rule\n",
      "Precision: 0.7769173406757299\n",
      "Recall: 0.8874909901054977\n",
      "F1: 0.8285312289716769\n",
      "====================\n"
     ]
    }
   ],
   "source": [
    "IM = pd.read_csv('../save_model/IM_y_pred_y_true.csv')\n",
    "for rule in range(0, 4):\n",
    "    calc_preformance(dapnn, IM, rule=rule)"
   ]
  },
  {
   "cell_type": "markdown",
   "metadata": {},
   "source": [
    "# Alpha Miner"
   ]
  },
  {
   "cell_type": "code",
   "execution_count": 7,
   "metadata": {},
   "outputs": [
    {
     "name": "stdout",
     "output_type": "stream",
     "text": [
      "====================\n",
      "Only using process model\n",
      "Precision: 0.4775328462575648\n",
      "Recall: 0.6652687678832755\n",
      "F1: 0.5559804682152146\n",
      "====================\n",
      "====================\n",
      "Using OR rule\n",
      "Precision: 0.5450736064398742\n",
      "Recall: 0.9716925496363279\n",
      "F1: 0.6983857864434317\n",
      "====================\n",
      "====================\n",
      "Using AND rule\n",
      "Precision: 0.79859132750204\n",
      "Recall: 0.6092217635366839\n",
      "F1: 0.6911701844268642\n",
      "====================\n",
      "====================\n",
      "Using XOR rule\n",
      "Precision: 0.3554294281430713\n",
      "Recall: 0.36247078609964395\n",
      "F1: 0.35891557535713126\n",
      "====================\n"
     ]
    }
   ],
   "source": [
    "alpha = pd.read_csv('../save_model/alpha_y_pred_y_true.csv')\n",
    "for rule in range(0, 4):\n",
    "    calc_preformance(dapnn, alpha, rule=rule)"
   ]
  },
  {
   "cell_type": "markdown",
   "metadata": {},
   "source": [
    "# Heuristic Miner"
   ]
  },
  {
   "cell_type": "code",
   "execution_count": 8,
   "metadata": {},
   "outputs": [
    {
     "name": "stdout",
     "output_type": "stream",
     "text": [
      "====================\n",
      "Only using process model\n",
      "Precision: 0.47690625\n",
      "Recall: 1.0\n",
      "F1: 0.6458179048263897\n",
      "====================\n",
      "====================\n",
      "Using OR rule\n",
      "Precision: 0.47690625\n",
      "Recall: 1.0\n",
      "F1: 0.6458179048263897\n",
      "====================\n",
      "====================\n",
      "Using AND rule\n",
      "Precision: 0.794545213320445\n",
      "Recall: 0.9156455452897364\n",
      "F1: 0.8508077610001623\n",
      "====================\n",
      "====================\n",
      "Using XOR rule\n",
      "Precision: 0.08931751428108883\n",
      "Recall: 0.08435445471026363\n",
      "F1: 0.08676506930871021\n",
      "====================\n"
     ]
    }
   ],
   "source": [
    "heuristic = pd.read_csv('../save_model/heuristic_y_pred_y_true.csv')\n",
    "for rule in range(0, 4):\n",
    "    calc_preformance(dapnn, heuristic, rule=rule)"
   ]
  },
  {
   "cell_type": "markdown",
   "metadata": {},
   "source": [
    "# DAPNN Switched"
   ]
  },
  {
   "cell_type": "code",
   "execution_count": 9,
   "metadata": {},
   "outputs": [
    {
     "name": "stdout",
     "output_type": "stream",
     "text": [
      "====================\n",
      "Only using DAPNN\n",
      "Precision: 0.783751069557777\n",
      "Recall: 0.8202826376602669\n",
      "F1: 0.8016008537886872\n",
      "====================\n"
     ]
    }
   ],
   "source": [
    "dapnn_switched = pd.read_csv('../save_model/dapnn_y_pred_y_true_switched.csv')\n",
    "\n",
    "p = calc_precision(dapnn_switched, col='y_pred')\n",
    "r = calc_recall(dapnn_switched, col='y_pred')\n",
    "f1 = calc_f1(r, p)\n",
    "\n",
    "\n",
    "print('='*20 + '\\nOnly using DAPNN')\n",
    "print(f'Precision: {p}')\n",
    "print(f'Recall: {r}')\n",
    "print(f'F1: {f1}')\n",
    "print('='*20)"
   ]
  },
  {
   "cell_type": "markdown",
   "metadata": {},
   "source": [
    "## IM"
   ]
  },
  {
   "cell_type": "code",
   "execution_count": 10,
   "metadata": {},
   "outputs": [
    {
     "name": "stdout",
     "output_type": "stream",
     "text": [
      "====================\n",
      "Only using process model\n",
      "Precision: 0.48542458808618505\n",
      "Recall: 0.03346220212742721\n",
      "F1: 0.06260855350538425\n",
      "====================\n",
      "====================\n",
      "Using OR rule\n",
      "Precision: 0.7651578031054518\n",
      "Recall: 0.8255575213507197\n",
      "F1: 0.7942109686909015\n",
      "====================\n",
      "====================\n",
      "Using AND rule\n",
      "Precision: 0.7699880668257757\n",
      "Recall: 0.02818731843697442\n",
      "F1: 0.0543837838976801\n",
      "====================\n",
      "====================\n",
      "Using XOR rule\n",
      "Precision: 0.7649881603486934\n",
      "Recall: 0.7973702029137453\n",
      "F1: 0.7808436002737851\n",
      "====================\n"
     ]
    }
   ],
   "source": [
    "for rule in range(0, 4):\n",
    "    calc_preformance(dapnn_switched, IM, rule=rule)"
   ]
  },
  {
   "cell_type": "markdown",
   "metadata": {},
   "source": [
    "## Alpha Miner"
   ]
  },
  {
   "cell_type": "code",
   "execution_count": 11,
   "metadata": {},
   "outputs": [
    {
     "name": "stdout",
     "output_type": "stream",
     "text": [
      "====================\n",
      "Only using process model\n",
      "Precision: 0.4775328462575648\n",
      "Recall: 0.6652687678832755\n",
      "F1: 0.5559804682152146\n",
      "====================\n",
      "====================\n",
      "Using OR rule\n",
      "Precision: 0.538039941939036\n",
      "Recall: 0.9391695607539916\n",
      "F1: 0.6841422763904248\n",
      "====================\n",
      "====================\n",
      "Using AND rule\n",
      "Precision: 0.78705597331907\n",
      "Recall: 0.5463818447895507\n",
      "F1: 0.6449990975427378\n",
      "====================\n",
      "====================\n",
      "Using XOR rule\n",
      "Precision: 0.37361062057216465\n",
      "Recall: 0.39278771596444095\n",
      "F1: 0.38295924017206867\n",
      "====================\n"
     ]
    }
   ],
   "source": [
    "for rule in range(0, 4):\n",
    "    calc_preformance(dapnn_switched, alpha, rule=rule)"
   ]
  },
  {
   "cell_type": "markdown",
   "metadata": {},
   "source": [
    "## Heuristic Miner"
   ]
  },
  {
   "cell_type": "code",
   "execution_count": 12,
   "metadata": {},
   "outputs": [
    {
     "name": "stdout",
     "output_type": "stream",
     "text": [
      "====================\n",
      "Only using process model\n",
      "Precision: 0.47690625\n",
      "Recall: 1.0\n",
      "F1: 0.6458179048263897\n",
      "====================\n",
      "====================\n",
      "Using OR rule\n",
      "Precision: 0.47690625\n",
      "Recall: 1.0\n",
      "F1: 0.6458179048263897\n",
      "====================\n",
      "====================\n",
      "Using AND rule\n",
      "Precision: 0.783751069557777\n",
      "Recall: 0.8202826376602669\n",
      "F1: 0.8016008537886872\n",
      "====================\n",
      "====================\n",
      "Using XOR rule\n",
      "Precision: 0.1711207703346297\n",
      "Recall: 0.1797173623397331\n",
      "F1: 0.1753137451260307\n",
      "====================\n"
     ]
    }
   ],
   "source": [
    "for rule in range(0, 4):\n",
    "    calc_preformance(dapnn_switched, heuristic, rule=rule)"
   ]
  },
  {
   "cell_type": "markdown",
   "metadata": {},
   "source": [
    "# DAPNN Switched"
   ]
  },
  {
   "cell_type": "code",
   "execution_count": 13,
   "metadata": {},
   "outputs": [
    {
     "name": "stdout",
     "output_type": "stream",
     "text": [
      "====================\n",
      "Only using DAPNN Switched\n",
      "Precision: 0.783751069557777\n",
      "Recall: 0.8202826376602669\n",
      "F1: 0.8016008537886872\n",
      "====================\n"
     ]
    }
   ],
   "source": [
    "dapnn_switched = pd.read_csv('../save_model/dapnn_y_pred_y_true_switched.csv')\n",
    "print('='*20 + '\\nOnly using DAPNN Switched')\n",
    "p = calc_precision(dapnn_switched, col='y_pred')\n",
    "r = calc_recall(dapnn_switched, col='y_pred')\n",
    "f1 = calc_f1(r, p)\n",
    "print(f'Precision: {p}')\n",
    "print(f'Recall: {r}')\n",
    "print(f'F1: {f1}')\n",
    "print('='*20)"
   ]
  },
  {
   "cell_type": "markdown",
   "metadata": {},
   "source": [
    "## IM"
   ]
  },
  {
   "cell_type": "code",
   "execution_count": 14,
   "metadata": {},
   "outputs": [
    {
     "name": "stdout",
     "output_type": "stream",
     "text": [
      "====================\n",
      "Only using process model\n",
      "Precision: 0.48542458808618505\n",
      "Recall: 0.03346220212742721\n",
      "F1: 0.06260855350538425\n",
      "====================\n",
      "====================\n",
      "Using OR rule\n",
      "Precision: 0.7651578031054518\n",
      "Recall: 0.8255575213507197\n",
      "F1: 0.7942109686909015\n",
      "====================\n",
      "====================\n",
      "Using AND rule\n",
      "Precision: 0.7699880668257757\n",
      "Recall: 0.02818731843697442\n",
      "F1: 0.0543837838976801\n",
      "====================\n",
      "====================\n",
      "Using XOR rule\n",
      "Precision: 0.7649881603486934\n",
      "Recall: 0.7973702029137453\n",
      "F1: 0.7808436002737851\n",
      "====================\n"
     ]
    }
   ],
   "source": [
    "for rule in range(0, 4):\n",
    "    calc_preformance(dapnn_switched, IM, rule=rule)"
   ]
  },
  {
   "cell_type": "markdown",
   "metadata": {},
   "source": [
    "## Alpha Miner"
   ]
  },
  {
   "cell_type": "code",
   "execution_count": 15,
   "metadata": {},
   "outputs": [
    {
     "name": "stdout",
     "output_type": "stream",
     "text": [
      "====================\n",
      "Only using process model\n",
      "Precision: 0.4775328462575648\n",
      "Recall: 0.6652687678832755\n",
      "F1: 0.5559804682152146\n",
      "====================\n",
      "====================\n",
      "Using OR rule\n",
      "Precision: 0.538039941939036\n",
      "Recall: 0.9391695607539916\n",
      "F1: 0.6841422763904248\n",
      "====================\n",
      "====================\n",
      "Using AND rule\n",
      "Precision: 0.78705597331907\n",
      "Recall: 0.5463818447895507\n",
      "F1: 0.6449990975427378\n",
      "====================\n",
      "====================\n",
      "Using XOR rule\n",
      "Precision: 0.37361062057216465\n",
      "Recall: 0.39278771596444095\n",
      "F1: 0.38295924017206867\n",
      "====================\n"
     ]
    }
   ],
   "source": [
    "for rule in range(0, 4):\n",
    "    calc_preformance(dapnn_switched, alpha, rule=rule)"
   ]
  },
  {
   "cell_type": "markdown",
   "metadata": {},
   "source": [
    "## Heuristic Miner"
   ]
  },
  {
   "cell_type": "code",
   "execution_count": 16,
   "metadata": {},
   "outputs": [
    {
     "name": "stdout",
     "output_type": "stream",
     "text": [
      "====================\n",
      "Only using process model\n",
      "Precision: 0.47690625\n",
      "Recall: 1.0\n",
      "F1: 0.6458179048263897\n",
      "====================\n",
      "====================\n",
      "Using OR rule\n",
      "Precision: 0.47690625\n",
      "Recall: 1.0\n",
      "F1: 0.6458179048263897\n",
      "====================\n",
      "====================\n",
      "Using AND rule\n",
      "Precision: 0.783751069557777\n",
      "Recall: 0.8202826376602669\n",
      "F1: 0.8016008537886872\n",
      "====================\n",
      "====================\n",
      "Using XOR rule\n",
      "Precision: 0.1711207703346297\n",
      "Recall: 0.1797173623397331\n",
      "F1: 0.1753137451260307\n",
      "====================\n"
     ]
    }
   ],
   "source": [
    "for rule in range(0, 4):\n",
    "    calc_preformance(dapnn_switched, heuristic, rule=rule)"
   ]
  }
 ],
 "metadata": {
  "kernelspec": {
   "display_name": "dapnn",
   "language": "python",
   "name": "python3"
  },
  "language_info": {
   "codemirror_mode": {
    "name": "ipython",
    "version": 3
   },
   "file_extension": ".py",
   "mimetype": "text/x-python",
   "name": "python",
   "nbconvert_exporter": "python",
   "pygments_lexer": "ipython3",
   "version": "3.9.18"
  }
 },
 "nbformat": 4,
 "nbformat_minor": 2
}
